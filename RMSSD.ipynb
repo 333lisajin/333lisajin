{
 "cells": [
  {
   "cell_type": "code",
   "execution_count": 42,
   "metadata": {},
   "outputs": [],
   "source": [
    "import pandas as pd\n",
    "import numpy as np\n",
    "from tkinter import filedialog as fd\n",
    "import matplotlib.pyplot as plt\n",
    "from scipy.signal import find_peaks\n",
    "from scipy.signal import butter,filtfilt\n",
    "from scipy.interpolate import CubicSpline\n"
   ]
  },
  {
   "cell_type": "code",
   "execution_count": 43,
   "metadata": {},
   "outputs": [],
   "source": [
    "def square(list):\n",
    "    return [i ** 2 for i in list]"
   ]
  },
  {
   "cell_type": "code",
   "execution_count": 44,
   "metadata": {},
   "outputs": [],
   "source": [
    "sampling_freq = 50\n",
    "sampling_interval = 1/sampling_freq;\n",
    "upsample_rate = 20 #amount by which to upsample data to improve peak resolution\n"
   ]
  },
  {
   "cell_type": "code",
   "execution_count": 45,
   "metadata": {},
   "outputs": [],
   "source": [
    "# Filter requirements.\n",
    "T = 60        # Sample Period\n",
    "fs = 1/sampling_interval       # sample rate, Hz\n",
    "cutoff = 12     # desired cutoff frequency of the filter, Hz ,      slightly higher than actual 1.2 Hz\n",
    "nyq = 0.5 * fs  # Nyquist Frequency\n",
    "order = 3 #filter order\n"
   ]
  },
  {
   "cell_type": "code",
   "execution_count": 46,
   "metadata": {},
   "outputs": [],
   "source": [
    "def butter_lowpass_filter(data, cutoff, fs, order):\n",
    "    normal_cutoff = cutoff / nyq\n",
    "    # Get the filter coefficients \n",
    "    b, a = butter(order, normal_cutoff, btype='low', analog=False)\n",
    "    y = filtfilt(b, a, data)\n",
    "    return y"
   ]
  },
  {
   "cell_type": "code",
   "execution_count": 47,
   "metadata": {},
   "outputs": [],
   "source": [
    "filename = fd.askopenfilename()"
   ]
  },
  {
   "cell_type": "code",
   "execution_count": 48,
   "metadata": {},
   "outputs": [],
   "source": [
    "seconds_to_discard = 6; #number of beats to throw out during normalization portion at start of dataset\n",
    "df = pd.read_csv(filename)\n",
    "dataset = df.iloc[seconds_to_discard*sampling_freq:3000,0]*(-1) #inverting the signal to support subsequent peak-finding process\n"
   ]
  },
  {
   "cell_type": "code",
   "execution_count": 49,
   "metadata": {},
   "outputs": [
    {
     "data": {
      "text/plain": [
       "300     -12.00\n",
       "301     -12.04\n",
       "302     -12.08\n",
       "303     -12.12\n",
       "304     -12.16\n",
       "         ...  \n",
       "2995   -119.80\n",
       "2996   -119.84\n",
       "2997   -119.88\n",
       "2998   -119.92\n",
       "2999   -119.96\n",
       "Name: Time, Length: 2700, dtype: float64"
      ]
     },
     "execution_count": 49,
     "metadata": {},
     "output_type": "execute_result"
    }
   ],
   "source": [
    "dataset"
   ]
  },
  {
   "cell_type": "code",
   "execution_count": 50,
   "metadata": {},
   "outputs": [],
   "source": [
    "time = np.arange(seconds_to_discard,len(dataset)*sampling_interval+seconds_to_discard,sampling_interval)"
   ]
  },
  {
   "cell_type": "code",
   "execution_count": 51,
   "metadata": {},
   "outputs": [],
   "source": [
    "cs = CubicSpline(time,dataset)\n",
    "time_cs = np.arange(seconds_to_discard,len(dataset)*sampling_interval+seconds_to_discard,1/upsample_rate*sampling_interval)\n",
    "data_cs = cs(time_cs) #cubic spline interpolation of existing data to allow increased peak resolution (better than sampling interval)"
   ]
  },
  {
   "cell_type": "code",
   "execution_count": 52,
   "metadata": {},
   "outputs": [],
   "source": [
    "dataset_sma = butter_lowpass_filter(data_cs,cutoff,fs,order)"
   ]
  },
  {
   "cell_type": "code",
   "execution_count": 53,
   "metadata": {},
   "outputs": [
    {
     "name": "stdout",
     "output_type": "stream",
     "text": [
      "[]\n"
     ]
    }
   ],
   "source": [
    "peaks,_ = find_peaks(dataset,height = 0.5,distance = 300)\n",
    "print(peaks)"
   ]
  },
  {
   "cell_type": "code",
   "execution_count": 54,
   "metadata": {},
   "outputs": [],
   "source": [
    "ibi = list()\n",
    "ibi_sd = list()\n",
    "\n",
    "for x in np.arange(0,len(peaks)-1,1):\n",
    "    ibi.append((peaks[x+1]-peaks[x])*sampling_interval/upsample_rate)\n",
    "\n",
    "for x in np.arange(0,len(ibi)-1,1):\n",
    "    ibi_sd.append(1000*(ibi[x+1]-ibi[x]))"
   ]
  },
  {
   "cell_type": "code",
   "execution_count": 55,
   "metadata": {},
   "outputs": [],
   "source": [
    "ibi_sd_squared = square(ibi_sd)\n",
    "n = len(ibi_sd_squared)"
   ]
  },
  {
   "cell_type": "code",
   "execution_count": 56,
   "metadata": {},
   "outputs": [
    {
     "name": "stderr",
     "output_type": "stream",
     "text": [
      "/Users/lisajin/opt/anaconda3/lib/python3.8/site-packages/numpy/core/fromnumeric.py:3372: RuntimeWarning: Mean of empty slice.\n",
      "  return _methods._mean(a, axis=axis, dtype=dtype,\n",
      "/Users/lisajin/opt/anaconda3/lib/python3.8/site-packages/numpy/core/_methods.py:170: RuntimeWarning: invalid value encountered in double_scalars\n",
      "  ret = ret.dtype.type(ret / rcount)\n"
     ]
    }
   ],
   "source": [
    "RMSSD = np.sqrt(np.mean(ibi_sd_squared))"
   ]
  },
  {
   "cell_type": "code",
   "execution_count": 57,
   "metadata": {},
   "outputs": [
    {
     "name": "stdout",
     "output_type": "stream",
     "text": [
      "nan\n"
     ]
    }
   ],
   "source": [
    "print(RMSSD)"
   ]
  },
  {
   "cell_type": "code",
   "execution_count": 58,
   "metadata": {},
   "outputs": [
    {
     "data": {
      "image/png": "[encoded data removed]",
      "text/plain": [
       "<Figure size 432x288 with 1 Axes>"
      ]
     },
     "metadata": {
      "needs_background": "light"
     },
     "output_type": "display_data"
    }
   ],
   "source": [
    "plt.plot(time_cs,dataset_sma,'dimgray')\n",
    "plt.scatter(time_cs[peaks],dataset_sma[peaks],c=\"blueviolet\",marker = 'o',linestyle = 'None')\n",
    "plt.text(20,-0.6,\"HRV (RMSSD) = \" + str(round(RMSSD,1))+\"ms\",fontsize = 14)\n",
    "plt.xlim([0,3000*sampling_interval])\n",
    "plt.ylim([-0.8,1.5])\n",
    "plt.title(\"Peaks of Inverted ECG Signal\")\n",
    "plt.xlabel(\"Time (sec), assuming dataset is sampled at 50Hz\")\n",
    "plt.ylabel(\"Signal\")\n",
    "plt.show()"
   ]
  },
  {
   "cell_type": "code",
   "execution_count": null,
   "metadata": {},
   "outputs": [],
   "source": []
  }
 ],
 "metadata": {
  "kernelspec": {
   "display_name": "Python 3",
   "language": "python",
   "name": "python3"
  },
  "language_info": {
   "codemirror_mode": {
    "name": "ipython",
    "version": 3
   },
   "file_extension": ".py",
   "mimetype": "text/x-python",
   "name": "python",
   "nbconvert_exporter": "python",
   "pygments_lexer": "ipython3",
   "version": "3.8.5"
  }
 },
 "nbformat": 4,
 "nbformat_minor": 4
}
