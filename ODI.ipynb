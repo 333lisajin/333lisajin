{
 "cells": [
  {
   "cell_type": "code",
   "execution_count": 4,
   "metadata": {},
   "outputs": [],
   "source": [
    "import os\n",
    "import numpy as np\n",
    "import pandas as pd\n",
    "import seaborn as sns\n",
    "import matplotlib as plt\n",
    "import matplotlib.pyplot as plt\n",
    "from pandas.plotting import table\n",
    "from scipy.interpolate import make_interp_spline, BSpline\n",
    "import json\n",
    "\n",
    "            \n",
    "#with open('/Users/lisajin/Documents/Smnology/company/ODI.json') as f: \n",
    "    #data = json.load(f)\n",
    "\n",
    "#df=pd.DataFrame(data)\n",
    "\n"
   ]
  },
  {
   "cell_type": "code",
   "execution_count": 5,
   "metadata": {},
   "outputs": [],
   "source": [
    "#import data from file\n",
    "with open('/Users/lisajin/Documents/Smnology/company_data/ODI.json') as file:\n",
    "    data = json.load(file)\n",
    "    #parse out saturation data, pulse data and sleep stage data\n",
    "df = pd.DataFrame(data['o2Arr'],columns=['Oxygen_sec'])#O2 is by second\n",
    "df['pulse_sec'] = pd.DataFrame(data['prArr'])#pulse is by second\n",
    "df['stage_min']= pd.DataFrame(data['stageArr'])#this stage is by minute\n"
   ]
  },
  {
   "cell_type": "code",
   "execution_count": 6,
   "metadata": {},
   "outputs": [],
   "source": [
    "stage_min=df['stage_min'][0:412]"
   ]
  },
  {
   "cell_type": "code",
   "execution_count": 7,
   "metadata": {},
   "outputs": [],
   "source": [
    "stage_sec=stage_min.repeat(60)\n",
    "stage_sec = stage_sec.reset_index(drop = True)\n",
    "    "
   ]
  },
  {
   "cell_type": "code",
   "execution_count": 8,
   "metadata": {},
   "outputs": [],
   "source": [
    "df['stage_sec']=stage_sec"
   ]
  },
  {
   "cell_type": "code",
   "execution_count": 9,
   "metadata": {
    "scrolled": true
   },
   "outputs": [
    {
     "data": {
      "text/html": [
       "<div>\n",
       "<style scoped>\n",
       "    .dataframe tbody tr th:only-of-type {\n",
       "        vertical-align: middle;\n",
       "    }\n",
       "\n",
       "    .dataframe tbody tr th {\n",
       "        vertical-align: top;\n",
       "    }\n",
       "\n",
       "    .dataframe thead th {\n",
       "        text-align: right;\n",
       "    }\n",
       "</style>\n",
       "<table border=\"1\" class=\"dataframe\">\n",
       "  <thead>\n",
       "    <tr style=\"text-align: right;\">\n",
       "      <th></th>\n",
       "      <th>Oxygen_sec</th>\n",
       "      <th>pulse_sec</th>\n",
       "      <th>stage_min</th>\n",
       "      <th>stage_sec</th>\n",
       "    </tr>\n",
       "  </thead>\n",
       "  <tbody>\n",
       "    <tr>\n",
       "      <th>0</th>\n",
       "      <td>97.99</td>\n",
       "      <td>68</td>\n",
       "      <td>0.0</td>\n",
       "      <td>0.0</td>\n",
       "    </tr>\n",
       "    <tr>\n",
       "      <th>1</th>\n",
       "      <td>98.01</td>\n",
       "      <td>68</td>\n",
       "      <td>0.0</td>\n",
       "      <td>0.0</td>\n",
       "    </tr>\n",
       "    <tr>\n",
       "      <th>2</th>\n",
       "      <td>98.04</td>\n",
       "      <td>68</td>\n",
       "      <td>0.0</td>\n",
       "      <td>0.0</td>\n",
       "    </tr>\n",
       "    <tr>\n",
       "      <th>3</th>\n",
       "      <td>98.06</td>\n",
       "      <td>68</td>\n",
       "      <td>0.0</td>\n",
       "      <td>0.0</td>\n",
       "    </tr>\n",
       "    <tr>\n",
       "      <th>4</th>\n",
       "      <td>98.10</td>\n",
       "      <td>68</td>\n",
       "      <td>0.0</td>\n",
       "      <td>0.0</td>\n",
       "    </tr>\n",
       "  </tbody>\n",
       "</table>\n",
       "</div>"
      ],
      "text/plain": [
       "   Oxygen_sec  pulse_sec  stage_min  stage_sec\n",
       "0       97.99         68        0.0        0.0\n",
       "1       98.01         68        0.0        0.0\n",
       "2       98.04         68        0.0        0.0\n",
       "3       98.06         68        0.0        0.0\n",
       "4       98.10         68        0.0        0.0"
      ]
     },
     "execution_count": 9,
     "metadata": {},
     "output_type": "execute_result"
    }
   ],
   "source": [
    "df.head()\n"
   ]
  },
  {
   "cell_type": "code",
   "execution_count": 10,
   "metadata": {},
   "outputs": [],
   "source": [
    "df['stage_sec'] = df['stage_sec'].fillna(0)"
   ]
  },
  {
   "cell_type": "code",
   "execution_count": 11,
   "metadata": {
    "scrolled": true
   },
   "outputs": [
    {
     "name": "stdout",
     "output_type": "stream",
     "text": [
      "<class 'pandas.core.frame.DataFrame'>\n",
      "RangeIndex: 24746 entries, 0 to 24745\n",
      "Data columns (total 4 columns):\n",
      " #   Column      Non-Null Count  Dtype  \n",
      "---  ------      --------------  -----  \n",
      " 0   Oxygen_sec  24746 non-null  float64\n",
      " 1   pulse_sec   24746 non-null  int64  \n",
      " 2   stage_min   412 non-null    float64\n",
      " 3   stage_sec   24746 non-null  float64\n",
      "dtypes: float64(3), int64(1)\n",
      "memory usage: 773.4 KB\n"
     ]
    }
   ],
   "source": [
    "df.info()"
   ]
  },
  {
   "cell_type": "code",
   "execution_count": 12,
   "metadata": {},
   "outputs": [
    {
     "name": "stderr",
     "output_type": "stream",
     "text": [
      "/Users/lisajin/opt/anaconda3/lib/python3.8/site-packages/seaborn/_decorators.py:36: FutureWarning: Pass the following variable as a keyword arg: x. From version 0.12, the only valid positional argument will be `data`, and passing other arguments without an explicit keyword will result in an error or misinterpretation.\n",
      "  warnings.warn(\n"
     ]
    },
    {
     "data": {
      "text/plain": [
       "<AxesSubplot:xlabel='Oxygen_sec'>"
      ]
     },
     "execution_count": 12,
     "metadata": {},
     "output_type": "execute_result"
    },
    {
     "data": {
      "image/png": "[encoded data removed]",
      "text/plain": [
       "<Figure size 432x288 with 1 Axes>"
      ]
     },
     "metadata": {
      "needs_background": "light"
     },
     "output_type": "display_data"
    }
   ],
   "source": [
    "sns.boxplot(df.Oxygen_sec)"
   ]
  },
  {
   "cell_type": "code",
   "execution_count": 13,
   "metadata": {},
   "outputs": [],
   "source": [
    "#establish a metric or standard oxygen level (not the baseline because we cannot measure the baseline)\n",
    "#we acquire this by excludig the outliers see in the above graph and get the standard metric o2\n",
    "#we exclude the outliers that happen due to the machine malfunction\n",
    "\n",
    "Q1 = df['Oxygen_sec'].quantile(0.25)\n",
    "Q3 = df['Oxygen_sec'].quantile(0.75)\n",
    "IQR = Q3 - Q1    #IQR is interquartile range. \n",
    "\n",
    "filter = (df['Oxygen_sec'] >= Q1 - 1.5 * IQR) & (df['Oxygen_sec'] <= Q3 + 1.5 *IQR)\n",
    "df_filter=df.loc[filter]  "
   ]
  },
  {
   "cell_type": "code",
   "execution_count": 14,
   "metadata": {},
   "outputs": [
    {
     "name": "stdout",
     "output_type": "stream",
     "text": [
      "<class 'pandas.core.frame.DataFrame'>\n",
      "Int64Index: 24325 entries, 0 to 24745\n",
      "Data columns (total 4 columns):\n",
      " #   Column      Non-Null Count  Dtype  \n",
      "---  ------      --------------  -----  \n",
      " 0   Oxygen_sec  24325 non-null  float64\n",
      " 1   pulse_sec   24325 non-null  int64  \n",
      " 2   stage_min   412 non-null    float64\n",
      " 3   stage_sec   24325 non-null  float64\n",
      "dtypes: float64(3), int64(1)\n",
      "memory usage: 950.2 KB\n"
     ]
    }
   ],
   "source": [
    "df_filter.info()"
   ]
  },
  {
   "cell_type": "code",
   "execution_count": 15,
   "metadata": {},
   "outputs": [],
   "source": [
    "oxygen_metric=df_filter['Oxygen_sec'].mean()"
   ]
  },
  {
   "cell_type": "code",
   "execution_count": 16,
   "metadata": {},
   "outputs": [
    {
     "data": {
      "text/plain": [
       "94.69528427543467"
      ]
     },
     "execution_count": 16,
     "metadata": {},
     "output_type": "execute_result"
    }
   ],
   "source": [
    "oxygen_metric #this is just the average of the night, not the reference line "
   ]
  },
  {
   "cell_type": "code",
   "execution_count": 17,
   "metadata": {},
   "outputs": [],
   "source": [
    "interval=df_filter['Oxygen_sec']-91 #the reference line is at 91% of oxygen intake level"
   ]
  },
  {
   "cell_type": "code",
   "execution_count": 18,
   "metadata": {},
   "outputs": [
    {
     "name": "stderr",
     "output_type": "stream",
     "text": [
      "<ipython-input-18-8d1e39be196c>:1: SettingWithCopyWarning: \n",
      "A value is trying to be set on a copy of a slice from a DataFrame.\n",
      "Try using .loc[row_indexer,col_indexer] = value instead\n",
      "\n",
      "See the caveats in the documentation: https://pandas.pydata.org/pandas-docs/stable/user_guide/indexing.html#returning-a-view-versus-a-copy\n",
      "  df_filter['interval']=interval\n"
     ]
    }
   ],
   "source": [
    "df_filter['interval']=interval"
   ]
  },
  {
   "cell_type": "code",
   "execution_count": 19,
   "metadata": {
    "scrolled": false
   },
   "outputs": [
    {
     "data": {
      "text/html": [
       "<div>\n",
       "<style scoped>\n",
       "    .dataframe tbody tr th:only-of-type {\n",
       "        vertical-align: middle;\n",
       "    }\n",
       "\n",
       "    .dataframe tbody tr th {\n",
       "        vertical-align: top;\n",
       "    }\n",
       "\n",
       "    .dataframe thead th {\n",
       "        text-align: right;\n",
       "    }\n",
       "</style>\n",
       "<table border=\"1\" class=\"dataframe\">\n",
       "  <thead>\n",
       "    <tr style=\"text-align: right;\">\n",
       "      <th></th>\n",
       "      <th>Oxygen_sec</th>\n",
       "      <th>pulse_sec</th>\n",
       "      <th>stage_min</th>\n",
       "      <th>stage_sec</th>\n",
       "      <th>interval</th>\n",
       "    </tr>\n",
       "  </thead>\n",
       "  <tbody>\n",
       "    <tr>\n",
       "      <th>0</th>\n",
       "      <td>97.99</td>\n",
       "      <td>68</td>\n",
       "      <td>0.0</td>\n",
       "      <td>0.0</td>\n",
       "      <td>6.99</td>\n",
       "    </tr>\n",
       "    <tr>\n",
       "      <th>1</th>\n",
       "      <td>98.01</td>\n",
       "      <td>68</td>\n",
       "      <td>0.0</td>\n",
       "      <td>0.0</td>\n",
       "      <td>7.01</td>\n",
       "    </tr>\n",
       "    <tr>\n",
       "      <th>2</th>\n",
       "      <td>98.04</td>\n",
       "      <td>68</td>\n",
       "      <td>0.0</td>\n",
       "      <td>0.0</td>\n",
       "      <td>7.04</td>\n",
       "    </tr>\n",
       "    <tr>\n",
       "      <th>3</th>\n",
       "      <td>98.06</td>\n",
       "      <td>68</td>\n",
       "      <td>0.0</td>\n",
       "      <td>0.0</td>\n",
       "      <td>7.06</td>\n",
       "    </tr>\n",
       "    <tr>\n",
       "      <th>4</th>\n",
       "      <td>98.10</td>\n",
       "      <td>68</td>\n",
       "      <td>0.0</td>\n",
       "      <td>0.0</td>\n",
       "      <td>7.10</td>\n",
       "    </tr>\n",
       "    <tr>\n",
       "      <th>...</th>\n",
       "      <td>...</td>\n",
       "      <td>...</td>\n",
       "      <td>...</td>\n",
       "      <td>...</td>\n",
       "      <td>...</td>\n",
       "    </tr>\n",
       "    <tr>\n",
       "      <th>24741</th>\n",
       "      <td>95.75</td>\n",
       "      <td>84</td>\n",
       "      <td>NaN</td>\n",
       "      <td>0.0</td>\n",
       "      <td>4.75</td>\n",
       "    </tr>\n",
       "    <tr>\n",
       "      <th>24742</th>\n",
       "      <td>95.75</td>\n",
       "      <td>84</td>\n",
       "      <td>NaN</td>\n",
       "      <td>0.0</td>\n",
       "      <td>4.75</td>\n",
       "    </tr>\n",
       "    <tr>\n",
       "      <th>24743</th>\n",
       "      <td>95.75</td>\n",
       "      <td>84</td>\n",
       "      <td>NaN</td>\n",
       "      <td>0.0</td>\n",
       "      <td>4.75</td>\n",
       "    </tr>\n",
       "    <tr>\n",
       "      <th>24744</th>\n",
       "      <td>95.75</td>\n",
       "      <td>84</td>\n",
       "      <td>NaN</td>\n",
       "      <td>0.0</td>\n",
       "      <td>4.75</td>\n",
       "    </tr>\n",
       "    <tr>\n",
       "      <th>24745</th>\n",
       "      <td>95.75</td>\n",
       "      <td>84</td>\n",
       "      <td>NaN</td>\n",
       "      <td>0.0</td>\n",
       "      <td>4.75</td>\n",
       "    </tr>\n",
       "  </tbody>\n",
       "</table>\n",
       "<p>24325 rows × 5 columns</p>\n",
       "</div>"
      ],
      "text/plain": [
       "       Oxygen_sec  pulse_sec  stage_min  stage_sec  interval\n",
       "0           97.99         68        0.0        0.0      6.99\n",
       "1           98.01         68        0.0        0.0      7.01\n",
       "2           98.04         68        0.0        0.0      7.04\n",
       "3           98.06         68        0.0        0.0      7.06\n",
       "4           98.10         68        0.0        0.0      7.10\n",
       "...           ...        ...        ...        ...       ...\n",
       "24741       95.75         84        NaN        0.0      4.75\n",
       "24742       95.75         84        NaN        0.0      4.75\n",
       "24743       95.75         84        NaN        0.0      4.75\n",
       "24744       95.75         84        NaN        0.0      4.75\n",
       "24745       95.75         84        NaN        0.0      4.75\n",
       "\n",
       "[24325 rows x 5 columns]"
      ]
     },
     "execution_count": 19,
     "metadata": {},
     "output_type": "execute_result"
    }
   ],
   "source": [
    "df_filter"
   ]
  },
  {
   "cell_type": "code",
   "execution_count": 20,
   "metadata": {},
   "outputs": [
    {
     "data": {
      "text/plain": [
       "2.8408585282630403"
      ]
     },
     "execution_count": 20,
     "metadata": {},
     "output_type": "execute_result"
    }
   ],
   "source": [
    "oxygen_metric*0.03"
   ]
  },
  {
   "cell_type": "code",
   "execution_count": 21,
   "metadata": {},
   "outputs": [
    {
     "data": {
      "text/plain": [
       "[92.67757320450218, 96.71299534636717]"
      ]
     },
     "execution_count": 21,
     "metadata": {},
     "output_type": "execute_result"
    }
   ],
   "source": [
    "#max and min oxygen level and expected oxygen level\n",
    "max_oxy=max(df['Oxygen_sec'])\n",
    "min_oxy=min(df['Oxygen_sec'])\n",
    "std_oxy=df_filter['Oxygen_sec'].std()\n",
    "expect_oxy=[oxygen_metric-std_oxy,oxygen_metric+std_oxy]\n",
    "expect_oxy"
   ]
  },
  {
   "cell_type": "code",
   "execution_count": 22,
   "metadata": {},
   "outputs": [
    {
     "data": {
      "text/plain": [
       "2.0177110709324984"
      ]
     },
     "execution_count": 22,
     "metadata": {},
     "output_type": "execute_result"
    }
   ],
   "source": [
    "df_filter['Oxygen_sec'].std()"
   ]
  },
  {
   "cell_type": "code",
   "execution_count": 23,
   "metadata": {},
   "outputs": [
    {
     "data": {
      "text/plain": [
       "89.17"
      ]
     },
     "execution_count": 23,
     "metadata": {},
     "output_type": "execute_result"
    }
   ],
   "source": [
    "df_filter['Oxygen_sec'].min()"
   ]
  },
  {
   "cell_type": "code",
   "execution_count": 24,
   "metadata": {},
   "outputs": [
    {
     "data": {
      "text/plain": [
       "Text(0.5, 1.0, 'Raw O2 Data')"
      ]
     },
     "execution_count": 24,
     "metadata": {},
     "output_type": "execute_result"
    },
    {
     "data": {
      "image/png": "[encoded data removed]",
      "text/plain": [
       "<Figure size 432x288 with 1 Axes>"
      ]
     },
     "metadata": {
      "needs_background": "light"
     },
     "output_type": "display_data"
    }
   ],
   "source": [
    "df.plot(y=['Oxygen_sec'])\n",
    "plt.xlabel('Time (sec)')\n",
    "plt.ylabel('O2%')\n",
    "plt.title('Raw O2 Data')\n"
   ]
  },
  {
   "cell_type": "code",
   "execution_count": 25,
   "metadata": {},
   "outputs": [
    {
     "data": {
      "text/plain": [
       "Text(0.5, 1.0, 'Baseline and Raw O2 Data')"
      ]
     },
     "execution_count": 25,
     "metadata": {},
     "output_type": "execute_result"
    },
    {
     "data": {
      "image/png": "[encoded data removed]",
      "text/plain": [
       "<Figure size 432x288 with 1 Axes>"
      ]
     },
     "metadata": {
      "needs_background": "light"
     },
     "output_type": "display_data"
    }
   ],
   "source": [
    "#set up slow-moving average filter parameters to establish baseline and support comparison for artifact detection\n",
    "t_slow =10800 #assume that \"t_slow\" in sample data refers to slow-moving average time constant for baseline.  This is a guess.\n",
    "eventReadings = 1 #require this many consecutive readings below desat threshold before scoring event\n",
    "desatThreshold = 3 #percent below baseline\n",
    "artifactRate = 3 #don't register desaturation events if O2 changes by more than this rate from one reading to the next (percent)\n",
    "longEventDuration = 60 #number of seconds required to score \"long\" event\n",
    "\n",
    "df['baseline'] = df['Oxygen_sec'].rolling(t_slow,min_periods = 1).mean()\n",
    "\n",
    "df.plot(y=['baseline','Oxygen_sec'])\n",
    "plt.xlabel('Time (sec)')\n",
    "plt.ylabel('O2%')\n",
    "plt.title('Baseline and Raw O2 Data')"
   ]
  },
  {
   "cell_type": "code",
   "execution_count": 26,
   "metadata": {},
   "outputs": [
    {
     "name": "stderr",
     "output_type": "stream",
     "text": [
      "<ipython-input-26-7ff64225e389>:1: SettingWithCopyWarning: \n",
      "A value is trying to be set on a copy of a slice from a DataFrame.\n",
      "Try using .loc[row_indexer,col_indexer] = value instead\n",
      "\n",
      "See the caveats in the documentation: https://pandas.pydata.org/pandas-docs/stable/user_guide/indexing.html#returning-a-view-versus-a-copy\n",
      "  df_filter['reference'] = df_filter['Oxygen_sec'].rolling(5,min_periods = 1).mean()\n"
     ]
    }
   ],
   "source": [
    "df_filter['reference'] = df_filter['Oxygen_sec'].rolling(5,min_periods = 1).mean()"
   ]
  },
  {
   "cell_type": "code",
   "execution_count": 27,
   "metadata": {
    "scrolled": false
   },
   "outputs": [
    {
     "data": {
      "text/html": [
       "<div>\n",
       "<style scoped>\n",
       "    .dataframe tbody tr th:only-of-type {\n",
       "        vertical-align: middle;\n",
       "    }\n",
       "\n",
       "    .dataframe tbody tr th {\n",
       "        vertical-align: top;\n",
       "    }\n",
       "\n",
       "    .dataframe thead th {\n",
       "        text-align: right;\n",
       "    }\n",
       "</style>\n",
       "<table border=\"1\" class=\"dataframe\">\n",
       "  <thead>\n",
       "    <tr style=\"text-align: right;\">\n",
       "      <th></th>\n",
       "      <th>Oxygen_sec</th>\n",
       "      <th>pulse_sec</th>\n",
       "      <th>stage_min</th>\n",
       "      <th>stage_sec</th>\n",
       "      <th>interval</th>\n",
       "      <th>reference</th>\n",
       "    </tr>\n",
       "  </thead>\n",
       "  <tbody>\n",
       "    <tr>\n",
       "      <th>0</th>\n",
       "      <td>97.99</td>\n",
       "      <td>68</td>\n",
       "      <td>0.0</td>\n",
       "      <td>0.0</td>\n",
       "      <td>6.99</td>\n",
       "      <td>97.990000</td>\n",
       "    </tr>\n",
       "    <tr>\n",
       "      <th>1</th>\n",
       "      <td>98.01</td>\n",
       "      <td>68</td>\n",
       "      <td>0.0</td>\n",
       "      <td>0.0</td>\n",
       "      <td>7.01</td>\n",
       "      <td>98.000000</td>\n",
       "    </tr>\n",
       "    <tr>\n",
       "      <th>2</th>\n",
       "      <td>98.04</td>\n",
       "      <td>68</td>\n",
       "      <td>0.0</td>\n",
       "      <td>0.0</td>\n",
       "      <td>7.04</td>\n",
       "      <td>98.013333</td>\n",
       "    </tr>\n",
       "    <tr>\n",
       "      <th>3</th>\n",
       "      <td>98.06</td>\n",
       "      <td>68</td>\n",
       "      <td>0.0</td>\n",
       "      <td>0.0</td>\n",
       "      <td>7.06</td>\n",
       "      <td>98.025000</td>\n",
       "    </tr>\n",
       "    <tr>\n",
       "      <th>4</th>\n",
       "      <td>98.10</td>\n",
       "      <td>68</td>\n",
       "      <td>0.0</td>\n",
       "      <td>0.0</td>\n",
       "      <td>7.10</td>\n",
       "      <td>98.040000</td>\n",
       "    </tr>\n",
       "    <tr>\n",
       "      <th>...</th>\n",
       "      <td>...</td>\n",
       "      <td>...</td>\n",
       "      <td>...</td>\n",
       "      <td>...</td>\n",
       "      <td>...</td>\n",
       "      <td>...</td>\n",
       "    </tr>\n",
       "    <tr>\n",
       "      <th>24741</th>\n",
       "      <td>95.75</td>\n",
       "      <td>84</td>\n",
       "      <td>NaN</td>\n",
       "      <td>0.0</td>\n",
       "      <td>4.75</td>\n",
       "      <td>95.750000</td>\n",
       "    </tr>\n",
       "    <tr>\n",
       "      <th>24742</th>\n",
       "      <td>95.75</td>\n",
       "      <td>84</td>\n",
       "      <td>NaN</td>\n",
       "      <td>0.0</td>\n",
       "      <td>4.75</td>\n",
       "      <td>95.750000</td>\n",
       "    </tr>\n",
       "    <tr>\n",
       "      <th>24743</th>\n",
       "      <td>95.75</td>\n",
       "      <td>84</td>\n",
       "      <td>NaN</td>\n",
       "      <td>0.0</td>\n",
       "      <td>4.75</td>\n",
       "      <td>95.750000</td>\n",
       "    </tr>\n",
       "    <tr>\n",
       "      <th>24744</th>\n",
       "      <td>95.75</td>\n",
       "      <td>84</td>\n",
       "      <td>NaN</td>\n",
       "      <td>0.0</td>\n",
       "      <td>4.75</td>\n",
       "      <td>95.750000</td>\n",
       "    </tr>\n",
       "    <tr>\n",
       "      <th>24745</th>\n",
       "      <td>95.75</td>\n",
       "      <td>84</td>\n",
       "      <td>NaN</td>\n",
       "      <td>0.0</td>\n",
       "      <td>4.75</td>\n",
       "      <td>95.750000</td>\n",
       "    </tr>\n",
       "  </tbody>\n",
       "</table>\n",
       "<p>24325 rows × 6 columns</p>\n",
       "</div>"
      ],
      "text/plain": [
       "       Oxygen_sec  pulse_sec  stage_min  stage_sec  interval  reference\n",
       "0           97.99         68        0.0        0.0      6.99  97.990000\n",
       "1           98.01         68        0.0        0.0      7.01  98.000000\n",
       "2           98.04         68        0.0        0.0      7.04  98.013333\n",
       "3           98.06         68        0.0        0.0      7.06  98.025000\n",
       "4           98.10         68        0.0        0.0      7.10  98.040000\n",
       "...           ...        ...        ...        ...       ...        ...\n",
       "24741       95.75         84        NaN        0.0      4.75  95.750000\n",
       "24742       95.75         84        NaN        0.0      4.75  95.750000\n",
       "24743       95.75         84        NaN        0.0      4.75  95.750000\n",
       "24744       95.75         84        NaN        0.0      4.75  95.750000\n",
       "24745       95.75         84        NaN        0.0      4.75  95.750000\n",
       "\n",
       "[24325 rows x 6 columns]"
      ]
     },
     "execution_count": 27,
     "metadata": {},
     "output_type": "execute_result"
    }
   ],
   "source": [
    "df_filter"
   ]
  },
  {
   "cell_type": "code",
   "execution_count": 28,
   "metadata": {},
   "outputs": [],
   "source": [
    "interval_ind=(df_filter['Oxygen_sec']-df_filter['reference'])/df_filter['reference']*100 #interval percentage based off of personal data per every 5 seconds"
   ]
  },
  {
   "cell_type": "code",
   "execution_count": 29,
   "metadata": {},
   "outputs": [
    {
     "name": "stderr",
     "output_type": "stream",
     "text": [
      "<ipython-input-29-6cd495977d0f>:1: SettingWithCopyWarning: \n",
      "A value is trying to be set on a copy of a slice from a DataFrame.\n",
      "Try using .loc[row_indexer,col_indexer] = value instead\n",
      "\n",
      "See the caveats in the documentation: https://pandas.pydata.org/pandas-docs/stable/user_guide/indexing.html#returning-a-view-versus-a-copy\n",
      "  df_filter['interval_ind']=interval_ind\n"
     ]
    },
    {
     "data": {
      "text/html": [
       "<div>\n",
       "<style scoped>\n",
       "    .dataframe tbody tr th:only-of-type {\n",
       "        vertical-align: middle;\n",
       "    }\n",
       "\n",
       "    .dataframe tbody tr th {\n",
       "        vertical-align: top;\n",
       "    }\n",
       "\n",
       "    .dataframe thead th {\n",
       "        text-align: right;\n",
       "    }\n",
       "</style>\n",
       "<table border=\"1\" class=\"dataframe\">\n",
       "  <thead>\n",
       "    <tr style=\"text-align: right;\">\n",
       "      <th></th>\n",
       "      <th>Oxygen_sec</th>\n",
       "      <th>pulse_sec</th>\n",
       "      <th>stage_min</th>\n",
       "      <th>stage_sec</th>\n",
       "      <th>interval</th>\n",
       "      <th>reference</th>\n",
       "      <th>interval_ind</th>\n",
       "    </tr>\n",
       "  </thead>\n",
       "  <tbody>\n",
       "    <tr>\n",
       "      <th>0</th>\n",
       "      <td>97.99</td>\n",
       "      <td>68</td>\n",
       "      <td>0.0</td>\n",
       "      <td>0.0</td>\n",
       "      <td>6.99</td>\n",
       "      <td>97.990000</td>\n",
       "      <td>0.000000e+00</td>\n",
       "    </tr>\n",
       "    <tr>\n",
       "      <th>1</th>\n",
       "      <td>98.01</td>\n",
       "      <td>68</td>\n",
       "      <td>0.0</td>\n",
       "      <td>0.0</td>\n",
       "      <td>7.01</td>\n",
       "      <td>98.000000</td>\n",
       "      <td>1.020408e-02</td>\n",
       "    </tr>\n",
       "    <tr>\n",
       "      <th>2</th>\n",
       "      <td>98.04</td>\n",
       "      <td>68</td>\n",
       "      <td>0.0</td>\n",
       "      <td>0.0</td>\n",
       "      <td>7.04</td>\n",
       "      <td>98.013333</td>\n",
       "      <td>2.720718e-02</td>\n",
       "    </tr>\n",
       "    <tr>\n",
       "      <th>3</th>\n",
       "      <td>98.06</td>\n",
       "      <td>68</td>\n",
       "      <td>0.0</td>\n",
       "      <td>0.0</td>\n",
       "      <td>7.06</td>\n",
       "      <td>98.025000</td>\n",
       "      <td>3.570518e-02</td>\n",
       "    </tr>\n",
       "    <tr>\n",
       "      <th>4</th>\n",
       "      <td>98.10</td>\n",
       "      <td>68</td>\n",
       "      <td>0.0</td>\n",
       "      <td>0.0</td>\n",
       "      <td>7.10</td>\n",
       "      <td>98.040000</td>\n",
       "      <td>6.119951e-02</td>\n",
       "    </tr>\n",
       "    <tr>\n",
       "      <th>...</th>\n",
       "      <td>...</td>\n",
       "      <td>...</td>\n",
       "      <td>...</td>\n",
       "      <td>...</td>\n",
       "      <td>...</td>\n",
       "      <td>...</td>\n",
       "      <td>...</td>\n",
       "    </tr>\n",
       "    <tr>\n",
       "      <th>24741</th>\n",
       "      <td>95.75</td>\n",
       "      <td>84</td>\n",
       "      <td>NaN</td>\n",
       "      <td>0.0</td>\n",
       "      <td>4.75</td>\n",
       "      <td>95.750000</td>\n",
       "      <td>-4.467329e-12</td>\n",
       "    </tr>\n",
       "    <tr>\n",
       "      <th>24742</th>\n",
       "      <td>95.75</td>\n",
       "      <td>84</td>\n",
       "      <td>NaN</td>\n",
       "      <td>0.0</td>\n",
       "      <td>4.75</td>\n",
       "      <td>95.750000</td>\n",
       "      <td>-4.467329e-12</td>\n",
       "    </tr>\n",
       "    <tr>\n",
       "      <th>24743</th>\n",
       "      <td>95.75</td>\n",
       "      <td>84</td>\n",
       "      <td>NaN</td>\n",
       "      <td>0.0</td>\n",
       "      <td>4.75</td>\n",
       "      <td>95.750000</td>\n",
       "      <td>-4.467329e-12</td>\n",
       "    </tr>\n",
       "    <tr>\n",
       "      <th>24744</th>\n",
       "      <td>95.75</td>\n",
       "      <td>84</td>\n",
       "      <td>NaN</td>\n",
       "      <td>0.0</td>\n",
       "      <td>4.75</td>\n",
       "      <td>95.750000</td>\n",
       "      <td>-4.467329e-12</td>\n",
       "    </tr>\n",
       "    <tr>\n",
       "      <th>24745</th>\n",
       "      <td>95.75</td>\n",
       "      <td>84</td>\n",
       "      <td>NaN</td>\n",
       "      <td>0.0</td>\n",
       "      <td>4.75</td>\n",
       "      <td>95.750000</td>\n",
       "      <td>-4.467329e-12</td>\n",
       "    </tr>\n",
       "  </tbody>\n",
       "</table>\n",
       "<p>24325 rows × 7 columns</p>\n",
       "</div>"
      ],
      "text/plain": [
       "       Oxygen_sec  pulse_sec  stage_min  stage_sec  interval  reference  \\\n",
       "0           97.99         68        0.0        0.0      6.99  97.990000   \n",
       "1           98.01         68        0.0        0.0      7.01  98.000000   \n",
       "2           98.04         68        0.0        0.0      7.04  98.013333   \n",
       "3           98.06         68        0.0        0.0      7.06  98.025000   \n",
       "4           98.10         68        0.0        0.0      7.10  98.040000   \n",
       "...           ...        ...        ...        ...       ...        ...   \n",
       "24741       95.75         84        NaN        0.0      4.75  95.750000   \n",
       "24742       95.75         84        NaN        0.0      4.75  95.750000   \n",
       "24743       95.75         84        NaN        0.0      4.75  95.750000   \n",
       "24744       95.75         84        NaN        0.0      4.75  95.750000   \n",
       "24745       95.75         84        NaN        0.0      4.75  95.750000   \n",
       "\n",
       "       interval_ind  \n",
       "0      0.000000e+00  \n",
       "1      1.020408e-02  \n",
       "2      2.720718e-02  \n",
       "3      3.570518e-02  \n",
       "4      6.119951e-02  \n",
       "...             ...  \n",
       "24741 -4.467329e-12  \n",
       "24742 -4.467329e-12  \n",
       "24743 -4.467329e-12  \n",
       "24744 -4.467329e-12  \n",
       "24745 -4.467329e-12  \n",
       "\n",
       "[24325 rows x 7 columns]"
      ]
     },
     "execution_count": 29,
     "metadata": {},
     "output_type": "execute_result"
    }
   ],
   "source": [
    "df_filter['interval_ind']=interval_ind\n",
    "df_filter"
   ]
  },
  {
   "cell_type": "code",
   "execution_count": 30,
   "metadata": {},
   "outputs": [
    {
     "data": {
      "text/plain": [
       "Text(0.5, 1.0, 'raw O2 Data and 91% reference')"
      ]
     },
     "execution_count": 30,
     "metadata": {},
     "output_type": "execute_result"
    },
    {
     "data": {
      "image/png": "[encoded data removed]",
      "text/plain": [
       "<Figure size 432x288 with 1 Axes>"
      ]
     },
     "metadata": {
      "needs_background": "light"
     },
     "output_type": "display_data"
    }
   ],
   "source": [
    "#overall oxygen level comparing to the reference line which is at 91%\n",
    "df.plot(y=['Oxygen_sec'])\n",
    "plt.axhline(y=91, color='r', linestyle='-')\n",
    "plt.xlabel('Time (sec)')\n",
    "plt.ylabel('O2%')\n",
    "plt.title('raw O2 Data and 91% reference')\n"
   ]
  },
  {
   "cell_type": "code",
   "execution_count": 31,
   "metadata": {},
   "outputs": [
    {
     "data": {
      "text/plain": [
       "Text(0.5, 1.0, 'filtered O2 Data and 91% reference')"
      ]
     },
     "execution_count": 31,
     "metadata": {},
     "output_type": "execute_result"
    },
    {
     "data": {
      "image/png": "[encoded data removed]",
      "text/plain": [
       "<Figure size 432x288 with 1 Axes>"
      ]
     },
     "metadata": {
      "needs_background": "light"
     },
     "output_type": "display_data"
    }
   ],
   "source": [
    "#filtered oxygen level, where the oxygen levels are only accounted not due to device malfunction\n",
    "#comparing to the reference line which is at 91%\n",
    "df_filter.plot(y=['Oxygen_sec'])\n",
    "plt.axhline(y=91, color='r', linestyle='-')\n",
    "plt.xlabel('Time (sec)')\n",
    "plt.ylabel('O2%')\n",
    "plt.title('filtered O2 Data and 91% reference')\n"
   ]
  },
  {
   "cell_type": "code",
   "execution_count": 32,
   "metadata": {
    "scrolled": false
   },
   "outputs": [
    {
     "data": {
      "text/plain": [
       "Text(0.5, 1.0, 'filtered O2 Data and 91% reference')"
      ]
     },
     "execution_count": 32,
     "metadata": {},
     "output_type": "execute_result"
    },
    {
     "data": {
      "image/png": "[encoded data removed]",
      "text/plain": [
       "<Figure size 432x288 with 1 Axes>"
      ]
     },
     "metadata": {
      "needs_background": "light"
     },
     "output_type": "display_data"
    }
   ],
   "source": [
    "df_filter.plot(y=['interval'])\n",
    "plt.axhline(y=0, color='r', linestyle='-')\n",
    "plt.xlabel('Time (sec)')\n",
    "plt.ylabel('O2%')\n",
    "plt.title('filtered O2 Data and 91% reference')\n"
   ]
  },
  {
   "cell_type": "code",
   "execution_count": 33,
   "metadata": {},
   "outputs": [],
   "source": [
    "#filter out the positive interval because they are fine (healthy to have high oxygen level, right?)\n",
    "\n",
    "df_filter_neg=df_filter[(df_filter['interval_ind'] <= 0)]"
   ]
  },
  {
   "cell_type": "code",
   "execution_count": 34,
   "metadata": {
    "scrolled": true
   },
   "outputs": [
    {
     "data": {
      "text/html": [
       "<div>\n",
       "<style scoped>\n",
       "    .dataframe tbody tr th:only-of-type {\n",
       "        vertical-align: middle;\n",
       "    }\n",
       "\n",
       "    .dataframe tbody tr th {\n",
       "        vertical-align: top;\n",
       "    }\n",
       "\n",
       "    .dataframe thead th {\n",
       "        text-align: right;\n",
       "    }\n",
       "</style>\n",
       "<table border=\"1\" class=\"dataframe\">\n",
       "  <thead>\n",
       "    <tr style=\"text-align: right;\">\n",
       "      <th></th>\n",
       "      <th>Oxygen_sec</th>\n",
       "      <th>pulse_sec</th>\n",
       "      <th>stage_min</th>\n",
       "      <th>stage_sec</th>\n",
       "      <th>interval</th>\n",
       "      <th>reference</th>\n",
       "      <th>interval_ind</th>\n",
       "    </tr>\n",
       "  </thead>\n",
       "  <tbody>\n",
       "    <tr>\n",
       "      <th>0</th>\n",
       "      <td>97.99</td>\n",
       "      <td>68</td>\n",
       "      <td>0.0</td>\n",
       "      <td>0.0</td>\n",
       "      <td>6.99</td>\n",
       "      <td>97.990</td>\n",
       "      <td>0.000000e+00</td>\n",
       "    </tr>\n",
       "    <tr>\n",
       "      <th>8</th>\n",
       "      <td>98.10</td>\n",
       "      <td>68</td>\n",
       "      <td>0.0</td>\n",
       "      <td>0.0</td>\n",
       "      <td>7.10</td>\n",
       "      <td>98.114</td>\n",
       "      <td>-1.426912e-02</td>\n",
       "    </tr>\n",
       "    <tr>\n",
       "      <th>9</th>\n",
       "      <td>98.09</td>\n",
       "      <td>68</td>\n",
       "      <td>0.0</td>\n",
       "      <td>0.0</td>\n",
       "      <td>7.09</td>\n",
       "      <td>98.112</td>\n",
       "      <td>-2.242335e-02</td>\n",
       "    </tr>\n",
       "    <tr>\n",
       "      <th>10</th>\n",
       "      <td>98.08</td>\n",
       "      <td>68</td>\n",
       "      <td>0.0</td>\n",
       "      <td>0.0</td>\n",
       "      <td>7.08</td>\n",
       "      <td>98.100</td>\n",
       "      <td>-2.038736e-02</td>\n",
       "    </tr>\n",
       "    <tr>\n",
       "      <th>11</th>\n",
       "      <td>98.06</td>\n",
       "      <td>68</td>\n",
       "      <td>0.0</td>\n",
       "      <td>0.0</td>\n",
       "      <td>7.06</td>\n",
       "      <td>98.088</td>\n",
       "      <td>-2.854580e-02</td>\n",
       "    </tr>\n",
       "    <tr>\n",
       "      <th>...</th>\n",
       "      <td>...</td>\n",
       "      <td>...</td>\n",
       "      <td>...</td>\n",
       "      <td>...</td>\n",
       "      <td>...</td>\n",
       "      <td>...</td>\n",
       "      <td>...</td>\n",
       "    </tr>\n",
       "    <tr>\n",
       "      <th>24741</th>\n",
       "      <td>95.75</td>\n",
       "      <td>84</td>\n",
       "      <td>NaN</td>\n",
       "      <td>0.0</td>\n",
       "      <td>4.75</td>\n",
       "      <td>95.750</td>\n",
       "      <td>-4.467329e-12</td>\n",
       "    </tr>\n",
       "    <tr>\n",
       "      <th>24742</th>\n",
       "      <td>95.75</td>\n",
       "      <td>84</td>\n",
       "      <td>NaN</td>\n",
       "      <td>0.0</td>\n",
       "      <td>4.75</td>\n",
       "      <td>95.750</td>\n",
       "      <td>-4.467329e-12</td>\n",
       "    </tr>\n",
       "    <tr>\n",
       "      <th>24743</th>\n",
       "      <td>95.75</td>\n",
       "      <td>84</td>\n",
       "      <td>NaN</td>\n",
       "      <td>0.0</td>\n",
       "      <td>4.75</td>\n",
       "      <td>95.750</td>\n",
       "      <td>-4.467329e-12</td>\n",
       "    </tr>\n",
       "    <tr>\n",
       "      <th>24744</th>\n",
       "      <td>95.75</td>\n",
       "      <td>84</td>\n",
       "      <td>NaN</td>\n",
       "      <td>0.0</td>\n",
       "      <td>4.75</td>\n",
       "      <td>95.750</td>\n",
       "      <td>-4.467329e-12</td>\n",
       "    </tr>\n",
       "    <tr>\n",
       "      <th>24745</th>\n",
       "      <td>95.75</td>\n",
       "      <td>84</td>\n",
       "      <td>NaN</td>\n",
       "      <td>0.0</td>\n",
       "      <td>4.75</td>\n",
       "      <td>95.750</td>\n",
       "      <td>-4.467329e-12</td>\n",
       "    </tr>\n",
       "  </tbody>\n",
       "</table>\n",
       "<p>14288 rows × 7 columns</p>\n",
       "</div>"
      ],
      "text/plain": [
       "       Oxygen_sec  pulse_sec  stage_min  stage_sec  interval  reference  \\\n",
       "0           97.99         68        0.0        0.0      6.99     97.990   \n",
       "8           98.10         68        0.0        0.0      7.10     98.114   \n",
       "9           98.09         68        0.0        0.0      7.09     98.112   \n",
       "10          98.08         68        0.0        0.0      7.08     98.100   \n",
       "11          98.06         68        0.0        0.0      7.06     98.088   \n",
       "...           ...        ...        ...        ...       ...        ...   \n",
       "24741       95.75         84        NaN        0.0      4.75     95.750   \n",
       "24742       95.75         84        NaN        0.0      4.75     95.750   \n",
       "24743       95.75         84        NaN        0.0      4.75     95.750   \n",
       "24744       95.75         84        NaN        0.0      4.75     95.750   \n",
       "24745       95.75         84        NaN        0.0      4.75     95.750   \n",
       "\n",
       "       interval_ind  \n",
       "0      0.000000e+00  \n",
       "8     -1.426912e-02  \n",
       "9     -2.242335e-02  \n",
       "10    -2.038736e-02  \n",
       "11    -2.854580e-02  \n",
       "...             ...  \n",
       "24741 -4.467329e-12  \n",
       "24742 -4.467329e-12  \n",
       "24743 -4.467329e-12  \n",
       "24744 -4.467329e-12  \n",
       "24745 -4.467329e-12  \n",
       "\n",
       "[14288 rows x 7 columns]"
      ]
     },
     "execution_count": 34,
     "metadata": {},
     "output_type": "execute_result"
    }
   ],
   "source": [
    "df_filter_neg"
   ]
  },
  {
   "cell_type": "code",
   "execution_count": 35,
   "metadata": {},
   "outputs": [
    {
     "data": {
      "text/plain": [
       "-3.0294393094193133"
      ]
     },
     "execution_count": 35,
     "metadata": {},
     "output_type": "execute_result"
    }
   ],
   "source": [
    "min(df_filter_neg['interval_ind'])"
   ]
  },
  {
   "cell_type": "code",
   "execution_count": 36,
   "metadata": {},
   "outputs": [],
   "source": [
    "ODI3=df_filter_neg['interval_ind'] <= -3 # ODI 3%, oxygen level drops more or equal to 3 percent\n",
    "ODI2=df_filter_neg['interval_ind'] <= -2  # ODI 2%, oxygen level drops more or equal to 2 percent\n",
    "ODI1=df_filter_neg['interval_ind'] <= -1  # ODI 1%, oxygen level drops more or equal to 1 percent"
   ]
  },
  {
   "cell_type": "code",
   "execution_count": 37,
   "metadata": {},
   "outputs": [
    {
     "data": {
      "text/plain": [
       "0        False\n",
       "8        False\n",
       "9        False\n",
       "10       False\n",
       "11       False\n",
       "         ...  \n",
       "24741    False\n",
       "24742    False\n",
       "24743    False\n",
       "24744    False\n",
       "24745    False\n",
       "Name: interval_ind, Length: 14288, dtype: bool"
      ]
     },
     "execution_count": 37,
     "metadata": {},
     "output_type": "execute_result"
    }
   ],
   "source": [
    "ODI3"
   ]
  },
  {
   "cell_type": "code",
   "execution_count": 38,
   "metadata": {
    "scrolled": true
   },
   "outputs": [
    {
     "name": "stderr",
     "output_type": "stream",
     "text": [
      "<ipython-input-38-81ed0c887039>:1: SettingWithCopyWarning: \n",
      "A value is trying to be set on a copy of a slice from a DataFrame.\n",
      "Try using .loc[row_indexer,col_indexer] = value instead\n",
      "\n",
      "See the caveats in the documentation: https://pandas.pydata.org/pandas-docs/stable/user_guide/indexing.html#returning-a-view-versus-a-copy\n",
      "  df_filter_neg['ODI1']=ODI1\n",
      "<ipython-input-38-81ed0c887039>:2: SettingWithCopyWarning: \n",
      "A value is trying to be set on a copy of a slice from a DataFrame.\n",
      "Try using .loc[row_indexer,col_indexer] = value instead\n",
      "\n",
      "See the caveats in the documentation: https://pandas.pydata.org/pandas-docs/stable/user_guide/indexing.html#returning-a-view-versus-a-copy\n",
      "  df_filter_neg['ODI2']=ODI2\n",
      "<ipython-input-38-81ed0c887039>:3: SettingWithCopyWarning: \n",
      "A value is trying to be set on a copy of a slice from a DataFrame.\n",
      "Try using .loc[row_indexer,col_indexer] = value instead\n",
      "\n",
      "See the caveats in the documentation: https://pandas.pydata.org/pandas-docs/stable/user_guide/indexing.html#returning-a-view-versus-a-copy\n",
      "  df_filter_neg['ODI3']=ODI3\n"
     ]
    }
   ],
   "source": [
    "df_filter_neg['ODI1']=ODI1\n",
    "df_filter_neg['ODI2']=ODI2\n",
    "df_filter_neg['ODI3']=ODI3"
   ]
  },
  {
   "cell_type": "code",
   "execution_count": 39,
   "metadata": {
    "scrolled": true
   },
   "outputs": [
    {
     "name": "stderr",
     "output_type": "stream",
     "text": [
      "<ipython-input-39-a11872e6578a>:1: SettingWithCopyWarning: \n",
      "A value is trying to be set on a copy of a slice from a DataFrame.\n",
      "Try using .loc[row_indexer,col_indexer] = value instead\n",
      "\n",
      "See the caveats in the documentation: https://pandas.pydata.org/pandas-docs/stable/user_guide/indexing.html#returning-a-view-versus-a-copy\n",
      "  df_filter_neg['ODI'] = df_filter_neg['interval_ind'].values\n"
     ]
    }
   ],
   "source": [
    "df_filter_neg['ODI'] = df_filter_neg['interval_ind'].values"
   ]
  },
  {
   "cell_type": "code",
   "execution_count": 40,
   "metadata": {},
   "outputs": [
    {
     "name": "stderr",
     "output_type": "stream",
     "text": [
      "<ipython-input-40-ce0c4ad8b750>:12: SettingWithCopyWarning: \n",
      "A value is trying to be set on a copy of a slice from a DataFrame.\n",
      "Try using .loc[row_indexer,col_indexer] = value instead\n",
      "\n",
      "See the caveats in the documentation: https://pandas.pydata.org/pandas-docs/stable/user_guide/indexing.html#returning-a-view-versus-a-copy\n",
      "  df_filter_neg['ODI'] = np.select(conditions, values)\n"
     ]
    },
    {
     "data": {
      "text/html": [
       "<div>\n",
       "<style scoped>\n",
       "    .dataframe tbody tr th:only-of-type {\n",
       "        vertical-align: middle;\n",
       "    }\n",
       "\n",
       "    .dataframe tbody tr th {\n",
       "        vertical-align: top;\n",
       "    }\n",
       "\n",
       "    .dataframe thead th {\n",
       "        text-align: right;\n",
       "    }\n",
       "</style>\n",
       "<table border=\"1\" class=\"dataframe\">\n",
       "  <thead>\n",
       "    <tr style=\"text-align: right;\">\n",
       "      <th></th>\n",
       "      <th>Oxygen_sec</th>\n",
       "      <th>pulse_sec</th>\n",
       "      <th>stage_min</th>\n",
       "      <th>stage_sec</th>\n",
       "      <th>interval</th>\n",
       "      <th>reference</th>\n",
       "      <th>interval_ind</th>\n",
       "      <th>ODI1</th>\n",
       "      <th>ODI2</th>\n",
       "      <th>ODI3</th>\n",
       "      <th>ODI</th>\n",
       "    </tr>\n",
       "  </thead>\n",
       "  <tbody>\n",
       "    <tr>\n",
       "      <th>0</th>\n",
       "      <td>97.99</td>\n",
       "      <td>68</td>\n",
       "      <td>0.0</td>\n",
       "      <td>0.0</td>\n",
       "      <td>6.99</td>\n",
       "      <td>97.990</td>\n",
       "      <td>0.000000</td>\n",
       "      <td>False</td>\n",
       "      <td>False</td>\n",
       "      <td>False</td>\n",
       "      <td>0</td>\n",
       "    </tr>\n",
       "    <tr>\n",
       "      <th>8</th>\n",
       "      <td>98.10</td>\n",
       "      <td>68</td>\n",
       "      <td>0.0</td>\n",
       "      <td>0.0</td>\n",
       "      <td>7.10</td>\n",
       "      <td>98.114</td>\n",
       "      <td>-0.014269</td>\n",
       "      <td>False</td>\n",
       "      <td>False</td>\n",
       "      <td>False</td>\n",
       "      <td>0</td>\n",
       "    </tr>\n",
       "    <tr>\n",
       "      <th>9</th>\n",
       "      <td>98.09</td>\n",
       "      <td>68</td>\n",
       "      <td>0.0</td>\n",
       "      <td>0.0</td>\n",
       "      <td>7.09</td>\n",
       "      <td>98.112</td>\n",
       "      <td>-0.022423</td>\n",
       "      <td>False</td>\n",
       "      <td>False</td>\n",
       "      <td>False</td>\n",
       "      <td>0</td>\n",
       "    </tr>\n",
       "    <tr>\n",
       "      <th>10</th>\n",
       "      <td>98.08</td>\n",
       "      <td>68</td>\n",
       "      <td>0.0</td>\n",
       "      <td>0.0</td>\n",
       "      <td>7.08</td>\n",
       "      <td>98.100</td>\n",
       "      <td>-0.020387</td>\n",
       "      <td>False</td>\n",
       "      <td>False</td>\n",
       "      <td>False</td>\n",
       "      <td>0</td>\n",
       "    </tr>\n",
       "    <tr>\n",
       "      <th>11</th>\n",
       "      <td>98.06</td>\n",
       "      <td>68</td>\n",
       "      <td>0.0</td>\n",
       "      <td>0.0</td>\n",
       "      <td>7.06</td>\n",
       "      <td>98.088</td>\n",
       "      <td>-0.028546</td>\n",
       "      <td>False</td>\n",
       "      <td>False</td>\n",
       "      <td>False</td>\n",
       "      <td>0</td>\n",
       "    </tr>\n",
       "  </tbody>\n",
       "</table>\n",
       "</div>"
      ],
      "text/plain": [
       "    Oxygen_sec  pulse_sec  stage_min  stage_sec  interval  reference  \\\n",
       "0        97.99         68        0.0        0.0      6.99     97.990   \n",
       "8        98.10         68        0.0        0.0      7.10     98.114   \n",
       "9        98.09         68        0.0        0.0      7.09     98.112   \n",
       "10       98.08         68        0.0        0.0      7.08     98.100   \n",
       "11       98.06         68        0.0        0.0      7.06     98.088   \n",
       "\n",
       "    interval_ind   ODI1   ODI2   ODI3 ODI  \n",
       "0       0.000000  False  False  False   0  \n",
       "8      -0.014269  False  False  False   0  \n",
       "9      -0.022423  False  False  False   0  \n",
       "10     -0.020387  False  False  False   0  \n",
       "11     -0.028546  False  False  False   0  "
      ]
     },
     "execution_count": 40,
     "metadata": {},
     "output_type": "execute_result"
    }
   ],
   "source": [
    "# create a list of our conditions\n",
    "conditions = [\n",
    "    (df_filter_neg['interval_ind'] <=-3),\n",
    "    (df_filter_neg['interval_ind'] <=-2) & (df_filter_neg['interval_ind'] >-3),\n",
    "    (df_filter_neg['interval_ind'] >-2 ) & (df_filter_neg['interval_ind'] <=-1)\n",
    "    ]\n",
    "\n",
    "# create a list of the values we want to assign for each condition\n",
    "values = ['ODI3', 'ODI2', 'ODI1']\n",
    "\n",
    "# create a new column and use np.select to assign values to it using our lists as arguments\n",
    "df_filter_neg['ODI'] = np.select(conditions, values)\n",
    "\n",
    "# display updated DataFrame\n",
    "df_filter_neg.head()"
   ]
  },
  {
   "cell_type": "code",
   "execution_count": 41,
   "metadata": {
    "scrolled": true
   },
   "outputs": [
    {
     "data": {
      "text/html": [
       "<div>\n",
       "<style scoped>\n",
       "    .dataframe tbody tr th:only-of-type {\n",
       "        vertical-align: middle;\n",
       "    }\n",
       "\n",
       "    .dataframe tbody tr th {\n",
       "        vertical-align: top;\n",
       "    }\n",
       "\n",
       "    .dataframe thead th {\n",
       "        text-align: right;\n",
       "    }\n",
       "</style>\n",
       "<table border=\"1\" class=\"dataframe\">\n",
       "  <thead>\n",
       "    <tr style=\"text-align: right;\">\n",
       "      <th></th>\n",
       "      <th>Oxygen_sec</th>\n",
       "      <th>pulse_sec</th>\n",
       "      <th>stage_min</th>\n",
       "      <th>stage_sec</th>\n",
       "      <th>interval</th>\n",
       "      <th>reference</th>\n",
       "      <th>interval_ind</th>\n",
       "      <th>ODI1</th>\n",
       "      <th>ODI2</th>\n",
       "      <th>ODI3</th>\n",
       "      <th>ODI</th>\n",
       "    </tr>\n",
       "  </thead>\n",
       "  <tbody>\n",
       "    <tr>\n",
       "      <th>0</th>\n",
       "      <td>97.99</td>\n",
       "      <td>68</td>\n",
       "      <td>0.0</td>\n",
       "      <td>0.0</td>\n",
       "      <td>6.99</td>\n",
       "      <td>97.990</td>\n",
       "      <td>0.000000e+00</td>\n",
       "      <td>False</td>\n",
       "      <td>False</td>\n",
       "      <td>False</td>\n",
       "      <td>0</td>\n",
       "    </tr>\n",
       "    <tr>\n",
       "      <th>8</th>\n",
       "      <td>98.10</td>\n",
       "      <td>68</td>\n",
       "      <td>0.0</td>\n",
       "      <td>0.0</td>\n",
       "      <td>7.10</td>\n",
       "      <td>98.114</td>\n",
       "      <td>-1.426912e-02</td>\n",
       "      <td>False</td>\n",
       "      <td>False</td>\n",
       "      <td>False</td>\n",
       "      <td>0</td>\n",
       "    </tr>\n",
       "    <tr>\n",
       "      <th>9</th>\n",
       "      <td>98.09</td>\n",
       "      <td>68</td>\n",
       "      <td>0.0</td>\n",
       "      <td>0.0</td>\n",
       "      <td>7.09</td>\n",
       "      <td>98.112</td>\n",
       "      <td>-2.242335e-02</td>\n",
       "      <td>False</td>\n",
       "      <td>False</td>\n",
       "      <td>False</td>\n",
       "      <td>0</td>\n",
       "    </tr>\n",
       "    <tr>\n",
       "      <th>10</th>\n",
       "      <td>98.08</td>\n",
       "      <td>68</td>\n",
       "      <td>0.0</td>\n",
       "      <td>0.0</td>\n",
       "      <td>7.08</td>\n",
       "      <td>98.100</td>\n",
       "      <td>-2.038736e-02</td>\n",
       "      <td>False</td>\n",
       "      <td>False</td>\n",
       "      <td>False</td>\n",
       "      <td>0</td>\n",
       "    </tr>\n",
       "    <tr>\n",
       "      <th>11</th>\n",
       "      <td>98.06</td>\n",
       "      <td>68</td>\n",
       "      <td>0.0</td>\n",
       "      <td>0.0</td>\n",
       "      <td>7.06</td>\n",
       "      <td>98.088</td>\n",
       "      <td>-2.854580e-02</td>\n",
       "      <td>False</td>\n",
       "      <td>False</td>\n",
       "      <td>False</td>\n",
       "      <td>0</td>\n",
       "    </tr>\n",
       "    <tr>\n",
       "      <th>...</th>\n",
       "      <td>...</td>\n",
       "      <td>...</td>\n",
       "      <td>...</td>\n",
       "      <td>...</td>\n",
       "      <td>...</td>\n",
       "      <td>...</td>\n",
       "      <td>...</td>\n",
       "      <td>...</td>\n",
       "      <td>...</td>\n",
       "      <td>...</td>\n",
       "      <td>...</td>\n",
       "    </tr>\n",
       "    <tr>\n",
       "      <th>24741</th>\n",
       "      <td>95.75</td>\n",
       "      <td>84</td>\n",
       "      <td>NaN</td>\n",
       "      <td>0.0</td>\n",
       "      <td>4.75</td>\n",
       "      <td>95.750</td>\n",
       "      <td>-4.467329e-12</td>\n",
       "      <td>False</td>\n",
       "      <td>False</td>\n",
       "      <td>False</td>\n",
       "      <td>0</td>\n",
       "    </tr>\n",
       "    <tr>\n",
       "      <th>24742</th>\n",
       "      <td>95.75</td>\n",
       "      <td>84</td>\n",
       "      <td>NaN</td>\n",
       "      <td>0.0</td>\n",
       "      <td>4.75</td>\n",
       "      <td>95.750</td>\n",
       "      <td>-4.467329e-12</td>\n",
       "      <td>False</td>\n",
       "      <td>False</td>\n",
       "      <td>False</td>\n",
       "      <td>0</td>\n",
       "    </tr>\n",
       "    <tr>\n",
       "      <th>24743</th>\n",
       "      <td>95.75</td>\n",
       "      <td>84</td>\n",
       "      <td>NaN</td>\n",
       "      <td>0.0</td>\n",
       "      <td>4.75</td>\n",
       "      <td>95.750</td>\n",
       "      <td>-4.467329e-12</td>\n",
       "      <td>False</td>\n",
       "      <td>False</td>\n",
       "      <td>False</td>\n",
       "      <td>0</td>\n",
       "    </tr>\n",
       "    <tr>\n",
       "      <th>24744</th>\n",
       "      <td>95.75</td>\n",
       "      <td>84</td>\n",
       "      <td>NaN</td>\n",
       "      <td>0.0</td>\n",
       "      <td>4.75</td>\n",
       "      <td>95.750</td>\n",
       "      <td>-4.467329e-12</td>\n",
       "      <td>False</td>\n",
       "      <td>False</td>\n",
       "      <td>False</td>\n",
       "      <td>0</td>\n",
       "    </tr>\n",
       "    <tr>\n",
       "      <th>24745</th>\n",
       "      <td>95.75</td>\n",
       "      <td>84</td>\n",
       "      <td>NaN</td>\n",
       "      <td>0.0</td>\n",
       "      <td>4.75</td>\n",
       "      <td>95.750</td>\n",
       "      <td>-4.467329e-12</td>\n",
       "      <td>False</td>\n",
       "      <td>False</td>\n",
       "      <td>False</td>\n",
       "      <td>0</td>\n",
       "    </tr>\n",
       "  </tbody>\n",
       "</table>\n",
       "<p>14288 rows × 11 columns</p>\n",
       "</div>"
      ],
      "text/plain": [
       "       Oxygen_sec  pulse_sec  stage_min  stage_sec  interval  reference  \\\n",
       "0           97.99         68        0.0        0.0      6.99     97.990   \n",
       "8           98.10         68        0.0        0.0      7.10     98.114   \n",
       "9           98.09         68        0.0        0.0      7.09     98.112   \n",
       "10          98.08         68        0.0        0.0      7.08     98.100   \n",
       "11          98.06         68        0.0        0.0      7.06     98.088   \n",
       "...           ...        ...        ...        ...       ...        ...   \n",
       "24741       95.75         84        NaN        0.0      4.75     95.750   \n",
       "24742       95.75         84        NaN        0.0      4.75     95.750   \n",
       "24743       95.75         84        NaN        0.0      4.75     95.750   \n",
       "24744       95.75         84        NaN        0.0      4.75     95.750   \n",
       "24745       95.75         84        NaN        0.0      4.75     95.750   \n",
       "\n",
       "       interval_ind   ODI1   ODI2   ODI3 ODI  \n",
       "0      0.000000e+00  False  False  False   0  \n",
       "8     -1.426912e-02  False  False  False   0  \n",
       "9     -2.242335e-02  False  False  False   0  \n",
       "10    -2.038736e-02  False  False  False   0  \n",
       "11    -2.854580e-02  False  False  False   0  \n",
       "...             ...    ...    ...    ...  ..  \n",
       "24741 -4.467329e-12  False  False  False   0  \n",
       "24742 -4.467329e-12  False  False  False   0  \n",
       "24743 -4.467329e-12  False  False  False   0  \n",
       "24744 -4.467329e-12  False  False  False   0  \n",
       "24745 -4.467329e-12  False  False  False   0  \n",
       "\n",
       "[14288 rows x 11 columns]"
      ]
     },
     "execution_count": 41,
     "metadata": {},
     "output_type": "execute_result"
    }
   ],
   "source": [
    "df_filter_neg"
   ]
  },
  {
   "cell_type": "code",
   "execution_count": 42,
   "metadata": {},
   "outputs": [],
   "source": [
    "\n",
    "#Drops equivalent or more than 3% event\n",
    "event_ODI3 = sum(ODI3)\n",
    "\n",
    "#Drops equivalent or more than 2% event\n",
    "event_ODI2 = sum(ODI2)\n",
    "\n",
    "#Drops equivalent or more than 1% event\n",
    "event_ODI1 = sum(ODI1)\n",
    "\n",
    "#drops 1% only\n",
    "event_ODI1_only=event_ODI1-event_ODI2\n",
    "\n",
    "#drops 2% only\n",
    "event_ODI2_only=event_ODI2-event_ODI3\n"
   ]
  },
  {
   "cell_type": "code",
   "execution_count": 43,
   "metadata": {},
   "outputs": [
    {
     "name": "stdout",
     "output_type": "stream",
     "text": [
      "[1, 8, 123]\n"
     ]
    }
   ],
   "source": [
    "event_ODI=[event_ODI3,event_ODI2,event_ODI1]\n",
    "print(event_ODI)\n",
    "#event_ODI_only=[event_ODI3_only,event_ODI2_only,event_ODI1]\n",
    "#event_ODI_only"
   ]
  },
  {
   "cell_type": "code",
   "execution_count": 44,
   "metadata": {
    "scrolled": true
   },
   "outputs": [
    {
     "data": {
      "text/plain": [
       "Text(0.0, 1.0, 'Oxygen performance comparing to 91% level in percent\\n')"
      ]
     },
     "execution_count": 44,
     "metadata": {},
     "output_type": "execute_result"
    },
    {
     "data": {
      "image/png": "[encoded data removed]",
      "text/plain": [
       "<Figure size 432x288 with 1 Axes>"
      ]
     },
     "metadata": {
      "needs_background": "light"
     },
     "output_type": "display_data"
    }
   ],
   "source": [
    "#stage corresponding to drop/increase comparing to 91% levels\n",
    "sns.histplot(data=df_filter_neg, x='interval',\n",
    "             hue='stage_sec',\n",
    "             cbar=True,\n",
    "             bins=10)\n",
    "plt.title(\"Oxygen performance comparing to 91% level in percent\\n\",\n",
    "          fontsize=18, loc='left'\n",
    "         )"
   ]
  },
  {
   "cell_type": "code",
   "execution_count": 45,
   "metadata": {},
   "outputs": [
    {
     "name": "stderr",
     "output_type": "stream",
     "text": [
      "<ipython-input-45-e47f22636699>:1: FutureWarning: Indexing with multiple keys (implicitly converted to a tuple of keys) will be deprecated, use a list instead.\n",
      "  ODI_by_stage=df_filter_neg.groupby(['stage_sec'])['ODI3','ODI2','ODI1'].sum()\n"
     ]
    }
   ],
   "source": [
    "\n",
    "ODI_by_stage=df_filter_neg.groupby(['stage_sec'])['ODI3','ODI2','ODI1'].sum()"
   ]
  },
  {
   "cell_type": "code",
   "execution_count": 46,
   "metadata": {
    "scrolled": true
   },
   "outputs": [
    {
     "data": {
      "text/html": [
       "<div>\n",
       "<style scoped>\n",
       "    .dataframe tbody tr th:only-of-type {\n",
       "        vertical-align: middle;\n",
       "    }\n",
       "\n",
       "    .dataframe tbody tr th {\n",
       "        vertical-align: top;\n",
       "    }\n",
       "\n",
       "    .dataframe thead th {\n",
       "        text-align: right;\n",
       "    }\n",
       "</style>\n",
       "<table border=\"1\" class=\"dataframe\">\n",
       "  <thead>\n",
       "    <tr style=\"text-align: right;\">\n",
       "      <th></th>\n",
       "      <th>ODI3</th>\n",
       "      <th>ODI2</th>\n",
       "      <th>ODI1</th>\n",
       "    </tr>\n",
       "    <tr>\n",
       "      <th>stage_sec</th>\n",
       "      <th></th>\n",
       "      <th></th>\n",
       "      <th></th>\n",
       "    </tr>\n",
       "  </thead>\n",
       "  <tbody>\n",
       "    <tr>\n",
       "      <th>0.0</th>\n",
       "      <td>0</td>\n",
       "      <td>0</td>\n",
       "      <td>1</td>\n",
       "    </tr>\n",
       "    <tr>\n",
       "      <th>2.0</th>\n",
       "      <td>0</td>\n",
       "      <td>5</td>\n",
       "      <td>76</td>\n",
       "    </tr>\n",
       "    <tr>\n",
       "      <th>3.0</th>\n",
       "      <td>1</td>\n",
       "      <td>3</td>\n",
       "      <td>36</td>\n",
       "    </tr>\n",
       "    <tr>\n",
       "      <th>4.0</th>\n",
       "      <td>0</td>\n",
       "      <td>0</td>\n",
       "      <td>10</td>\n",
       "    </tr>\n",
       "  </tbody>\n",
       "</table>\n",
       "</div>"
      ],
      "text/plain": [
       "           ODI3  ODI2  ODI1\n",
       "stage_sec                  \n",
       "0.0           0     0     1\n",
       "2.0           0     5    76\n",
       "3.0           1     3    36\n",
       "4.0           0     0    10"
      ]
     },
     "execution_count": 46,
     "metadata": {},
     "output_type": "execute_result"
    }
   ],
   "source": [
    "ODI_by_stage"
   ]
  },
  {
   "cell_type": "code",
   "execution_count": 47,
   "metadata": {
    "scrolled": true
   },
   "outputs": [
    {
     "name": "stdout",
     "output_type": "stream",
     "text": [
      "<class 'pandas.core.frame.DataFrame'>\n",
      "Float64Index: 4 entries, 0.0 to 4.0\n",
      "Data columns (total 3 columns):\n",
      " #   Column  Non-Null Count  Dtype\n",
      "---  ------  --------------  -----\n",
      " 0   ODI3    4 non-null      int64\n",
      " 1   ODI2    4 non-null      int64\n",
      " 2   ODI1    4 non-null      int64\n",
      "dtypes: int64(3)\n",
      "memory usage: 128.0 bytes\n"
     ]
    }
   ],
   "source": [
    "ODI_by_stage.info()"
   ]
  },
  {
   "cell_type": "code",
   "execution_count": 48,
   "metadata": {},
   "outputs": [
    {
     "data": {
      "text/plain": [
       "Text(0.0, 1.0, 'ODI level by sleep stage\\n')"
      ]
     },
     "execution_count": 48,
     "metadata": {},
     "output_type": "execute_result"
    },
    {
     "data": {
      "image/png": "[encoded data removed]",
      "text/plain": [
       "<Figure size 432x288 with 1 Axes>"
      ]
     },
     "metadata": {
      "needs_background": "light"
     },
     "output_type": "display_data"
    }
   ],
   "source": [
    "ODI_by_stage.plot.bar(stacked=False);\n",
    "\n",
    "\n",
    "plt.xlabel('sleep stage')\n",
    "plt.ylabel('ODI events')\n",
    "plt.grid(True)\n",
    "plt.title(\"ODI level by sleep stage\\n\",\n",
    "          fontsize=18, loc='left'\n",
    "         )"
   ]
  },
  {
   "cell_type": "code",
   "execution_count": 49,
   "metadata": {
    "scrolled": false
   },
   "outputs": [
    {
     "data": {
      "text/html": [
       "<div>\n",
       "<style scoped>\n",
       "    .dataframe tbody tr th:only-of-type {\n",
       "        vertical-align: middle;\n",
       "    }\n",
       "\n",
       "    .dataframe tbody tr th {\n",
       "        vertical-align: top;\n",
       "    }\n",
       "\n",
       "    .dataframe thead th {\n",
       "        text-align: right;\n",
       "    }\n",
       "</style>\n",
       "<table border=\"1\" class=\"dataframe\">\n",
       "  <thead>\n",
       "    <tr style=\"text-align: right;\">\n",
       "      <th></th>\n",
       "      <th>Oxygen_sec</th>\n",
       "      <th>pulse_sec</th>\n",
       "      <th>stage_min</th>\n",
       "      <th>stage_sec</th>\n",
       "      <th>interval</th>\n",
       "      <th>reference</th>\n",
       "      <th>interval_ind</th>\n",
       "      <th>ODI1</th>\n",
       "      <th>ODI2</th>\n",
       "      <th>ODI3</th>\n",
       "      <th>ODI</th>\n",
       "    </tr>\n",
       "  </thead>\n",
       "  <tbody>\n",
       "    <tr>\n",
       "      <th>0</th>\n",
       "      <td>97.99</td>\n",
       "      <td>68</td>\n",
       "      <td>0.0</td>\n",
       "      <td>0.0</td>\n",
       "      <td>6.99</td>\n",
       "      <td>97.990</td>\n",
       "      <td>0.000000e+00</td>\n",
       "      <td>False</td>\n",
       "      <td>False</td>\n",
       "      <td>False</td>\n",
       "      <td>0</td>\n",
       "    </tr>\n",
       "    <tr>\n",
       "      <th>8</th>\n",
       "      <td>98.10</td>\n",
       "      <td>68</td>\n",
       "      <td>0.0</td>\n",
       "      <td>0.0</td>\n",
       "      <td>7.10</td>\n",
       "      <td>98.114</td>\n",
       "      <td>-1.426912e-02</td>\n",
       "      <td>False</td>\n",
       "      <td>False</td>\n",
       "      <td>False</td>\n",
       "      <td>0</td>\n",
       "    </tr>\n",
       "    <tr>\n",
       "      <th>9</th>\n",
       "      <td>98.09</td>\n",
       "      <td>68</td>\n",
       "      <td>0.0</td>\n",
       "      <td>0.0</td>\n",
       "      <td>7.09</td>\n",
       "      <td>98.112</td>\n",
       "      <td>-2.242335e-02</td>\n",
       "      <td>False</td>\n",
       "      <td>False</td>\n",
       "      <td>False</td>\n",
       "      <td>0</td>\n",
       "    </tr>\n",
       "    <tr>\n",
       "      <th>10</th>\n",
       "      <td>98.08</td>\n",
       "      <td>68</td>\n",
       "      <td>0.0</td>\n",
       "      <td>0.0</td>\n",
       "      <td>7.08</td>\n",
       "      <td>98.100</td>\n",
       "      <td>-2.038736e-02</td>\n",
       "      <td>False</td>\n",
       "      <td>False</td>\n",
       "      <td>False</td>\n",
       "      <td>0</td>\n",
       "    </tr>\n",
       "    <tr>\n",
       "      <th>11</th>\n",
       "      <td>98.06</td>\n",
       "      <td>68</td>\n",
       "      <td>0.0</td>\n",
       "      <td>0.0</td>\n",
       "      <td>7.06</td>\n",
       "      <td>98.088</td>\n",
       "      <td>-2.854580e-02</td>\n",
       "      <td>False</td>\n",
       "      <td>False</td>\n",
       "      <td>False</td>\n",
       "      <td>0</td>\n",
       "    </tr>\n",
       "    <tr>\n",
       "      <th>...</th>\n",
       "      <td>...</td>\n",
       "      <td>...</td>\n",
       "      <td>...</td>\n",
       "      <td>...</td>\n",
       "      <td>...</td>\n",
       "      <td>...</td>\n",
       "      <td>...</td>\n",
       "      <td>...</td>\n",
       "      <td>...</td>\n",
       "      <td>...</td>\n",
       "      <td>...</td>\n",
       "    </tr>\n",
       "    <tr>\n",
       "      <th>24741</th>\n",
       "      <td>95.75</td>\n",
       "      <td>84</td>\n",
       "      <td>NaN</td>\n",
       "      <td>0.0</td>\n",
       "      <td>4.75</td>\n",
       "      <td>95.750</td>\n",
       "      <td>-4.467329e-12</td>\n",
       "      <td>False</td>\n",
       "      <td>False</td>\n",
       "      <td>False</td>\n",
       "      <td>0</td>\n",
       "    </tr>\n",
       "    <tr>\n",
       "      <th>24742</th>\n",
       "      <td>95.75</td>\n",
       "      <td>84</td>\n",
       "      <td>NaN</td>\n",
       "      <td>0.0</td>\n",
       "      <td>4.75</td>\n",
       "      <td>95.750</td>\n",
       "      <td>-4.467329e-12</td>\n",
       "      <td>False</td>\n",
       "      <td>False</td>\n",
       "      <td>False</td>\n",
       "      <td>0</td>\n",
       "    </tr>\n",
       "    <tr>\n",
       "      <th>24743</th>\n",
       "      <td>95.75</td>\n",
       "      <td>84</td>\n",
       "      <td>NaN</td>\n",
       "      <td>0.0</td>\n",
       "      <td>4.75</td>\n",
       "      <td>95.750</td>\n",
       "      <td>-4.467329e-12</td>\n",
       "      <td>False</td>\n",
       "      <td>False</td>\n",
       "      <td>False</td>\n",
       "      <td>0</td>\n",
       "    </tr>\n",
       "    <tr>\n",
       "      <th>24744</th>\n",
       "      <td>95.75</td>\n",
       "      <td>84</td>\n",
       "      <td>NaN</td>\n",
       "      <td>0.0</td>\n",
       "      <td>4.75</td>\n",
       "      <td>95.750</td>\n",
       "      <td>-4.467329e-12</td>\n",
       "      <td>False</td>\n",
       "      <td>False</td>\n",
       "      <td>False</td>\n",
       "      <td>0</td>\n",
       "    </tr>\n",
       "    <tr>\n",
       "      <th>24745</th>\n",
       "      <td>95.75</td>\n",
       "      <td>84</td>\n",
       "      <td>NaN</td>\n",
       "      <td>0.0</td>\n",
       "      <td>4.75</td>\n",
       "      <td>95.750</td>\n",
       "      <td>-4.467329e-12</td>\n",
       "      <td>False</td>\n",
       "      <td>False</td>\n",
       "      <td>False</td>\n",
       "      <td>0</td>\n",
       "    </tr>\n",
       "  </tbody>\n",
       "</table>\n",
       "<p>14288 rows × 11 columns</p>\n",
       "</div>"
      ],
      "text/plain": [
       "       Oxygen_sec  pulse_sec  stage_min  stage_sec  interval  reference  \\\n",
       "0           97.99         68        0.0        0.0      6.99     97.990   \n",
       "8           98.10         68        0.0        0.0      7.10     98.114   \n",
       "9           98.09         68        0.0        0.0      7.09     98.112   \n",
       "10          98.08         68        0.0        0.0      7.08     98.100   \n",
       "11          98.06         68        0.0        0.0      7.06     98.088   \n",
       "...           ...        ...        ...        ...       ...        ...   \n",
       "24741       95.75         84        NaN        0.0      4.75     95.750   \n",
       "24742       95.75         84        NaN        0.0      4.75     95.750   \n",
       "24743       95.75         84        NaN        0.0      4.75     95.750   \n",
       "24744       95.75         84        NaN        0.0      4.75     95.750   \n",
       "24745       95.75         84        NaN        0.0      4.75     95.750   \n",
       "\n",
       "       interval_ind   ODI1   ODI2   ODI3 ODI  \n",
       "0      0.000000e+00  False  False  False   0  \n",
       "8     -1.426912e-02  False  False  False   0  \n",
       "9     -2.242335e-02  False  False  False   0  \n",
       "10    -2.038736e-02  False  False  False   0  \n",
       "11    -2.854580e-02  False  False  False   0  \n",
       "...             ...    ...    ...    ...  ..  \n",
       "24741 -4.467329e-12  False  False  False   0  \n",
       "24742 -4.467329e-12  False  False  False   0  \n",
       "24743 -4.467329e-12  False  False  False   0  \n",
       "24744 -4.467329e-12  False  False  False   0  \n",
       "24745 -4.467329e-12  False  False  False   0  \n",
       "\n",
       "[14288 rows x 11 columns]"
      ]
     },
     "execution_count": 49,
     "metadata": {},
     "output_type": "execute_result"
    }
   ],
   "source": [
    "df_filter_neg"
   ]
  },
  {
   "cell_type": "code",
   "execution_count": 50,
   "metadata": {},
   "outputs": [],
   "source": [
    "total_event=len(df)\n",
    "oxy_level_1=sum(df['Oxygen_sec']<95) #events that is less than 95percent \n",
    "oxy_level_2=sum(df['Oxygen_sec']<90) #events that is less than 95percent \n",
    "oxy_level_3=sum(df['Oxygen_sec']<85) #events that is less than 85percent \n",
    "oxy_level_4=sum(df['Oxygen_sec']<80) #events that is less than 80percent\n",
    "\n",
    "oxygen_average=round(oxygen_metric)\n",
    "\n",
    "\n",
    "percent_oxy_level_1=\"{:.0%}\".format(oxy_level_1/total_event) #percentage events that is less than 95percent\n",
    "percent_oxy_level_2=\"{:.0%}\".format(oxy_level_2/total_event) #percentage events that is less than 90percent\n",
    "percent_oxy_level_3=\"{:.0%}\".format(oxy_level_3/total_event) #percentage events that is less than 85percent\n",
    "percent_oxy_level_4=\"{:.0%}\".format(oxy_level_4/total_event) #percentage events that is less than 80percent\n",
    "\n",
    "\n",
    "\n",
    "PR=int(df['pulse_sec'].mean()) #average pulse rate\n",
    "\n",
    "sleep_stage0=int(sum(df['stage_sec']==0)/60) #sleep stage 0 in mins\n",
    "sleep_stage1=int(sum(df['stage_sec']==1)/60) #sleep stage 0 in mins\n",
    "sleep_stage2=int(sum(df['stage_sec']==2)/60) #sleep stage 0 in mins\n",
    "sleep_stage3=int(sum(df['stage_sec']==3)/60) #sleep stage 0 in mins\n",
    "sleep_stage4=int(sum(df['stage_sec']==4)/60) #sleep stage 0 in mins\n",
    "\n"
   ]
  },
  {
   "cell_type": "code",
   "execution_count": 52,
   "metadata": {},
   "outputs": [
    {
     "data": {
      "image/png": "[encoded data removed]",
      "text/plain": [
       "<Figure size 432x288 with 1 Axes>"
      ]
     },
     "metadata": {
      "needs_background": "light"
     },
     "output_type": "display_data"
    }
   ],
   "source": [
    "df_spec=df.dropna()\n",
    "\n",
    "\n",
    "x = np.arange(0, len(df_spec['stage_min']), 1)\n",
    "y = df_spec['stage_min'].to_numpy()\n",
    "\n",
    "X_Y_Spline = make_interp_spline(x, y)\n",
    " \n",
    "# Returns evenly spaced numbers\n",
    "# over a specified interval.\n",
    "X_ = np.linspace(x.min(), x.max(), 500)\n",
    "Y_ = X_Y_Spline(X_)\n",
    " \n",
    "# Plotting the Graph\n",
    "plt.plot(X_, Y_)\n",
    "plt.title(\"How you sleep at night\")\n",
    "plt.xlabel(\"time in min\")\n",
    "plt.ylabel(\"sleep stage\")\n",
    "plt.grid(True)\n",
    "plt.show()"
   ]
  },
  {
   "cell_type": "code",
   "execution_count": 53,
   "metadata": {},
   "outputs": [
    {
     "name": "stdout",
     "output_type": "stream",
     "text": [
      "-----Some Other Relevant Results-----\n",
      "Your average oxygen intake throughout the night is 95%.\n",
      "Your highest oxygen intake throughout the night is 99.75%.\n",
      "Your lowest oxygen intake throughout the night is 79.76%.\n",
      "Your oxygen intake below 95% of the night is 15776,that is 64%of all the oxygen intake events.\n",
      "Your oxygen intake below 90% of the night is 654,that is 3%of all the oxygen intake events.\n",
      "Your oxygen intake below 85% of the night is 25,that is 0%of all the oxygen intake events.\n",
      "Your oxygen intake below 80% of the night is 1,that is 0%of all the oxygen intake events.\n",
      "The events of oxygen intake drops more than 3% happend 1 time(s).\n",
      "Your Average pulse rate of the night is 72.\n",
      "Your sleep stage 0 of the night is 97 mins.\n",
      "Your sleep stage 1 of the night is 0 mins.\n",
      "Your sleep stage 2 of the night is 100 mins.\n",
      "Your sleep stage 3 of the night is 152 mins.\n",
      "Your sleep stage 4 of the night is 63 mins.\n"
     ]
    }
   ],
   "source": [
    "#print results to terminal for review\n",
    "print(\"-----Some Other Relevant Results-----\")\n",
    "#print(\"Your expected oxygen intake level throughout the night is between\" +' '+ str(expect_oxy) +'.')\n",
    "print(\"Your average oxygen intake throughout the night is\" +' '+ str(oxygen_average) +'%'+'.')\n",
    "print(\"Your highest oxygen intake throughout the night is\" +' '+ str(max_oxy) +'%'+'.')\n",
    "print(\"Your lowest oxygen intake throughout the night is\" +' '+ str(min_oxy) +'%'+'.')\n",
    "\n",
    "print(\"Your oxygen intake below 95% of the night is\" +' '+ str(oxy_level_1) +',' +\"that is \" + str(percent_oxy_level_1) +'of all the oxygen intake events.')\n",
    "print(\"Your oxygen intake below 90% of the night is\" +' '+ str(oxy_level_2) +',' +\"that is \" + str(percent_oxy_level_2) +'of all the oxygen intake events.')\n",
    "print(\"Your oxygen intake below 85% of the night is\" +' '+ str(oxy_level_3) +',' +\"that is \" + str(percent_oxy_level_3) +'of all the oxygen intake events.')\n",
    "print(\"Your oxygen intake below 80% of the night is\" +' '+ str(oxy_level_4) +',' +\"that is \" + str(percent_oxy_level_4) +'of all the oxygen intake events.')\n",
    "print(\"The events of oxygen intake drops more than 3%\" +' '+'happend '+ str(event_ODI3)+' '+'time(s).')\n",
    "\n",
    "print(\"Your Average pulse rate of the night is \" + str(PR) +'.')\n",
    "\n",
    "\n",
    "print(\"Your sleep stage 0 of the night is \" + str(sleep_stage0) +' '+'mins.')\n",
    "print(\"Your sleep stage 1 of the night is \" + str(sleep_stage1) + ' '+'mins.')\n",
    "print(\"Your sleep stage 2 of the night is \" + str(sleep_stage2) + ' '+'mins.')\n",
    "print(\"Your sleep stage 3 of the night is \" + str(sleep_stage3) +' '+'mins.')\n",
    "print(\"Your sleep stage 4 of the night is \" + str(sleep_stage4) +' '+'mins.')"
   ]
  }
 ],
 "metadata": {
  "kernelspec": {
   "display_name": "Python 3",
   "language": "python",
   "name": "python3"
  },
  "language_info": {
   "codemirror_mode": {
    "name": "ipython",
    "version": 3
   },
   "file_extension": ".py",
   "mimetype": "text/x-python",
   "name": "python",
   "nbconvert_exporter": "python",
   "pygments_lexer": "ipython3",
   "version": "3.8.5"
  }
 },
 "nbformat": 4,
 "nbformat_minor": 4
}
