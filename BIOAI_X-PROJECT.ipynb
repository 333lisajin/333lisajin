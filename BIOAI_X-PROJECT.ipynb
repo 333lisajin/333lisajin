{
 "cells": [
  {
   "cell_type": "code",
   "execution_count": 1,
   "metadata": {},
   "outputs": [],
   "source": [
    "import tensorflow as tf\n",
    "from tensorflow import keras\n",
    "\n",
    "import os\n",
    "import tempfile\n",
    "\n",
    "import matplotlib as mpl\n",
    "import matplotlib.pyplot as plt\n",
    "import numpy as np\n",
    "import pandas as pd\n",
    "import seaborn as sns\n",
    "\n",
    "import sklearn\n",
    "from sklearn.metrics import confusion_matrix\n",
    "from sklearn.model_selection import train_test_split\n",
    "from sklearn.preprocessing import StandardScaler\n",
    "from scipy import stats"
   ]
  },
  {
   "cell_type": "code",
   "execution_count": 2,
   "metadata": {},
   "outputs": [],
   "source": [
    "mpl.rcParams['figure.figsize'] = (12, 10)\n",
    "colors = plt.rcParams['axes.prop_cycle'].by_key()['color']"
   ]
  },
  {
   "cell_type": "code",
   "execution_count": 3,
   "metadata": {
    "scrolled": false
   },
   "outputs": [
    {
     "name": "stdout",
     "output_type": "stream",
     "text": [
      "Requirement already satisfied: tensorflow in /Users/lisajin/opt/anaconda3/lib/python3.8/site-packages (2.5.0)\n",
      "Requirement already satisfied: termcolor~=1.1.0 in /Users/lisajin/opt/anaconda3/lib/python3.8/site-packages (from tensorflow) (1.1.0)\n",
      "Requirement already satisfied: typing-extensions~=3.7.4 in /Users/lisajin/opt/anaconda3/lib/python3.8/site-packages (from tensorflow) (3.7.4.3)\n",
      "Requirement already satisfied: wrapt~=1.12.1 in /Users/lisajin/opt/anaconda3/lib/python3.8/site-packages (from tensorflow) (1.12.1)\n",
      "Requirement already satisfied: opt-einsum~=3.3.0 in /Users/lisajin/opt/anaconda3/lib/python3.8/site-packages (from tensorflow) (3.3.0)\n",
      "Requirement already satisfied: six~=1.15.0 in /Users/lisajin/opt/anaconda3/lib/python3.8/site-packages (from tensorflow) (1.15.0)\n",
      "Requirement already satisfied: tensorflow-estimator<2.6.0,>=2.5.0rc0 in /Users/lisajin/opt/anaconda3/lib/python3.8/site-packages (from tensorflow) (2.5.0)\n",
      "Requirement already satisfied: grpcio~=1.34.0 in /Users/lisajin/opt/anaconda3/lib/python3.8/site-packages (from tensorflow) (1.34.1)\n",
      "Requirement already satisfied: numpy~=1.19.2 in /Users/lisajin/opt/anaconda3/lib/python3.8/site-packages (from tensorflow) (1.19.2)\n",
      "Requirement already satisfied: keras-preprocessing~=1.1.2 in /Users/lisajin/opt/anaconda3/lib/python3.8/site-packages (from tensorflow) (1.1.2)\n",
      "Requirement already satisfied: flatbuffers~=1.12.0 in /Users/lisajin/opt/anaconda3/lib/python3.8/site-packages (from tensorflow) (1.12)\n",
      "Requirement already satisfied: absl-py~=0.10 in /Users/lisajin/opt/anaconda3/lib/python3.8/site-packages (from tensorflow) (0.12.0)\n",
      "Requirement already satisfied: tensorboard~=2.5 in /Users/lisajin/opt/anaconda3/lib/python3.8/site-packages (from tensorflow) (2.5.0)\n",
      "Requirement already satisfied: protobuf>=3.9.2 in /Users/lisajin/opt/anaconda3/lib/python3.8/site-packages (from tensorflow) (3.17.1)\n",
      "Requirement already satisfied: wheel~=0.35 in /Users/lisajin/opt/anaconda3/lib/python3.8/site-packages (from tensorflow) (0.35.1)\n",
      "Requirement already satisfied: astunparse~=1.6.3 in /Users/lisajin/opt/anaconda3/lib/python3.8/site-packages (from tensorflow) (1.6.3)\n",
      "Requirement already satisfied: google-pasta~=0.2 in /Users/lisajin/opt/anaconda3/lib/python3.8/site-packages (from tensorflow) (0.2.0)\n",
      "Requirement already satisfied: h5py~=3.1.0 in /Users/lisajin/opt/anaconda3/lib/python3.8/site-packages (from tensorflow) (3.1.0)\n",
      "Requirement already satisfied: gast==0.4.0 in /Users/lisajin/opt/anaconda3/lib/python3.8/site-packages (from tensorflow) (0.4.0)\n",
      "Requirement already satisfied: keras-nightly~=2.5.0.dev in /Users/lisajin/opt/anaconda3/lib/python3.8/site-packages (from tensorflow) (2.5.0.dev2021032900)\n",
      "Requirement already satisfied: werkzeug>=0.11.15 in /Users/lisajin/opt/anaconda3/lib/python3.8/site-packages (from tensorboard~=2.5->tensorflow) (1.0.1)\n",
      "Requirement already satisfied: google-auth<2,>=1.6.3 in /Users/lisajin/opt/anaconda3/lib/python3.8/site-packages (from tensorboard~=2.5->tensorflow) (1.30.1)\n",
      "Requirement already satisfied: tensorboard-data-server<0.7.0,>=0.6.0 in /Users/lisajin/opt/anaconda3/lib/python3.8/site-packages (from tensorboard~=2.5->tensorflow) (0.6.1)\n",
      "Requirement already satisfied: markdown>=2.6.8 in /Users/lisajin/opt/anaconda3/lib/python3.8/site-packages (from tensorboard~=2.5->tensorflow) (3.3.4)\n",
      "Requirement already satisfied: requests<3,>=2.21.0 in /Users/lisajin/opt/anaconda3/lib/python3.8/site-packages (from tensorboard~=2.5->tensorflow) (2.24.0)\n",
      "Requirement already satisfied: tensorboard-plugin-wit>=1.6.0 in /Users/lisajin/opt/anaconda3/lib/python3.8/site-packages (from tensorboard~=2.5->tensorflow) (1.8.0)\n",
      "Requirement already satisfied: setuptools>=41.0.0 in /Users/lisajin/opt/anaconda3/lib/python3.8/site-packages (from tensorboard~=2.5->tensorflow) (50.3.1.post20201107)\n",
      "Requirement already satisfied: google-auth-oauthlib<0.5,>=0.4.1 in /Users/lisajin/opt/anaconda3/lib/python3.8/site-packages (from tensorboard~=2.5->tensorflow) (0.4.4)\n",
      "Requirement already satisfied: pyasn1-modules>=0.2.1 in /Users/lisajin/opt/anaconda3/lib/python3.8/site-packages (from google-auth<2,>=1.6.3->tensorboard~=2.5->tensorflow) (0.2.8)\n",
      "Requirement already satisfied: rsa<5,>=3.1.4 in /Users/lisajin/opt/anaconda3/lib/python3.8/site-packages (from google-auth<2,>=1.6.3->tensorboard~=2.5->tensorflow) (4.7.2)\n",
      "Requirement already satisfied: cachetools<5.0,>=2.0.0 in /Users/lisajin/opt/anaconda3/lib/python3.8/site-packages (from google-auth<2,>=1.6.3->tensorboard~=2.5->tensorflow) (4.2.2)\n",
      "Requirement already satisfied: requests-oauthlib>=0.7.0 in /Users/lisajin/opt/anaconda3/lib/python3.8/site-packages (from google-auth-oauthlib<0.5,>=0.4.1->tensorboard~=2.5->tensorflow) (1.3.0)\n",
      "Requirement already satisfied: pyasn1<0.5.0,>=0.4.6 in /Users/lisajin/opt/anaconda3/lib/python3.8/site-packages (from pyasn1-modules>=0.2.1->google-auth<2,>=1.6.3->tensorboard~=2.5->tensorflow) (0.4.8)\n",
      "Requirement already satisfied: idna<3,>=2.5 in /Users/lisajin/opt/anaconda3/lib/python3.8/site-packages (from requests<3,>=2.21.0->tensorboard~=2.5->tensorflow) (2.10)\n",
      "Requirement already satisfied: certifi>=2017.4.17 in /Users/lisajin/opt/anaconda3/lib/python3.8/site-packages (from requests<3,>=2.21.0->tensorboard~=2.5->tensorflow) (2020.6.20)\n",
      "Requirement already satisfied: urllib3!=1.25.0,!=1.25.1,<1.26,>=1.21.1 in /Users/lisajin/opt/anaconda3/lib/python3.8/site-packages (from requests<3,>=2.21.0->tensorboard~=2.5->tensorflow) (1.25.11)\n",
      "Requirement already satisfied: chardet<4,>=3.0.2 in /Users/lisajin/opt/anaconda3/lib/python3.8/site-packages (from requests<3,>=2.21.0->tensorboard~=2.5->tensorflow) (3.0.4)\n",
      "Requirement already satisfied: oauthlib>=3.0.0 in /Users/lisajin/opt/anaconda3/lib/python3.8/site-packages (from requests-oauthlib>=0.7.0->google-auth-oauthlib<0.5,>=0.4.1->tensorboard~=2.5->tensorflow) (3.1.0)\n",
      "\u001b[33mWARNING: You are using pip version 21.2.1; however, version 21.2.4 is available.\n",
      "You should consider upgrading via the '/Users/lisajin/opt/anaconda3/bin/python -m pip install --upgrade pip' command.\u001b[0m\n",
      "Note: you may need to restart the kernel to use updated packages.\n"
     ]
    }
   ],
   "source": [
    "pip install tensorflow"
   ]
  },
  {
   "cell_type": "code",
   "execution_count": 4,
   "metadata": {},
   "outputs": [
    {
     "name": "stdout",
     "output_type": "stream",
     "text": [
      "Requirement already satisfied: tensorflow_datasets in /Users/lisajin/opt/anaconda3/lib/python3.8/site-packages (4.3.0)\n",
      "Requirement already satisfied: six in /Users/lisajin/opt/anaconda3/lib/python3.8/site-packages (from tensorflow_datasets) (1.15.0)\n",
      "Requirement already satisfied: promise in /Users/lisajin/opt/anaconda3/lib/python3.8/site-packages (from tensorflow_datasets) (2.3)\n",
      "Requirement already satisfied: termcolor in /Users/lisajin/opt/anaconda3/lib/python3.8/site-packages (from tensorflow_datasets) (1.1.0)\n",
      "Requirement already satisfied: tensorflow-metadata in /Users/lisajin/opt/anaconda3/lib/python3.8/site-packages (from tensorflow_datasets) (1.0.0)\n",
      "Requirement already satisfied: future in /Users/lisajin/opt/anaconda3/lib/python3.8/site-packages (from tensorflow_datasets) (0.18.2)\n",
      "Requirement already satisfied: absl-py in /Users/lisajin/opt/anaconda3/lib/python3.8/site-packages (from tensorflow_datasets) (0.12.0)\n",
      "Requirement already satisfied: dill in /Users/lisajin/opt/anaconda3/lib/python3.8/site-packages (from tensorflow_datasets) (0.3.3)\n",
      "Requirement already satisfied: requests>=2.19.0 in /Users/lisajin/opt/anaconda3/lib/python3.8/site-packages (from tensorflow_datasets) (2.24.0)\n",
      "Requirement already satisfied: tqdm in /Users/lisajin/opt/anaconda3/lib/python3.8/site-packages (from tensorflow_datasets) (4.50.2)\n",
      "Requirement already satisfied: numpy in /Users/lisajin/opt/anaconda3/lib/python3.8/site-packages (from tensorflow_datasets) (1.19.2)\n",
      "Requirement already satisfied: attrs>=18.1.0 in /Users/lisajin/opt/anaconda3/lib/python3.8/site-packages (from tensorflow_datasets) (20.3.0)\n",
      "Requirement already satisfied: importlib-resources in /Users/lisajin/opt/anaconda3/lib/python3.8/site-packages (from tensorflow_datasets) (5.1.4)\n",
      "Requirement already satisfied: protobuf>=3.12.2 in /Users/lisajin/opt/anaconda3/lib/python3.8/site-packages (from tensorflow_datasets) (3.17.1)\n",
      "Requirement already satisfied: chardet<4,>=3.0.2 in /Users/lisajin/opt/anaconda3/lib/python3.8/site-packages (from requests>=2.19.0->tensorflow_datasets) (3.0.4)\n",
      "Requirement already satisfied: idna<3,>=2.5 in /Users/lisajin/opt/anaconda3/lib/python3.8/site-packages (from requests>=2.19.0->tensorflow_datasets) (2.10)\n",
      "Requirement already satisfied: urllib3!=1.25.0,!=1.25.1,<1.26,>=1.21.1 in /Users/lisajin/opt/anaconda3/lib/python3.8/site-packages (from requests>=2.19.0->tensorflow_datasets) (1.25.11)\n",
      "Requirement already satisfied: certifi>=2017.4.17 in /Users/lisajin/opt/anaconda3/lib/python3.8/site-packages (from requests>=2.19.0->tensorflow_datasets) (2020.6.20)\n",
      "Requirement already satisfied: zipp>=3.1.0 in /Users/lisajin/opt/anaconda3/lib/python3.8/site-packages (from importlib-resources->tensorflow_datasets) (3.4.0)\n",
      "Requirement already satisfied: googleapis-common-protos<2,>=1.52.0 in /Users/lisajin/opt/anaconda3/lib/python3.8/site-packages (from tensorflow-metadata->tensorflow_datasets) (1.53.0)\n",
      "\u001b[33mWARNING: You are using pip version 21.2.1; however, version 21.2.4 is available.\n",
      "You should consider upgrading via the '/Users/lisajin/opt/anaconda3/bin/python -m pip install --upgrade pip' command.\u001b[0m\n",
      "Note: you may need to restart the kernel to use updated packages.\n"
     ]
    }
   ],
   "source": [
    "pip install tensorflow_datasets"
   ]
  },
  {
   "cell_type": "code",
   "execution_count": 5,
   "metadata": {},
   "outputs": [],
   "source": [
    "import tensorflow_datasets as tfds"
   ]
  },
  {
   "cell_type": "code",
   "execution_count": 6,
   "metadata": {},
   "outputs": [
    {
     "name": "stdout",
     "output_type": "stream",
     "text": [
      "Requirement already satisfied: tensorflow-cpu in /Users/lisajin/opt/anaconda3/lib/python3.8/site-packages (2.5.0)\n",
      "Requirement already satisfied: opt-einsum~=3.3.0 in /Users/lisajin/opt/anaconda3/lib/python3.8/site-packages (from tensorflow-cpu) (3.3.0)\n",
      "Requirement already satisfied: flatbuffers~=1.12.0 in /Users/lisajin/opt/anaconda3/lib/python3.8/site-packages (from tensorflow-cpu) (1.12)\n",
      "Requirement already satisfied: tensorflow-estimator<2.6.0,>=2.5.0rc0 in /Users/lisajin/opt/anaconda3/lib/python3.8/site-packages (from tensorflow-cpu) (2.5.0)\n",
      "Requirement already satisfied: six~=1.15.0 in /Users/lisajin/opt/anaconda3/lib/python3.8/site-packages (from tensorflow-cpu) (1.15.0)\n",
      "Requirement already satisfied: keras-preprocessing~=1.1.2 in /Users/lisajin/opt/anaconda3/lib/python3.8/site-packages (from tensorflow-cpu) (1.1.2)\n",
      "Requirement already satisfied: protobuf>=3.9.2 in /Users/lisajin/opt/anaconda3/lib/python3.8/site-packages (from tensorflow-cpu) (3.17.1)\n",
      "Requirement already satisfied: gast==0.4.0 in /Users/lisajin/opt/anaconda3/lib/python3.8/site-packages (from tensorflow-cpu) (0.4.0)\n",
      "Requirement already satisfied: google-pasta~=0.2 in /Users/lisajin/opt/anaconda3/lib/python3.8/site-packages (from tensorflow-cpu) (0.2.0)\n",
      "Requirement already satisfied: h5py~=3.1.0 in /Users/lisajin/opt/anaconda3/lib/python3.8/site-packages (from tensorflow-cpu) (3.1.0)\n",
      "Requirement already satisfied: numpy~=1.19.2 in /Users/lisajin/opt/anaconda3/lib/python3.8/site-packages (from tensorflow-cpu) (1.19.2)\n",
      "Requirement already satisfied: tensorboard~=2.5 in /Users/lisajin/opt/anaconda3/lib/python3.8/site-packages (from tensorflow-cpu) (2.5.0)\n",
      "Requirement already satisfied: termcolor~=1.1.0 in /Users/lisajin/opt/anaconda3/lib/python3.8/site-packages (from tensorflow-cpu) (1.1.0)\n",
      "Requirement already satisfied: typing-extensions~=3.7.4 in /Users/lisajin/opt/anaconda3/lib/python3.8/site-packages (from tensorflow-cpu) (3.7.4.3)\n",
      "Requirement already satisfied: wheel~=0.35 in /Users/lisajin/opt/anaconda3/lib/python3.8/site-packages (from tensorflow-cpu) (0.35.1)\n",
      "Requirement already satisfied: absl-py~=0.10 in /Users/lisajin/opt/anaconda3/lib/python3.8/site-packages (from tensorflow-cpu) (0.12.0)\n",
      "Requirement already satisfied: keras-nightly~=2.5.0.dev in /Users/lisajin/opt/anaconda3/lib/python3.8/site-packages (from tensorflow-cpu) (2.5.0.dev2021032900)\n",
      "Requirement already satisfied: astunparse~=1.6.3 in /Users/lisajin/opt/anaconda3/lib/python3.8/site-packages (from tensorflow-cpu) (1.6.3)\n",
      "Requirement already satisfied: grpcio~=1.34.0 in /Users/lisajin/opt/anaconda3/lib/python3.8/site-packages (from tensorflow-cpu) (1.34.1)\n",
      "Requirement already satisfied: wrapt~=1.12.1 in /Users/lisajin/opt/anaconda3/lib/python3.8/site-packages (from tensorflow-cpu) (1.12.1)\n",
      "Requirement already satisfied: google-auth-oauthlib<0.5,>=0.4.1 in /Users/lisajin/opt/anaconda3/lib/python3.8/site-packages (from tensorboard~=2.5->tensorflow-cpu) (0.4.4)\n",
      "Requirement already satisfied: tensorboard-plugin-wit>=1.6.0 in /Users/lisajin/opt/anaconda3/lib/python3.8/site-packages (from tensorboard~=2.5->tensorflow-cpu) (1.8.0)\n",
      "Requirement already satisfied: werkzeug>=0.11.15 in /Users/lisajin/opt/anaconda3/lib/python3.8/site-packages (from tensorboard~=2.5->tensorflow-cpu) (1.0.1)\n",
      "Requirement already satisfied: setuptools>=41.0.0 in /Users/lisajin/opt/anaconda3/lib/python3.8/site-packages (from tensorboard~=2.5->tensorflow-cpu) (50.3.1.post20201107)\n",
      "Requirement already satisfied: google-auth<2,>=1.6.3 in /Users/lisajin/opt/anaconda3/lib/python3.8/site-packages (from tensorboard~=2.5->tensorflow-cpu) (1.30.1)\n",
      "Requirement already satisfied: requests<3,>=2.21.0 in /Users/lisajin/opt/anaconda3/lib/python3.8/site-packages (from tensorboard~=2.5->tensorflow-cpu) (2.24.0)\n",
      "Requirement already satisfied: markdown>=2.6.8 in /Users/lisajin/opt/anaconda3/lib/python3.8/site-packages (from tensorboard~=2.5->tensorflow-cpu) (3.3.4)\n",
      "Requirement already satisfied: tensorboard-data-server<0.7.0,>=0.6.0 in /Users/lisajin/opt/anaconda3/lib/python3.8/site-packages (from tensorboard~=2.5->tensorflow-cpu) (0.6.1)\n",
      "Requirement already satisfied: rsa<5,>=3.1.4 in /Users/lisajin/opt/anaconda3/lib/python3.8/site-packages (from google-auth<2,>=1.6.3->tensorboard~=2.5->tensorflow-cpu) (4.7.2)\n",
      "Requirement already satisfied: pyasn1-modules>=0.2.1 in /Users/lisajin/opt/anaconda3/lib/python3.8/site-packages (from google-auth<2,>=1.6.3->tensorboard~=2.5->tensorflow-cpu) (0.2.8)\n",
      "Requirement already satisfied: cachetools<5.0,>=2.0.0 in /Users/lisajin/opt/anaconda3/lib/python3.8/site-packages (from google-auth<2,>=1.6.3->tensorboard~=2.5->tensorflow-cpu) (4.2.2)\n",
      "Requirement already satisfied: requests-oauthlib>=0.7.0 in /Users/lisajin/opt/anaconda3/lib/python3.8/site-packages (from google-auth-oauthlib<0.5,>=0.4.1->tensorboard~=2.5->tensorflow-cpu) (1.3.0)\n",
      "Requirement already satisfied: pyasn1<0.5.0,>=0.4.6 in /Users/lisajin/opt/anaconda3/lib/python3.8/site-packages (from pyasn1-modules>=0.2.1->google-auth<2,>=1.6.3->tensorboard~=2.5->tensorflow-cpu) (0.4.8)\n",
      "Requirement already satisfied: chardet<4,>=3.0.2 in /Users/lisajin/opt/anaconda3/lib/python3.8/site-packages (from requests<3,>=2.21.0->tensorboard~=2.5->tensorflow-cpu) (3.0.4)\n",
      "Requirement already satisfied: urllib3!=1.25.0,!=1.25.1,<1.26,>=1.21.1 in /Users/lisajin/opt/anaconda3/lib/python3.8/site-packages (from requests<3,>=2.21.0->tensorboard~=2.5->tensorflow-cpu) (1.25.11)\n",
      "Requirement already satisfied: certifi>=2017.4.17 in /Users/lisajin/opt/anaconda3/lib/python3.8/site-packages (from requests<3,>=2.21.0->tensorboard~=2.5->tensorflow-cpu) (2020.6.20)\n",
      "Requirement already satisfied: idna<3,>=2.5 in /Users/lisajin/opt/anaconda3/lib/python3.8/site-packages (from requests<3,>=2.21.0->tensorboard~=2.5->tensorflow-cpu) (2.10)\n",
      "Requirement already satisfied: oauthlib>=3.0.0 in /Users/lisajin/opt/anaconda3/lib/python3.8/site-packages (from requests-oauthlib>=0.7.0->google-auth-oauthlib<0.5,>=0.4.1->tensorboard~=2.5->tensorflow-cpu) (3.1.0)\n",
      "\u001b[33mWARNING: You are using pip version 21.2.1; however, version 21.2.4 is available.\n",
      "You should consider upgrading via the '/Users/lisajin/opt/anaconda3/bin/python -m pip install --upgrade pip' command.\u001b[0m\n",
      "Note: you may need to restart the kernel to use updated packages.\n"
     ]
    }
   ],
   "source": [
    "pip install tensorflow-cpu"
   ]
  },
  {
   "cell_type": "code",
   "execution_count": 7,
   "metadata": {},
   "outputs": [
    {
     "data": {
      "text/plain": [
       "b'Hello, TensorFlow!'"
      ]
     },
     "execution_count": 7,
     "metadata": {},
     "output_type": "execute_result"
    }
   ],
   "source": [
    "import tensorflow as tf\n",
    ">>> tf.add(1, 2).numpy()\n",
    "\n",
    ">>> hello = tf.constant('Hello, TensorFlow!')\n",
    ">>> hello.numpy()\n"
   ]
  },
  {
   "cell_type": "code",
   "execution_count": 83,
   "metadata": {
    "scrolled": true
   },
   "outputs": [],
   "source": [
    "df = pd.read_csv(\"/Users/lisajin/Documents/scu/research material/X molecule/Bio-AI stuff/consolidated2.csv\")\n",
    "headers = np.array(df.columns)  # get headers\n",
    "values = df.values  # numpy array of values\n",
    "matrix = np.concatenate([[headers], values])  # append to the final matrix\n",
    "\n",
    "\n",
    "data=pd.DataFrame(df).to_numpy()"
   ]
  },
  {
   "cell_type": "code",
   "execution_count": 84,
   "metadata": {
    "scrolled": false
   },
   "outputs": [
    {
     "name": "stdout",
     "output_type": "stream",
     "text": [
      "[[1.0000e+00 2.0000e+00 2.0000e+00 ... 4.3278e+10 2.0000e-01 1.0000e+00]\n",
      " [2.0000e+00 2.0000e+00 2.0000e+00 ... 4.3278e+10 2.0000e-01 2.0000e+00]\n",
      " [1.0000e+00 1.0000e+00 1.0000e+00 ... 2.7118e+10 2.0000e-01 3.0000e+00]\n",
      " ...\n",
      " [1.0000e+00 1.0000e+00 1.0000e+00 ... 0.0000e+00 2.0000e-01 1.8300e+02]\n",
      " [1.0000e+00 1.0000e+00 1.0000e+00 ... 0.0000e+00 2.0000e-01 1.8400e+02]\n",
      " [1.0000e+00 1.0000e+00 1.0000e+00 ... 0.0000e+00 2.0000e-01 1.8500e+02]]\n"
     ]
    }
   ],
   "source": [
    "print(data)"
   ]
  },
  {
   "cell_type": "code",
   "execution_count": 85,
   "metadata": {},
   "outputs": [
    {
     "name": "stdout",
     "output_type": "stream",
     "text": [
      "     Number of proteins  Peptides  Unique peptides  Sequence coverage [%]  \\\n",
      "0                     1         2                2                   11.8   \n",
      "1                     2         2                2                   11.8   \n",
      "2                     1         1                1                    0.1   \n",
      "3                     1         1                1                    1.9   \n",
      "4                     1         1                1                    4.8   \n",
      "..                  ...       ...              ...                    ...   \n",
      "180                   1         1                1                    1.0   \n",
      "181                   1         1                1                    3.0   \n",
      "182                   1         1                1                    3.4   \n",
      "183                   1         1                1                    1.7   \n",
      "184                   1         1                1                    0.4   \n",
      "\n",
      "     Unique sequence coverage [%]  Mol. weight [kDa]  Sequence length  \\\n",
      "0                            11.8          4007.0000               68   \n",
      "1                            11.8          4007.0000             1195   \n",
      "2                             0.1           760.2800             6993   \n",
      "3                             1.9           760.2800              421   \n",
      "4                             4.8           559.4300              146   \n",
      "..                            ...                ...              ...   \n",
      "180                           1.0            13.5750             1536   \n",
      "181                           3.0            11.4460              201   \n",
      "182                           3.4            10.8300              207   \n",
      "183                           1.7             8.1435              803   \n",
      "184                           0.4             8.0458             5152   \n",
      "\n",
      "     Sequence lengths  Q-value    Score    Intensity  locationweight  \n",
      "0                  68        0  26.8050  43278000000             0.2  \n",
      "1                1195        0  26.8050  43278000000             0.2  \n",
      "2                6993        0  13.5360  27118000000             0.2  \n",
      "3                 421        0   9.2509  10040000000             0.2  \n",
      "4                 146        0   6.1686   9356900000             0.2  \n",
      "..                ...      ...      ...          ...             ...  \n",
      "180              1536        0   6.5413            0             0.5  \n",
      "181               201        0   6.3478            0             0.2  \n",
      "182               207        0   6.2729            0             0.2  \n",
      "183               803        0   5.9787            0             0.2  \n",
      "184              5152        0   5.9564            0             0.2  \n",
      "\n",
      "[185 rows x 12 columns]\n",
      "     Number of proteins  Peptides  Unique peptides  Sequence coverage [%]  \\\n",
      "0                     1         2                2                   11.8   \n",
      "1                     2         2                2                   11.8   \n",
      "2                     1         1                1                    0.1   \n",
      "3                     1         1                1                    1.9   \n",
      "4                     1         1                1                    4.8   \n",
      "..                  ...       ...              ...                    ...   \n",
      "180                   1         1                1                    1.0   \n",
      "181                   1         1                1                    3.0   \n",
      "182                   1         1                1                    3.4   \n",
      "183                   1         1                1                    1.7   \n",
      "184                   1         1                1                    0.4   \n",
      "\n",
      "     Unique sequence coverage [%]  Mol. weight [kDa]  Sequence length  \\\n",
      "0                            11.8          4007.0000               68   \n",
      "1                            11.8          4007.0000             1195   \n",
      "2                             0.1           760.2800             6993   \n",
      "3                             1.9           760.2800              421   \n",
      "4                             4.8           559.4300              146   \n",
      "..                            ...                ...              ...   \n",
      "180                           1.0            13.5750             1536   \n",
      "181                           3.0            11.4460              201   \n",
      "182                           3.4            10.8300              207   \n",
      "183                           1.7             8.1435              803   \n",
      "184                           0.4             8.0458             5152   \n",
      "\n",
      "     Sequence lengths  Q-value    Score    Intensity  locationweight   ID  \n",
      "0                  68        0  26.8050  43278000000             0.2    1  \n",
      "1                1195        0  26.8050  43278000000             0.2    2  \n",
      "2                6993        0  13.5360  27118000000             0.2    3  \n",
      "3                 421        0   9.2509  10040000000             0.2    4  \n",
      "4                 146        0   6.1686   9356900000             0.2    5  \n",
      "..                ...      ...      ...          ...             ...  ...  \n",
      "180              1536        0   6.5413            0             0.5  181  \n",
      "181               201        0   6.3478            0             0.2  182  \n",
      "182               207        0   6.2729            0             0.2  183  \n",
      "183               803        0   5.9787            0             0.2  184  \n",
      "184              5152        0   5.9564            0             0.2  185  \n",
      "\n",
      "[185 rows x 13 columns]\n"
     ]
    }
   ],
   "source": [
    "df1=df\n",
    "df=df.drop('ID',axis=1)\n",
    "vector=np.vectorize(np.float)\n",
    "data=vector(df)\n",
    "print(df)\n",
    "print(df1)"
   ]
  },
  {
   "cell_type": "code",
   "execution_count": 86,
   "metadata": {},
   "outputs": [
    {
     "data": {
      "text/html": [
       "<div>\n",
       "<style scoped>\n",
       "    .dataframe tbody tr th:only-of-type {\n",
       "        vertical-align: middle;\n",
       "    }\n",
       "\n",
       "    .dataframe tbody tr th {\n",
       "        vertical-align: top;\n",
       "    }\n",
       "\n",
       "    .dataframe thead th {\n",
       "        text-align: right;\n",
       "    }\n",
       "</style>\n",
       "<table border=\"1\" class=\"dataframe\">\n",
       "  <thead>\n",
       "    <tr style=\"text-align: right;\">\n",
       "      <th></th>\n",
       "      <th>Number of proteins</th>\n",
       "      <th>Peptides</th>\n",
       "      <th>Unique peptides</th>\n",
       "      <th>Sequence coverage [%]</th>\n",
       "      <th>Unique sequence coverage [%]</th>\n",
       "      <th>Mol. weight [kDa]</th>\n",
       "      <th>Sequence length</th>\n",
       "      <th>Sequence lengths</th>\n",
       "      <th>Q-value</th>\n",
       "      <th>Score</th>\n",
       "      <th>Intensity</th>\n",
       "      <th>locationweight</th>\n",
       "    </tr>\n",
       "  </thead>\n",
       "  <tbody>\n",
       "    <tr>\n",
       "      <th>0</th>\n",
       "      <td>1</td>\n",
       "      <td>2</td>\n",
       "      <td>2</td>\n",
       "      <td>11.8</td>\n",
       "      <td>11.8</td>\n",
       "      <td>4007.00</td>\n",
       "      <td>68</td>\n",
       "      <td>68</td>\n",
       "      <td>0</td>\n",
       "      <td>26.8050</td>\n",
       "      <td>43278000000</td>\n",
       "      <td>0.2</td>\n",
       "    </tr>\n",
       "    <tr>\n",
       "      <th>1</th>\n",
       "      <td>2</td>\n",
       "      <td>2</td>\n",
       "      <td>2</td>\n",
       "      <td>11.8</td>\n",
       "      <td>11.8</td>\n",
       "      <td>4007.00</td>\n",
       "      <td>1195</td>\n",
       "      <td>1195</td>\n",
       "      <td>0</td>\n",
       "      <td>26.8050</td>\n",
       "      <td>43278000000</td>\n",
       "      <td>0.2</td>\n",
       "    </tr>\n",
       "    <tr>\n",
       "      <th>2</th>\n",
       "      <td>1</td>\n",
       "      <td>1</td>\n",
       "      <td>1</td>\n",
       "      <td>0.1</td>\n",
       "      <td>0.1</td>\n",
       "      <td>760.28</td>\n",
       "      <td>6993</td>\n",
       "      <td>6993</td>\n",
       "      <td>0</td>\n",
       "      <td>13.5360</td>\n",
       "      <td>27118000000</td>\n",
       "      <td>0.2</td>\n",
       "    </tr>\n",
       "    <tr>\n",
       "      <th>3</th>\n",
       "      <td>1</td>\n",
       "      <td>1</td>\n",
       "      <td>1</td>\n",
       "      <td>1.9</td>\n",
       "      <td>1.9</td>\n",
       "      <td>760.28</td>\n",
       "      <td>421</td>\n",
       "      <td>421</td>\n",
       "      <td>0</td>\n",
       "      <td>9.2509</td>\n",
       "      <td>10040000000</td>\n",
       "      <td>0.2</td>\n",
       "    </tr>\n",
       "    <tr>\n",
       "      <th>4</th>\n",
       "      <td>1</td>\n",
       "      <td>1</td>\n",
       "      <td>1</td>\n",
       "      <td>4.8</td>\n",
       "      <td>4.8</td>\n",
       "      <td>559.43</td>\n",
       "      <td>146</td>\n",
       "      <td>146</td>\n",
       "      <td>0</td>\n",
       "      <td>6.1686</td>\n",
       "      <td>9356900000</td>\n",
       "      <td>0.2</td>\n",
       "    </tr>\n",
       "  </tbody>\n",
       "</table>\n",
       "</div>"
      ],
      "text/plain": [
       "   Number of proteins  Peptides  Unique peptides  Sequence coverage [%]  \\\n",
       "0                   1         2                2                   11.8   \n",
       "1                   2         2                2                   11.8   \n",
       "2                   1         1                1                    0.1   \n",
       "3                   1         1                1                    1.9   \n",
       "4                   1         1                1                    4.8   \n",
       "\n",
       "   Unique sequence coverage [%]  Mol. weight [kDa]  Sequence length  \\\n",
       "0                          11.8            4007.00               68   \n",
       "1                          11.8            4007.00             1195   \n",
       "2                           0.1             760.28             6993   \n",
       "3                           1.9             760.28              421   \n",
       "4                           4.8             559.43              146   \n",
       "\n",
       "   Sequence lengths  Q-value    Score    Intensity  locationweight  \n",
       "0                68        0  26.8050  43278000000             0.2  \n",
       "1              1195        0  26.8050  43278000000             0.2  \n",
       "2              6993        0  13.5360  27118000000             0.2  \n",
       "3               421        0   9.2509  10040000000             0.2  \n",
       "4               146        0   6.1686   9356900000             0.2  "
      ]
     },
     "execution_count": 86,
     "metadata": {},
     "output_type": "execute_result"
    }
   ],
   "source": [
    "df.head()"
   ]
  },
  {
   "cell_type": "code",
   "execution_count": 87,
   "metadata": {},
   "outputs": [
    {
     "name": "stdout",
     "output_type": "stream",
     "text": [
      "Features: ['Number of proteins', 'Peptides', 'Unique peptides', 'Sequence coverage [%]', 'Mol. weight [kDa]', 'Sequence length', 'Sequence lengths', 'Q-value', 'Score', 'Intensity', 'locationweight']\n",
      "Label: predictions\n"
     ]
    }
   ],
   "source": [
    "# column order in CSV file\n",
    "column_names = ['Number of proteins', 'Peptides','Unique peptides', 'Sequence coverage [%]', 'Mol. weight [kDa]', 'Sequence length','Sequence lengths','Q-value','Score','Intensity','locationweight','predictions']\n",
    "\n",
    "feature_names = column_names[:-1]\n",
    "label_name = column_names[-1]\n",
    "\n",
    "print(\"Features: {}\".format(feature_names))\n",
    "print(\"Label: {}\".format(label_name))"
   ]
  },
  {
   "cell_type": "code",
   "execution_count": 88,
   "metadata": {},
   "outputs": [
    {
     "data": {
      "text/html": [
       "<div>\n",
       "<style scoped>\n",
       "    .dataframe tbody tr th:only-of-type {\n",
       "        vertical-align: middle;\n",
       "    }\n",
       "\n",
       "    .dataframe tbody tr th {\n",
       "        vertical-align: top;\n",
       "    }\n",
       "\n",
       "    .dataframe thead th {\n",
       "        text-align: right;\n",
       "    }\n",
       "</style>\n",
       "<table border=\"1\" class=\"dataframe\">\n",
       "  <thead>\n",
       "    <tr style=\"text-align: right;\">\n",
       "      <th></th>\n",
       "      <th>Number of proteins</th>\n",
       "      <th>Peptides</th>\n",
       "      <th>Unique peptides</th>\n",
       "      <th>Sequence coverage [%]</th>\n",
       "      <th>Mol. weight [kDa]</th>\n",
       "      <th>Sequence length</th>\n",
       "      <th>Sequence lengths</th>\n",
       "      <th>Q-value</th>\n",
       "      <th>Score</th>\n",
       "      <th>Intensity</th>\n",
       "    </tr>\n",
       "  </thead>\n",
       "  <tbody>\n",
       "    <tr>\n",
       "      <th>count</th>\n",
       "      <td>185.000000</td>\n",
       "      <td>185.000000</td>\n",
       "      <td>185.000000</td>\n",
       "      <td>185.000000</td>\n",
       "      <td>185.000000</td>\n",
       "      <td>185.000000</td>\n",
       "      <td>185.000000</td>\n",
       "      <td>185.000000</td>\n",
       "      <td>185.000000</td>\n",
       "      <td>1.850000e+02</td>\n",
       "    </tr>\n",
       "    <tr>\n",
       "      <th>mean</th>\n",
       "      <td>1.005405</td>\n",
       "      <td>2.540541</td>\n",
       "      <td>2.486486</td>\n",
       "      <td>9.048108</td>\n",
       "      <td>111.450256</td>\n",
       "      <td>781.416216</td>\n",
       "      <td>781.416216</td>\n",
       "      <td>0.037838</td>\n",
       "      <td>42.089331</td>\n",
       "      <td>9.024703e+08</td>\n",
       "    </tr>\n",
       "    <tr>\n",
       "      <th>std</th>\n",
       "      <td>0.073521</td>\n",
       "      <td>2.684442</td>\n",
       "      <td>2.577301</td>\n",
       "      <td>9.144154</td>\n",
       "      <td>418.408632</td>\n",
       "      <td>2737.008361</td>\n",
       "      <td>2737.008361</td>\n",
       "      <td>0.191322</td>\n",
       "      <td>86.570472</td>\n",
       "      <td>4.997411e+09</td>\n",
       "    </tr>\n",
       "    <tr>\n",
       "      <th>min</th>\n",
       "      <td>1.000000</td>\n",
       "      <td>1.000000</td>\n",
       "      <td>1.000000</td>\n",
       "      <td>0.000000</td>\n",
       "      <td>8.045800</td>\n",
       "      <td>68.000000</td>\n",
       "      <td>68.000000</td>\n",
       "      <td>0.000000</td>\n",
       "      <td>-2.000000</td>\n",
       "      <td>0.000000e+00</td>\n",
       "    </tr>\n",
       "    <tr>\n",
       "      <th>25%</th>\n",
       "      <td>1.000000</td>\n",
       "      <td>1.000000</td>\n",
       "      <td>1.000000</td>\n",
       "      <td>2.400000</td>\n",
       "      <td>33.738000</td>\n",
       "      <td>258.000000</td>\n",
       "      <td>258.000000</td>\n",
       "      <td>0.000000</td>\n",
       "      <td>6.542500</td>\n",
       "      <td>6.544800e+06</td>\n",
       "    </tr>\n",
       "    <tr>\n",
       "      <th>50%</th>\n",
       "      <td>1.000000</td>\n",
       "      <td>1.000000</td>\n",
       "      <td>1.000000</td>\n",
       "      <td>6.700000</td>\n",
       "      <td>47.094000</td>\n",
       "      <td>431.000000</td>\n",
       "      <td>431.000000</td>\n",
       "      <td>0.000000</td>\n",
       "      <td>12.638000</td>\n",
       "      <td>1.633000e+07</td>\n",
       "    </tr>\n",
       "    <tr>\n",
       "      <th>75%</th>\n",
       "      <td>1.000000</td>\n",
       "      <td>3.000000</td>\n",
       "      <td>3.000000</td>\n",
       "      <td>13.100000</td>\n",
       "      <td>69.883000</td>\n",
       "      <td>641.000000</td>\n",
       "      <td>641.000000</td>\n",
       "      <td>0.000000</td>\n",
       "      <td>26.236000</td>\n",
       "      <td>6.261300e+07</td>\n",
       "    </tr>\n",
       "    <tr>\n",
       "      <th>max</th>\n",
       "      <td>2.000000</td>\n",
       "      <td>16.000000</td>\n",
       "      <td>15.000000</td>\n",
       "      <td>54.900000</td>\n",
       "      <td>4007.000000</td>\n",
       "      <td>36026.000000</td>\n",
       "      <td>36026.000000</td>\n",
       "      <td>1.000000</td>\n",
       "      <td>323.310000</td>\n",
       "      <td>4.327800e+10</td>\n",
       "    </tr>\n",
       "  </tbody>\n",
       "</table>\n",
       "</div>"
      ],
      "text/plain": [
       "       Number of proteins    Peptides  Unique peptides  Sequence coverage [%]  \\\n",
       "count          185.000000  185.000000       185.000000             185.000000   \n",
       "mean             1.005405    2.540541         2.486486               9.048108   \n",
       "std              0.073521    2.684442         2.577301               9.144154   \n",
       "min              1.000000    1.000000         1.000000               0.000000   \n",
       "25%              1.000000    1.000000         1.000000               2.400000   \n",
       "50%              1.000000    1.000000         1.000000               6.700000   \n",
       "75%              1.000000    3.000000         3.000000              13.100000   \n",
       "max              2.000000   16.000000        15.000000              54.900000   \n",
       "\n",
       "       Mol. weight [kDa]  Sequence length  Sequence lengths     Q-value  \\\n",
       "count         185.000000       185.000000        185.000000  185.000000   \n",
       "mean          111.450256       781.416216        781.416216    0.037838   \n",
       "std           418.408632      2737.008361       2737.008361    0.191322   \n",
       "min             8.045800        68.000000         68.000000    0.000000   \n",
       "25%            33.738000       258.000000        258.000000    0.000000   \n",
       "50%            47.094000       431.000000        431.000000    0.000000   \n",
       "75%            69.883000       641.000000        641.000000    0.000000   \n",
       "max          4007.000000     36026.000000      36026.000000    1.000000   \n",
       "\n",
       "            Score     Intensity  \n",
       "count  185.000000  1.850000e+02  \n",
       "mean    42.089331  9.024703e+08  \n",
       "std     86.570472  4.997411e+09  \n",
       "min     -2.000000  0.000000e+00  \n",
       "25%      6.542500  6.544800e+06  \n",
       "50%     12.638000  1.633000e+07  \n",
       "75%     26.236000  6.261300e+07  \n",
       "max    323.310000  4.327800e+10  "
      ]
     },
     "execution_count": 88,
     "metadata": {},
     "output_type": "execute_result"
    }
   ],
   "source": [
    "df[['Number of proteins', 'Peptides','Unique peptides', 'Sequence coverage [%]', 'Mol. weight [kDa]', 'Sequence length','Sequence lengths','Q-value','Score','Intensity']\n",
    "\n",
    "].describe()"
   ]
  },
  {
   "cell_type": "code",
   "execution_count": 89,
   "metadata": {},
   "outputs": [],
   "source": [
    "class_names = ['predictionYES', 'predictionNO']"
   ]
  },
  {
   "cell_type": "code",
   "execution_count": 90,
   "metadata": {
    "scrolled": false
   },
   "outputs": [],
   "source": [
    "dt=stats.zscore(df, axis=1)\n",
    "#without locationweight and ID, THAT CAN BE FOUND IN dt1"
   ]
  },
  {
   "cell_type": "code",
   "execution_count": 91,
   "metadata": {
    "scrolled": false
   },
   "outputs": [
    {
     "name": "stdout",
     "output_type": "stream",
     "text": [
      "[[-0.30151138 -0.30151138 -0.30151138 ... -0.30151137  3.31662479\n",
      "  -0.30151138]\n",
      " [-0.30151139 -0.30151139 -0.30151139 ... -0.30151139  3.31662479\n",
      "  -0.30151139]\n",
      " [-0.30151152 -0.30151152 -0.30151152 ... -0.30151152  3.31662479\n",
      "  -0.30151152]\n",
      " ...\n",
      " [-0.469309   -0.469309   -0.469309   ... -0.40010547 -0.48243337\n",
      "  -0.4798085 ]\n",
      " [-0.45079144 -0.45079144 -0.45079144 ... -0.43411225 -0.45414155\n",
      "  -0.45347153]\n",
      " [-0.44763015 -0.44763015 -0.44763015 ... -0.44504785 -0.44815116\n",
      "  -0.44804696]]\n"
     ]
    }
   ],
   "source": [
    "print(dt)"
   ]
  },
  {
   "cell_type": "code",
   "execution_count": 92,
   "metadata": {},
   "outputs": [
    {
     "data": {
      "text/html": [
       "<div>\n",
       "<style scoped>\n",
       "    .dataframe tbody tr th:only-of-type {\n",
       "        vertical-align: middle;\n",
       "    }\n",
       "\n",
       "    .dataframe tbody tr th {\n",
       "        vertical-align: top;\n",
       "    }\n",
       "\n",
       "    .dataframe thead th {\n",
       "        text-align: right;\n",
       "    }\n",
       "</style>\n",
       "<table border=\"1\" class=\"dataframe\">\n",
       "  <thead>\n",
       "    <tr style=\"text-align: right;\">\n",
       "      <th></th>\n",
       "      <th>Number of proteins</th>\n",
       "      <th>Peptides</th>\n",
       "      <th>Unique peptides</th>\n",
       "      <th>Sequence coverage [%]</th>\n",
       "      <th>Unique sequence coverage [%]</th>\n",
       "      <th>Mol. weight [kDa]</th>\n",
       "      <th>Sequence length</th>\n",
       "      <th>Sequence lengths</th>\n",
       "      <th>Q-value</th>\n",
       "      <th>Score</th>\n",
       "      <th>Intensity</th>\n",
       "      <th>locationweight</th>\n",
       "    </tr>\n",
       "  </thead>\n",
       "  <tbody>\n",
       "    <tr>\n",
       "      <th>0</th>\n",
       "      <td>1</td>\n",
       "      <td>2</td>\n",
       "      <td>2</td>\n",
       "      <td>11.8</td>\n",
       "      <td>11.8</td>\n",
       "      <td>4007.0000</td>\n",
       "      <td>68</td>\n",
       "      <td>68</td>\n",
       "      <td>0</td>\n",
       "      <td>26.8050</td>\n",
       "      <td>43278000000</td>\n",
       "      <td>0.2</td>\n",
       "    </tr>\n",
       "    <tr>\n",
       "      <th>1</th>\n",
       "      <td>2</td>\n",
       "      <td>2</td>\n",
       "      <td>2</td>\n",
       "      <td>11.8</td>\n",
       "      <td>11.8</td>\n",
       "      <td>4007.0000</td>\n",
       "      <td>1195</td>\n",
       "      <td>1195</td>\n",
       "      <td>0</td>\n",
       "      <td>26.8050</td>\n",
       "      <td>43278000000</td>\n",
       "      <td>0.2</td>\n",
       "    </tr>\n",
       "    <tr>\n",
       "      <th>2</th>\n",
       "      <td>1</td>\n",
       "      <td>1</td>\n",
       "      <td>1</td>\n",
       "      <td>0.1</td>\n",
       "      <td>0.1</td>\n",
       "      <td>760.2800</td>\n",
       "      <td>6993</td>\n",
       "      <td>6993</td>\n",
       "      <td>0</td>\n",
       "      <td>13.5360</td>\n",
       "      <td>27118000000</td>\n",
       "      <td>0.2</td>\n",
       "    </tr>\n",
       "    <tr>\n",
       "      <th>3</th>\n",
       "      <td>1</td>\n",
       "      <td>1</td>\n",
       "      <td>1</td>\n",
       "      <td>1.9</td>\n",
       "      <td>1.9</td>\n",
       "      <td>760.2800</td>\n",
       "      <td>421</td>\n",
       "      <td>421</td>\n",
       "      <td>0</td>\n",
       "      <td>9.2509</td>\n",
       "      <td>10040000000</td>\n",
       "      <td>0.2</td>\n",
       "    </tr>\n",
       "    <tr>\n",
       "      <th>4</th>\n",
       "      <td>1</td>\n",
       "      <td>1</td>\n",
       "      <td>1</td>\n",
       "      <td>4.8</td>\n",
       "      <td>4.8</td>\n",
       "      <td>559.4300</td>\n",
       "      <td>146</td>\n",
       "      <td>146</td>\n",
       "      <td>0</td>\n",
       "      <td>6.1686</td>\n",
       "      <td>9356900000</td>\n",
       "      <td>0.2</td>\n",
       "    </tr>\n",
       "    <tr>\n",
       "      <th>...</th>\n",
       "      <td>...</td>\n",
       "      <td>...</td>\n",
       "      <td>...</td>\n",
       "      <td>...</td>\n",
       "      <td>...</td>\n",
       "      <td>...</td>\n",
       "      <td>...</td>\n",
       "      <td>...</td>\n",
       "      <td>...</td>\n",
       "      <td>...</td>\n",
       "      <td>...</td>\n",
       "      <td>...</td>\n",
       "    </tr>\n",
       "    <tr>\n",
       "      <th>180</th>\n",
       "      <td>1</td>\n",
       "      <td>1</td>\n",
       "      <td>1</td>\n",
       "      <td>1.0</td>\n",
       "      <td>1.0</td>\n",
       "      <td>13.5750</td>\n",
       "      <td>1536</td>\n",
       "      <td>1536</td>\n",
       "      <td>0</td>\n",
       "      <td>6.5413</td>\n",
       "      <td>0</td>\n",
       "      <td>0.5</td>\n",
       "    </tr>\n",
       "    <tr>\n",
       "      <th>181</th>\n",
       "      <td>1</td>\n",
       "      <td>1</td>\n",
       "      <td>1</td>\n",
       "      <td>3.0</td>\n",
       "      <td>3.0</td>\n",
       "      <td>11.4460</td>\n",
       "      <td>201</td>\n",
       "      <td>201</td>\n",
       "      <td>0</td>\n",
       "      <td>6.3478</td>\n",
       "      <td>0</td>\n",
       "      <td>0.2</td>\n",
       "    </tr>\n",
       "    <tr>\n",
       "      <th>182</th>\n",
       "      <td>1</td>\n",
       "      <td>1</td>\n",
       "      <td>1</td>\n",
       "      <td>3.4</td>\n",
       "      <td>3.4</td>\n",
       "      <td>10.8300</td>\n",
       "      <td>207</td>\n",
       "      <td>207</td>\n",
       "      <td>0</td>\n",
       "      <td>6.2729</td>\n",
       "      <td>0</td>\n",
       "      <td>0.2</td>\n",
       "    </tr>\n",
       "    <tr>\n",
       "      <th>183</th>\n",
       "      <td>1</td>\n",
       "      <td>1</td>\n",
       "      <td>1</td>\n",
       "      <td>1.7</td>\n",
       "      <td>1.7</td>\n",
       "      <td>8.1435</td>\n",
       "      <td>803</td>\n",
       "      <td>803</td>\n",
       "      <td>0</td>\n",
       "      <td>5.9787</td>\n",
       "      <td>0</td>\n",
       "      <td>0.2</td>\n",
       "    </tr>\n",
       "    <tr>\n",
       "      <th>184</th>\n",
       "      <td>1</td>\n",
       "      <td>1</td>\n",
       "      <td>1</td>\n",
       "      <td>0.4</td>\n",
       "      <td>0.4</td>\n",
       "      <td>8.0458</td>\n",
       "      <td>5152</td>\n",
       "      <td>5152</td>\n",
       "      <td>0</td>\n",
       "      <td>5.9564</td>\n",
       "      <td>0</td>\n",
       "      <td>0.2</td>\n",
       "    </tr>\n",
       "  </tbody>\n",
       "</table>\n",
       "<p>185 rows × 12 columns</p>\n",
       "</div>"
      ],
      "text/plain": [
       "     Number of proteins  Peptides  Unique peptides  Sequence coverage [%]  \\\n",
       "0                     1         2                2                   11.8   \n",
       "1                     2         2                2                   11.8   \n",
       "2                     1         1                1                    0.1   \n",
       "3                     1         1                1                    1.9   \n",
       "4                     1         1                1                    4.8   \n",
       "..                  ...       ...              ...                    ...   \n",
       "180                   1         1                1                    1.0   \n",
       "181                   1         1                1                    3.0   \n",
       "182                   1         1                1                    3.4   \n",
       "183                   1         1                1                    1.7   \n",
       "184                   1         1                1                    0.4   \n",
       "\n",
       "     Unique sequence coverage [%]  Mol. weight [kDa]  Sequence length  \\\n",
       "0                            11.8          4007.0000               68   \n",
       "1                            11.8          4007.0000             1195   \n",
       "2                             0.1           760.2800             6993   \n",
       "3                             1.9           760.2800              421   \n",
       "4                             4.8           559.4300              146   \n",
       "..                            ...                ...              ...   \n",
       "180                           1.0            13.5750             1536   \n",
       "181                           3.0            11.4460              201   \n",
       "182                           3.4            10.8300              207   \n",
       "183                           1.7             8.1435              803   \n",
       "184                           0.4             8.0458             5152   \n",
       "\n",
       "     Sequence lengths  Q-value    Score    Intensity  locationweight  \n",
       "0                  68        0  26.8050  43278000000             0.2  \n",
       "1                1195        0  26.8050  43278000000             0.2  \n",
       "2                6993        0  13.5360  27118000000             0.2  \n",
       "3                 421        0   9.2509  10040000000             0.2  \n",
       "4                 146        0   6.1686   9356900000             0.2  \n",
       "..                ...      ...      ...          ...             ...  \n",
       "180              1536        0   6.5413            0             0.5  \n",
       "181               201        0   6.3478            0             0.2  \n",
       "182               207        0   6.2729            0             0.2  \n",
       "183               803        0   5.9787            0             0.2  \n",
       "184              5152        0   5.9564            0             0.2  \n",
       "\n",
       "[185 rows x 12 columns]"
      ]
     },
     "execution_count": 92,
     "metadata": {},
     "output_type": "execute_result"
    }
   ],
   "source": [
    "df"
   ]
  },
  {
   "cell_type": "code",
   "execution_count": 93,
   "metadata": {},
   "outputs": [
    {
     "data": {
      "text/plain": [
       "185"
      ]
     },
     "execution_count": 93,
     "metadata": {},
     "output_type": "execute_result"
    }
   ],
   "source": [
    "len(dt)"
   ]
  },
  {
   "cell_type": "code",
   "execution_count": 94,
   "metadata": {},
   "outputs": [],
   "source": [
    "y= df.Score"
   ]
  },
  {
   "cell_type": "code",
   "execution_count": 95,
   "metadata": {},
   "outputs": [],
   "source": [
    "x=df.drop('Score',axis=1)"
   ]
  },
  {
   "cell_type": "code",
   "execution_count": 96,
   "metadata": {},
   "outputs": [
    {
     "name": "stdout",
     "output_type": "stream",
     "text": [
      "Examples:\n",
      "    Total: 185\n",
      "    Positive: 7 (3.78% of total)\n",
      "\n"
     ]
    }
   ],
   "source": [
    "neg, pos = np.bincount(df['Q-value'])\n",
    "total = neg + pos\n",
    "print('Examples:\\n    Total: {}\\n    Positive: {} ({:.2f}% of total)\\n'.format(\n",
    "    total, pos, 100 * pos / total)) #this seven should be excluded since the Q-value is postive"
   ]
  },
  {
   "cell_type": "code",
   "execution_count": 97,
   "metadata": {},
   "outputs": [
    {
     "data": {
      "text/plain": [
       "0      26.8050\n",
       "1      26.8050\n",
       "2      13.5360\n",
       "3       9.2509\n",
       "4       6.1686\n",
       "        ...   \n",
       "180     6.5413\n",
       "181     6.3478\n",
       "182     6.2729\n",
       "183     5.9787\n",
       "184     5.9564\n",
       "Name: Score, Length: 185, dtype: float64"
      ]
     },
     "execution_count": 97,
     "metadata": {},
     "output_type": "execute_result"
    }
   ],
   "source": [
    "cleaned_df =df.copy()\n",
    "\n",
    "# You don't want the `Time` column.\n",
    "cleaned_df.pop('Score')\n",
    "\n"
   ]
  },
  {
   "cell_type": "code",
   "execution_count": 98,
   "metadata": {},
   "outputs": [],
   "source": [
    "# Use a utility from sklearn to split and shuffle your dataset.\n",
    "train_df, test_df = train_test_split(cleaned_df, test_size=0.2)\n",
    "train_df, val_df = train_test_split(train_df, test_size=0.2)\n",
    "\n",
    "# Form np arrays of labels and features.\n",
    "train_labels = np.array(train_df.pop('Number of proteins'))\n",
    "bool_train_labels = train_labels != 0\n",
    "val_labels = np.array(val_df.pop('Number of proteins'))\n",
    "test_labels = np.array(test_df.pop('Number of proteins'))\n",
    "\n",
    "train_features = np.array(train_df)\n",
    "val_features = np.array(val_df)\n",
    "test_features = np.array(test_df)"
   ]
  },
  {
   "cell_type": "code",
   "execution_count": 99,
   "metadata": {
    "scrolled": true
   },
   "outputs": [
    {
     "name": "stdout",
     "output_type": "stream",
     "text": [
      "Training labels shape: (118,)\n",
      "Validation labels shape: (30,)\n",
      "Test labels shape: (37,)\n",
      "Training features shape: (118, 10)\n",
      "Validation features shape: (30, 10)\n",
      "Test features shape: (37, 10)\n"
     ]
    }
   ],
   "source": [
    "scaler = StandardScaler()\n",
    "train_features = scaler.fit_transform(train_features)\n",
    "\n",
    "val_features = scaler.transform(val_features)\n",
    "test_features = scaler.transform(test_features)\n",
    "\n",
    "train_features = np.clip(train_features, -5, 5)\n",
    "val_features = np.clip(val_features, -5, 5)\n",
    "test_features = np.clip(test_features, -5, 5)\n",
    "\n",
    "\n",
    "print('Training labels shape:', train_labels.shape)\n",
    "print('Validation labels shape:', val_labels.shape)\n",
    "print('Test labels shape:', test_labels.shape)\n",
    "\n",
    "print('Training features shape:', train_features.shape)\n",
    "print('Validation features shape:', val_features.shape)\n",
    "print('Test features shape:', test_features.shape)"
   ]
  },
  {
   "cell_type": "code",
   "execution_count": 100,
   "metadata": {
    "scrolled": true
   },
   "outputs": [
    {
     "data": {
      "text/html": [
       "<div>\n",
       "<style scoped>\n",
       "    .dataframe tbody tr th:only-of-type {\n",
       "        vertical-align: middle;\n",
       "    }\n",
       "\n",
       "    .dataframe tbody tr th {\n",
       "        vertical-align: top;\n",
       "    }\n",
       "\n",
       "    .dataframe thead th {\n",
       "        text-align: right;\n",
       "    }\n",
       "</style>\n",
       "<table border=\"1\" class=\"dataframe\">\n",
       "  <thead>\n",
       "    <tr style=\"text-align: right;\">\n",
       "      <th></th>\n",
       "      <th>Number of proteins</th>\n",
       "      <th>Peptides</th>\n",
       "      <th>Unique peptides</th>\n",
       "      <th>Sequence coverage [%]</th>\n",
       "      <th>Unique sequence coverage [%]</th>\n",
       "      <th>Mol. weight [kDa]</th>\n",
       "      <th>Sequence length</th>\n",
       "      <th>Sequence lengths</th>\n",
       "      <th>Q-value</th>\n",
       "      <th>Intensity</th>\n",
       "      <th>locationweight</th>\n",
       "    </tr>\n",
       "  </thead>\n",
       "  <tbody>\n",
       "    <tr>\n",
       "      <th>0</th>\n",
       "      <td>1</td>\n",
       "      <td>2</td>\n",
       "      <td>2</td>\n",
       "      <td>11.8</td>\n",
       "      <td>11.8</td>\n",
       "      <td>4007.0000</td>\n",
       "      <td>68</td>\n",
       "      <td>68</td>\n",
       "      <td>0</td>\n",
       "      <td>43278000000</td>\n",
       "      <td>0.2</td>\n",
       "    </tr>\n",
       "    <tr>\n",
       "      <th>1</th>\n",
       "      <td>2</td>\n",
       "      <td>2</td>\n",
       "      <td>2</td>\n",
       "      <td>11.8</td>\n",
       "      <td>11.8</td>\n",
       "      <td>4007.0000</td>\n",
       "      <td>1195</td>\n",
       "      <td>1195</td>\n",
       "      <td>0</td>\n",
       "      <td>43278000000</td>\n",
       "      <td>0.2</td>\n",
       "    </tr>\n",
       "    <tr>\n",
       "      <th>2</th>\n",
       "      <td>1</td>\n",
       "      <td>1</td>\n",
       "      <td>1</td>\n",
       "      <td>0.1</td>\n",
       "      <td>0.1</td>\n",
       "      <td>760.2800</td>\n",
       "      <td>6993</td>\n",
       "      <td>6993</td>\n",
       "      <td>0</td>\n",
       "      <td>27118000000</td>\n",
       "      <td>0.2</td>\n",
       "    </tr>\n",
       "    <tr>\n",
       "      <th>3</th>\n",
       "      <td>1</td>\n",
       "      <td>1</td>\n",
       "      <td>1</td>\n",
       "      <td>1.9</td>\n",
       "      <td>1.9</td>\n",
       "      <td>760.2800</td>\n",
       "      <td>421</td>\n",
       "      <td>421</td>\n",
       "      <td>0</td>\n",
       "      <td>10040000000</td>\n",
       "      <td>0.2</td>\n",
       "    </tr>\n",
       "    <tr>\n",
       "      <th>4</th>\n",
       "      <td>1</td>\n",
       "      <td>1</td>\n",
       "      <td>1</td>\n",
       "      <td>4.8</td>\n",
       "      <td>4.8</td>\n",
       "      <td>559.4300</td>\n",
       "      <td>146</td>\n",
       "      <td>146</td>\n",
       "      <td>0</td>\n",
       "      <td>9356900000</td>\n",
       "      <td>0.2</td>\n",
       "    </tr>\n",
       "    <tr>\n",
       "      <th>...</th>\n",
       "      <td>...</td>\n",
       "      <td>...</td>\n",
       "      <td>...</td>\n",
       "      <td>...</td>\n",
       "      <td>...</td>\n",
       "      <td>...</td>\n",
       "      <td>...</td>\n",
       "      <td>...</td>\n",
       "      <td>...</td>\n",
       "      <td>...</td>\n",
       "      <td>...</td>\n",
       "    </tr>\n",
       "    <tr>\n",
       "      <th>180</th>\n",
       "      <td>1</td>\n",
       "      <td>1</td>\n",
       "      <td>1</td>\n",
       "      <td>1.0</td>\n",
       "      <td>1.0</td>\n",
       "      <td>13.5750</td>\n",
       "      <td>1536</td>\n",
       "      <td>1536</td>\n",
       "      <td>0</td>\n",
       "      <td>0</td>\n",
       "      <td>0.5</td>\n",
       "    </tr>\n",
       "    <tr>\n",
       "      <th>181</th>\n",
       "      <td>1</td>\n",
       "      <td>1</td>\n",
       "      <td>1</td>\n",
       "      <td>3.0</td>\n",
       "      <td>3.0</td>\n",
       "      <td>11.4460</td>\n",
       "      <td>201</td>\n",
       "      <td>201</td>\n",
       "      <td>0</td>\n",
       "      <td>0</td>\n",
       "      <td>0.2</td>\n",
       "    </tr>\n",
       "    <tr>\n",
       "      <th>182</th>\n",
       "      <td>1</td>\n",
       "      <td>1</td>\n",
       "      <td>1</td>\n",
       "      <td>3.4</td>\n",
       "      <td>3.4</td>\n",
       "      <td>10.8300</td>\n",
       "      <td>207</td>\n",
       "      <td>207</td>\n",
       "      <td>0</td>\n",
       "      <td>0</td>\n",
       "      <td>0.2</td>\n",
       "    </tr>\n",
       "    <tr>\n",
       "      <th>183</th>\n",
       "      <td>1</td>\n",
       "      <td>1</td>\n",
       "      <td>1</td>\n",
       "      <td>1.7</td>\n",
       "      <td>1.7</td>\n",
       "      <td>8.1435</td>\n",
       "      <td>803</td>\n",
       "      <td>803</td>\n",
       "      <td>0</td>\n",
       "      <td>0</td>\n",
       "      <td>0.2</td>\n",
       "    </tr>\n",
       "    <tr>\n",
       "      <th>184</th>\n",
       "      <td>1</td>\n",
       "      <td>1</td>\n",
       "      <td>1</td>\n",
       "      <td>0.4</td>\n",
       "      <td>0.4</td>\n",
       "      <td>8.0458</td>\n",
       "      <td>5152</td>\n",
       "      <td>5152</td>\n",
       "      <td>0</td>\n",
       "      <td>0</td>\n",
       "      <td>0.2</td>\n",
       "    </tr>\n",
       "  </tbody>\n",
       "</table>\n",
       "<p>185 rows × 11 columns</p>\n",
       "</div>"
      ],
      "text/plain": [
       "     Number of proteins  Peptides  Unique peptides  Sequence coverage [%]  \\\n",
       "0                     1         2                2                   11.8   \n",
       "1                     2         2                2                   11.8   \n",
       "2                     1         1                1                    0.1   \n",
       "3                     1         1                1                    1.9   \n",
       "4                     1         1                1                    4.8   \n",
       "..                  ...       ...              ...                    ...   \n",
       "180                   1         1                1                    1.0   \n",
       "181                   1         1                1                    3.0   \n",
       "182                   1         1                1                    3.4   \n",
       "183                   1         1                1                    1.7   \n",
       "184                   1         1                1                    0.4   \n",
       "\n",
       "     Unique sequence coverage [%]  Mol. weight [kDa]  Sequence length  \\\n",
       "0                            11.8          4007.0000               68   \n",
       "1                            11.8          4007.0000             1195   \n",
       "2                             0.1           760.2800             6993   \n",
       "3                             1.9           760.2800              421   \n",
       "4                             4.8           559.4300              146   \n",
       "..                            ...                ...              ...   \n",
       "180                           1.0            13.5750             1536   \n",
       "181                           3.0            11.4460              201   \n",
       "182                           3.4            10.8300              207   \n",
       "183                           1.7             8.1435              803   \n",
       "184                           0.4             8.0458             5152   \n",
       "\n",
       "     Sequence lengths  Q-value    Intensity  locationweight  \n",
       "0                  68        0  43278000000             0.2  \n",
       "1                1195        0  43278000000             0.2  \n",
       "2                6993        0  27118000000             0.2  \n",
       "3                 421        0  10040000000             0.2  \n",
       "4                 146        0   9356900000             0.2  \n",
       "..                ...      ...          ...             ...  \n",
       "180              1536        0            0             0.5  \n",
       "181               201        0            0             0.2  \n",
       "182               207        0            0             0.2  \n",
       "183               803        0            0             0.2  \n",
       "184              5152        0            0             0.2  \n",
       "\n",
       "[185 rows x 11 columns]"
      ]
     },
     "execution_count": 100,
     "metadata": {},
     "output_type": "execute_result"
    }
   ],
   "source": [
    "x"
   ]
  },
  {
   "cell_type": "code",
   "execution_count": 101,
   "metadata": {},
   "outputs": [
    {
     "data": {
      "text/plain": [
       "0    26.8050\n",
       "1    26.8050\n",
       "2    13.5360\n",
       "3     9.2509\n",
       "4     6.1686\n",
       "Name: Score, dtype: float64"
      ]
     },
     "execution_count": 101,
     "metadata": {},
     "output_type": "execute_result"
    }
   ],
   "source": [
    "y.head()"
   ]
  },
  {
   "cell_type": "code",
   "execution_count": 102,
   "metadata": {},
   "outputs": [],
   "source": [
    "x_train,x_test,y_train,y_test=train_test_split(x,y,test_size=0.2)"
   ]
  },
  {
   "cell_type": "code",
   "execution_count": 103,
   "metadata": {},
   "outputs": [],
   "source": [
    "x_train=tf.keras.utils.normalize(x_train,axis=1)\n",
    "x_test=tf.keras.utils.normalize(x_test,axis=1)"
   ]
  },
  {
   "cell_type": "code",
   "execution_count": 104,
   "metadata": {
    "scrolled": false
   },
   "outputs": [
    {
     "name": "stdout",
     "output_type": "stream",
     "text": [
      "shape of original dataset : (185, 12)\n",
      "shape of input - training set (148, 11)\n",
      "shape of output - training set (148,)\n",
      "shape of input - testing set (37, 11)\n",
      "shape of output - testing set (37,)\n"
     ]
    }
   ],
   "source": [
    "print(\"shape of original dataset :\", df.shape)\n",
    "print(\"shape of input - training set\", x_train.shape)\n",
    "print(\"shape of output - training set\", y_train.shape)\n",
    "print(\"shape of input - testing set\", x_test.shape)\n",
    "print(\"shape of output - testing set\", y_test.shape)"
   ]
  },
  {
   "cell_type": "code",
   "execution_count": 105,
   "metadata": {},
   "outputs": [],
   "source": [
    "METRICS = [\n",
    "      keras.metrics.TruePositives(name='tp'),\n",
    "      keras.metrics.FalsePositives(name='fp'),\n",
    "      keras.metrics.TrueNegatives(name='tn'),\n",
    "      keras.metrics.FalseNegatives(name='fn'), \n",
    "      keras.metrics.BinaryAccuracy(name='accuracy'),\n",
    "      keras.metrics.Precision(name='precision'),\n",
    "      keras.metrics.Recall(name='recall'),\n",
    "      keras.metrics.AUC(name='auc'),\n",
    "      keras.metrics.AUC(name='prc', curve='PR'), # precision-recall curve\n",
    "]\n",
    "\n",
    "def make_model(metrics=METRICS, output_bias=None):\n",
    "  if output_bias is not None:\n",
    "    output_bias = tf.keras.initializers.Constant(output_bias)\n",
    "  model = keras.Sequential([\n",
    "      keras.layers.Dense(\n",
    "          11, activation='relu',\n",
    "          input_shape=(train_features.shape[-1],)),\n",
    "      keras.layers.Dropout(0.5),\n",
    "      keras.layers.Dense(1, activation='sigmoid',\n",
    "                         bias_initializer=output_bias),\n",
    "  ])\n",
    "\n",
    "  model.compile(\n",
    "      optimizer=keras.optimizers.Adam(lr=1e-3),\n",
    "      loss=keras.losses.BinaryCrossentropy(),\n",
    "      metrics=metrics)\n",
    "\n",
    "  return model\n",
    "\n",
    "#model = tf.keras.Sequential([\n",
    "  #tf.keras.layers.Dense(324, activation=tf.nn.relu, input_shape=(12,)),  # input shape required\n",
    "  #tf.keras.layers.Dense(324, activation=tf.nn.relu), #relu is a function, like sigmoid function used previously\n",
    "  #tf.keras.layers.Dense(324)\n",
    "#])\n",
    "#with many tests, the neurons pass layer set to 128 could predict the best results"
   ]
  },
  {
   "cell_type": "code",
   "execution_count": 106,
   "metadata": {
    "scrolled": true
   },
   "outputs": [
    {
     "name": "stdout",
     "output_type": "stream",
     "text": [
      "Model: \"sequential_5\"\n",
      "_________________________________________________________________\n",
      "Layer (type)                 Output Shape              Param #   \n",
      "=================================================================\n",
      "dense_10 (Dense)             (None, 11)                121       \n",
      "_________________________________________________________________\n",
      "dropout_5 (Dropout)          (None, 11)                0         \n",
      "_________________________________________________________________\n",
      "dense_11 (Dense)             (None, 1)                 12        \n",
      "=================================================================\n",
      "Total params: 133\n",
      "Trainable params: 133\n",
      "Non-trainable params: 0\n",
      "_________________________________________________________________\n"
     ]
    },
    {
     "name": "stderr",
     "output_type": "stream",
     "text": [
      "/Users/lisajin/opt/anaconda3/lib/python3.8/site-packages/tensorflow/python/keras/optimizer_v2/optimizer_v2.py:374: UserWarning: The `lr` argument is deprecated, use `learning_rate` instead.\n",
      "  warnings.warn(\n"
     ]
    }
   ],
   "source": [
    "model = make_model()\n",
    "model.summary()"
   ]
  },
  {
   "cell_type": "code",
   "execution_count": 107,
   "metadata": {},
   "outputs": [],
   "source": [
    "initial_weights = os.path.join(tempfile.mkdtemp(), 'initial_weights')\n",
    "model.save_weights(initial_weights)"
   ]
  },
  {
   "cell_type": "code",
   "execution_count": 108,
   "metadata": {},
   "outputs": [
    {
     "name": "stdout",
     "output_type": "stream",
     "text": [
      "Model: \"sequential_6\"\n",
      "_________________________________________________________________\n",
      "Layer (type)                 Output Shape              Param #   \n",
      "=================================================================\n",
      "dense_12 (Dense)             (None, 11)                121       \n",
      "_________________________________________________________________\n",
      "dropout_6 (Dropout)          (None, 11)                0         \n",
      "_________________________________________________________________\n",
      "dense_13 (Dense)             (None, 1)                 12        \n",
      "=================================================================\n",
      "Total params: 133\n",
      "Trainable params: 133\n",
      "Non-trainable params: 0\n",
      "_________________________________________________________________\n"
     ]
    }
   ],
   "source": [
    "model = make_model()\n",
    "model.summary()"
   ]
  },
  {
   "cell_type": "code",
   "execution_count": 109,
   "metadata": {},
   "outputs": [],
   "source": [
    "model.compile(optimizer='adam',\n",
    "             loss='mean_squared_error',\n",
    "             metrics=['mean_squared_error'])\n",
    "             "
   ]
  },
  {
   "cell_type": "code",
   "execution_count": 110,
   "metadata": {},
   "outputs": [],
   "source": [
    "EPOCHS = 100\n",
    "BATCH_SIZE = 2048\n",
    "\n",
    "early_stopping = tf.keras.callbacks.EarlyStopping(\n",
    "    monitor='val_prc', \n",
    "    verbose=1,\n",
    "    patience=10,\n",
    "    mode='max',\n",
    "    restore_best_weights=True)\n",
    "\n"
   ]
  },
  {
   "cell_type": "code",
   "execution_count": 111,
   "metadata": {
    "scrolled": true
   },
   "outputs": [
    {
     "data": {
      "text/plain": [
       "array([[0.37692082],\n",
       "       [0.3411661 ],\n",
       "       [0.41324756],\n",
       "       [0.37704486],\n",
       "       [0.5277435 ]], dtype=float32)"
      ]
     },
     "execution_count": 111,
     "metadata": {},
     "output_type": "execute_result"
    }
   ],
   "source": [
    "model.predict(train_features[:5]) "
   ]
  },
  {
   "cell_type": "code",
   "execution_count": 112,
   "metadata": {
    "scrolled": true
   },
   "outputs": [
    {
     "name": "stdout",
     "output_type": "stream",
     "text": [
      "tf.Tensor(\n",
      "[[0.37692082]\n",
      " [0.3411661 ]\n",
      " [0.41324756]\n",
      " [0.37704486]\n",
      " [0.5277435 ]\n",
      " [0.6640816 ]\n",
      " [0.43951893]\n",
      " [0.50486517]\n",
      " [0.35839346]\n",
      " [0.49329606]\n",
      " [0.48179814]\n",
      " [0.4615299 ]\n",
      " [0.5064199 ]\n",
      " [0.37017423]\n",
      " [0.40631354]\n",
      " [0.45985523]\n",
      " [0.5160336 ]\n",
      " [0.3595533 ]\n",
      " [0.50695854]\n",
      " [0.48769838]\n",
      " [0.27334267]\n",
      " [0.512318  ]\n",
      " [0.26467037]\n",
      " [0.37704486]\n",
      " [0.40664274]\n",
      " [0.4421288 ]\n",
      " [0.4821353 ]\n",
      " [0.43835497]\n",
      " [0.45379236]\n",
      " [0.5121621 ]\n",
      " [0.55260545]\n",
      " [0.53986937]\n",
      " [0.6612898 ]\n",
      " [0.7242203 ]\n",
      " [0.5196395 ]\n",
      " [0.43392906]\n",
      " [0.2857101 ]\n",
      " [0.7189276 ]\n",
      " [0.492895  ]\n",
      " [0.47438034]\n",
      " [0.934957  ]\n",
      " [0.48700327]\n",
      " [0.50133896]\n",
      " [0.28493583]\n",
      " [0.56767094]\n",
      " [0.708399  ]\n",
      " [0.5072146 ]\n",
      " [0.28537434]\n",
      " [0.45377594]\n",
      " [0.36627   ]\n",
      " [0.5281117 ]\n",
      " [0.40631354]\n",
      " [0.4800306 ]\n",
      " [0.5865532 ]\n",
      " [0.6486315 ]\n",
      " [0.50618196]\n",
      " [0.5008455 ]\n",
      " [0.457729  ]\n",
      " [0.3835983 ]\n",
      " [0.28892052]\n",
      " [0.5041683 ]\n",
      " [0.5093157 ]\n",
      " [0.40631354]\n",
      " [0.49847782]\n",
      " [0.44808018]\n",
      " [0.4348218 ]\n",
      " [0.82940686]\n",
      " [0.3779397 ]\n",
      " [0.7490149 ]\n",
      " [0.5074805 ]\n",
      " [0.17034724]\n",
      " [0.4920825 ]\n",
      " [0.43406075]\n",
      " [0.51939034]\n",
      " [0.4511068 ]\n",
      " [0.5058334 ]\n",
      " [0.51231456]\n",
      " [0.64553404]\n",
      " [0.3688294 ]\n",
      " [0.40631354]\n",
      " [0.23363402]\n",
      " [0.48210016]\n",
      " [0.35941666]\n",
      " [0.4543553 ]\n",
      " [0.51052547]\n",
      " [0.28733772]\n",
      " [0.16197431]\n",
      " [0.16197431]\n",
      " [0.44812533]\n",
      " [0.27334267]\n",
      " [0.43379736]\n",
      " [0.44803503]\n",
      " [0.37704486]\n",
      " [0.5424908 ]\n",
      " [0.49759242]\n",
      " [0.4408537 ]\n",
      " [0.5262992 ]\n",
      " [0.45000324]\n",
      " [0.4551797 ]\n",
      " [0.50019866]\n",
      " [0.5311901 ]\n",
      " [0.29687676]\n",
      " [0.68474036]\n",
      " [0.6772716 ]\n",
      " [0.9492261 ]\n",
      " [0.46212724]\n",
      " [0.28493583]\n",
      " [0.47279376]\n",
      " [0.40631354]\n",
      " [0.5030328 ]\n",
      " [0.50857687]\n",
      " [0.45363918]\n",
      " [0.52077705]\n",
      " [0.4530126 ]\n",
      " [0.3779397 ]\n",
      " [0.3669803 ]\n",
      " [0.81371427]\n",
      " [0.40631354]], shape=(118, 1), dtype=float32)\n"
     ]
    }
   ],
   "source": [
    "predictions = model(train_features)\n",
    "print(predictions)\n",
    "#len(predictions) "
   ]
  },
  {
   "cell_type": "code",
   "execution_count": 113,
   "metadata": {
    "scrolled": true
   },
   "outputs": [
    {
     "name": "stdout",
     "output_type": "stream",
     "text": [
      "Prediction: [0 0 0 0 0 0 0 0 0 0 0 0 0 0 0 0 0 0 0 0 0 0 0 0 0 0 0 0 0 0 0 0 0 0 0 0 0\n",
      " 0 0 0 0 0 0 0 0 0 0 0 0 0 0 0 0 0 0 0 0 0 0 0 0 0 0 0 0 0 0 0 0 0 0 0 0 0\n",
      " 0 0 0 0 0 0 0 0 0 0 0 0 0 0 0 0 0 0 0 0 0 0 0 0 0 0 0 0 0 0 0 0 0 0 0 0 0\n",
      " 0 0 0 0 0 0 0]\n"
     ]
    }
   ],
   "source": [
    "print(\"Prediction: {}\".format(tf.argmax(predictions, axis=1)))\n",
    "#print(\"    Labels: {}\".format(labels))"
   ]
  },
  {
   "cell_type": "code",
   "execution_count": 114,
   "metadata": {
    "scrolled": false
   },
   "outputs": [
    {
     "name": "stdout",
     "output_type": "stream",
     "text": [
      "Loss: 0.3103\n"
     ]
    }
   ],
   "source": [
    "results = model.evaluate(train_features, train_labels, batch_size=BATCH_SIZE, verbose=0)\n",
    "print(\"Loss: {:0.4f}\".format(results[0])) #initial loss"
   ]
  },
  {
   "cell_type": "code",
   "execution_count": 115,
   "metadata": {},
   "outputs": [],
   "source": [
    "#the following cells are to test the trainining models and class weights. but since our data is very clean,\n",
    "#stop here is fine\n"
   ]
  },
  {
   "cell_type": "code",
   "execution_count": 116,
   "metadata": {},
   "outputs": [],
   "source": [
    "initial_weights = os.path.join(tempfile.mkdtemp(), 'initial_weights')\n",
    "model.save_weights(initial_weights)"
   ]
  },
  {
   "cell_type": "code",
   "execution_count": 117,
   "metadata": {},
   "outputs": [],
   "source": [
    "model = make_model()\n",
    "model.load_weights(initial_weights)\n",
    "model.layers[-1].bias.assign([0.0])\n",
    "zero_bias_history = model.fit(\n",
    "    train_features,\n",
    "    train_labels,\n",
    "    batch_size=BATCH_SIZE,\n",
    "    epochs=20,\n",
    "    validation_data=(val_features, val_labels), \n",
    "    verbose=0)"
   ]
  },
  {
   "cell_type": "code",
   "execution_count": 118,
   "metadata": {},
   "outputs": [],
   "source": [
    "model = make_model()\n",
    "model.load_weights(initial_weights)\n",
    "careful_bias_history = model.fit(\n",
    "    train_features,\n",
    "    train_labels,\n",
    "    batch_size=BATCH_SIZE,\n",
    "    epochs=20,\n",
    "    validation_data=(val_features, val_labels), \n",
    "    verbose=0)"
   ]
  },
  {
   "cell_type": "code",
   "execution_count": 119,
   "metadata": {},
   "outputs": [],
   "source": [
    "def plot_loss(history, label, n):\n",
    "  # Use a log scale on y-axis to show the wide range of values.\n",
    "  plt.semilogy(history.epoch, history.history['loss'],\n",
    "               color=colors[n], label='Train ' + label)\n",
    "  plt.semilogy(history.epoch, history.history['val_loss'],\n",
    "               color=colors[n], label='Val ' + label,\n",
    "               linestyle=\"--\")\n",
    "  plt.xlabel('Epoch')\n",
    "  plt.ylabel('Loss')"
   ]
  },
  {
   "cell_type": "code",
   "execution_count": 120,
   "metadata": {},
   "outputs": [
    {
     "data": {
      "text/plain": [
       "<matplotlib.legend.Legend at 0x7f8bc9930b50>"
      ]
     },
     "execution_count": 120,
     "metadata": {},
     "output_type": "execute_result"
    },
    {
     "data": {
      "image/png": "[encoded data removed]",
      "text/plain": [
       "<Figure size 864x720 with 1 Axes>"
      ]
     },
     "metadata": {
      "needs_background": "light"
     },
     "output_type": "display_data"
    }
   ],
   "source": [
    "plot_loss(zero_bias_history, \"Zero Bias\", 0)\n",
    "plot_loss(careful_bias_history, \"Careful Bias\", 1)\n",
    "plt.legend()"
   ]
  },
  {
   "cell_type": "code",
   "execution_count": 121,
   "metadata": {
    "scrolled": true
   },
   "outputs": [
    {
     "name": "stdout",
     "output_type": "stream",
     "text": [
      "Epoch 1/100\n",
      "1/1 [==============================] - 2s 2s/step - loss: 0.8614 - tp: 47.0000 - fp: 0.0000e+00 - tn: 0.0000e+00 - fn: 101.0000 - accuracy: 0.3176 - precision: 1.0000 - recall: 0.3176 - auc: 0.0000e+00 - prc: 1.0000 - val_loss: 0.8432 - val_tp: 11.0000 - val_fp: 0.0000e+00 - val_tn: 0.0000e+00 - val_fn: 19.0000 - val_accuracy: 0.3667 - val_precision: 1.0000 - val_recall: 0.3667 - val_auc: 0.0000e+00 - val_prc: 1.0000\n",
      "Epoch 2/100\n",
      "1/1 [==============================] - 0s 18ms/step - loss: 0.7628 - tp: 43.0000 - fp: 0.0000e+00 - tn: 0.0000e+00 - fn: 75.0000 - accuracy: 0.3559 - precision: 1.0000 - recall: 0.3644 - auc: 0.0000e+00 - prc: 1.0000 - val_loss: 0.8380 - val_tp: 12.0000 - val_fp: 0.0000e+00 - val_tn: 0.0000e+00 - val_fn: 18.0000 - val_accuracy: 0.4000 - val_precision: 1.0000 - val_recall: 0.4000 - val_auc: 0.0000e+00 - val_prc: 1.0000\n",
      "Epoch 3/100\n",
      "1/1 [==============================] - 0s 20ms/step - loss: 0.8472 - tp: 42.0000 - fp: 0.0000e+00 - tn: 0.0000e+00 - fn: 76.0000 - accuracy: 0.3475 - precision: 1.0000 - recall: 0.3559 - auc: 0.0000e+00 - prc: 1.0000 - val_loss: 0.8330 - val_tp: 12.0000 - val_fp: 0.0000e+00 - val_tn: 0.0000e+00 - val_fn: 18.0000 - val_accuracy: 0.4000 - val_precision: 1.0000 - val_recall: 0.4000 - val_auc: 0.0000e+00 - val_prc: 1.0000\n",
      "Epoch 4/100\n",
      "1/1 [==============================] - 0s 23ms/step - loss: 0.8574 - tp: 41.0000 - fp: 0.0000e+00 - tn: 0.0000e+00 - fn: 77.0000 - accuracy: 0.3475 - precision: 1.0000 - recall: 0.3475 - auc: 0.0000e+00 - prc: 1.0000 - val_loss: 0.8280 - val_tp: 12.0000 - val_fp: 0.0000e+00 - val_tn: 0.0000e+00 - val_fn: 18.0000 - val_accuracy: 0.4000 - val_precision: 1.0000 - val_recall: 0.4000 - val_auc: 0.0000e+00 - val_prc: 1.0000\n",
      "Epoch 5/100\n",
      "1/1 [==============================] - 0s 21ms/step - loss: 0.7784 - tp: 44.0000 - fp: 0.0000e+00 - tn: 0.0000e+00 - fn: 74.0000 - accuracy: 0.3644 - precision: 1.0000 - recall: 0.3729 - auc: 0.0000e+00 - prc: 1.0000 - val_loss: 0.8231 - val_tp: 12.0000 - val_fp: 0.0000e+00 - val_tn: 0.0000e+00 - val_fn: 18.0000 - val_accuracy: 0.4000 - val_precision: 1.0000 - val_recall: 0.4000 - val_auc: 0.0000e+00 - val_prc: 1.0000\n",
      "Epoch 6/100\n",
      "1/1 [==============================] - 0s 21ms/step - loss: 0.7456 - tp: 42.0000 - fp: 0.0000e+00 - tn: 0.0000e+00 - fn: 76.0000 - accuracy: 0.3475 - precision: 1.0000 - recall: 0.3559 - auc: 0.0000e+00 - prc: 1.0000 - val_loss: 0.8182 - val_tp: 12.0000 - val_fp: 0.0000e+00 - val_tn: 0.0000e+00 - val_fn: 18.0000 - val_accuracy: 0.4000 - val_precision: 1.0000 - val_recall: 0.4000 - val_auc: 0.0000e+00 - val_prc: 1.0000\n",
      "Epoch 7/100\n",
      "1/1 [==============================] - 0s 22ms/step - loss: 0.7991 - tp: 47.0000 - fp: 0.0000e+00 - tn: 0.0000e+00 - fn: 71.0000 - accuracy: 0.3983 - precision: 1.0000 - recall: 0.3983 - auc: 0.0000e+00 - prc: 1.0000 - val_loss: 0.8133 - val_tp: 12.0000 - val_fp: 0.0000e+00 - val_tn: 0.0000e+00 - val_fn: 18.0000 - val_accuracy: 0.4000 - val_precision: 1.0000 - val_recall: 0.4000 - val_auc: 0.0000e+00 - val_prc: 1.0000\n",
      "Epoch 8/100\n",
      "1/1 [==============================] - 0s 24ms/step - loss: 0.7956 - tp: 45.0000 - fp: 0.0000e+00 - tn: 0.0000e+00 - fn: 73.0000 - accuracy: 0.3814 - precision: 1.0000 - recall: 0.3814 - auc: 0.0000e+00 - prc: 1.0000 - val_loss: 0.8084 - val_tp: 12.0000 - val_fp: 0.0000e+00 - val_tn: 0.0000e+00 - val_fn: 18.0000 - val_accuracy: 0.4000 - val_precision: 1.0000 - val_recall: 0.4000 - val_auc: 0.0000e+00 - val_prc: 1.0000\n",
      "Epoch 9/100\n",
      "1/1 [==============================] - 0s 22ms/step - loss: 0.8100 - tp: 44.0000 - fp: 0.0000e+00 - tn: 0.0000e+00 - fn: 74.0000 - accuracy: 0.3729 - precision: 1.0000 - recall: 0.3729 - auc: 0.0000e+00 - prc: 1.0000 - val_loss: 0.8035 - val_tp: 12.0000 - val_fp: 0.0000e+00 - val_tn: 0.0000e+00 - val_fn: 18.0000 - val_accuracy: 0.4000 - val_precision: 1.0000 - val_recall: 0.4000 - val_auc: 0.0000e+00 - val_prc: 1.0000\n",
      "Epoch 10/100\n",
      "1/1 [==============================] - 0s 20ms/step - loss: 0.7520 - tp: 51.0000 - fp: 0.0000e+00 - tn: 0.0000e+00 - fn: 67.0000 - accuracy: 0.4237 - precision: 1.0000 - recall: 0.4322 - auc: 0.0000e+00 - prc: 1.0000 - val_loss: 0.7986 - val_tp: 12.0000 - val_fp: 0.0000e+00 - val_tn: 0.0000e+00 - val_fn: 18.0000 - val_accuracy: 0.4000 - val_precision: 1.0000 - val_recall: 0.4000 - val_auc: 0.0000e+00 - val_prc: 1.0000\n",
      "Epoch 11/100\n",
      "1/1 [==============================] - 0s 23ms/step - loss: 0.7633 - tp: 48.0000 - fp: 0.0000e+00 - tn: 0.0000e+00 - fn: 70.0000 - accuracy: 0.3983 - precision: 1.0000 - recall: 0.4068 - auc: 0.0000e+00 - prc: 1.0000 - val_loss: 0.7938 - val_tp: 12.0000 - val_fp: 0.0000e+00 - val_tn: 0.0000e+00 - val_fn: 18.0000 - val_accuracy: 0.4000 - val_precision: 1.0000 - val_recall: 0.4000 - val_auc: 0.0000e+00 - val_prc: 1.0000\n",
      "Restoring model weights from the end of the best epoch.\n",
      "Epoch 00011: early stopping\n"
     ]
    }
   ],
   "source": [
    "model = make_model()\n",
    "model.load_weights(initial_weights)\n",
    "baseline_history = model.fit(\n",
    "    train_features,\n",
    "    train_labels,\n",
    "    batch_size=BATCH_SIZE,\n",
    "    epochs=EPOCHS,\n",
    "    callbacks=[early_stopping],\n",
    "    validation_data=(val_features, val_labels))"
   ]
  },
  {
   "cell_type": "code",
   "execution_count": 122,
   "metadata": {},
   "outputs": [],
   "source": [
    "def plot_metrics(history):\n",
    "  metrics = ['loss', 'prc', 'precision', 'recall']\n",
    "  for n, metric in enumerate(metrics):\n",
    "    name = metric.replace(\"_\",\" \").capitalize()\n",
    "    plt.subplot(2,2,n+1)\n",
    "    plt.plot(history.epoch, history.history[metric], color=colors[0], label='Train')\n",
    "    plt.plot(history.epoch, history.history['val_'+metric],\n",
    "             color=colors[0], linestyle=\"--\", label='Val')\n",
    "    plt.xlabel('Epoch')\n",
    "    plt.ylabel(name)\n",
    "    if metric == 'loss':\n",
    "      plt.ylim([0, plt.ylim()[1]])\n",
    "    elif metric == 'auc':\n",
    "      plt.ylim([0.8,1])\n",
    "    else:\n",
    "      plt.ylim([0,1])\n",
    "\n",
    "    plt.legend()\n",
    "\n"
   ]
  },
  {
   "cell_type": "code",
   "execution_count": 123,
   "metadata": {},
   "outputs": [
    {
     "data": {
      "image/png": "[encoded data removed]",
      "text/plain": [
       "<Figure size 864x720 with 4 Axes>"
      ]
     },
     "metadata": {
      "needs_background": "light"
     },
     "output_type": "display_data"
    }
   ],
   "source": [
    "plot_metrics(baseline_history)"
   ]
  },
  {
   "cell_type": "code",
   "execution_count": 124,
   "metadata": {},
   "outputs": [],
   "source": [
    "train_predictions_baseline = model.predict(train_features, batch_size=BATCH_SIZE)\n",
    "test_predictions_baseline = model.predict(test_features, batch_size=BATCH_SIZE)"
   ]
  },
  {
   "cell_type": "code",
   "execution_count": 125,
   "metadata": {},
   "outputs": [],
   "source": [
    "def plot_cm(labels, predictions, p=0.5):\n",
    "  cm = confusion_matrix(labels, predictions > p)\n",
    "  plt.figure(figsize=(5,5))\n",
    "  sns.heatmap(cm, annot=True, fmt=\"d\")\n",
    "  plt.title('Confusion matrix @{:.2f}'.format(p))\n",
    "  plt.ylabel('Actual label')\n",
    "  plt.xlabel('Predicted label')\n",
    "\n",
    "  print('Legitimate Transactions Detected (True Negatives): ', cm[0][0])\n",
    "  print('Legitimate Transactions Incorrectly Detected (False Positives): ', cm[0][1])\n",
    "  print('Fraudulent Transactions Missed (False Negatives): ', cm[1][0])\n",
    "  print('Fraudulent Transactions Detected (True Positives): ', cm[1][1])\n",
    "  print('Total Fraudulent Transactions: ', np.sum(cm[1]))"
   ]
  },
  {
   "cell_type": "code",
   "execution_count": 126,
   "metadata": {
    "scrolled": false
   },
   "outputs": [
    {
     "name": "stdout",
     "output_type": "stream",
     "text": [
      "loss :  0.8631452322006226\n",
      "tp :  8.0\n",
      "fp :  0.0\n",
      "tn :  0.0\n",
      "fn :  29.0\n",
      "accuracy :  0.21621622145175934\n",
      "precision :  1.0\n",
      "recall :  0.21621622145175934\n",
      "auc :  0.0\n",
      "prc :  1.0\n",
      "\n"
     ]
    }
   ],
   "source": [
    "#the accuracy using MSE is almost 1 and the loss is very small, only 0.138, comparing to the training model, the loss is \n",
    "#very close, so the model looks good\n",
    "baseline_results = model.evaluate(test_features, test_labels,\n",
    "                                  batch_size=BATCH_SIZE, verbose=0)\n",
    "for name, value in zip(model.metrics_names, baseline_results):\n",
    "  print(name, ': ', value)\n",
    "print()\n",
    "\n",
    "#plot_cm(test_labels, test_predictions_baseline)\n",
    "\n"
   ]
  },
  {
   "cell_type": "code",
   "execution_count": 127,
   "metadata": {},
   "outputs": [
    {
     "name": "stdout",
     "output_type": "stream",
     "text": [
      "tf.Tensor(\n",
      "[[0.37692082]\n",
      " [0.3411661 ]\n",
      " [0.41324756]\n",
      " [0.37704486]\n",
      " [0.5277435 ]\n",
      " [0.6640816 ]\n",
      " [0.43951893]\n",
      " [0.50486517]\n",
      " [0.35839346]\n",
      " [0.49329606]\n",
      " [0.48179814]\n",
      " [0.4615299 ]\n",
      " [0.5064199 ]\n",
      " [0.37017423]\n",
      " [0.40631354]\n",
      " [0.45985523]\n",
      " [0.5160336 ]\n",
      " [0.3595533 ]\n",
      " [0.50695854]\n",
      " [0.48769838]\n",
      " [0.27334267]\n",
      " [0.512318  ]\n",
      " [0.26467037]\n",
      " [0.37704486]\n",
      " [0.40664274]\n",
      " [0.4421288 ]\n",
      " [0.4821353 ]\n",
      " [0.43835497]\n",
      " [0.45379236]\n",
      " [0.5121621 ]\n",
      " [0.55260545]\n",
      " [0.53986937]\n",
      " [0.6612898 ]\n",
      " [0.7242203 ]\n",
      " [0.5196395 ]\n",
      " [0.43392906]\n",
      " [0.2857101 ]\n",
      " [0.7189276 ]\n",
      " [0.492895  ]\n",
      " [0.47438034]\n",
      " [0.934957  ]\n",
      " [0.48700327]\n",
      " [0.50133896]\n",
      " [0.28493583]\n",
      " [0.56767094]\n",
      " [0.708399  ]\n",
      " [0.5072146 ]\n",
      " [0.28537434]\n",
      " [0.45377594]\n",
      " [0.36627   ]\n",
      " [0.5281117 ]\n",
      " [0.40631354]\n",
      " [0.4800306 ]\n",
      " [0.5865532 ]\n",
      " [0.6486315 ]\n",
      " [0.50618196]\n",
      " [0.5008455 ]\n",
      " [0.457729  ]\n",
      " [0.3835983 ]\n",
      " [0.28892052]\n",
      " [0.5041683 ]\n",
      " [0.5093157 ]\n",
      " [0.40631354]\n",
      " [0.49847782]\n",
      " [0.44808018]\n",
      " [0.4348218 ]\n",
      " [0.82940686]\n",
      " [0.3779397 ]\n",
      " [0.7490149 ]\n",
      " [0.5074805 ]\n",
      " [0.17034724]\n",
      " [0.4920825 ]\n",
      " [0.43406075]\n",
      " [0.51939034]\n",
      " [0.4511068 ]\n",
      " [0.5058334 ]\n",
      " [0.51231456]\n",
      " [0.64553404]\n",
      " [0.3688294 ]\n",
      " [0.40631354]\n",
      " [0.23363402]\n",
      " [0.48210016]\n",
      " [0.35941666]\n",
      " [0.4543553 ]\n",
      " [0.51052547]\n",
      " [0.28733772]\n",
      " [0.16197431]\n",
      " [0.16197431]\n",
      " [0.44812533]\n",
      " [0.27334267]\n",
      " [0.43379736]\n",
      " [0.44803503]\n",
      " [0.37704486]\n",
      " [0.5424908 ]\n",
      " [0.49759242]\n",
      " [0.4408537 ]\n",
      " [0.5262992 ]\n",
      " [0.45000324]\n",
      " [0.4551797 ]\n",
      " [0.50019866]\n",
      " [0.5311901 ]\n",
      " [0.29687676]\n",
      " [0.68474036]\n",
      " [0.6772716 ]\n",
      " [0.9492261 ]\n",
      " [0.46212724]\n",
      " [0.28493583]\n",
      " [0.47279376]\n",
      " [0.40631354]\n",
      " [0.5030328 ]\n",
      " [0.50857687]\n",
      " [0.45363918]\n",
      " [0.52077705]\n",
      " [0.4530126 ]\n",
      " [0.3779397 ]\n",
      " [0.3669803 ]\n",
      " [0.81371427]\n",
      " [0.40631354]], shape=(118, 1), dtype=float32)\n"
     ]
    }
   ],
   "source": [
    "print(predictions)"
   ]
  },
  {
   "cell_type": "code",
   "execution_count": 128,
   "metadata": {},
   "outputs": [],
   "source": [
    "result=model.trainable_variables"
   ]
  },
  {
   "cell_type": "code",
   "execution_count": 129,
   "metadata": {},
   "outputs": [],
   "source": [
    "varaible_weights=result[1]"
   ]
  },
  {
   "cell_type": "code",
   "execution_count": 130,
   "metadata": {},
   "outputs": [
    {
     "name": "stdout",
     "output_type": "stream",
     "text": [
      "<tf.Variable 'dense_18/bias:0' shape=(11,) dtype=float32, numpy=\n",
      "array([-0.00099904,  0.00099998, -0.00099995, -0.00099997,  0.00099998,\n",
      "        0.00099996,  0.0009999 ,  0.00099996, -0.00099992,  0.00099996,\n",
      "       -0.00099993], dtype=float32)>\n"
     ]
    }
   ],
   "source": [
    "print(result[1])"
   ]
  },
  {
   "cell_type": "code",
   "execution_count": 131,
   "metadata": {
    "scrolled": true
   },
   "outputs": [
    {
     "name": "stdout",
     "output_type": "stream",
     "text": [
      "[<tf.Variable 'dense_18/kernel:0' shape=(10, 11) dtype=float32, numpy=\n",
      "array([[ 0.09120695,  0.09724765,  0.05302089, -0.21144277, -0.09250964,\n",
      "        -0.13113606,  0.5068276 ,  0.4363784 ,  0.28084773, -0.36760184,\n",
      "        -0.39666384],\n",
      "       [-0.0572604 , -0.11576438,  0.38350797, -0.1005007 , -0.19959804,\n",
      "         0.31837958, -0.33200973, -0.46784818,  0.05180294,  0.4300997 ,\n",
      "         0.43980467],\n",
      "       [-0.26181102, -0.25355807,  0.268559  ,  0.04569562,  0.23803161,\n",
      "         0.06955449,  0.2268567 ,  0.22822593, -0.21316537, -0.36791664,\n",
      "         0.23877168],\n",
      "       [-0.1782616 ,  0.31465876,  0.21142635,  0.5334573 , -0.25728175,\n",
      "        -0.37653884, -0.05889381, -0.04322632,  0.45100802, -0.02365763,\n",
      "        -0.25171003],\n",
      "       [-0.0036908 , -0.27290085,  0.3488935 , -0.46344897, -0.33696142,\n",
      "        -0.2087696 ,  0.10587928, -0.2349677 , -0.38212344,  0.27190876,\n",
      "        -0.04615633],\n",
      "       [ 0.15637268,  0.02795349, -0.22048955,  0.2919995 ,  0.5057512 ,\n",
      "         0.3628378 ,  0.4387171 ,  0.49677673,  0.1397782 , -0.02919957,\n",
      "         0.11097745],\n",
      "       [-0.35252365,  0.27783763, -0.37538573, -0.23160775, -0.2501296 ,\n",
      "         0.44383335, -0.4976622 , -0.28638855, -0.04329317,  0.00171003,\n",
      "        -0.41313282],\n",
      "       [ 0.19018476,  0.25210255,  0.41382518,  0.08075037,  0.16391213,\n",
      "        -0.3964501 , -0.0821408 ,  0.18706925, -0.19645171,  0.15557621,\n",
      "         0.22447218],\n",
      "       [-0.52627295,  0.26557305,  0.22393736,  0.13912603, -0.49409288,\n",
      "        -0.1975325 ,  0.36247465,  0.35172224,  0.15931877,  0.37599757,\n",
      "        -0.18061297],\n",
      "       [-0.48837483, -0.42226934, -0.3084646 , -0.16858242, -0.51551336,\n",
      "        -0.4764367 ,  0.29377583,  0.17131333,  0.12766252,  0.27958307,\n",
      "         0.16019191]], dtype=float32)>, <tf.Variable 'dense_18/bias:0' shape=(11,) dtype=float32, numpy=\n",
      "array([-0.00099904,  0.00099998, -0.00099995, -0.00099997,  0.00099998,\n",
      "        0.00099996,  0.0009999 ,  0.00099996, -0.00099992,  0.00099996,\n",
      "       -0.00099993], dtype=float32)>, <tf.Variable 'dense_19/kernel:0' shape=(11, 1) dtype=float32, numpy=\n",
      "array([[-0.00972081],\n",
      "       [ 0.41333553],\n",
      "       [-0.2206009 ],\n",
      "       [-0.48268786],\n",
      "       [ 0.4588946 ],\n",
      "       [ 0.32210264],\n",
      "       [ 0.14148739],\n",
      "       [ 0.4105019 ],\n",
      "       [-0.19129707],\n",
      "       [ 0.6908672 ],\n",
      "       [-0.19368258]], dtype=float32)>, <tf.Variable 'dense_19/bias:0' shape=(1,) dtype=float32, numpy=array([-0.36881143], dtype=float32)>]\n"
     ]
    }
   ],
   "source": [
    "print(model.trainable_variables) #return the Weights of the Model as shown below:"
   ]
  },
  {
   "cell_type": "code",
   "execution_count": 132,
   "metadata": {},
   "outputs": [],
   "source": [
    "#the following will be visited when we have more time"
   ]
  },
  {
   "cell_type": "code",
   "execution_count": 133,
   "metadata": {},
   "outputs": [],
   "source": [
    "def plot_roc(name, labels, predictions, **kwargs):\n",
    "  fp, tp, _ = sklearn.metrics.roc_curve(labels, predictions)\n",
    "\n",
    "  plt.plot(100*fp, 100*tp, label=name, linewidth=2, **kwargs)\n",
    "  plt.xlabel('False positives [%]')\n",
    "  plt.ylabel('True positives [%]')\n",
    "  plt.xlim([-0.5,20])\n",
    "  plt.ylim([80,100.5])\n",
    "  plt.grid(True)\n",
    "  ax = plt.gca()\n",
    "  ax.set_aspect('equal')"
   ]
  },
  {
   "cell_type": "code",
   "execution_count": 134,
   "metadata": {
    "scrolled": true
   },
   "outputs": [
    {
     "name": "stdout",
     "output_type": "stream",
     "text": [
      "Weight for class 0: 0.52\n",
      "Weight for class 1: 13.21\n"
     ]
    }
   ],
   "source": [
    "# Scaling by total/2 helps keep the loss to a similar magnitude.\n",
    "# The sum of the weights of all examples stays the same.\n",
    "weight_for_0 = (1 / neg) * (total / 2.0)\n",
    "weight_for_1 = (1 / pos) * (total / 2.0)\n",
    "\n",
    "class_weight = {0: weight_for_0, 1: weight_for_1}\n",
    "\n",
    "print('Weight for class 0: {:.2f}'.format(weight_for_0))\n",
    "print('Weight for class 1: {:.2f}'.format(weight_for_1))\n"
   ]
  },
  {
   "cell_type": "code",
   "execution_count": 135,
   "metadata": {},
   "outputs": [
    {
     "data": {
      "text/plain": [
       "9.0"
      ]
     },
     "execution_count": 135,
     "metadata": {},
     "output_type": "execute_result"
    }
   ],
   "source": [
    "resampled_steps_per_epoch = np.ceil(93.0*neg/BATCH_SIZE)\n",
    "resampled_steps_per_epoch"
   ]
  },
  {
   "cell_type": "code",
   "execution_count": 136,
   "metadata": {
    "scrolled": false
   },
   "outputs": [
    {
     "name": "stdout",
     "output_type": "stream",
     "text": [
      "Example 0 prediction: predictionYES (59.3%)\n",
      "Example 1 prediction: predictionYES (58.4%)\n",
      "Example 2 prediction: predictionYES (60.2%)\n",
      "Example 3 prediction: predictionYES (59.3%)\n",
      "Example 4 prediction: predictionYES (62.9%)\n",
      "Example 5 prediction: predictionYES (66.0%)\n",
      "Example 6 prediction: predictionYES (60.8%)\n",
      "Example 7 prediction: predictionYES (62.4%)\n",
      "Example 8 prediction: predictionYES (58.9%)\n",
      "Example 9 prediction: predictionYES (62.1%)\n",
      "Example 10 prediction: predictionYES (61.8%)\n",
      "Example 11 prediction: predictionYES (61.3%)\n",
      "Example 12 prediction: predictionYES (62.4%)\n",
      "Example 13 prediction: predictionYES (59.2%)\n",
      "Example 14 prediction: predictionYES (60.0%)\n",
      "Example 15 prediction: predictionYES (61.3%)\n",
      "Example 16 prediction: predictionYES (62.6%)\n",
      "Example 17 prediction: predictionYES (58.9%)\n",
      "Example 18 prediction: predictionYES (62.4%)\n",
      "Example 19 prediction: predictionYES (62.0%)\n",
      "Example 20 prediction: predictionYES (56.8%)\n",
      "Example 21 prediction: predictionYES (62.5%)\n",
      "Example 22 prediction: predictionYES (56.6%)\n",
      "Example 23 prediction: predictionYES (59.3%)\n",
      "Example 24 prediction: predictionYES (60.0%)\n",
      "Example 25 prediction: predictionYES (60.9%)\n",
      "Example 26 prediction: predictionYES (61.8%)\n",
      "Example 27 prediction: predictionYES (60.8%)\n",
      "Example 28 prediction: predictionYES (61.2%)\n",
      "Example 29 prediction: predictionYES (62.5%)\n",
      "Example 30 prediction: predictionYES (63.5%)\n",
      "Example 31 prediction: predictionYES (63.2%)\n",
      "Example 32 prediction: predictionYES (66.0%)\n",
      "Example 33 prediction: predictionYES (67.4%)\n",
      "Example 34 prediction: predictionYES (62.7%)\n",
      "Example 35 prediction: predictionYES (60.7%)\n",
      "Example 36 prediction: predictionYES (57.1%)\n",
      "Example 37 prediction: predictionYES (67.2%)\n",
      "Example 38 prediction: predictionYES (62.1%)\n",
      "Example 39 prediction: predictionYES (61.6%)\n",
      "Example 40 prediction: predictionYES (71.8%)\n",
      "Example 41 prediction: predictionYES (61.9%)\n",
      "Example 42 prediction: predictionYES (62.3%)\n",
      "Example 43 prediction: predictionYES (57.1%)\n",
      "Example 44 prediction: predictionYES (63.8%)\n",
      "Example 45 prediction: predictionYES (67.0%)\n",
      "Example 46 prediction: predictionYES (62.4%)\n",
      "Example 47 prediction: predictionYES (57.1%)\n",
      "Example 48 prediction: predictionYES (61.2%)\n",
      "Example 49 prediction: predictionYES (59.1%)\n",
      "Example 50 prediction: predictionYES (62.9%)\n",
      "Example 51 prediction: predictionYES (60.0%)\n",
      "Example 52 prediction: predictionYES (61.8%)\n",
      "Example 53 prediction: predictionYES (64.3%)\n",
      "Example 54 prediction: predictionYES (65.7%)\n",
      "Example 55 prediction: predictionYES (62.4%)\n",
      "Example 56 prediction: predictionYES (62.3%)\n",
      "Example 57 prediction: predictionYES (61.2%)\n",
      "Example 58 prediction: predictionYES (59.5%)\n",
      "Example 59 prediction: predictionYES (57.2%)\n",
      "Example 60 prediction: predictionYES (62.3%)\n",
      "Example 61 prediction: predictionYES (62.5%)\n",
      "Example 62 prediction: predictionYES (60.0%)\n",
      "Example 63 prediction: predictionYES (62.2%)\n",
      "Example 64 prediction: predictionYES (61.0%)\n",
      "Example 65 prediction: predictionYES (60.7%)\n",
      "Example 66 prediction: predictionYES (69.6%)\n",
      "Example 67 prediction: predictionYES (59.3%)\n",
      "Example 68 prediction: predictionYES (67.9%)\n",
      "Example 69 prediction: predictionYES (62.4%)\n",
      "Example 70 prediction: predictionYES (54.2%)\n",
      "Example 71 prediction: predictionYES (62.1%)\n",
      "Example 72 prediction: predictionYES (60.7%)\n",
      "Example 73 prediction: predictionYES (62.7%)\n",
      "Example 74 prediction: predictionYES (61.1%)\n",
      "Example 75 prediction: predictionYES (62.4%)\n",
      "Example 76 prediction: predictionYES (62.5%)\n",
      "Example 77 prediction: predictionYES (65.6%)\n",
      "Example 78 prediction: predictionYES (59.1%)\n",
      "Example 79 prediction: predictionYES (60.0%)\n",
      "Example 80 prediction: predictionYES (55.8%)\n",
      "Example 81 prediction: predictionYES (61.8%)\n",
      "Example 82 prediction: predictionYES (58.9%)\n",
      "Example 83 prediction: predictionYES (61.2%)\n",
      "Example 84 prediction: predictionYES (62.5%)\n",
      "Example 85 prediction: predictionYES (57.1%)\n",
      "Example 86 prediction: predictionYES (54.0%)\n",
      "Example 87 prediction: predictionYES (54.0%)\n",
      "Example 88 prediction: predictionYES (61.0%)\n",
      "Example 89 prediction: predictionYES (56.8%)\n",
      "Example 90 prediction: predictionYES (60.7%)\n",
      "Example 91 prediction: predictionYES (61.0%)\n",
      "Example 92 prediction: predictionYES (59.3%)\n",
      "Example 93 prediction: predictionYES (63.2%)\n",
      "Example 94 prediction: predictionYES (62.2%)\n",
      "Example 95 prediction: predictionYES (60.8%)\n",
      "Example 96 prediction: predictionYES (62.9%)\n",
      "Example 97 prediction: predictionYES (61.1%)\n",
      "Example 98 prediction: predictionYES (61.2%)\n",
      "Example 99 prediction: predictionYES (62.3%)\n",
      "Example 100 prediction: predictionYES (63.0%)\n",
      "Example 101 prediction: predictionYES (57.4%)\n",
      "Example 102 prediction: predictionYES (66.5%)\n",
      "Example 103 prediction: predictionYES (66.3%)\n",
      "Example 104 prediction: predictionYES (72.1%)\n",
      "Example 105 prediction: predictionYES (61.4%)\n",
      "Example 106 prediction: predictionYES (57.1%)\n",
      "Example 107 prediction: predictionYES (61.6%)\n",
      "Example 108 prediction: predictionYES (60.0%)\n",
      "Example 109 prediction: predictionYES (62.3%)\n",
      "Example 110 prediction: predictionYES (62.4%)\n",
      "Example 111 prediction: predictionYES (61.2%)\n",
      "Example 112 prediction: predictionYES (62.7%)\n",
      "Example 113 prediction: predictionYES (61.1%)\n",
      "Example 114 prediction: predictionYES (59.3%)\n",
      "Example 115 prediction: predictionYES (59.1%)\n",
      "Example 116 prediction: predictionYES (69.3%)\n",
      "Example 117 prediction: predictionYES (60.0%)\n"
     ]
    }
   ],
   "source": [
    "for i, logits in enumerate(predictions):\n",
    "  class_idx = tf.argmax(logits).numpy()\n",
    "  p = tf.nn.sigmoid(logits)[class_idx]\n",
    "  name = class_names[class_idx]\n",
    "  print(\"Example {} prediction: {} ({:4.1f}%)\".format(i, name, 100*p))\n",
    "#the results shows that after training, there are 118 out of 184 proteins likely to be the X molecule, it makes sense\n",
    "#since our data is obtained from the corss-linking, most of the proteins should be targets anyway\n",
    "#needs to find out a way to nail down top 10 target"
   ]
  },
  {
   "cell_type": "code",
   "execution_count": 137,
   "metadata": {},
   "outputs": [],
   "source": [
    "\n",
    "#now after so many trainings, we get relatively accurate weights for each variables, we need to give a ranking system \n",
    "#for the current dataset, and because we know for a fact that plasma membrane is the most likely location, we decide \n",
    "#to weigh a lot on the plasma membrane"
   ]
  },
  {
   "cell_type": "code",
   "execution_count": 138,
   "metadata": {},
   "outputs": [],
   "source": [
    "#since every time we run the model, the weight changes a little bit, we record one of the results\n",
    "#<tf.Variable 'dense_158/bias:0' shape=(11,) dtype=float32, numpy=\n",
    "#array([ [-0.00099995, -0.00099988, -0.00099898, -0.00099985, -0.00099989,\n",
    "        #0.00099962, -0.00099974, -0.00099988, -0.00099991,  0.00099988,\n",
    "        #0.00099996], dtype=float32)>"
   ]
  },
  {
   "cell_type": "code",
   "execution_count": 139,
   "metadata": {},
   "outputs": [],
   "source": [
    "general_recorded_weight=varaible_weights"
   ]
  },
  {
   "cell_type": "code",
   "execution_count": 140,
   "metadata": {},
   "outputs": [],
   "source": [
    "recorded_weight=[-0.00099995, -0.00099988, -0.00099898, -0.00099985, -0.00099989,\n",
    "        0.00099962, -0.00099974, -0.00099988, -0.00099991,  0.00099988,\n",
    "        0.00099996]\n",
    "#for the location weight, we manually program it to 50, #12 weights for the variables"
   ]
  },
  {
   "cell_type": "code",
   "execution_count": 141,
   "metadata": {
    "scrolled": true
   },
   "outputs": [
    {
     "data": {
      "text/html": [
       "<div>\n",
       "<style scoped>\n",
       "    .dataframe tbody tr th:only-of-type {\n",
       "        vertical-align: middle;\n",
       "    }\n",
       "\n",
       "    .dataframe tbody tr th {\n",
       "        vertical-align: top;\n",
       "    }\n",
       "\n",
       "    .dataframe thead th {\n",
       "        text-align: right;\n",
       "    }\n",
       "</style>\n",
       "<table border=\"1\" class=\"dataframe\">\n",
       "  <thead>\n",
       "    <tr style=\"text-align: right;\">\n",
       "      <th></th>\n",
       "      <th>Number of proteins</th>\n",
       "      <th>Peptides</th>\n",
       "      <th>Unique peptides</th>\n",
       "      <th>Sequence coverage [%]</th>\n",
       "      <th>Unique sequence coverage [%]</th>\n",
       "      <th>Mol. weight [kDa]</th>\n",
       "      <th>Sequence length</th>\n",
       "      <th>Sequence lengths</th>\n",
       "      <th>Q-value</th>\n",
       "      <th>Score</th>\n",
       "      <th>Intensity</th>\n",
       "      <th>locationweight</th>\n",
       "      <th>ID</th>\n",
       "    </tr>\n",
       "  </thead>\n",
       "  <tbody>\n",
       "    <tr>\n",
       "      <th>0</th>\n",
       "      <td>1</td>\n",
       "      <td>2</td>\n",
       "      <td>2</td>\n",
       "      <td>11.8</td>\n",
       "      <td>11.8</td>\n",
       "      <td>4007.0000</td>\n",
       "      <td>68</td>\n",
       "      <td>68</td>\n",
       "      <td>0</td>\n",
       "      <td>26.8050</td>\n",
       "      <td>43278000000</td>\n",
       "      <td>0.2</td>\n",
       "      <td>1</td>\n",
       "    </tr>\n",
       "    <tr>\n",
       "      <th>1</th>\n",
       "      <td>2</td>\n",
       "      <td>2</td>\n",
       "      <td>2</td>\n",
       "      <td>11.8</td>\n",
       "      <td>11.8</td>\n",
       "      <td>4007.0000</td>\n",
       "      <td>1195</td>\n",
       "      <td>1195</td>\n",
       "      <td>0</td>\n",
       "      <td>26.8050</td>\n",
       "      <td>43278000000</td>\n",
       "      <td>0.2</td>\n",
       "      <td>2</td>\n",
       "    </tr>\n",
       "    <tr>\n",
       "      <th>2</th>\n",
       "      <td>1</td>\n",
       "      <td>1</td>\n",
       "      <td>1</td>\n",
       "      <td>0.1</td>\n",
       "      <td>0.1</td>\n",
       "      <td>760.2800</td>\n",
       "      <td>6993</td>\n",
       "      <td>6993</td>\n",
       "      <td>0</td>\n",
       "      <td>13.5360</td>\n",
       "      <td>27118000000</td>\n",
       "      <td>0.2</td>\n",
       "      <td>3</td>\n",
       "    </tr>\n",
       "    <tr>\n",
       "      <th>3</th>\n",
       "      <td>1</td>\n",
       "      <td>1</td>\n",
       "      <td>1</td>\n",
       "      <td>1.9</td>\n",
       "      <td>1.9</td>\n",
       "      <td>760.2800</td>\n",
       "      <td>421</td>\n",
       "      <td>421</td>\n",
       "      <td>0</td>\n",
       "      <td>9.2509</td>\n",
       "      <td>10040000000</td>\n",
       "      <td>0.2</td>\n",
       "      <td>4</td>\n",
       "    </tr>\n",
       "    <tr>\n",
       "      <th>4</th>\n",
       "      <td>1</td>\n",
       "      <td>1</td>\n",
       "      <td>1</td>\n",
       "      <td>4.8</td>\n",
       "      <td>4.8</td>\n",
       "      <td>559.4300</td>\n",
       "      <td>146</td>\n",
       "      <td>146</td>\n",
       "      <td>0</td>\n",
       "      <td>6.1686</td>\n",
       "      <td>9356900000</td>\n",
       "      <td>0.2</td>\n",
       "      <td>5</td>\n",
       "    </tr>\n",
       "    <tr>\n",
       "      <th>...</th>\n",
       "      <td>...</td>\n",
       "      <td>...</td>\n",
       "      <td>...</td>\n",
       "      <td>...</td>\n",
       "      <td>...</td>\n",
       "      <td>...</td>\n",
       "      <td>...</td>\n",
       "      <td>...</td>\n",
       "      <td>...</td>\n",
       "      <td>...</td>\n",
       "      <td>...</td>\n",
       "      <td>...</td>\n",
       "      <td>...</td>\n",
       "    </tr>\n",
       "    <tr>\n",
       "      <th>180</th>\n",
       "      <td>1</td>\n",
       "      <td>1</td>\n",
       "      <td>1</td>\n",
       "      <td>1.0</td>\n",
       "      <td>1.0</td>\n",
       "      <td>13.5750</td>\n",
       "      <td>1536</td>\n",
       "      <td>1536</td>\n",
       "      <td>0</td>\n",
       "      <td>6.5413</td>\n",
       "      <td>0</td>\n",
       "      <td>0.5</td>\n",
       "      <td>181</td>\n",
       "    </tr>\n",
       "    <tr>\n",
       "      <th>181</th>\n",
       "      <td>1</td>\n",
       "      <td>1</td>\n",
       "      <td>1</td>\n",
       "      <td>3.0</td>\n",
       "      <td>3.0</td>\n",
       "      <td>11.4460</td>\n",
       "      <td>201</td>\n",
       "      <td>201</td>\n",
       "      <td>0</td>\n",
       "      <td>6.3478</td>\n",
       "      <td>0</td>\n",
       "      <td>0.2</td>\n",
       "      <td>182</td>\n",
       "    </tr>\n",
       "    <tr>\n",
       "      <th>182</th>\n",
       "      <td>1</td>\n",
       "      <td>1</td>\n",
       "      <td>1</td>\n",
       "      <td>3.4</td>\n",
       "      <td>3.4</td>\n",
       "      <td>10.8300</td>\n",
       "      <td>207</td>\n",
       "      <td>207</td>\n",
       "      <td>0</td>\n",
       "      <td>6.2729</td>\n",
       "      <td>0</td>\n",
       "      <td>0.2</td>\n",
       "      <td>183</td>\n",
       "    </tr>\n",
       "    <tr>\n",
       "      <th>183</th>\n",
       "      <td>1</td>\n",
       "      <td>1</td>\n",
       "      <td>1</td>\n",
       "      <td>1.7</td>\n",
       "      <td>1.7</td>\n",
       "      <td>8.1435</td>\n",
       "      <td>803</td>\n",
       "      <td>803</td>\n",
       "      <td>0</td>\n",
       "      <td>5.9787</td>\n",
       "      <td>0</td>\n",
       "      <td>0.2</td>\n",
       "      <td>184</td>\n",
       "    </tr>\n",
       "    <tr>\n",
       "      <th>184</th>\n",
       "      <td>1</td>\n",
       "      <td>1</td>\n",
       "      <td>1</td>\n",
       "      <td>0.4</td>\n",
       "      <td>0.4</td>\n",
       "      <td>8.0458</td>\n",
       "      <td>5152</td>\n",
       "      <td>5152</td>\n",
       "      <td>0</td>\n",
       "      <td>5.9564</td>\n",
       "      <td>0</td>\n",
       "      <td>0.2</td>\n",
       "      <td>185</td>\n",
       "    </tr>\n",
       "  </tbody>\n",
       "</table>\n",
       "<p>185 rows × 13 columns</p>\n",
       "</div>"
      ],
      "text/plain": [
       "     Number of proteins  Peptides  Unique peptides  Sequence coverage [%]  \\\n",
       "0                     1         2                2                   11.8   \n",
       "1                     2         2                2                   11.8   \n",
       "2                     1         1                1                    0.1   \n",
       "3                     1         1                1                    1.9   \n",
       "4                     1         1                1                    4.8   \n",
       "..                  ...       ...              ...                    ...   \n",
       "180                   1         1                1                    1.0   \n",
       "181                   1         1                1                    3.0   \n",
       "182                   1         1                1                    3.4   \n",
       "183                   1         1                1                    1.7   \n",
       "184                   1         1                1                    0.4   \n",
       "\n",
       "     Unique sequence coverage [%]  Mol. weight [kDa]  Sequence length  \\\n",
       "0                            11.8          4007.0000               68   \n",
       "1                            11.8          4007.0000             1195   \n",
       "2                             0.1           760.2800             6993   \n",
       "3                             1.9           760.2800              421   \n",
       "4                             4.8           559.4300              146   \n",
       "..                            ...                ...              ...   \n",
       "180                           1.0            13.5750             1536   \n",
       "181                           3.0            11.4460              201   \n",
       "182                           3.4            10.8300              207   \n",
       "183                           1.7             8.1435              803   \n",
       "184                           0.4             8.0458             5152   \n",
       "\n",
       "     Sequence lengths  Q-value    Score    Intensity  locationweight   ID  \n",
       "0                  68        0  26.8050  43278000000             0.2    1  \n",
       "1                1195        0  26.8050  43278000000             0.2    2  \n",
       "2                6993        0  13.5360  27118000000             0.2    3  \n",
       "3                 421        0   9.2509  10040000000             0.2    4  \n",
       "4                 146        0   6.1686   9356900000             0.2    5  \n",
       "..                ...      ...      ...          ...             ...  ...  \n",
       "180              1536        0   6.5413            0             0.5  181  \n",
       "181               201        0   6.3478            0             0.2  182  \n",
       "182               207        0   6.2729            0             0.2  183  \n",
       "183               803        0   5.9787            0             0.2  184  \n",
       "184              5152        0   5.9564            0             0.2  185  \n",
       "\n",
       "[185 rows x 13 columns]"
      ]
     },
     "execution_count": 141,
     "metadata": {},
     "output_type": "execute_result"
    }
   ],
   "source": [
    "df1"
   ]
  },
  {
   "cell_type": "code",
   "execution_count": 142,
   "metadata": {},
   "outputs": [],
   "source": [
    "data1=pd.DataFrame(df1).to_numpy()"
   ]
  },
  {
   "cell_type": "code",
   "execution_count": 143,
   "metadata": {},
   "outputs": [
    {
     "data": {
      "text/plain": [
       "array([[-0.30151138, -0.30151138, -0.30151138, ..., -0.30151137,\n",
       "         3.31662479, -0.30151138],\n",
       "       [-0.30151139, -0.30151139, -0.30151139, ..., -0.30151139,\n",
       "         3.31662479, -0.30151139],\n",
       "       [-0.30151152, -0.30151152, -0.30151152, ..., -0.30151152,\n",
       "         3.31662479, -0.30151152],\n",
       "       ...,\n",
       "       [-0.469309  , -0.469309  , -0.469309  , ..., -0.40010547,\n",
       "        -0.48243337, -0.4798085 ],\n",
       "       [-0.45079144, -0.45079144, -0.45079144, ..., -0.43411225,\n",
       "        -0.45414155, -0.45347153],\n",
       "       [-0.44763015, -0.44763015, -0.44763015, ..., -0.44504785,\n",
       "        -0.44815116, -0.44804696]])"
      ]
     },
     "execution_count": 143,
     "metadata": {},
     "output_type": "execute_result"
    }
   ],
   "source": [
    "dt"
   ]
  },
  {
   "cell_type": "code",
   "execution_count": 144,
   "metadata": {
    "scrolled": false
   },
   "outputs": [
    {
     "data": {
      "text/plain": [
       "array([[1.0000e+00, 2.0000e+00, 2.0000e+00, ..., 4.3278e+10, 2.0000e-01,\n",
       "        1.0000e+00],\n",
       "       [2.0000e+00, 2.0000e+00, 2.0000e+00, ..., 4.3278e+10, 2.0000e-01,\n",
       "        2.0000e+00],\n",
       "       [1.0000e+00, 1.0000e+00, 1.0000e+00, ..., 2.7118e+10, 2.0000e-01,\n",
       "        3.0000e+00],\n",
       "       ...,\n",
       "       [1.0000e+00, 1.0000e+00, 1.0000e+00, ..., 0.0000e+00, 2.0000e-01,\n",
       "        1.8300e+02],\n",
       "       [1.0000e+00, 1.0000e+00, 1.0000e+00, ..., 0.0000e+00, 2.0000e-01,\n",
       "        1.8400e+02],\n",
       "       [1.0000e+00, 1.0000e+00, 1.0000e+00, ..., 0.0000e+00, 2.0000e-01,\n",
       "        1.8500e+02]])"
      ]
     },
     "execution_count": 144,
     "metadata": {},
     "output_type": "execute_result"
    }
   ],
   "source": [
    "data1"
   ]
  },
  {
   "cell_type": "code",
   "execution_count": 145,
   "metadata": {},
   "outputs": [],
   "source": [
    "weight_data=data1[:][:,-2]"
   ]
  },
  {
   "cell_type": "code",
   "execution_count": 146,
   "metadata": {},
   "outputs": [],
   "source": [
    "ID=data1[:][:,-1]"
   ]
  },
  {
   "cell_type": "code",
   "execution_count": 147,
   "metadata": {},
   "outputs": [
    {
     "name": "stdout",
     "output_type": "stream",
     "text": [
      "[  1.   2.   3.   4.   5.   6.   7.   8.   9.  10.  11.  12.  13.  14.\n",
      "  15.  16.  17.  18.  19.  20.  21.  22.  23.  24.  25.  26.  27.  28.\n",
      "  29.  30.  31.  32.  33.  34.  35.  36.  37.  38.  39.  40.  41.  42.\n",
      "  43.  44.  45.  46.  47.  48.  49.  50.  51.  52.  53.  54.  55.  56.\n",
      "  57.  58.  59.  60.  61.  62.  63.  64.  65.  66.  67.  68.  69.  70.\n",
      "  71.  72.  73.  74.  75.  76.  77.  78.  79.  80.  81.  82.  83.  84.\n",
      "  85.  86.  87.  88.  89.  90.  91.  92.  93.  94.  95.  96.  97.  98.\n",
      "  99. 100. 101. 102. 103. 104. 105. 106. 107. 108. 109. 110. 111. 112.\n",
      " 113. 114. 115. 116. 117. 118. 119. 120. 121. 122. 123. 124. 125. 126.\n",
      " 127. 128. 129. 130. 131. 132. 133. 134. 135. 136. 137. 138. 139. 140.\n",
      " 141. 142. 143. 144. 145. 146. 147. 148. 149. 150. 151. 152. 153. 154.\n",
      " 155. 156. 157. 158. 159. 160. 161. 162. 163. 164. 165. 166. 167. 168.\n",
      " 169. 170. 171. 172. 173. 174. 175. 176. 177. 178. 179. 180. 181. 182.\n",
      " 183. 184. 185.]\n"
     ]
    }
   ],
   "source": [
    "print(ID)"
   ]
  },
  {
   "cell_type": "code",
   "execution_count": 148,
   "metadata": {},
   "outputs": [
    {
     "data": {
      "text/plain": [
       "185"
      ]
     },
     "execution_count": 148,
     "metadata": {},
     "output_type": "execute_result"
    }
   ],
   "source": [
    "location_weight=50*weight_data\n",
    "len(location_weight)"
   ]
  },
  {
   "cell_type": "code",
   "execution_count": 149,
   "metadata": {},
   "outputs": [
    {
     "data": {
      "text/plain": [
       "array([-0.44763015, -0.44763015, -0.44763015, -0.44794276, -0.44794276,\n",
       "       -0.44395926,  2.23606618,  2.23606618, -0.44815116, -0.44504785,\n",
       "       -0.44815116, -0.44804696])"
      ]
     },
     "execution_count": 149,
     "metadata": {},
     "output_type": "execute_result"
    }
   ],
   "source": [
    "dt[184,:]"
   ]
  },
  {
   "cell_type": "code",
   "execution_count": 150,
   "metadata": {
    "scrolled": false
   },
   "outputs": [
    {
     "name": "stdout",
     "output_type": "stream",
     "text": [
      "[[ 0.0003015   0.00030148  0.0003012  ...  0.00030148 -0.00030148\n",
      "   0.00331649]\n",
      " [ 0.0003015   0.00030148  0.0003012  ...  0.00030148 -0.00030148\n",
      "   0.00331649]\n",
      " [ 0.0003015   0.00030148  0.0003012  ...  0.00030148 -0.00030148\n",
      "   0.00331649]\n",
      " ...\n",
      " [ 0.00046929  0.00046925  0.00046883 ...  0.00048239 -0.00040006\n",
      "  -0.00048241]\n",
      " [ 0.00045077  0.00045074  0.00045033 ...  0.0004541  -0.00043406\n",
      "  -0.00045412]\n",
      " [ 0.00044761  0.00044758  0.00044717 ...  0.00044811 -0.00044499\n",
      "  -0.00044813]]\n"
     ]
    },
    {
     "data": {
      "text/plain": [
       "185"
      ]
     },
     "execution_count": 150,
     "metadata": {},
     "output_type": "execute_result"
    }
   ],
   "source": [
    "final=recorded_weight*dt[:,0:11]\n",
    "print(final)\n",
    "len(final)"
   ]
  },
  {
   "cell_type": "code",
   "execution_count": 151,
   "metadata": {},
   "outputs": [
    {
     "name": "stdout",
     "output_type": "stream",
     "text": [
      "tf.Tensor(\n",
      "[[ 0.00030122 -0.00030151  0.0003015  ...  0.00030149 -0.0003015\n",
      "  -0.00331639]\n",
      " [ 0.00030122 -0.00030151  0.0003015  ...  0.00030149 -0.0003015\n",
      "  -0.00331639]\n",
      " [ 0.00030122 -0.00030151  0.0003015  ...  0.00030149 -0.0003015\n",
      "  -0.00331639]\n",
      " ...\n",
      " [ 0.00046886 -0.0004693   0.00046929 ...  0.00048239 -0.00040009\n",
      "   0.0004824 ]\n",
      " [ 0.00045036 -0.00045078  0.00045077 ...  0.0004541  -0.0004341\n",
      "   0.00045411]\n",
      " [ 0.0004472  -0.00044762  0.00044761 ...  0.00044811 -0.00044503\n",
      "   0.00044812]], shape=(185, 11), dtype=float32)\n"
     ]
    },
    {
     "data": {
      "text/plain": [
       "185"
      ]
     },
     "execution_count": 151,
     "metadata": {},
     "output_type": "execute_result"
    }
   ],
   "source": [
    "gen_final=general_recorded_weight*dt[:,0:11]\n",
    "print(gen_final)\n",
    "len(gen_final)"
   ]
  },
  {
   "cell_type": "code",
   "execution_count": 164,
   "metadata": {},
   "outputs": [
    {
     "name": "stdout",
     "output_type": "stream",
     "text": [
      "[  7  56  39 127 149 173 180  25  16  15  26  12]\n"
     ]
    }
   ],
   "source": [
    "resulta = [sum(element) for element in final]\n",
    "final_prediction = location_weight+resulta\n",
    "\n",
    "#print(final_prediction)\n",
    "idx = (-final_prediction).argsort()[:12]\n",
    "print(idx)"
   ]
  },
  {
   "cell_type": "code",
   "execution_count": 165,
   "metadata": {},
   "outputs": [
    {
     "name": "stdout",
     "output_type": "stream",
     "text": [
      "[  7  56  39 127 149 173 180  25  16  15  26  12]\n"
     ]
    }
   ],
   "source": [
    "resultaa = [sum(element) for element in gen_final]\n",
    "final_prediction = location_weight+resultaa\n",
    "\n",
    "#print(final_prediction)\n",
    "idx1 = (-final_prediction).argsort()[:12]\n",
    "print(idx)"
   ]
  },
  {
   "cell_type": "code",
   "execution_count": 166,
   "metadata": {},
   "outputs": [],
   "source": [
    "#now since python starts from 0, we need to add 1 to idx"
   ]
  },
  {
   "cell_type": "code",
   "execution_count": 167,
   "metadata": {},
   "outputs": [
    {
     "name": "stdout",
     "output_type": "stream",
     "text": [
      "[  8  57  40 128 150 174 181  26  17  16  27  13]\n"
     ]
    }
   ],
   "source": [
    "new_idx=idx+1\n",
    "print(new_idx)\n",
    "\n",
    "#new_idx1=idx1+1\n",
    "#print(new_idx1)"
   ]
  },
  {
   "cell_type": "code",
   "execution_count": 156,
   "metadata": {},
   "outputs": [],
   "source": [
    "#G3GTC6   8 %  Inactive serine protease 35, https://www.ncbi.nlm.nih.gov/pmc/articles/PMC98051/\n",
    "#https://www.uniprot.org/uniprot/G3GTC6\n",
    "##G3H5I4   57  NPY\n",
    "#G3HIP9.   40 ADAMTS12 Polyclonal antibody\n",
    "##G3HTG1   128 anti-doc2b\n",
    "#G3IL75.   150 Recombinant anti-collagen V antibody\n",
    "#G3H0S3   174  \n",
    "#G3GSJ8   181\n",
    "#G3IGQ2   26\n",
    "#P0A9K9.  17\n",
    "#G3H9U3   16\n",
    "#G3IGQ2   27\n",
    "#G3GWD3.  13\n",
    "\n",
    "## is the repeated prediction that we used in machine learning, achieved using PCA"
   ]
  },
  {
   "cell_type": "code",
   "execution_count": null,
   "metadata": {},
   "outputs": [],
   "source": []
  }
 ],
 "metadata": {
  "kernelspec": {
   "display_name": "Python 3",
   "language": "python",
   "name": "python3"
  },
  "language_info": {
   "codemirror_mode": {
    "name": "ipython",
    "version": 3
   },
   "file_extension": ".py",
   "mimetype": "text/x-python",
   "name": "python",
   "nbconvert_exporter": "python",
   "pygments_lexer": "ipython3",
   "version": "3.8.5"
  }
 },
 "nbformat": 4,
 "nbformat_minor": 4
}
