{
 "cells": [
  {
   "cell_type": "code",
   "execution_count": 1,
   "metadata": {},
   "outputs": [],
   "source": [
    "import os\n",
    "import tempfile\n",
    "\n",
    "import matplotlib as mpl\n",
    "import matplotlib.pyplot as plt\n",
    "import numpy as np\n",
    "import pandas as pd\n",
    "import seaborn as sns\n",
    "\n",
    "import sklearn\n",
    "from sklearn.metrics import confusion_matrix\n",
    "from sklearn.model_selection import train_test_split\n",
    "from sklearn.preprocessing import StandardScaler\n",
    "from scipy import stats"
   ]
  },
  {
   "cell_type": "code",
   "execution_count": 7,
   "metadata": {},
   "outputs": [],
   "source": [
    "df1 = pd.read_csv(\"/Users/lisajin/Documents/Smnology/CDC_SNOR.csv\")\n",
    "headers = np.array(df.columns)  # get headers\n",
    "values = df.values  # numpy array of values\n",
    "matrix = np.concatenate([[headers], values])  # append to the final matrix\n",
    "\n",
    "\n",
    "data=pd.DataFrame(df1).to_numpy()\n"
   ]
  },
  {
   "cell_type": "code",
   "execution_count": 8,
   "metadata": {},
   "outputs": [
    {
     "data": {
      "text/html": [
       "<div>\n",
       "<style scoped>\n",
       "    .dataframe tbody tr th:only-of-type {\n",
       "        vertical-align: middle;\n",
       "    }\n",
       "\n",
       "    .dataframe tbody tr th {\n",
       "        vertical-align: top;\n",
       "    }\n",
       "\n",
       "    .dataframe thead th {\n",
       "        text-align: right;\n",
       "    }\n",
       "</style>\n",
       "<table border=\"1\" class=\"dataframe\">\n",
       "  <thead>\n",
       "    <tr style=\"text-align: right;\">\n",
       "      <th></th>\n",
       "      <th>strara</th>\n",
       "      <th>NO.</th>\n",
       "      <th>sleeping&lt;7hrs</th>\n",
       "      <th>sleep&lt;7hr_cil</th>\n",
       "      <th>sleep&lt;7hr&gt;cih</th>\n",
       "      <th>snoring</th>\n",
       "      <th>snoring_cil</th>\n",
       "      <th>snoing_cih</th>\n",
       "      <th>unintentionally fell asleep during the day at least 1 day in the preceding 30 days</th>\n",
       "      <th>unintentionally fell asleep during the day at least 1 day in the preceding 30 days_cil</th>\n",
       "      <th>unintentionally fell asleep during the day at least 1 day in the preceding 30 days_cih</th>\n",
       "      <th>nodded off or fell asleep while driving in the preceding 30 days</th>\n",
       "      <th>nodded off or fell asleep while driving in the preceding 30 days_cil</th>\n",
       "      <th>nodded off or fell asleep while driving in the preceding 30 days_cih</th>\n",
       "    </tr>\n",
       "  </thead>\n",
       "  <tbody>\n",
       "    <tr>\n",
       "      <th>0</th>\n",
       "      <td>total</td>\n",
       "      <td>74571</td>\n",
       "      <td>35.3</td>\n",
       "      <td>34.5</td>\n",
       "      <td>36.1</td>\n",
       "      <td>48.0</td>\n",
       "      <td>47.2</td>\n",
       "      <td>48.8</td>\n",
       "      <td>37.9</td>\n",
       "      <td>37.1</td>\n",
       "      <td>38.7</td>\n",
       "      <td>4.7</td>\n",
       "      <td>4.2</td>\n",
       "      <td>5.1</td>\n",
       "    </tr>\n",
       "    <tr>\n",
       "      <th>1</th>\n",
       "      <td>age18-24</td>\n",
       "      <td>2330</td>\n",
       "      <td>30.9</td>\n",
       "      <td>27.8</td>\n",
       "      <td>33.9</td>\n",
       "      <td>25.6</td>\n",
       "      <td>22.7</td>\n",
       "      <td>28.6</td>\n",
       "      <td>43.7</td>\n",
       "      <td>40.4</td>\n",
       "      <td>47.1</td>\n",
       "      <td>4.5</td>\n",
       "      <td>3.0</td>\n",
       "      <td>5.9</td>\n",
       "    </tr>\n",
       "    <tr>\n",
       "      <th>2</th>\n",
       "      <td>age25-34</td>\n",
       "      <td>6637</td>\n",
       "      <td>39.4</td>\n",
       "      <td>37.3</td>\n",
       "      <td>41.6</td>\n",
       "      <td>39.6</td>\n",
       "      <td>37.4</td>\n",
       "      <td>41.8</td>\n",
       "      <td>36.1</td>\n",
       "      <td>34.0</td>\n",
       "      <td>38.2</td>\n",
       "      <td>7.2</td>\n",
       "      <td>5.8</td>\n",
       "      <td>8.6</td>\n",
       "    </tr>\n",
       "    <tr>\n",
       "      <th>3</th>\n",
       "      <td>age35-44</td>\n",
       "      <td>10645</td>\n",
       "      <td>39.3</td>\n",
       "      <td>37.6</td>\n",
       "      <td>40.5</td>\n",
       "      <td>51.0</td>\n",
       "      <td>49.2</td>\n",
       "      <td>52.7</td>\n",
       "      <td>34.0</td>\n",
       "      <td>32.3</td>\n",
       "      <td>35.6</td>\n",
       "      <td>5.7</td>\n",
       "      <td>4.9</td>\n",
       "      <td>6.6</td>\n",
       "    </tr>\n",
       "    <tr>\n",
       "      <th>4</th>\n",
       "      <td>age45-54</td>\n",
       "      <td>15407</td>\n",
       "      <td>39.0</td>\n",
       "      <td>37.6</td>\n",
       "      <td>40.5</td>\n",
       "      <td>59.3</td>\n",
       "      <td>57.8</td>\n",
       "      <td>60.8</td>\n",
       "      <td>35.3</td>\n",
       "      <td>33.8</td>\n",
       "      <td>36.7</td>\n",
       "      <td>3.9</td>\n",
       "      <td>3.3</td>\n",
       "      <td>4.6</td>\n",
       "    </tr>\n",
       "  </tbody>\n",
       "</table>\n",
       "</div>"
      ],
      "text/plain": [
       "     strara    NO.  sleeping<7hrs  sleep<7hr_cil  sleep<7hr>cih  snoring  \\\n",
       "0     total  74571           35.3           34.5           36.1     48.0   \n",
       "1  age18-24   2330           30.9           27.8           33.9     25.6   \n",
       "2  age25-34   6637           39.4           37.3           41.6     39.6   \n",
       "3  age35-44  10645           39.3           37.6           40.5     51.0   \n",
       "4  age45-54  15407           39.0           37.6           40.5     59.3   \n",
       "\n",
       "   snoring_cil  snoing_cih  \\\n",
       "0         47.2        48.8   \n",
       "1         22.7        28.6   \n",
       "2         37.4        41.8   \n",
       "3         49.2        52.7   \n",
       "4         57.8        60.8   \n",
       "\n",
       "   unintentionally fell asleep during the day at least 1 day in the preceding 30 days  \\\n",
       "0                                               37.9                                    \n",
       "1                                               43.7                                    \n",
       "2                                               36.1                                    \n",
       "3                                               34.0                                    \n",
       "4                                               35.3                                    \n",
       "\n",
       "   unintentionally fell asleep during the day at least 1 day in the preceding 30 days_cil  \\\n",
       "0                                               37.1                                        \n",
       "1                                               40.4                                        \n",
       "2                                               34.0                                        \n",
       "3                                               32.3                                        \n",
       "4                                               33.8                                        \n",
       "\n",
       "   unintentionally fell asleep during the day at least 1 day in the preceding 30 days_cih  \\\n",
       "0                                               38.7                                        \n",
       "1                                               47.1                                        \n",
       "2                                               38.2                                        \n",
       "3                                               35.6                                        \n",
       "4                                               36.7                                        \n",
       "\n",
       "   nodded off or fell asleep while driving in the preceding 30 days  \\\n",
       "0                                                4.7                  \n",
       "1                                                4.5                  \n",
       "2                                                7.2                  \n",
       "3                                                5.7                  \n",
       "4                                                3.9                  \n",
       "\n",
       "   nodded off or fell asleep while driving in the preceding 30 days_cil  \\\n",
       "0                                                4.2                      \n",
       "1                                                3.0                      \n",
       "2                                                5.8                      \n",
       "3                                                4.9                      \n",
       "4                                                3.3                      \n",
       "\n",
       "   nodded off or fell asleep while driving in the preceding 30 days_cih  \n",
       "0                                                5.1                     \n",
       "1                                                5.9                     \n",
       "2                                                8.6                     \n",
       "3                                                6.6                     \n",
       "4                                                4.6                     "
      ]
     },
     "execution_count": 8,
     "metadata": {},
     "output_type": "execute_result"
    }
   ],
   "source": [
    "df1.head()"
   ]
  },
  {
   "cell_type": "code",
   "execution_count": 10,
   "metadata": {},
   "outputs": [],
   "source": [
    "df2 = pd.read_csv(\"/Users/lisajin/Documents/Smnology/CDC_Table.sleepdiff.csv\")\n",
    "headers = np.array(df.columns)  # get headers\n",
    "values = df.values  # numpy array of values\n",
    "matrix = np.concatenate([[headers], values])  # append to the final matrix\n",
    "\n",
    "\n",
    "data=pd.DataFrame(df2).to_numpy()\n"
   ]
  },
  {
   "cell_type": "code",
   "execution_count": 11,
   "metadata": {
    "scrolled": true
   },
   "outputs": [
    {
     "data": {
      "text/html": [
       "<div>\n",
       "<style scoped>\n",
       "    .dataframe tbody tr th:only-of-type {\n",
       "        vertical-align: middle;\n",
       "    }\n",
       "\n",
       "    .dataframe tbody tr th {\n",
       "        vertical-align: top;\n",
       "    }\n",
       "\n",
       "    .dataframe thead th {\n",
       "        text-align: right;\n",
       "    }\n",
       "</style>\n",
       "<table border=\"1\" class=\"dataframe\">\n",
       "  <thead>\n",
       "    <tr style=\"text-align: right;\">\n",
       "      <th></th>\n",
       "      <th>strata</th>\n",
       "      <th>No.</th>\n",
       "      <th>sleep&lt;7hrs</th>\n",
       "      <th>sleep&lt;7hrs_cil</th>\n",
       "      <th>sleep&lt;7hrs_cih</th>\n",
       "      <th>concentrating</th>\n",
       "      <th>concentrating_cil</th>\n",
       "      <th>concentrating_cih</th>\n",
       "      <th>remembering</th>\n",
       "      <th>remembering_cil</th>\n",
       "      <th>...</th>\n",
       "      <th>working on bobby_lih</th>\n",
       "      <th>driving or taking public trans</th>\n",
       "      <th>driving or taking public trans_cil</th>\n",
       "      <th>driving or taking public trans_cih</th>\n",
       "      <th>taking care of fina</th>\n",
       "      <th>taking care of fin_cil</th>\n",
       "      <th>taking care of fin_cih</th>\n",
       "      <th>performing employed/volunteer work</th>\n",
       "      <th>performing employed/volunteer work_cil</th>\n",
       "      <th>performing employed/volunteer work_cih</th>\n",
       "    </tr>\n",
       "  </thead>\n",
       "  <tbody>\n",
       "    <tr>\n",
       "      <th>0</th>\n",
       "      <td>total</td>\n",
       "      <td>10896</td>\n",
       "      <td>37.1</td>\n",
       "      <td>35.0</td>\n",
       "      <td>39.1</td>\n",
       "      <td>23.2</td>\n",
       "      <td>22.0</td>\n",
       "      <td>24.5</td>\n",
       "      <td>18.2</td>\n",
       "      <td>17.2</td>\n",
       "      <td>...</td>\n",
       "      <td>14.0</td>\n",
       "      <td>11.3</td>\n",
       "      <td>10.5</td>\n",
       "      <td>12.1</td>\n",
       "      <td>10.5</td>\n",
       "      <td>9.6</td>\n",
       "      <td>11.4</td>\n",
       "      <td>8.6</td>\n",
       "      <td>7.9</td>\n",
       "      <td>9.4</td>\n",
       "    </tr>\n",
       "    <tr>\n",
       "      <th>1</th>\n",
       "      <td>men</td>\n",
       "      <td>5291</td>\n",
       "      <td>38.9</td>\n",
       "      <td>36.8</td>\n",
       "      <td>41.0</td>\n",
       "      <td>20.2</td>\n",
       "      <td>19.0</td>\n",
       "      <td>21.5</td>\n",
       "      <td>15.0</td>\n",
       "      <td>13.8</td>\n",
       "      <td>...</td>\n",
       "      <td>11.3</td>\n",
       "      <td>9.4</td>\n",
       "      <td>8.4</td>\n",
       "      <td>10.4</td>\n",
       "      <td>10.0</td>\n",
       "      <td>8.8</td>\n",
       "      <td>11.3</td>\n",
       "      <td>7.8</td>\n",
       "      <td>6.9</td>\n",
       "      <td>8.8</td>\n",
       "    </tr>\n",
       "    <tr>\n",
       "      <th>2</th>\n",
       "      <td>women</td>\n",
       "      <td>5605</td>\n",
       "      <td>35.3</td>\n",
       "      <td>32.7</td>\n",
       "      <td>37.8</td>\n",
       "      <td>26.1</td>\n",
       "      <td>24.4</td>\n",
       "      <td>27.8</td>\n",
       "      <td>21.4</td>\n",
       "      <td>19.7</td>\n",
       "      <td>...</td>\n",
       "      <td>17.0</td>\n",
       "      <td>13.1</td>\n",
       "      <td>12.0</td>\n",
       "      <td>14.3</td>\n",
       "      <td>11.0</td>\n",
       "      <td>9.8</td>\n",
       "      <td>12.2</td>\n",
       "      <td>9.5</td>\n",
       "      <td>8.5</td>\n",
       "      <td>10.5</td>\n",
       "    </tr>\n",
       "    <tr>\n",
       "      <th>3</th>\n",
       "      <td>age20-39</td>\n",
       "      <td>3830</td>\n",
       "      <td>37.0</td>\n",
       "      <td>34.3</td>\n",
       "      <td>39.7</td>\n",
       "      <td>25.1</td>\n",
       "      <td>23.1</td>\n",
       "      <td>27.1</td>\n",
       "      <td>18.4</td>\n",
       "      <td>16.9</td>\n",
       "      <td>...</td>\n",
       "      <td>14.5</td>\n",
       "      <td>12.6</td>\n",
       "      <td>11.3</td>\n",
       "      <td>13.9</td>\n",
       "      <td>10.7</td>\n",
       "      <td>8.8</td>\n",
       "      <td>12.6</td>\n",
       "      <td>10.3</td>\n",
       "      <td>8.8</td>\n",
       "      <td>11.9</td>\n",
       "    </tr>\n",
       "    <tr>\n",
       "      <th>4</th>\n",
       "      <td>age40-59</td>\n",
       "      <td>3350</td>\n",
       "      <td>40.3</td>\n",
       "      <td>37.7</td>\n",
       "      <td>42.9</td>\n",
       "      <td>24.5</td>\n",
       "      <td>22.5</td>\n",
       "      <td>26.5</td>\n",
       "      <td>20.3</td>\n",
       "      <td>18.6</td>\n",
       "      <td>...</td>\n",
       "      <td>17.2</td>\n",
       "      <td>12.7</td>\n",
       "      <td>11.1</td>\n",
       "      <td>14.3</td>\n",
       "      <td>13.2</td>\n",
       "      <td>12.0</td>\n",
       "      <td>14.5</td>\n",
       "      <td>10.0</td>\n",
       "      <td>8.7</td>\n",
       "      <td>11.3</td>\n",
       "    </tr>\n",
       "  </tbody>\n",
       "</table>\n",
       "<p>5 rows × 23 columns</p>\n",
       "</div>"
      ],
      "text/plain": [
       "     strata    No.  sleep<7hrs  sleep<7hrs_cil  sleep<7hrs_cih  concentrating  \\\n",
       "0     total  10896        37.1            35.0            39.1           23.2   \n",
       "1       men   5291        38.9            36.8            41.0           20.2   \n",
       "2     women   5605        35.3            32.7            37.8           26.1   \n",
       "3  age20-39   3830        37.0            34.3            39.7           25.1   \n",
       "4  age40-59   3350        40.3            37.7            42.9           24.5   \n",
       "\n",
       "   concentrating_cil  concentrating_cih  remembering  remembering_cil  ...  \\\n",
       "0               22.0               24.5         18.2             17.2  ...   \n",
       "1               19.0               21.5         15.0             13.8  ...   \n",
       "2               24.4               27.8         21.4             19.7  ...   \n",
       "3               23.1               27.1         18.4             16.9  ...   \n",
       "4               22.5               26.5         20.3             18.6  ...   \n",
       "\n",
       "   working on bobby_lih  driving or taking public trans  \\\n",
       "0                  14.0                            11.3   \n",
       "1                  11.3                             9.4   \n",
       "2                  17.0                            13.1   \n",
       "3                  14.5                            12.6   \n",
       "4                  17.2                            12.7   \n",
       "\n",
       "   driving or taking public trans_cil  driving or taking public trans_cih  \\\n",
       "0                                10.5                                12.1   \n",
       "1                                 8.4                                10.4   \n",
       "2                                12.0                                14.3   \n",
       "3                                11.3                                13.9   \n",
       "4                                11.1                                14.3   \n",
       "\n",
       "   taking care of fina  taking care of fin_cil  taking care of fin_cih  \\\n",
       "0                 10.5                     9.6                    11.4   \n",
       "1                 10.0                     8.8                    11.3   \n",
       "2                 11.0                     9.8                    12.2   \n",
       "3                 10.7                     8.8                    12.6   \n",
       "4                 13.2                    12.0                    14.5   \n",
       "\n",
       "   performing employed/volunteer work  performing employed/volunteer work_cil  \\\n",
       "0                                 8.6                                     7.9   \n",
       "1                                 7.8                                     6.9   \n",
       "2                                 9.5                                     8.5   \n",
       "3                                10.3                                     8.8   \n",
       "4                                10.0                                     8.7   \n",
       "\n",
       "   performing employed/volunteer work_cih  \n",
       "0                                     9.4  \n",
       "1                                     8.8  \n",
       "2                                    10.5  \n",
       "3                                    11.9  \n",
       "4                                    11.3  \n",
       "\n",
       "[5 rows x 23 columns]"
      ]
     },
     "execution_count": 11,
     "metadata": {},
     "output_type": "execute_result"
    }
   ],
   "source": [
    "df2.head()"
   ]
  },
  {
   "cell_type": "code",
   "execution_count": 93,
   "metadata": {},
   "outputs": [],
   "source": [
    "#got rid of the total and only look at the segment\n",
    "df1_new=df1.iloc[1: , :]\n",
    "df2_new=df2.iloc[1: , :]\n",
    "df1_sex=df1[df1['strara'].isin(['men','women'])]\n",
    "df1_age=df1[df1['strara'].isin(['ageage18-24','age25-34','age35-44','age45-54','age55-64','age>=65'])]\n",
    "df1_education=df1[df1['strara'].isin(['less than high school or GED','high school or GED','some college'])]\n",
    "df1_race=df1[df1['strara'].isin(['white','black','hispanic','others'])]\n",
    "df1_marital=df1[df1['strara'].isin(['married','divorced/widowed/separated','never married','member of unmarried couple'])]\n",
    "df1_work=df1[df1['strara'].isin(['employed','unemployed','retired','unable to work'])]"
   ]
  },
  {
   "cell_type": "code",
   "execution_count": 70,
   "metadata": {
    "scrolled": true
   },
   "outputs": [
    {
     "data": {
      "text/html": [
       "<div>\n",
       "<style scoped>\n",
       "    .dataframe tbody tr th:only-of-type {\n",
       "        vertical-align: middle;\n",
       "    }\n",
       "\n",
       "    .dataframe tbody tr th {\n",
       "        vertical-align: top;\n",
       "    }\n",
       "\n",
       "    .dataframe thead th {\n",
       "        text-align: right;\n",
       "    }\n",
       "</style>\n",
       "<table border=\"1\" class=\"dataframe\">\n",
       "  <thead>\n",
       "    <tr style=\"text-align: right;\">\n",
       "      <th></th>\n",
       "      <th>strara</th>\n",
       "      <th>NO.</th>\n",
       "      <th>sleeping&lt;7hrs</th>\n",
       "      <th>sleep&lt;7hr_cil</th>\n",
       "      <th>sleep&lt;7hr&gt;cih</th>\n",
       "      <th>snoring</th>\n",
       "      <th>snoring_cil</th>\n",
       "      <th>snoing_cih</th>\n",
       "      <th>unintentionally fell asleep during the day at least 1 day in the preceding 30 days</th>\n",
       "      <th>unintentionally fell asleep during the day at least 1 day in the preceding 30 days_cil</th>\n",
       "      <th>unintentionally fell asleep during the day at least 1 day in the preceding 30 days_cih</th>\n",
       "      <th>nodded off or fell asleep while driving in the preceding 30 days</th>\n",
       "      <th>nodded off or fell asleep while driving in the preceding 30 days_cil</th>\n",
       "      <th>nodded off or fell asleep while driving in the preceding 30 days_cih</th>\n",
       "    </tr>\n",
       "  </thead>\n",
       "  <tbody>\n",
       "    <tr>\n",
       "      <th>18</th>\n",
       "      <td>less than high school or GED</td>\n",
       "      <td>6393</td>\n",
       "      <td>32.0</td>\n",
       "      <td>29.8</td>\n",
       "      <td>34.2</td>\n",
       "      <td>51.2</td>\n",
       "      <td>48.7</td>\n",
       "      <td>53.7</td>\n",
       "      <td>43.4</td>\n",
       "      <td>40.9</td>\n",
       "      <td>45.9</td>\n",
       "      <td>5.4</td>\n",
       "      <td>4.2</td>\n",
       "      <td>6.5</td>\n",
       "    </tr>\n",
       "    <tr>\n",
       "      <th>19</th>\n",
       "      <td>high school or GED</td>\n",
       "      <td>20504</td>\n",
       "      <td>37.0</td>\n",
       "      <td>35.4</td>\n",
       "      <td>38.6</td>\n",
       "      <td>49.9</td>\n",
       "      <td>48.3</td>\n",
       "      <td>51.5</td>\n",
       "      <td>39.6</td>\n",
       "      <td>38.1</td>\n",
       "      <td>41.2</td>\n",
       "      <td>4.0</td>\n",
       "      <td>3.4</td>\n",
       "      <td>3.7</td>\n",
       "    </tr>\n",
       "    <tr>\n",
       "      <th>20</th>\n",
       "      <td>some college</td>\n",
       "      <td>47426</td>\n",
       "      <td>35.8</td>\n",
       "      <td>34.8</td>\n",
       "      <td>36.8</td>\n",
       "      <td>47.0</td>\n",
       "      <td>46.0</td>\n",
       "      <td>47.9</td>\n",
       "      <td>35.9</td>\n",
       "      <td>34.9</td>\n",
       "      <td>36.9</td>\n",
       "      <td>4.8</td>\n",
       "      <td>4.2</td>\n",
       "      <td>5.4</td>\n",
       "    </tr>\n",
       "  </tbody>\n",
       "</table>\n",
       "</div>"
      ],
      "text/plain": [
       "                          strara    NO.  sleeping<7hrs  sleep<7hr_cil  \\\n",
       "18  less than high school or GED   6393           32.0           29.8   \n",
       "19            high school or GED  20504           37.0           35.4   \n",
       "20                  some college  47426           35.8           34.8   \n",
       "\n",
       "    sleep<7hr>cih  snoring  snoring_cil  snoing_cih  \\\n",
       "18           34.2     51.2         48.7        53.7   \n",
       "19           38.6     49.9         48.3        51.5   \n",
       "20           36.8     47.0         46.0        47.9   \n",
       "\n",
       "    unintentionally fell asleep during the day at least 1 day in the preceding 30 days  \\\n",
       "18                                               43.4                                    \n",
       "19                                               39.6                                    \n",
       "20                                               35.9                                    \n",
       "\n",
       "    unintentionally fell asleep during the day at least 1 day in the preceding 30 days_cil  \\\n",
       "18                                               40.9                                        \n",
       "19                                               38.1                                        \n",
       "20                                               34.9                                        \n",
       "\n",
       "    unintentionally fell asleep during the day at least 1 day in the preceding 30 days_cih  \\\n",
       "18                                               45.9                                        \n",
       "19                                               41.2                                        \n",
       "20                                               36.9                                        \n",
       "\n",
       "    nodded off or fell asleep while driving in the preceding 30 days  \\\n",
       "18                                                5.4                  \n",
       "19                                                4.0                  \n",
       "20                                                4.8                  \n",
       "\n",
       "    nodded off or fell asleep while driving in the preceding 30 days_cil  \\\n",
       "18                                                4.2                      \n",
       "19                                                3.4                      \n",
       "20                                                4.2                      \n",
       "\n",
       "    nodded off or fell asleep while driving in the preceding 30 days_cih  \n",
       "18                                                6.5                     \n",
       "19                                                3.7                     \n",
       "20                                                5.4                     "
      ]
     },
     "execution_count": 70,
     "metadata": {},
     "output_type": "execute_result"
    }
   ],
   "source": [
    "df1_education"
   ]
  },
  {
   "cell_type": "code",
   "execution_count": 71,
   "metadata": {},
   "outputs": [
    {
     "data": {
      "text/plain": [
       "<AxesSubplot:xlabel='strara'>"
      ]
     },
     "execution_count": 71,
     "metadata": {},
     "output_type": "execute_result"
    },
    {
     "data": {
      "image/png": "[encoded data removed]",
      "text/plain": [
       "<Figure size 432x288 with 1 Axes>"
      ]
     },
     "metadata": {
      "needs_background": "light"
     },
     "output_type": "display_data"
    }
   ],
   "source": [
    "df1_education.plot(kind='bar',x='strara',y=['sleeping<7hrs','snoring','unintentionally fell asleep during the day at least 1 day in the preceding 30 days','nodded off or fell asleep while driving in the preceding 30 days'])"
   ]
  },
  {
   "cell_type": "code",
   "execution_count": 72,
   "metadata": {},
   "outputs": [
    {
     "data": {
      "text/plain": [
       "<AxesSubplot:xlabel='strara'>"
      ]
     },
     "execution_count": 72,
     "metadata": {},
     "output_type": "execute_result"
    },
    {
     "data": {
      "image/png": "[encoded data removed]",
      "text/plain": [
       "<Figure size 432x288 with 1 Axes>"
      ]
     },
     "metadata": {
      "needs_background": "light"
     },
     "output_type": "display_data"
    }
   ],
   "source": [
    "df1_race.plot(kind='bar',x='strara',y=['sleeping<7hrs','snoring','unintentionally fell asleep during the day at least 1 day in the preceding 30 days','nodded off or fell asleep while driving in the preceding 30 days'])"
   ]
  },
  {
   "cell_type": "code",
   "execution_count": 73,
   "metadata": {},
   "outputs": [
    {
     "data": {
      "text/plain": [
       "<AxesSubplot:xlabel='strara'>"
      ]
     },
     "execution_count": 73,
     "metadata": {},
     "output_type": "execute_result"
    },
    {
     "data": {
      "image/png": "[encoded data removed]",
      "text/plain": [
       "<Figure size 432x288 with 1 Axes>"
      ]
     },
     "metadata": {
      "needs_background": "light"
     },
     "output_type": "display_data"
    }
   ],
   "source": [
    "df1_work.plot(kind='bar',x='strara',y=['sleeping<7hrs','snoring','unintentionally fell asleep during the day at least 1 day in the preceding 30 days','nodded off or fell asleep while driving in the preceding 30 days'])"
   ]
  },
  {
   "cell_type": "code",
   "execution_count": 74,
   "metadata": {},
   "outputs": [
    {
     "data": {
      "text/plain": [
       "<AxesSubplot:xlabel='strara', ylabel='unintentionally fell asleep during the day at least 1 day in the preceding 30 days'>"
      ]
     },
     "execution_count": 74,
     "metadata": {},
     "output_type": "execute_result"
    },
    {
     "data": {
      "image/png": "[encoded data removed]",
      "text/plain": [
       "<Figure size 432x288 with 4 Axes>"
      ]
     },
     "metadata": {
      "needs_background": "light"
     },
     "output_type": "display_data"
    }
   ],
   "source": [
    "sns.histplot(data=df1_education, x=\"strara\",y='unintentionally fell asleep during the day at least 1 day in the preceding 30 days',\n",
    "             hue='strara',\n",
    "             cbar=True,\n",
    "             bins=10)"
   ]
  },
  {
   "cell_type": "code",
   "execution_count": 64,
   "metadata": {},
   "outputs": [
    {
     "data": {
      "text/plain": [
       "<AxesSubplot:xlabel='strata'>"
      ]
     },
     "execution_count": 64,
     "metadata": {},
     "output_type": "execute_result"
    },
    {
     "data": {
      "image/png": "[encoded data removed]",
      "text/plain": [
       "<Figure size 432x288 with 1 Axes>"
      ]
     },
     "metadata": {
      "needs_background": "light"
     },
     "output_type": "display_data"
    }
   ],
   "source": [
    "df2_new.set_index('strata')['remembering'].plot.bar()"
   ]
  },
  {
   "cell_type": "code",
   "execution_count": null,
   "metadata": {},
   "outputs": [],
   "source": [
    "sns.histplot(data=df, x=\"sleep_score_cat\",y='income_median',\n",
    "             hue='Education',\n",
    "             cbar=True,\n",
    "             bins=10)"
   ]
  },
  {
   "cell_type": "code",
   "execution_count": 32,
   "metadata": {},
   "outputs": [
    {
     "name": "stderr",
     "output_type": "stream",
     "text": [
      "/Users/lisajin/opt/anaconda3/lib/python3.8/site-packages/seaborn/_decorators.py:36: FutureWarning: Pass the following variable as a keyword arg: x. From version 0.12, the only valid positional argument will be `data`, and passing other arguments without an explicit keyword will result in an error or misinterpretation.\n",
      "  warnings.warn(\n"
     ]
    },
    {
     "data": {
      "text/plain": [
       "<AxesSubplot:xlabel='snoring'>"
      ]
     },
     "execution_count": 32,
     "metadata": {},
     "output_type": "execute_result"
    },
    {
     "data": {
      "image/png": "[encoded data removed]",
      "text/plain": [
       "<Figure size 432x288 with 1 Axes>"
      ]
     },
     "metadata": {
      "needs_background": "light"
     },
     "output_type": "display_data"
    }
   ],
   "source": [
    "sns.boxplot(df1_new.snoring)"
   ]
  },
  {
   "cell_type": "code",
   "execution_count": 33,
   "metadata": {},
   "outputs": [
    {
     "data": {
      "text/plain": [
       "count    36.000000\n",
       "mean     48.894444\n",
       "std       6.706924\n",
       "min      25.600000\n",
       "25%      46.950000\n",
       "50%      50.500000\n",
       "75%      51.725000\n",
       "max      62.400000\n",
       "Name: snoring, dtype: float64"
      ]
     },
     "execution_count": 33,
     "metadata": {},
     "output_type": "execute_result"
    }
   ],
   "source": [
    "df1_new.snoring.describe()"
   ]
  },
  {
   "cell_type": "code",
   "execution_count": 79,
   "metadata": {},
   "outputs": [
    {
     "name": "stderr",
     "output_type": "stream",
     "text": [
      "<ipython-input-79-8cd8669b4709>:1: SettingWithCopyWarning: \n",
      "A value is trying to be set on a copy of a slice from a DataFrame.\n",
      "Try using .loc[row_indexer,col_indexer] = value instead\n",
      "\n",
      "See the caveats in the documentation: https://pandas.pydata.org/pandas-docs/stable/user_guide/indexing.html#returning-a-view-versus-a-copy\n",
      "  df1_education['snoringmorethan50']=df1_new.snoring>50\n"
     ]
    }
   ],
   "source": [
    "df1_education['snoringmorethan50']=df1_new.snoring>50"
   ]
  },
  {
   "cell_type": "code",
   "execution_count": 80,
   "metadata": {},
   "outputs": [
    {
     "data": {
      "text/plain": [
       "<AxesSubplot:xlabel='strara', ylabel='sleeping<7hrs'>"
      ]
     },
     "execution_count": 80,
     "metadata": {},
     "output_type": "execute_result"
    },
    {
     "data": {
      "image/png": "[encoded data removed]",
      "text/plain": [
       "<Figure size 432x288 with 1 Axes>"
      ]
     },
     "metadata": {
      "needs_background": "light"
     },
     "output_type": "display_data"
    }
   ],
   "source": [
    "sns.boxplot(x='strara',y='sleeping<7hrs',hue='snoringmorethan50',data=df1_education)"
   ]
  },
  {
   "cell_type": "code",
   "execution_count": 81,
   "metadata": {},
   "outputs": [],
   "source": [
    "#df1_education.set_index('strara',inplace=True)"
   ]
  },
  {
   "cell_type": "code",
   "execution_count": 82,
   "metadata": {
    "scrolled": true
   },
   "outputs": [
    {
     "data": {
      "text/html": [
       "<div>\n",
       "<style scoped>\n",
       "    .dataframe tbody tr th:only-of-type {\n",
       "        vertical-align: middle;\n",
       "    }\n",
       "\n",
       "    .dataframe tbody tr th {\n",
       "        vertical-align: top;\n",
       "    }\n",
       "\n",
       "    .dataframe thead th {\n",
       "        text-align: right;\n",
       "    }\n",
       "</style>\n",
       "<table border=\"1\" class=\"dataframe\">\n",
       "  <thead>\n",
       "    <tr style=\"text-align: right;\">\n",
       "      <th></th>\n",
       "      <th>NO.</th>\n",
       "      <th>sleeping&lt;7hrs</th>\n",
       "      <th>sleep&lt;7hr_cil</th>\n",
       "      <th>sleep&lt;7hr&gt;cih</th>\n",
       "      <th>snoring</th>\n",
       "      <th>snoring_cil</th>\n",
       "      <th>snoing_cih</th>\n",
       "      <th>unintentionally fell asleep during the day at least 1 day in the preceding 30 days</th>\n",
       "      <th>unintentionally fell asleep during the day at least 1 day in the preceding 30 days_cil</th>\n",
       "      <th>unintentionally fell asleep during the day at least 1 day in the preceding 30 days_cih</th>\n",
       "      <th>nodded off or fell asleep while driving in the preceding 30 days</th>\n",
       "      <th>nodded off or fell asleep while driving in the preceding 30 days_cil</th>\n",
       "      <th>nodded off or fell asleep while driving in the preceding 30 days_cih</th>\n",
       "      <th>snoringmorethan50</th>\n",
       "    </tr>\n",
       "    <tr>\n",
       "      <th>strara</th>\n",
       "      <th></th>\n",
       "      <th></th>\n",
       "      <th></th>\n",
       "      <th></th>\n",
       "      <th></th>\n",
       "      <th></th>\n",
       "      <th></th>\n",
       "      <th></th>\n",
       "      <th></th>\n",
       "      <th></th>\n",
       "      <th></th>\n",
       "      <th></th>\n",
       "      <th></th>\n",
       "      <th></th>\n",
       "    </tr>\n",
       "  </thead>\n",
       "  <tbody>\n",
       "    <tr>\n",
       "      <th>less than high school or GED</th>\n",
       "      <td>6393</td>\n",
       "      <td>32.0</td>\n",
       "      <td>29.8</td>\n",
       "      <td>34.2</td>\n",
       "      <td>51.2</td>\n",
       "      <td>48.7</td>\n",
       "      <td>53.7</td>\n",
       "      <td>43.4</td>\n",
       "      <td>40.9</td>\n",
       "      <td>45.9</td>\n",
       "      <td>5.4</td>\n",
       "      <td>4.2</td>\n",
       "      <td>6.5</td>\n",
       "      <td>True</td>\n",
       "    </tr>\n",
       "    <tr>\n",
       "      <th>high school or GED</th>\n",
       "      <td>20504</td>\n",
       "      <td>37.0</td>\n",
       "      <td>35.4</td>\n",
       "      <td>38.6</td>\n",
       "      <td>49.9</td>\n",
       "      <td>48.3</td>\n",
       "      <td>51.5</td>\n",
       "      <td>39.6</td>\n",
       "      <td>38.1</td>\n",
       "      <td>41.2</td>\n",
       "      <td>4.0</td>\n",
       "      <td>3.4</td>\n",
       "      <td>3.7</td>\n",
       "      <td>False</td>\n",
       "    </tr>\n",
       "    <tr>\n",
       "      <th>some college</th>\n",
       "      <td>47426</td>\n",
       "      <td>35.8</td>\n",
       "      <td>34.8</td>\n",
       "      <td>36.8</td>\n",
       "      <td>47.0</td>\n",
       "      <td>46.0</td>\n",
       "      <td>47.9</td>\n",
       "      <td>35.9</td>\n",
       "      <td>34.9</td>\n",
       "      <td>36.9</td>\n",
       "      <td>4.8</td>\n",
       "      <td>4.2</td>\n",
       "      <td>5.4</td>\n",
       "      <td>False</td>\n",
       "    </tr>\n",
       "  </tbody>\n",
       "</table>\n",
       "</div>"
      ],
      "text/plain": [
       "                                NO.  sleeping<7hrs  sleep<7hr_cil  \\\n",
       "strara                                                              \n",
       "less than high school or GED   6393           32.0           29.8   \n",
       "high school or GED            20504           37.0           35.4   \n",
       "some college                  47426           35.8           34.8   \n",
       "\n",
       "                              sleep<7hr>cih  snoring  snoring_cil  snoing_cih  \\\n",
       "strara                                                                          \n",
       "less than high school or GED           34.2     51.2         48.7        53.7   \n",
       "high school or GED                     38.6     49.9         48.3        51.5   \n",
       "some college                           36.8     47.0         46.0        47.9   \n",
       "\n",
       "                              unintentionally fell asleep during the day at least 1 day in the preceding 30 days  \\\n",
       "strara                                                                                                             \n",
       "less than high school or GED                                               43.4                                    \n",
       "high school or GED                                                         39.6                                    \n",
       "some college                                                               35.9                                    \n",
       "\n",
       "                              unintentionally fell asleep during the day at least 1 day in the preceding 30 days_cil  \\\n",
       "strara                                                                                                                 \n",
       "less than high school or GED                                               40.9                                        \n",
       "high school or GED                                                         38.1                                        \n",
       "some college                                                               34.9                                        \n",
       "\n",
       "                              unintentionally fell asleep during the day at least 1 day in the preceding 30 days_cih  \\\n",
       "strara                                                                                                                 \n",
       "less than high school or GED                                               45.9                                        \n",
       "high school or GED                                                         41.2                                        \n",
       "some college                                                               36.9                                        \n",
       "\n",
       "                              nodded off or fell asleep while driving in the preceding 30 days  \\\n",
       "strara                                                                                           \n",
       "less than high school or GED                                                5.4                  \n",
       "high school or GED                                                          4.0                  \n",
       "some college                                                                4.8                  \n",
       "\n",
       "                              nodded off or fell asleep while driving in the preceding 30 days_cil  \\\n",
       "strara                                                                                               \n",
       "less than high school or GED                                                4.2                      \n",
       "high school or GED                                                          3.4                      \n",
       "some college                                                                4.2                      \n",
       "\n",
       "                              nodded off or fell asleep while driving in the preceding 30 days_cih  \\\n",
       "strara                                                                                               \n",
       "less than high school or GED                                                6.5                      \n",
       "high school or GED                                                          3.7                      \n",
       "some college                                                                5.4                      \n",
       "\n",
       "                              snoringmorethan50  \n",
       "strara                                           \n",
       "less than high school or GED               True  \n",
       "high school or GED                        False  \n",
       "some college                              False  "
      ]
     },
     "execution_count": 82,
     "metadata": {},
     "output_type": "execute_result"
    }
   ],
   "source": [
    "df1_education"
   ]
  },
  {
   "cell_type": "code",
   "execution_count": 87,
   "metadata": {},
   "outputs": [],
   "source": [
    "df1_education_new=df1_education[['NO.','sleeping<7hrs','snoring']]"
   ]
  },
  {
   "cell_type": "code",
   "execution_count": 94,
   "metadata": {},
   "outputs": [],
   "source": [
    "education_colors=df1_education.strara.map({\n",
    "    'less than high school or GED':'blue',\n",
    "    'high school or GED':'red',\n",
    "    'some college':'green'\n",
    "})"
   ]
  },
  {
   "cell_type": "code",
   "execution_count": 95,
   "metadata": {},
   "outputs": [
    {
     "data": {
      "text/plain": [
       "<seaborn.matrix.ClusterGrid at 0x7f9003082130>"
      ]
     },
     "execution_count": 95,
     "metadata": {},
     "output_type": "execute_result"
    },
    {
     "data": {
      "image/png": "[encoded data removed]",
      "text/plain": [
       "<Figure size 288x288 with 5 Axes>"
      ]
     },
     "metadata": {
      "needs_background": "light"
     },
     "output_type": "display_data"
    }
   ],
   "source": [
    "sns.clustermap(df1_education_new,figsize=(4,4),row_colors=education_colors,annot=True)"
   ]
  },
  {
   "cell_type": "code",
   "execution_count": 96,
   "metadata": {},
   "outputs": [],
   "source": [
    "sns.set_style('dark')"
   ]
  },
  {
   "cell_type": "code",
   "execution_count": 102,
   "metadata": {},
   "outputs": [
    {
     "name": "stderr",
     "output_type": "stream",
     "text": [
      "/Users/lisajin/opt/anaconda3/lib/python3.8/site-packages/seaborn/_decorators.py:36: FutureWarning: Pass the following variables as keyword args: x, y. From version 0.12, the only valid positional argument will be `data`, and passing other arguments without an explicit keyword will result in an error or misinterpretation.\n",
      "  warnings.warn(\n"
     ]
    },
    {
     "data": {
      "text/plain": [
       "<AxesSubplot:xlabel='nodded off or fell asleep while driving in the preceding 30 days', ylabel='sleeping<7hrs'>"
      ]
     },
     "execution_count": 102,
     "metadata": {},
     "output_type": "execute_result"
    },
    {
     "data": {
      "image/png": "[encoded data removed]",
      "text/plain": [
       "<Figure size 432x288 with 1 Axes>"
      ]
     },
     "metadata": {},
     "output_type": "display_data"
    }
   ],
   "source": [
    "sns.regplot(df1['nodded off or fell asleep while driving in the preceding 30 days'],df1['sleeping<7hrs'],\n",
    "           x_estimator=np.mean)"
   ]
  },
  {
   "cell_type": "code",
   "execution_count": null,
   "metadata": {},
   "outputs": [],
   "source": []
  }
 ],
 "metadata": {
  "kernelspec": {
   "display_name": "Python 3",
   "language": "python",
   "name": "python3"
  },
  "language_info": {
   "codemirror_mode": {
    "name": "ipython",
    "version": 3
   },
   "file_extension": ".py",
   "mimetype": "text/x-python",
   "name": "python",
   "nbconvert_exporter": "python",
   "pygments_lexer": "ipython3",
   "version": "3.8.5"
  }
 },
 "nbformat": 4,
 "nbformat_minor": 4
}
