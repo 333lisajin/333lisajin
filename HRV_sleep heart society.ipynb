{
 "cells": [
  {
   "cell_type": "code",
   "execution_count": 1,
   "metadata": {},
   "outputs": [],
   "source": [
    "import numpy as np\n",
    "import pandas as pd\n",
    "import seaborn as sns\n",
    "\n",
    "import matplotlib as plt\n",
    "import matplotlib.pyplot as plt\n",
    "\n",
    "import matplotlib.ticker as plticker\n",
    "\n",
    "import matplotlib.animation as animation\n",
    "from matplotlib.ticker import MaxNLocator\n",
    "from pandas.plotting import table\n",
    "from scipy import stats\n",
    "from scipy.interpolate import make_interp_spline, BSpline\n",
    "from scipy.stats import zscore\n",
    "from scipy.ndimage import label\n",
    "\n",
    "import math\n",
    "\n",
    "# interactive figures\n",
    "from ipywidgets import interact, interactive, fixed, interact_manual\n",
    "import ipywidgets as widgets\n",
    "\n",
    "# misc\n",
    "import warnings\n",
    "\n",
    "\n",
    "# Datetime is both a top-level module as well as being a type within that module.\n",
    "import time\n",
    "from datetime import datetime, timedelta\n",
    "\n",
    "# Need to re-import datetime module to avoid confusing with sub-module.\n",
    "import datetime as dt\n",
    "#data = pd.read_csv(\"/Users/lisajin/Documents/Smnology/sleep Heart Health Datasets/Copy of shhs1-200001-nsrr.csv\",encoding = \"ISO-8859-1\")\n",
    "\n",
    "\n",
    "\n",
    "##headers = np.array(data.columns)  # get headers\n",
    "#values = data.values  # numpy array of values\n",
    "#matrix = np.concatenate([[headers], values])  # append to the final matrix\n"
   ]
  },
  {
   "cell_type": "code",
   "execution_count": 3,
   "metadata": {},
   "outputs": [],
   "source": [
    "dt = pd.read_csv(\"/Users/lisajin/Documents/Smnology/sleep Heart Health Datasets/shhs1-hrv-5min-0.16.0.csv\",encoding = \"ISO-8859-1\")\n",
    "\n",
    "\n",
    "\n",
    "headers = np.array(dt.columns)  # get headers\n",
    "values = dt.values  # numpy array of values\n",
    "matrix = np.concatenate([[headers], values])  # append to the final matrix"
   ]
  },
  {
   "cell_type": "code",
   "execution_count": 4,
   "metadata": {},
   "outputs": [
    {
     "data": {
      "text/html": [
       "<div>\n",
       "<style scoped>\n",
       "    .dataframe tbody tr th:only-of-type {\n",
       "        vertical-align: middle;\n",
       "    }\n",
       "\n",
       "    .dataframe tbody tr th {\n",
       "        vertical-align: top;\n",
       "    }\n",
       "\n",
       "    .dataframe thead th {\n",
       "        text-align: right;\n",
       "    }\n",
       "</style>\n",
       "<table border=\"1\" class=\"dataframe\">\n",
       "  <thead>\n",
       "    <tr style=\"text-align: right;\">\n",
       "      <th></th>\n",
       "      <th>nsrrid</th>\n",
       "      <th>visitnumber</th>\n",
       "      <th>Start__sec_</th>\n",
       "      <th>ihr</th>\n",
       "      <th>NN_RR</th>\n",
       "      <th>AVNN</th>\n",
       "      <th>SDNN</th>\n",
       "      <th>rMSSD</th>\n",
       "      <th>PNN10</th>\n",
       "      <th>PNN20</th>\n",
       "      <th>...</th>\n",
       "      <th>event14end</th>\n",
       "      <th>event15start</th>\n",
       "      <th>event15end</th>\n",
       "      <th>event16start</th>\n",
       "      <th>event16end</th>\n",
       "      <th>event17start</th>\n",
       "      <th>event17end</th>\n",
       "      <th>event18start</th>\n",
       "      <th>event18end</th>\n",
       "      <th>hasrespevent</th>\n",
       "    </tr>\n",
       "  </thead>\n",
       "  <tbody>\n",
       "    <tr>\n",
       "      <th>0</th>\n",
       "      <td>200079</td>\n",
       "      <td>1</td>\n",
       "      <td>6960</td>\n",
       "      <td>75.112951</td>\n",
       "      <td>0.992000</td>\n",
       "      <td>798.797</td>\n",
       "      <td>46.2118</td>\n",
       "      <td>54.6393</td>\n",
       "      <td>76.5499</td>\n",
       "      <td>44.2049</td>\n",
       "      <td>...</td>\n",
       "      <td>NaN</td>\n",
       "      <td>NaN</td>\n",
       "      <td>NaN</td>\n",
       "      <td>NaN</td>\n",
       "      <td>NaN</td>\n",
       "      <td>NaN</td>\n",
       "      <td>NaN</td>\n",
       "      <td>NaN</td>\n",
       "      <td>NaN</td>\n",
       "      <td>0</td>\n",
       "    </tr>\n",
       "    <tr>\n",
       "      <th>1</th>\n",
       "      <td>200079</td>\n",
       "      <td>1</td>\n",
       "      <td>7260</td>\n",
       "      <td>72.227893</td>\n",
       "      <td>0.991713</td>\n",
       "      <td>830.704</td>\n",
       "      <td>51.1569</td>\n",
       "      <td>27.7348</td>\n",
       "      <td>80.3922</td>\n",
       "      <td>52.6611</td>\n",
       "      <td>...</td>\n",
       "      <td>NaN</td>\n",
       "      <td>NaN</td>\n",
       "      <td>NaN</td>\n",
       "      <td>NaN</td>\n",
       "      <td>NaN</td>\n",
       "      <td>NaN</td>\n",
       "      <td>NaN</td>\n",
       "      <td>NaN</td>\n",
       "      <td>NaN</td>\n",
       "      <td>1</td>\n",
       "    </tr>\n",
       "    <tr>\n",
       "      <th>2</th>\n",
       "      <td>200079</td>\n",
       "      <td>1</td>\n",
       "      <td>7560</td>\n",
       "      <td>72.233893</td>\n",
       "      <td>0.991690</td>\n",
       "      <td>830.635</td>\n",
       "      <td>50.2283</td>\n",
       "      <td>29.5221</td>\n",
       "      <td>82.5843</td>\n",
       "      <td>58.9888</td>\n",
       "      <td>...</td>\n",
       "      <td>NaN</td>\n",
       "      <td>NaN</td>\n",
       "      <td>NaN</td>\n",
       "      <td>NaN</td>\n",
       "      <td>NaN</td>\n",
       "      <td>NaN</td>\n",
       "      <td>NaN</td>\n",
       "      <td>NaN</td>\n",
       "      <td>NaN</td>\n",
       "      <td>0</td>\n",
       "    </tr>\n",
       "    <tr>\n",
       "      <th>3</th>\n",
       "      <td>200079</td>\n",
       "      <td>1</td>\n",
       "      <td>7860</td>\n",
       "      <td>72.486004</td>\n",
       "      <td>0.997238</td>\n",
       "      <td>827.746</td>\n",
       "      <td>28.6337</td>\n",
       "      <td>35.8262</td>\n",
       "      <td>83.6111</td>\n",
       "      <td>57.2222</td>\n",
       "      <td>...</td>\n",
       "      <td>NaN</td>\n",
       "      <td>NaN</td>\n",
       "      <td>NaN</td>\n",
       "      <td>NaN</td>\n",
       "      <td>NaN</td>\n",
       "      <td>NaN</td>\n",
       "      <td>NaN</td>\n",
       "      <td>NaN</td>\n",
       "      <td>NaN</td>\n",
       "      <td>0</td>\n",
       "    </tr>\n",
       "    <tr>\n",
       "      <th>4</th>\n",
       "      <td>200079</td>\n",
       "      <td>1</td>\n",
       "      <td>8160</td>\n",
       "      <td>77.839184</td>\n",
       "      <td>0.994872</td>\n",
       "      <td>770.820</td>\n",
       "      <td>29.1776</td>\n",
       "      <td>20.5235</td>\n",
       "      <td>69.2506</td>\n",
       "      <td>30.7494</td>\n",
       "      <td>...</td>\n",
       "      <td>NaN</td>\n",
       "      <td>NaN</td>\n",
       "      <td>NaN</td>\n",
       "      <td>NaN</td>\n",
       "      <td>NaN</td>\n",
       "      <td>NaN</td>\n",
       "      <td>NaN</td>\n",
       "      <td>NaN</td>\n",
       "      <td>NaN</td>\n",
       "      <td>0</td>\n",
       "    </tr>\n",
       "  </tbody>\n",
       "</table>\n",
       "<p>5 rows × 67 columns</p>\n",
       "</div>"
      ],
      "text/plain": [
       "   nsrrid  visitnumber  Start__sec_        ihr     NN_RR     AVNN     SDNN  \\\n",
       "0  200079            1         6960  75.112951  0.992000  798.797  46.2118   \n",
       "1  200079            1         7260  72.227893  0.991713  830.704  51.1569   \n",
       "2  200079            1         7560  72.233893  0.991690  830.635  50.2283   \n",
       "3  200079            1         7860  72.486004  0.997238  827.746  28.6337   \n",
       "4  200079            1         8160  77.839184  0.994872  770.820  29.1776   \n",
       "\n",
       "     rMSSD    PNN10    PNN20  ...  event14end  event15start  event15end  \\\n",
       "0  54.6393  76.5499  44.2049  ...         NaN           NaN         NaN   \n",
       "1  27.7348  80.3922  52.6611  ...         NaN           NaN         NaN   \n",
       "2  29.5221  82.5843  58.9888  ...         NaN           NaN         NaN   \n",
       "3  35.8262  83.6111  57.2222  ...         NaN           NaN         NaN   \n",
       "4  20.5235  69.2506  30.7494  ...         NaN           NaN         NaN   \n",
       "\n",
       "   event16start  event16end  event17start  event17end  event18start  \\\n",
       "0           NaN         NaN           NaN         NaN           NaN   \n",
       "1           NaN         NaN           NaN         NaN           NaN   \n",
       "2           NaN         NaN           NaN         NaN           NaN   \n",
       "3           NaN         NaN           NaN         NaN           NaN   \n",
       "4           NaN         NaN           NaN         NaN           NaN   \n",
       "\n",
       "   event18end  hasrespevent  \n",
       "0         NaN             0  \n",
       "1         NaN             1  \n",
       "2         NaN             0  \n",
       "3         NaN             0  \n",
       "4         NaN             0  \n",
       "\n",
       "[5 rows x 67 columns]"
      ]
     },
     "execution_count": 4,
     "metadata": {},
     "output_type": "execute_result"
    }
   ],
   "source": [
    "dt.head()"
   ]
  },
  {
   "cell_type": "code",
   "execution_count": 5,
   "metadata": {},
   "outputs": [],
   "source": [
    "new=dt[['ihr','NN_RR','AVNN','SDNN','rMSSD','PNN10','PNN20','PNN30','PNN40','PNN50','VLF','LF','LF_n','HF','HF_n','LF_HF','hasrespevent']]"
   ]
  },
  {
   "cell_type": "code",
   "execution_count": 6,
   "metadata": {},
   "outputs": [],
   "source": [
    "import sklearn\n",
    "from sklearn.metrics import confusion_matrixe\n",
    "from sklearn.preprocessing import MinMaxScaler\n",
    "from sklearn.model_selection import train_test_split\n",
    "from sklearn.preprocessing import StandardScaler\n",
    "from sklearn.metrics import mean_absolute_error\n",
    "from sklearn.metrics import mean_squared_error\n",
    "from sklearn.metrics import r2_score\n",
    "from sklearn import linear_model\n",
    "from sklearn.linear_model import LinearRegression\n",
    "from sklearn.ensemble import RandomForestRegressor\n",
    "import xgboost as XGBRegressor\n",
    "from sklearn.model_selection import cross_val_score\n",
    "from sklearn.model_selection import RandomizedSearchCV\n"
   ]
  },
  {
   "cell_type": "code",
   "execution_count": 7,
   "metadata": {},
   "outputs": [],
   "source": [
    "import pandas as pd\n",
    "\n",
    "def clean_dataset(new):\n",
    "    assert isinstance(new, pd.DataFrame), \"df needs to be a pd.DataFrame\"\n",
    "    new.dropna(inplace=True)\n",
    "    indices_to_keep = ~new.isin([np.nan, np.inf, -np.inf]).any(1)\n",
    "    return new[indices_to_keep].astype(np.float64)"
   ]
  },
  {
   "cell_type": "code",
   "execution_count": 9,
   "metadata": {},
   "outputs": [],
   "source": [
    "# Perform first split\n",
    "X_train_temp, X_test, y_train_temp, y_test = train_test_split(new.iloc[:,:-2], \n",
    "                                                              new['hasrespevent'], \n",
    "                                                              test_size=0.2, \n",
    "                                                              random_state=42)\n",
    "\n",
    "# Perform the second split\n",
    "X_train, X_valid, y_train, y_valid = train_test_split(X_train_temp, y_train_temp, \n",
    "                                                      test_size=0.25, random_state=42)\n",
    "\n",
    "X_train = X_train.replace((np.inf, -np.inf, np.nan), 0).reset_index(drop=True)\n",
    "X_valid=X_valid.replace((np.inf, -np.inf, np.nan), 0).reset_index(drop=True)\n",
    "y_train=y_train.replace((np.inf, -np.inf, np.nan), 0).reset_index(drop=True)\n",
    "y_valid=y_valid.replace((np.inf, -np.inf, np.nan), 0).reset_index(drop=True)\n",
    "\n",
    "X_train_temp=X_train_temp.replace((np.inf, -np.inf, np.nan), 0).reset_index(drop=True)\n",
    "X_test=X_test.replace((np.inf, -np.inf, np.nan), 0).reset_index(drop=True)\n",
    "y_train_temp=y_train_temp.replace((np.inf, -np.inf, np.nan), 0).reset_index(drop=True)\n",
    "y_test=y_test.replace((np.inf, -np.inf, np.nan), 0).reset_index(drop=True)"
   ]
  },
  {
   "cell_type": "code",
   "execution_count": 10,
   "metadata": {},
   "outputs": [
    {
     "data": {
      "text/plain": [
       "array([[3.69326698e-01, 9.97547782e-01, 3.50159723e-01, ...,\n",
       "        8.65183214e-01, 1.79993308e-02, 1.34816786e-01],\n",
       "       [3.63213674e-01, 9.97500585e-01, 3.56175932e-01, ...,\n",
       "        5.40300619e-01, 8.45318729e-03, 4.59699381e-01],\n",
       "       [2.19801928e-01, 9.96300127e-01, 5.28314037e-01, ...,\n",
       "        7.84753869e-01, 8.99739691e-04, 2.15246131e-01],\n",
       "       ...,\n",
       "       [4.12925323e-01, 9.94752870e-01, 3.09692282e-01, ...,\n",
       "        9.19768618e-01, 6.09060208e-03, 8.02313819e-02],\n",
       "       [3.13528546e-01, 9.96716696e-01, 4.08596758e-01, ...,\n",
       "        8.60133549e-01, 2.15204642e-02, 1.39866451e-01],\n",
       "       [5.00021023e-01, 9.98323463e-01, 2.39845331e-01, ...,\n",
       "        9.26502043e-04, 8.42353740e-03, 9.99073498e-01]])"
      ]
     },
     "execution_count": 10,
     "metadata": {},
     "output_type": "execute_result"
    }
   ],
   "source": [
    "# Create the scaler with object range of 0-1\n",
    "scaler = MinMaxScaler()\n",
    "\n",
    "# Fit and transform using the training data\n",
    "scaler.fit_transform(X_train)\n",
    "\n",
    "# Transform the validation and test features\n",
    "scaler.transform(X_valid)\n",
    "scaler.transform(X_test)"
   ]
  },
  {
   "cell_type": "markdown",
   "metadata": {},
   "source": [
    "Decision tree: not a good model"
   ]
  },
  {
   "cell_type": "code",
   "execution_count": 11,
   "metadata": {},
   "outputs": [],
   "source": [
    "def scoring(model, test_features, test_labels):\n",
    "    predictions = model.predict(test_features)\n",
    "    mae = mean_absolute_error(test_labels, predictions)\n",
    "    mse = mean_squared_error(test_labels, predictions)\n",
    "    r2 = r2_score(test_labels, predictions)\n",
    "    errors = abs(predictions - test_labels)\n",
    "    mape = 100 * np.mean(errors / test_labels)\n",
    "    accuracy = 100 - mape\n",
    "    print('Model Performance')\n",
    "    print('Mean Absolute Error: {:0.4f}.'.format(mae))\n",
    "    print('Mean Squared Error: {:0.4f}.'.format(mse))\n",
    "    print('R^2 Score = {:0.4f}.'.format(r2))\n",
    "    print('Accuracy = {:0.2f}%.'.format(accuracy))"
   ]
  },
  {
   "cell_type": "code",
   "execution_count": 12,
   "metadata": {},
   "outputs": [
    {
     "name": "stdout",
     "output_type": "stream",
     "text": [
      "Model Performance\n",
      "Mean Absolute Error: 0.3549.\n",
      "Mean Squared Error: 0.3549.\n",
      "R^2 Score = -0.5501.\n",
      "Accuracy = -inf%.\n"
     ]
    }
   ],
   "source": [
    "# Create list of median predictions that has the same length as y_valid\n",
    "baseline_y = [y_train.median()] * len(y_valid)\n",
    "\n",
    "# Compute the relevant scores\n",
    "base_predictions = baseline_y\n",
    "base_mae = mean_absolute_error(y_valid, base_predictions)\n",
    "base_mse = mean_squared_error(y_valid, base_predictions)\n",
    "base_r2 = r2_score(y_valid, base_predictions)\n",
    "base_errors = abs(base_predictions - y_valid)\n",
    "base_mape = 100 * np.mean(base_errors / y_valid)\n",
    "base_accuracy = 100 - base_mape\n",
    "print('Model Performance')\n",
    "print('Mean Absolute Error: {:0.4f}.'.format(base_mae))\n",
    "print('Mean Squared Error: {:0.4f}.'.format(base_mse))\n",
    "print('R^2 Score = {:0.4f}.'.format(base_r2))\n",
    "print('Accuracy = {:0.2f}%.'.format(base_accuracy))"
   ]
  },
  {
   "cell_type": "code",
   "execution_count": 13,
   "metadata": {},
   "outputs": [
    {
     "data": {
      "text/plain": [
       "Text(0, 0.5, 'Coefficients')"
      ]
     },
     "execution_count": 13,
     "metadata": {},
     "output_type": "execute_result"
    },
    {
     "data": {
      "image/png": "[encoded data removed]",
      "text/plain": [
       "<Figure size 720x432 with 1 Axes>"
      ]
     },
     "metadata": {
      "needs_background": "light"
     },
     "output_type": "display_data"
    }
   ],
   "source": [
    "# Create the model\n",
    "lasso = linear_model.Lasso(alpha=0.1)\n",
    "\n",
    "# Fit the model to the training data\n",
    "lasso.fit(X_train, y_train)\n",
    "\n",
    "# Extract the coefficients\n",
    "lasso_coef = lasso.coef_\n",
    "\n",
    "# Plot the coefficients\n",
    "plt.figure(figsize=(10, 6))\n",
    "plt.plot(range(len(X_train.columns)), lasso_coef)\n",
    "plt.xticks(range(len(X_train.columns)), X_train.columns, rotation=60)\n",
    "plt.axhline(0.0, linestyle='--', color='r')\n",
    "plt.ylabel('Coefficients')"
   ]
  },
  {
   "cell_type": "code",
   "execution_count": 15,
   "metadata": {},
   "outputs": [
    {
     "name": "stdout",
     "output_type": "stream",
     "text": [
      "['ihr', 'NN_RR', 'AVNN', 'SDNN', 'rMSSD', 'PNN10', 'PNN20', 'PNN30', 'PNN40', 'PNN50', 'VLF', 'LF', 'LF_n', 'HF', 'HF_n', 'LF_HF']\n",
      "         ihr     NN_RR     AVNN     SDNN    rMSSD    PNN10    PNN20    PNN30  \\\n",
      "0  75.112951  0.992000  798.797  46.2118  54.6393  76.5499  44.2049  23.9892   \n",
      "1  72.227893  0.991713  830.704  51.1569  27.7348  80.3922  52.6611  32.7731   \n",
      "2  72.233893  0.991690  830.635  50.2283  29.5221  82.5843  58.9888  41.8539   \n",
      "3  72.486004  0.997238  827.746  28.6337  35.8262  83.6111  57.2222  33.0556   \n",
      "4  77.839184  0.994872  770.820  29.1776  20.5235  69.2506  30.7494  15.2455   \n",
      "\n",
      "      PNN40     PNN50         VLF        LF      LF_n       HF      HF_n  \\\n",
      "0   6.19946  1.886790   695.63900  285.5300  0.256639  827.046  0.743361   \n",
      "1  13.16530  5.042020  1890.74140  331.3890  0.389947  518.442  0.610053   \n",
      "2  13.76400  6.179780  1904.23100  260.8690  0.322499  548.030  0.677501   \n",
      "3   8.88889  2.500000    42.66966   86.3107  0.129813  578.575  0.870187   \n",
      "4   2.84238  0.775194   250.20480  331.0160  0.530332  293.152  0.469668   \n",
      "\n",
      "      LF_HF  \n",
      "0  0.345241  \n",
      "1  0.639202  \n",
      "2  0.476012  \n",
      "3  0.149178  \n",
      "4  1.129160  \n",
      "Epoch 1/50\n",
      "29703/29703 [==============================] - 23s 531us/step - loss: 11.9271 - accuracy: 0.6241\n",
      "Epoch 2/50\n",
      "29703/29703 [==============================] - 16s 533us/step - loss: 0.6537 - accuracy: 0.6470\n",
      "Epoch 3/50\n",
      "29703/29703 [==============================] - 15s 518us/step - loss: 0.6511 - accuracy: 0.6445\n",
      "Epoch 4/50\n",
      "29703/29703 [==============================] - 15s 517us/step - loss: 0.6487 - accuracy: 0.6492\n",
      "Epoch 5/50\n",
      "29703/29703 [==============================] - 16s 534us/step - loss: 0.6525 - accuracy: 0.6435\n",
      "Epoch 6/50\n",
      "29703/29703 [==============================] - 16s 545us/step - loss: 0.6485 - accuracy: 0.6486\n",
      "Epoch 7/50\n",
      "29703/29703 [==============================] - 16s 544us/step - loss: 0.6474 - accuracy: 0.6509\n",
      "Epoch 8/50\n",
      "29703/29703 [==============================] - 16s 543us/step - loss: 0.6505 - accuracy: 0.6453\n",
      "Epoch 9/50\n",
      "29703/29703 [==============================] - 16s 542us/step - loss: 0.6508 - accuracy: 0.6445\n",
      "Epoch 10/50\n",
      "29703/29703 [==============================] - 16s 542us/step - loss: 0.6492 - accuracy: 0.6478\n",
      "Epoch 11/50\n",
      "29703/29703 [==============================] - 16s 544us/step - loss: 0.6457 - accuracy: 0.6528\n",
      "Epoch 12/50\n",
      "29703/29703 [==============================] - 16s 546us/step - loss: 0.6466 - accuracy: 0.6517\n",
      "Epoch 13/50\n",
      "29703/29703 [==============================] - 16s 546us/step - loss: 0.6471 - accuracy: 0.6511\n",
      "Epoch 14/50\n",
      "29703/29703 [==============================] - 16s 543us/step - loss: 0.6482 - accuracy: 0.6492\n",
      "Epoch 15/50\n",
      "29703/29703 [==============================] - 16s 545us/step - loss: 0.6504 - accuracy: 0.6455\n",
      "Epoch 16/50\n",
      "29703/29703 [==============================] - 16s 549us/step - loss: 0.6501 - accuracy: 0.6459\n",
      "Epoch 17/50\n",
      "29703/29703 [==============================] - 16s 549us/step - loss: 0.6508 - accuracy: 0.6447\n",
      "Epoch 18/50\n",
      "29703/29703 [==============================] - 16s 545us/step - loss: 0.6471 - accuracy: 0.6508\n",
      "Epoch 19/50\n",
      "29703/29703 [==============================] - 16s 547us/step - loss: 0.6473 - accuracy: 0.6504\n",
      "Epoch 20/50\n",
      "29703/29703 [==============================] - 16s 547us/step - loss: 0.6470 - accuracy: 0.6511\n",
      "Epoch 21/50\n",
      "29703/29703 [==============================] - 16s 545us/step - loss: 0.6491 - accuracy: 0.6475\n",
      "Epoch 22/50\n",
      "29703/29703 [==============================] - 16s 545us/step - loss: 0.6482 - accuracy: 0.6490\n",
      "Epoch 23/50\n",
      "29703/29703 [==============================] - 16s 545us/step - loss: 0.6516 - accuracy: 0.6433\n",
      "Epoch 24/50\n",
      "29703/29703 [==============================] - 16s 547us/step - loss: 0.6486 - accuracy: 0.6485\n",
      "Epoch 25/50\n",
      "29703/29703 [==============================] - 16s 546us/step - loss: 0.6499 - accuracy: 0.6464\n",
      "Epoch 26/50\n",
      "29703/29703 [==============================] - 16s 546us/step - loss: 0.6493 - accuracy: 0.6471\n",
      "Epoch 27/50\n",
      "29703/29703 [==============================] - 16s 549us/step - loss: 0.6505 - accuracy: 0.6452\n",
      "Epoch 28/50\n",
      "29703/29703 [==============================] - 16s 548us/step - loss: 0.6501 - accuracy: 0.6458\n",
      "Epoch 29/50\n",
      "29703/29703 [==============================] - 16s 544us/step - loss: 0.6482 - accuracy: 0.6490\n",
      "Epoch 30/50\n",
      "29703/29703 [==============================] - 16s 546us/step - loss: 0.6490 - accuracy: 0.6477\n",
      "Epoch 31/50\n",
      "29703/29703 [==============================] - 16s 544us/step - loss: 0.6490 - accuracy: 0.6478\n",
      "Epoch 32/50\n",
      "29703/29703 [==============================] - 16s 544us/step - loss: 0.6515 - accuracy: 0.6440\n",
      "Epoch 33/50\n",
      "29703/29703 [==============================] - 16s 543us/step - loss: 0.6520 - accuracy: 0.6424\n",
      "Epoch 34/50\n",
      "29703/29703 [==============================] - 16s 548us/step - loss: 0.6494 - accuracy: 0.6468\n",
      "Epoch 35/50\n",
      "29703/29703 [==============================] - 16s 547us/step - loss: 0.6523 - accuracy: 0.6423\n",
      "Epoch 36/50\n",
      "29703/29703 [==============================] - 16s 544us/step - loss: 0.6488 - accuracy: 0.6481\n",
      "Epoch 37/50\n",
      "29703/29703 [==============================] - 16s 542us/step - loss: 0.6483 - accuracy: 0.6488\n",
      "Epoch 38/50\n",
      "29703/29703 [==============================] - 16s 545us/step - loss: 0.6520 - accuracy: 0.6428\n",
      "Epoch 39/50\n",
      "29703/29703 [==============================] - 16s 541us/step - loss: 0.6469 - accuracy: 0.6510\n",
      "Epoch 40/50\n",
      "29703/29703 [==============================] - 16s 544us/step - loss: 0.6487 - accuracy: 0.6483\n",
      "Epoch 41/50\n",
      "29703/29703 [==============================] - 16s 545us/step - loss: 0.6478 - accuracy: 0.6497\n",
      "Epoch 42/50\n",
      "29703/29703 [==============================] - 16s 534us/step - loss: 0.6457 - accuracy: 0.6530\n",
      "Epoch 43/50\n",
      "29703/29703 [==============================] - 16s 535us/step - loss: 0.6493 - accuracy: 0.6472\n",
      "Epoch 44/50\n",
      "29703/29703 [==============================] - 16s 536us/step - loss: 0.6492 - accuracy: 0.6474\n",
      "Epoch 45/50\n",
      "29703/29703 [==============================] - 16s 534us/step - loss: 0.6507 - accuracy: 0.6448\n",
      "Epoch 46/50\n",
      "29703/29703 [==============================] - 16s 536us/step - loss: 0.6473 - accuracy: 0.6503\n",
      "Epoch 47/50\n",
      "29703/29703 [==============================] - 16s 531us/step - loss: 0.6483 - accuracy: 0.6488\n",
      "Epoch 48/50\n",
      "29703/29703 [==============================] - 16s 533us/step - loss: 0.6474 - accuracy: 0.6505\n",
      "Epoch 49/50\n",
      "29703/29703 [==============================] - 16s 532us/step - loss: 0.6502 - accuracy: 0.6461\n",
      "Epoch 50/50\n",
      "29703/29703 [==============================] - 16s 534us/step - loss: 0.6485 - accuracy: 0.6487\n",
      "398/398 [==============================] - 1s 478us/step - loss: 0.6556 - accuracy: 0.6360\n"
     ]
    }
   ],
   "source": [
    "#sigmoid function with the relu implementation\n",
    "#the binary outcome is has respiration event\n",
    "#tensorflow \n",
    "properties = list(new.columns.values)\n",
    "properties.remove('hasrespevent')\n",
    "print(properties)\n",
    "X = new[properties]\n",
    "y = new['hasrespevent']\n",
    "print(X.head())\n",
    "from sklearn.model_selection import train_test_split\n",
    "X_train, X_test, y_train, y_test = train_test_split(X, y, test_size=0.3, random_state=0)\n",
    "import keras\n",
    "import keras.utils\n",
    "from keras import utils as np_utils\n",
    "import tensorflow as tf\n",
    "model = keras.Sequential([\n",
    "    keras.layers.Flatten(input_shape=(16,)),\n",
    "    keras.layers.Dense(16, activation=tf.nn.relu),\n",
    "    keras.layers.Dense(16, activation=tf.nn.relu),\n",
    "    keras.layers.Dense(1, activation=tf.nn.sigmoid),\n",
    "])\n",
    "model.compile(optimizer='adam',\n",
    "              loss='binary_crossentropy',\n",
    "              metrics=['accuracy'])\n",
    "\n",
    "model.fit(X_train, y_train, epochs=50, batch_size=1)\n",
    "test_loss, test_acc = model.evaluate(X_test, y_test)"
   ]
  },
  {
   "cell_type": "code",
   "execution_count": 19,
   "metadata": {},
   "outputs": [],
   "source": [
    "import matplotlib.pyplot as plt\n",
    "import seaborn as sns\n",
    "from sklearn import metrics\n",
    "from sklearn.linear_model import LogisticRegression"
   ]
  },
  {
   "cell_type": "code",
   "execution_count": 23,
   "metadata": {},
   "outputs": [
    {
     "name": "stderr",
     "output_type": "stream",
     "text": [
      "/Users/lisajin/opt/anaconda3/lib/python3.8/site-packages/sklearn/linear_model/_logistic.py:762: ConvergenceWarning: lbfgs failed to converge (status=1):\n",
      "STOP: TOTAL NO. of ITERATIONS REACHED LIMIT.\n",
      "\n",
      "Increase the number of iterations (max_iter) or scale the data as shown in:\n",
      "    https://scikit-learn.org/stable/modules/preprocessing.html\n",
      "Please also refer to the documentation for alternative solver options:\n",
      "    https://scikit-learn.org/stable/modules/linear_model.html#logistic-regression\n",
      "  n_iter_i = _check_optimize_result(\n"
     ]
    },
    {
     "data": {
      "text/plain": [
       "LogisticRegression()"
      ]
     },
     "execution_count": 23,
     "metadata": {},
     "output_type": "execute_result"
    }
   ],
   "source": [
    "# all parameters not specified are set to their defaults\n",
    "logisticRegr = LogisticRegression()\n",
    "logisticRegr.fit(X_train, y_train)\n"
   ]
  },
  {
   "cell_type": "code",
   "execution_count": 28,
   "metadata": {},
   "outputs": [
    {
     "data": {
      "text/plain": [
       "array([1, 0, 1, 1, 1, 1, 1, 1, 1, 1])"
      ]
     },
     "execution_count": 28,
     "metadata": {},
     "output_type": "execute_result"
    }
   ],
   "source": [
    "logisticRegr.predict(X_test[0:10])"
   ]
  },
  {
   "cell_type": "code",
   "execution_count": 30,
   "metadata": {},
   "outputs": [],
   "source": [
    "predictions = logisticRegr.predict(X_test)"
   ]
  },
  {
   "cell_type": "code",
   "execution_count": 32,
   "metadata": {},
   "outputs": [
    {
     "name": "stdout",
     "output_type": "stream",
     "text": [
      "0.6965674338229518\n"
     ]
    }
   ],
   "source": [
    "# Use score method to get accuracy of model\n",
    "score = logisticRegr.score(X_test, y_test)\n",
    "print(score)"
   ]
  },
  {
   "cell_type": "code",
   "execution_count": 33,
   "metadata": {},
   "outputs": [
    {
     "name": "stdout",
     "output_type": "stream",
     "text": [
      "[[1681 2954]\n",
      " [ 909 7187]]\n"
     ]
    }
   ],
   "source": [
    "cm = metrics.confusion_matrix(y_test, predictions)\n",
    "print(cm)"
   ]
  },
  {
   "cell_type": "code",
   "execution_count": 34,
   "metadata": {},
   "outputs": [
    {
     "data": {
      "image/png": "[encoded data removed]",
      "text/plain": [
       "<Figure size 648x648 with 2 Axes>"
      ]
     },
     "metadata": {
      "needs_background": "light"
     },
     "output_type": "display_data"
    }
   ],
   "source": [
    "plt.figure(figsize=(9,9))\n",
    "sns.heatmap(cm, annot=True, fmt=\".3f\", linewidths=.5, square = True, cmap = 'Blues_r');\n",
    "plt.ylabel('Actual label');\n",
    "plt.xlabel('Predicted label');\n",
    "all_sample_title = 'Accuracy Score: {0}'.format(score)\n",
    "plt.title(all_sample_title, size = 15);"
   ]
  },
  {
   "cell_type": "code",
   "execution_count": 58,
   "metadata": {},
   "outputs": [],
   "source": [
    "#calculate the metrics measurement in the condusion matrix \n",
    "TP=cm[1,1]#TRUE POSITIVE\n",
    "FP=cm[0,1]#FALSE POSITIVE (TYPE I ERROR)\n",
    "FN=cm[1,0]#FALSE NEGATIVE (TYPE II ERROR)\n",
    "TN=cm[0,0]#TURE NEGATIVE\n",
    "\n",
    "precision=TP/(TP+FP)#sensitivity\n",
    "accuracy=(TP+TN)/(TP+FP+FN+TN)\n",
    "recall=TP/(TP+FN) #sensitivity, of all the positve, how many accurate we predicted\n",
    "specificty=TN/(FP + TN) #correct negative predictions divided by the total number of negatives\n",
    "NPV = TN / (TN + FN)\n"
   ]
  },
  {
   "cell_type": "code",
   "execution_count": 60,
   "metadata": {},
   "outputs": [
    {
     "name": "stdout",
     "output_type": "stream",
     "text": [
      "0.8877223320158103\n",
      "0.7087072280840154\n",
      "0.36267529665587916\n",
      "0.649034749034749\n"
     ]
    }
   ],
   "source": [
    "print(recall)#the measure of our model correctly identifying True Positives. \n",
    "#Thus, for all the patients who actually have heart disease, \n",
    "#recall tells us how many we correctly identified as having a heart disease.\n",
    "\n",
    "print(precision) # the measure of patients that we correctly identify having a heart disease \n",
    "#out of all the patients actually having it.\n",
    "print(specificty)\n",
    "print(NPV)"
   ]
  },
  {
   "cell_type": "markdown",
   "metadata": {},
   "source": [
    "In our case, it is safe to look at recall as the metrics because it takes in consideration of false negative."
   ]
  },
  {
   "cell_type": "code",
   "execution_count": null,
   "metadata": {},
   "outputs": [],
   "source": []
  }
 ],
 "metadata": {
  "kernelspec": {
   "display_name": "Python 3",
   "language": "python",
   "name": "python3"
  },
  "language_info": {
   "codemirror_mode": {
    "name": "ipython",
    "version": 3
   },
   "file_extension": ".py",
   "mimetype": "text/x-python",
   "name": "python",
   "nbconvert_exporter": "python",
   "pygments_lexer": "ipython3",
   "version": "3.8.5"
  }
 },
 "nbformat": 4,
 "nbformat_minor": 4
}
