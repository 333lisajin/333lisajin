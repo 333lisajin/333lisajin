{
 "cells": [
  {
   "cell_type": "code",
   "execution_count": 1,
   "metadata": {},
   "outputs": [],
   "source": [
    "import json\n",
    "\n",
    "\n",
    "\n",
    "import matplotlib as mpl\n",
    "import matplotlib.pyplot as plt\n",
    "import numpy as np\n",
    "import pandas as pd\n",
    "import seaborn as sns\n",
    "\n",
    "import sklearn\n",
    "from sklearn.metrics import confusion_matrix\n",
    "from sklearn.preprocessing import MinMaxScaler\n",
    "from sklearn.model_selection import train_test_split\n",
    "from sklearn.preprocessing import StandardScaler\n",
    "from sklearn.metrics import mean_absolute_error\n",
    "from sklearn.metrics import mean_squared_error\n",
    "from sklearn.metrics import r2_score\n",
    "from sklearn import linear_model\n",
    "from sklearn.linear_model import LinearRegression\n",
    "from sklearn.ensemble import RandomForestRegressor\n",
    "import xgboost as XGBRegressor\n",
    "from sklearn.model_selection import cross_val_score\n",
    "from sklearn.model_selection import RandomizedSearchCV\n",
    "\n",
    "from scipy import stats"
   ]
  },
  {
   "cell_type": "code",
   "execution_count": 2,
   "metadata": {},
   "outputs": [],
   "source": [
    "#pip install xgboost"
   ]
  },
  {
   "cell_type": "code",
   "execution_count": 3,
   "metadata": {},
   "outputs": [],
   "source": [
    "#conda install -c conda-forge xgboost"
   ]
  },
  {
   "cell_type": "code",
   "execution_count": 4,
   "metadata": {},
   "outputs": [],
   "source": [
    "#import data from file\n",
    "with open('/Users/lisajin/Documents/Smnology/pmdata/p03/fitbit/sleep.json') as file:\n",
    "    data = json.load(file)"
   ]
  },
  {
   "cell_type": "code",
   "execution_count": 5,
   "metadata": {},
   "outputs": [
    {
     "data": {
      "text/html": [
       "<div>\n",
       "<style scoped>\n",
       "    .dataframe tbody tr th:only-of-type {\n",
       "        vertical-align: middle;\n",
       "    }\n",
       "\n",
       "    .dataframe tbody tr th {\n",
       "        vertical-align: top;\n",
       "    }\n",
       "\n",
       "    .dataframe thead th {\n",
       "        text-align: right;\n",
       "    }\n",
       "</style>\n",
       "<table border=\"1\" class=\"dataframe\">\n",
       "  <thead>\n",
       "    <tr style=\"text-align: right;\">\n",
       "      <th></th>\n",
       "      <th>logId</th>\n",
       "      <th>dateOfSleep</th>\n",
       "      <th>startTime</th>\n",
       "      <th>endTime</th>\n",
       "      <th>duration</th>\n",
       "      <th>minutesToFallAsleep</th>\n",
       "      <th>minutesAsleep</th>\n",
       "      <th>minutesAwake</th>\n",
       "      <th>minutesAfterWakeup</th>\n",
       "      <th>timeInBed</th>\n",
       "      <th>efficiency</th>\n",
       "      <th>type</th>\n",
       "      <th>infoCode</th>\n",
       "      <th>levels</th>\n",
       "      <th>mainSleep</th>\n",
       "    </tr>\n",
       "  </thead>\n",
       "  <tbody>\n",
       "    <tr>\n",
       "      <th>0</th>\n",
       "      <td>24472351655</td>\n",
       "      <td>2019-11-01</td>\n",
       "      <td>2019-11-01 01:48:00</td>\n",
       "      <td>2019-11-01T04:03:00.000</td>\n",
       "      <td>8100000</td>\n",
       "      <td>0</td>\n",
       "      <td>126</td>\n",
       "      <td>9</td>\n",
       "      <td>0</td>\n",
       "      <td>135</td>\n",
       "      <td>93</td>\n",
       "      <td>classic</td>\n",
       "      <td>2</td>\n",
       "      <td>{'summary': {'restless': {'count': 5, 'minutes...</td>\n",
       "      <td>True</td>\n",
       "    </tr>\n",
       "    <tr>\n",
       "      <th>1</th>\n",
       "      <td>24490223982</td>\n",
       "      <td>2019-11-02</td>\n",
       "      <td>2019-11-02 00:36:00</td>\n",
       "      <td>2019-11-02T07:40:00.000</td>\n",
       "      <td>25440000</td>\n",
       "      <td>0</td>\n",
       "      <td>368</td>\n",
       "      <td>56</td>\n",
       "      <td>4</td>\n",
       "      <td>424</td>\n",
       "      <td>89</td>\n",
       "      <td>stages</td>\n",
       "      <td>0</td>\n",
       "      <td>{'summary': {'deep': {'count': 3, 'minutes': 6...</td>\n",
       "      <td>True</td>\n",
       "    </tr>\n",
       "    <tr>\n",
       "      <th>2</th>\n",
       "      <td>24533606348</td>\n",
       "      <td>2019-11-06</td>\n",
       "      <td>2019-11-05 23:18:00</td>\n",
       "      <td>2019-11-06T07:29:30.000</td>\n",
       "      <td>29460000</td>\n",
       "      <td>0</td>\n",
       "      <td>443</td>\n",
       "      <td>48</td>\n",
       "      <td>0</td>\n",
       "      <td>491</td>\n",
       "      <td>96</td>\n",
       "      <td>stages</td>\n",
       "      <td>0</td>\n",
       "      <td>{'summary': {'deep': {'count': 6, 'minutes': 1...</td>\n",
       "      <td>True</td>\n",
       "    </tr>\n",
       "    <tr>\n",
       "      <th>3</th>\n",
       "      <td>24559972015</td>\n",
       "      <td>2019-11-07</td>\n",
       "      <td>2019-11-06 23:32:30</td>\n",
       "      <td>2019-11-07T07:26:00.000</td>\n",
       "      <td>28380000</td>\n",
       "      <td>0</td>\n",
       "      <td>415</td>\n",
       "      <td>58</td>\n",
       "      <td>0</td>\n",
       "      <td>473</td>\n",
       "      <td>95</td>\n",
       "      <td>stages</td>\n",
       "      <td>0</td>\n",
       "      <td>{'summary': {'deep': {'count': 5, 'minutes': 6...</td>\n",
       "      <td>True</td>\n",
       "    </tr>\n",
       "    <tr>\n",
       "      <th>4</th>\n",
       "      <td>24559972016</td>\n",
       "      <td>2019-11-08</td>\n",
       "      <td>2019-11-08 00:06:30</td>\n",
       "      <td>2019-11-08T07:25:00.000</td>\n",
       "      <td>26280000</td>\n",
       "      <td>0</td>\n",
       "      <td>395</td>\n",
       "      <td>43</td>\n",
       "      <td>0</td>\n",
       "      <td>438</td>\n",
       "      <td>95</td>\n",
       "      <td>stages</td>\n",
       "      <td>0</td>\n",
       "      <td>{'summary': {'deep': {'count': 5, 'minutes': 8...</td>\n",
       "      <td>True</td>\n",
       "    </tr>\n",
       "  </tbody>\n",
       "</table>\n",
       "</div>"
      ],
      "text/plain": [
       "         logId dateOfSleep            startTime                  endTime  \\\n",
       "0  24472351655  2019-11-01  2019-11-01 01:48:00  2019-11-01T04:03:00.000   \n",
       "1  24490223982  2019-11-02  2019-11-02 00:36:00  2019-11-02T07:40:00.000   \n",
       "2  24533606348  2019-11-06  2019-11-05 23:18:00  2019-11-06T07:29:30.000   \n",
       "3  24559972015  2019-11-07  2019-11-06 23:32:30  2019-11-07T07:26:00.000   \n",
       "4  24559972016  2019-11-08  2019-11-08 00:06:30  2019-11-08T07:25:00.000   \n",
       "\n",
       "   duration  minutesToFallAsleep  minutesAsleep  minutesAwake  \\\n",
       "0   8100000                    0            126             9   \n",
       "1  25440000                    0            368            56   \n",
       "2  29460000                    0            443            48   \n",
       "3  28380000                    0            415            58   \n",
       "4  26280000                    0            395            43   \n",
       "\n",
       "   minutesAfterWakeup  timeInBed  efficiency     type  infoCode  \\\n",
       "0                   0        135          93  classic         2   \n",
       "1                   4        424          89   stages         0   \n",
       "2                   0        491          96   stages         0   \n",
       "3                   0        473          95   stages         0   \n",
       "4                   0        438          95   stages         0   \n",
       "\n",
       "                                              levels  mainSleep  \n",
       "0  {'summary': {'restless': {'count': 5, 'minutes...       True  \n",
       "1  {'summary': {'deep': {'count': 3, 'minutes': 6...       True  \n",
       "2  {'summary': {'deep': {'count': 6, 'minutes': 1...       True  \n",
       "3  {'summary': {'deep': {'count': 5, 'minutes': 6...       True  \n",
       "4  {'summary': {'deep': {'count': 5, 'minutes': 8...       True  "
      ]
     },
     "execution_count": 5,
     "metadata": {},
     "output_type": "execute_result"
    }
   ],
   "source": [
    "df = pd.DataFrame(data)\n",
    "df.head()"
   ]
  },
  {
   "cell_type": "code",
   "execution_count": 10,
   "metadata": {},
   "outputs": [],
   "source": [
    "data2 = pd.read_csv(\"/Users/lisajin/Documents/Smnology/pmdata/p03/fitbit/sleep_score.csv\",encoding = \"ISO-8859-1\")"
   ]
  },
  {
   "cell_type": "code",
   "execution_count": 11,
   "metadata": {},
   "outputs": [],
   "source": [
    "sleep_data = pd.merge(df, data2, \n",
    "                   on='logId', \n",
    "                   how='inner')\n",
    "  \n",
    "# displaying result\n",
    "#print(output1)\n",
    "\n",
    "\n",
    "headers = np.array(sleep_data.columns)  # get headers\n",
    "values = sleep_data.values  # numpy array of values\n",
    "matrix = np.concatenate([[headers], values])  # append to the final matrix\n"
   ]
  },
  {
   "cell_type": "code",
   "execution_count": 12,
   "metadata": {},
   "outputs": [
    {
     "data": {
      "text/html": [
       "<div>\n",
       "<style scoped>\n",
       "    .dataframe tbody tr th:only-of-type {\n",
       "        vertical-align: middle;\n",
       "    }\n",
       "\n",
       "    .dataframe tbody tr th {\n",
       "        vertical-align: top;\n",
       "    }\n",
       "\n",
       "    .dataframe thead th {\n",
       "        text-align: right;\n",
       "    }\n",
       "</style>\n",
       "<table border=\"1\" class=\"dataframe\">\n",
       "  <thead>\n",
       "    <tr style=\"text-align: right;\">\n",
       "      <th></th>\n",
       "      <th>logId</th>\n",
       "      <th>dateOfSleep</th>\n",
       "      <th>startTime</th>\n",
       "      <th>endTime</th>\n",
       "      <th>duration</th>\n",
       "      <th>minutesToFallAsleep</th>\n",
       "      <th>minutesAsleep</th>\n",
       "      <th>minutesAwake</th>\n",
       "      <th>minutesAfterWakeup</th>\n",
       "      <th>timeInBed</th>\n",
       "      <th>...</th>\n",
       "      <th>levels</th>\n",
       "      <th>mainSleep</th>\n",
       "      <th>timestamp</th>\n",
       "      <th>overall_score</th>\n",
       "      <th>composition_score</th>\n",
       "      <th>revitalization_score</th>\n",
       "      <th>duration_score</th>\n",
       "      <th>deep_sleep_in_minutes</th>\n",
       "      <th>resting_heart_rate</th>\n",
       "      <th>restlessness</th>\n",
       "    </tr>\n",
       "  </thead>\n",
       "  <tbody>\n",
       "    <tr>\n",
       "      <th>0</th>\n",
       "      <td>24490223982</td>\n",
       "      <td>2019-11-02</td>\n",
       "      <td>2019-11-02 00:36:00</td>\n",
       "      <td>2019-11-02T07:40:00.000</td>\n",
       "      <td>25440000</td>\n",
       "      <td>0</td>\n",
       "      <td>368</td>\n",
       "      <td>56</td>\n",
       "      <td>4</td>\n",
       "      <td>424</td>\n",
       "      <td>...</td>\n",
       "      <td>{'summary': {'deep': {'count': 3, 'minutes': 6...</td>\n",
       "      <td>True</td>\n",
       "      <td>2019-11-02T07:40:00Z</td>\n",
       "      <td>65</td>\n",
       "      <td>17</td>\n",
       "      <td>13</td>\n",
       "      <td>35</td>\n",
       "      <td>59</td>\n",
       "      <td>60</td>\n",
       "      <td>0.087740</td>\n",
       "    </tr>\n",
       "    <tr>\n",
       "      <th>1</th>\n",
       "      <td>24533606348</td>\n",
       "      <td>2019-11-06</td>\n",
       "      <td>2019-11-05 23:18:00</td>\n",
       "      <td>2019-11-06T07:29:30.000</td>\n",
       "      <td>29460000</td>\n",
       "      <td>0</td>\n",
       "      <td>443</td>\n",
       "      <td>48</td>\n",
       "      <td>0</td>\n",
       "      <td>491</td>\n",
       "      <td>...</td>\n",
       "      <td>{'summary': {'deep': {'count': 6, 'minutes': 1...</td>\n",
       "      <td>True</td>\n",
       "      <td>2019-11-06T07:29:30Z</td>\n",
       "      <td>86</td>\n",
       "      <td>22</td>\n",
       "      <td>22</td>\n",
       "      <td>42</td>\n",
       "      <td>107</td>\n",
       "      <td>61</td>\n",
       "      <td>0.067358</td>\n",
       "    </tr>\n",
       "    <tr>\n",
       "      <th>2</th>\n",
       "      <td>24559972015</td>\n",
       "      <td>2019-11-07</td>\n",
       "      <td>2019-11-06 23:32:30</td>\n",
       "      <td>2019-11-07T07:26:00.000</td>\n",
       "      <td>28380000</td>\n",
       "      <td>0</td>\n",
       "      <td>415</td>\n",
       "      <td>58</td>\n",
       "      <td>0</td>\n",
       "      <td>473</td>\n",
       "      <td>...</td>\n",
       "      <td>{'summary': {'deep': {'count': 5, 'minutes': 6...</td>\n",
       "      <td>True</td>\n",
       "      <td>2019-11-07T07:26:00Z</td>\n",
       "      <td>79</td>\n",
       "      <td>19</td>\n",
       "      <td>22</td>\n",
       "      <td>38</td>\n",
       "      <td>67</td>\n",
       "      <td>59</td>\n",
       "      <td>0.089757</td>\n",
       "    </tr>\n",
       "    <tr>\n",
       "      <th>3</th>\n",
       "      <td>24559972016</td>\n",
       "      <td>2019-11-08</td>\n",
       "      <td>2019-11-08 00:06:30</td>\n",
       "      <td>2019-11-08T07:25:00.000</td>\n",
       "      <td>26280000</td>\n",
       "      <td>0</td>\n",
       "      <td>395</td>\n",
       "      <td>43</td>\n",
       "      <td>0</td>\n",
       "      <td>438</td>\n",
       "      <td>...</td>\n",
       "      <td>{'summary': {'deep': {'count': 5, 'minutes': 8...</td>\n",
       "      <td>True</td>\n",
       "      <td>2019-11-08T07:25:00Z</td>\n",
       "      <td>80</td>\n",
       "      <td>20</td>\n",
       "      <td>21</td>\n",
       "      <td>39</td>\n",
       "      <td>80</td>\n",
       "      <td>58</td>\n",
       "      <td>0.071429</td>\n",
       "    </tr>\n",
       "    <tr>\n",
       "      <th>4</th>\n",
       "      <td>24604252564</td>\n",
       "      <td>2019-11-12</td>\n",
       "      <td>2019-11-12 00:16:00</td>\n",
       "      <td>2019-11-12T04:00:30.000</td>\n",
       "      <td>13440000</td>\n",
       "      <td>0</td>\n",
       "      <td>194</td>\n",
       "      <td>30</td>\n",
       "      <td>0</td>\n",
       "      <td>224</td>\n",
       "      <td>...</td>\n",
       "      <td>{'summary': {'deep': {'count': 1, 'minutes': 2...</td>\n",
       "      <td>True</td>\n",
       "      <td>2019-11-12T04:00:30Z</td>\n",
       "      <td>70</td>\n",
       "      <td>19</td>\n",
       "      <td>22</td>\n",
       "      <td>29</td>\n",
       "      <td>22</td>\n",
       "      <td>57</td>\n",
       "      <td>0.057831</td>\n",
       "    </tr>\n",
       "    <tr>\n",
       "      <th>...</th>\n",
       "      <td>...</td>\n",
       "      <td>...</td>\n",
       "      <td>...</td>\n",
       "      <td>...</td>\n",
       "      <td>...</td>\n",
       "      <td>...</td>\n",
       "      <td>...</td>\n",
       "      <td>...</td>\n",
       "      <td>...</td>\n",
       "      <td>...</td>\n",
       "      <td>...</td>\n",
       "      <td>...</td>\n",
       "      <td>...</td>\n",
       "      <td>...</td>\n",
       "      <td>...</td>\n",
       "      <td>...</td>\n",
       "      <td>...</td>\n",
       "      <td>...</td>\n",
       "      <td>...</td>\n",
       "      <td>...</td>\n",
       "      <td>...</td>\n",
       "    </tr>\n",
       "    <tr>\n",
       "      <th>72</th>\n",
       "      <td>26509000923</td>\n",
       "      <td>2020-03-23</td>\n",
       "      <td>2020-03-23 01:05:30</td>\n",
       "      <td>2020-03-23T06:51:00.000</td>\n",
       "      <td>20700000</td>\n",
       "      <td>0</td>\n",
       "      <td>310</td>\n",
       "      <td>35</td>\n",
       "      <td>0</td>\n",
       "      <td>345</td>\n",
       "      <td>...</td>\n",
       "      <td>{'summary': {'deep': {'count': 4, 'minutes': 2...</td>\n",
       "      <td>True</td>\n",
       "      <td>2020-03-23T06:51:00Z</td>\n",
       "      <td>67</td>\n",
       "      <td>18</td>\n",
       "      <td>16</td>\n",
       "      <td>33</td>\n",
       "      <td>26</td>\n",
       "      <td>53</td>\n",
       "      <td>0.059334</td>\n",
       "    </tr>\n",
       "    <tr>\n",
       "      <th>73</th>\n",
       "      <td>26509000924</td>\n",
       "      <td>2020-03-24</td>\n",
       "      <td>2020-03-24 00:20:00</td>\n",
       "      <td>2020-03-24T07:31:30.000</td>\n",
       "      <td>25860000</td>\n",
       "      <td>0</td>\n",
       "      <td>392</td>\n",
       "      <td>39</td>\n",
       "      <td>0</td>\n",
       "      <td>431</td>\n",
       "      <td>...</td>\n",
       "      <td>{'summary': {'deep': {'count': 4, 'minutes': 7...</td>\n",
       "      <td>True</td>\n",
       "      <td>2020-03-24T07:31:30Z</td>\n",
       "      <td>79</td>\n",
       "      <td>21</td>\n",
       "      <td>19</td>\n",
       "      <td>39</td>\n",
       "      <td>69</td>\n",
       "      <td>54</td>\n",
       "      <td>0.055879</td>\n",
       "    </tr>\n",
       "    <tr>\n",
       "      <th>74</th>\n",
       "      <td>26509000925</td>\n",
       "      <td>2020-03-26</td>\n",
       "      <td>2020-03-26 01:34:30</td>\n",
       "      <td>2020-03-26T08:03:30.000</td>\n",
       "      <td>23340000</td>\n",
       "      <td>0</td>\n",
       "      <td>350</td>\n",
       "      <td>39</td>\n",
       "      <td>1</td>\n",
       "      <td>389</td>\n",
       "      <td>...</td>\n",
       "      <td>{'summary': {'deep': {'count': 4, 'minutes': 9...</td>\n",
       "      <td>True</td>\n",
       "      <td>2020-03-26T08:03:30Z</td>\n",
       "      <td>72</td>\n",
       "      <td>20</td>\n",
       "      <td>16</td>\n",
       "      <td>36</td>\n",
       "      <td>95</td>\n",
       "      <td>55</td>\n",
       "      <td>0.061617</td>\n",
       "    </tr>\n",
       "    <tr>\n",
       "      <th>75</th>\n",
       "      <td>26516780913</td>\n",
       "      <td>2020-03-29</td>\n",
       "      <td>2020-03-29 01:06:00</td>\n",
       "      <td>2020-03-29T08:25:30.000</td>\n",
       "      <td>26340000</td>\n",
       "      <td>0</td>\n",
       "      <td>344</td>\n",
       "      <td>35</td>\n",
       "      <td>0</td>\n",
       "      <td>439</td>\n",
       "      <td>...</td>\n",
       "      <td>{'summary': {'deep': {'count': 3, 'minutes': 6...</td>\n",
       "      <td>True</td>\n",
       "      <td>2020-03-29T08:25:30Z</td>\n",
       "      <td>77</td>\n",
       "      <td>20</td>\n",
       "      <td>21</td>\n",
       "      <td>36</td>\n",
       "      <td>68</td>\n",
       "      <td>59</td>\n",
       "      <td>0.041475</td>\n",
       "    </tr>\n",
       "    <tr>\n",
       "      <th>76</th>\n",
       "      <td>26529030635</td>\n",
       "      <td>2020-03-30</td>\n",
       "      <td>2020-03-30 01:48:00</td>\n",
       "      <td>2020-03-30T07:52:30.000</td>\n",
       "      <td>21840000</td>\n",
       "      <td>0</td>\n",
       "      <td>325</td>\n",
       "      <td>39</td>\n",
       "      <td>0</td>\n",
       "      <td>364</td>\n",
       "      <td>...</td>\n",
       "      <td>{'summary': {'deep': {'count': 5, 'minutes': 7...</td>\n",
       "      <td>True</td>\n",
       "      <td>2020-03-30T07:52:30Z</td>\n",
       "      <td>73</td>\n",
       "      <td>18</td>\n",
       "      <td>21</td>\n",
       "      <td>34</td>\n",
       "      <td>73</td>\n",
       "      <td>59</td>\n",
       "      <td>0.091540</td>\n",
       "    </tr>\n",
       "  </tbody>\n",
       "</table>\n",
       "<p>77 rows × 23 columns</p>\n",
       "</div>"
      ],
      "text/plain": [
       "          logId dateOfSleep            startTime                  endTime  \\\n",
       "0   24490223982  2019-11-02  2019-11-02 00:36:00  2019-11-02T07:40:00.000   \n",
       "1   24533606348  2019-11-06  2019-11-05 23:18:00  2019-11-06T07:29:30.000   \n",
       "2   24559972015  2019-11-07  2019-11-06 23:32:30  2019-11-07T07:26:00.000   \n",
       "3   24559972016  2019-11-08  2019-11-08 00:06:30  2019-11-08T07:25:00.000   \n",
       "4   24604252564  2019-11-12  2019-11-12 00:16:00  2019-11-12T04:00:30.000   \n",
       "..          ...         ...                  ...                      ...   \n",
       "72  26509000923  2020-03-23  2020-03-23 01:05:30  2020-03-23T06:51:00.000   \n",
       "73  26509000924  2020-03-24  2020-03-24 00:20:00  2020-03-24T07:31:30.000   \n",
       "74  26509000925  2020-03-26  2020-03-26 01:34:30  2020-03-26T08:03:30.000   \n",
       "75  26516780913  2020-03-29  2020-03-29 01:06:00  2020-03-29T08:25:30.000   \n",
       "76  26529030635  2020-03-30  2020-03-30 01:48:00  2020-03-30T07:52:30.000   \n",
       "\n",
       "    duration  minutesToFallAsleep  minutesAsleep  minutesAwake  \\\n",
       "0   25440000                    0            368            56   \n",
       "1   29460000                    0            443            48   \n",
       "2   28380000                    0            415            58   \n",
       "3   26280000                    0            395            43   \n",
       "4   13440000                    0            194            30   \n",
       "..       ...                  ...            ...           ...   \n",
       "72  20700000                    0            310            35   \n",
       "73  25860000                    0            392            39   \n",
       "74  23340000                    0            350            39   \n",
       "75  26340000                    0            344            35   \n",
       "76  21840000                    0            325            39   \n",
       "\n",
       "    minutesAfterWakeup  timeInBed  ...  \\\n",
       "0                    4        424  ...   \n",
       "1                    0        491  ...   \n",
       "2                    0        473  ...   \n",
       "3                    0        438  ...   \n",
       "4                    0        224  ...   \n",
       "..                 ...        ...  ...   \n",
       "72                   0        345  ...   \n",
       "73                   0        431  ...   \n",
       "74                   1        389  ...   \n",
       "75                   0        439  ...   \n",
       "76                   0        364  ...   \n",
       "\n",
       "                                               levels mainSleep  \\\n",
       "0   {'summary': {'deep': {'count': 3, 'minutes': 6...      True   \n",
       "1   {'summary': {'deep': {'count': 6, 'minutes': 1...      True   \n",
       "2   {'summary': {'deep': {'count': 5, 'minutes': 6...      True   \n",
       "3   {'summary': {'deep': {'count': 5, 'minutes': 8...      True   \n",
       "4   {'summary': {'deep': {'count': 1, 'minutes': 2...      True   \n",
       "..                                                ...       ...   \n",
       "72  {'summary': {'deep': {'count': 4, 'minutes': 2...      True   \n",
       "73  {'summary': {'deep': {'count': 4, 'minutes': 7...      True   \n",
       "74  {'summary': {'deep': {'count': 4, 'minutes': 9...      True   \n",
       "75  {'summary': {'deep': {'count': 3, 'minutes': 6...      True   \n",
       "76  {'summary': {'deep': {'count': 5, 'minutes': 7...      True   \n",
       "\n",
       "               timestamp overall_score  composition_score  \\\n",
       "0   2019-11-02T07:40:00Z            65                 17   \n",
       "1   2019-11-06T07:29:30Z            86                 22   \n",
       "2   2019-11-07T07:26:00Z            79                 19   \n",
       "3   2019-11-08T07:25:00Z            80                 20   \n",
       "4   2019-11-12T04:00:30Z            70                 19   \n",
       "..                   ...           ...                ...   \n",
       "72  2020-03-23T06:51:00Z            67                 18   \n",
       "73  2020-03-24T07:31:30Z            79                 21   \n",
       "74  2020-03-26T08:03:30Z            72                 20   \n",
       "75  2020-03-29T08:25:30Z            77                 20   \n",
       "76  2020-03-30T07:52:30Z            73                 18   \n",
       "\n",
       "   revitalization_score  duration_score  deep_sleep_in_minutes  \\\n",
       "0                    13              35                     59   \n",
       "1                    22              42                    107   \n",
       "2                    22              38                     67   \n",
       "3                    21              39                     80   \n",
       "4                    22              29                     22   \n",
       "..                  ...             ...                    ...   \n",
       "72                   16              33                     26   \n",
       "73                   19              39                     69   \n",
       "74                   16              36                     95   \n",
       "75                   21              36                     68   \n",
       "76                   21              34                     73   \n",
       "\n",
       "    resting_heart_rate  restlessness  \n",
       "0                   60      0.087740  \n",
       "1                   61      0.067358  \n",
       "2                   59      0.089757  \n",
       "3                   58      0.071429  \n",
       "4                   57      0.057831  \n",
       "..                 ...           ...  \n",
       "72                  53      0.059334  \n",
       "73                  54      0.055879  \n",
       "74                  55      0.061617  \n",
       "75                  59      0.041475  \n",
       "76                  59      0.091540  \n",
       "\n",
       "[77 rows x 23 columns]"
      ]
     },
     "execution_count": 12,
     "metadata": {},
     "output_type": "execute_result"
    }
   ],
   "source": [
    "sleep_data"
   ]
  },
  {
   "cell_type": "code",
   "execution_count": 13,
   "metadata": {},
   "outputs": [],
   "source": [
    "#sleep_data=sleep_data.iloc[:,5:-1]\n",
    "sleep_data_x=sleep_data.drop(['logId','type','dateOfSleep','startTime','endTime','duration', 'infoCode','levels','mainSleep','timestamp','overall_score','composition_score','revitalization_score','duration_score'], axis=1)\n",
    "#df.drop([2,3], axis=0, inplace=True)"
   ]
  },
  {
   "cell_type": "code",
   "execution_count": 14,
   "metadata": {},
   "outputs": [
    {
     "data": {
      "text/html": [
       "<div>\n",
       "<style scoped>\n",
       "    .dataframe tbody tr th:only-of-type {\n",
       "        vertical-align: middle;\n",
       "    }\n",
       "\n",
       "    .dataframe tbody tr th {\n",
       "        vertical-align: top;\n",
       "    }\n",
       "\n",
       "    .dataframe thead th {\n",
       "        text-align: right;\n",
       "    }\n",
       "</style>\n",
       "<table border=\"1\" class=\"dataframe\">\n",
       "  <thead>\n",
       "    <tr style=\"text-align: right;\">\n",
       "      <th></th>\n",
       "      <th>minutesToFallAsleep</th>\n",
       "      <th>minutesAsleep</th>\n",
       "      <th>minutesAwake</th>\n",
       "      <th>minutesAfterWakeup</th>\n",
       "      <th>timeInBed</th>\n",
       "      <th>efficiency</th>\n",
       "      <th>deep_sleep_in_minutes</th>\n",
       "      <th>resting_heart_rate</th>\n",
       "      <th>restlessness</th>\n",
       "    </tr>\n",
       "  </thead>\n",
       "  <tbody>\n",
       "    <tr>\n",
       "      <th>0</th>\n",
       "      <td>0</td>\n",
       "      <td>368</td>\n",
       "      <td>56</td>\n",
       "      <td>4</td>\n",
       "      <td>424</td>\n",
       "      <td>89</td>\n",
       "      <td>59</td>\n",
       "      <td>60</td>\n",
       "      <td>0.087740</td>\n",
       "    </tr>\n",
       "    <tr>\n",
       "      <th>1</th>\n",
       "      <td>0</td>\n",
       "      <td>443</td>\n",
       "      <td>48</td>\n",
       "      <td>0</td>\n",
       "      <td>491</td>\n",
       "      <td>96</td>\n",
       "      <td>107</td>\n",
       "      <td>61</td>\n",
       "      <td>0.067358</td>\n",
       "    </tr>\n",
       "    <tr>\n",
       "      <th>2</th>\n",
       "      <td>0</td>\n",
       "      <td>415</td>\n",
       "      <td>58</td>\n",
       "      <td>0</td>\n",
       "      <td>473</td>\n",
       "      <td>95</td>\n",
       "      <td>67</td>\n",
       "      <td>59</td>\n",
       "      <td>0.089757</td>\n",
       "    </tr>\n",
       "    <tr>\n",
       "      <th>3</th>\n",
       "      <td>0</td>\n",
       "      <td>395</td>\n",
       "      <td>43</td>\n",
       "      <td>0</td>\n",
       "      <td>438</td>\n",
       "      <td>95</td>\n",
       "      <td>80</td>\n",
       "      <td>58</td>\n",
       "      <td>0.071429</td>\n",
       "    </tr>\n",
       "    <tr>\n",
       "      <th>4</th>\n",
       "      <td>0</td>\n",
       "      <td>194</td>\n",
       "      <td>30</td>\n",
       "      <td>0</td>\n",
       "      <td>224</td>\n",
       "      <td>92</td>\n",
       "      <td>22</td>\n",
       "      <td>57</td>\n",
       "      <td>0.057831</td>\n",
       "    </tr>\n",
       "    <tr>\n",
       "      <th>...</th>\n",
       "      <td>...</td>\n",
       "      <td>...</td>\n",
       "      <td>...</td>\n",
       "      <td>...</td>\n",
       "      <td>...</td>\n",
       "      <td>...</td>\n",
       "      <td>...</td>\n",
       "      <td>...</td>\n",
       "      <td>...</td>\n",
       "    </tr>\n",
       "    <tr>\n",
       "      <th>72</th>\n",
       "      <td>0</td>\n",
       "      <td>310</td>\n",
       "      <td>35</td>\n",
       "      <td>0</td>\n",
       "      <td>345</td>\n",
       "      <td>93</td>\n",
       "      <td>26</td>\n",
       "      <td>53</td>\n",
       "      <td>0.059334</td>\n",
       "    </tr>\n",
       "    <tr>\n",
       "      <th>73</th>\n",
       "      <td>0</td>\n",
       "      <td>392</td>\n",
       "      <td>39</td>\n",
       "      <td>0</td>\n",
       "      <td>431</td>\n",
       "      <td>93</td>\n",
       "      <td>69</td>\n",
       "      <td>54</td>\n",
       "      <td>0.055879</td>\n",
       "    </tr>\n",
       "    <tr>\n",
       "      <th>74</th>\n",
       "      <td>0</td>\n",
       "      <td>350</td>\n",
       "      <td>39</td>\n",
       "      <td>1</td>\n",
       "      <td>389</td>\n",
       "      <td>93</td>\n",
       "      <td>95</td>\n",
       "      <td>55</td>\n",
       "      <td>0.061617</td>\n",
       "    </tr>\n",
       "    <tr>\n",
       "      <th>75</th>\n",
       "      <td>0</td>\n",
       "      <td>344</td>\n",
       "      <td>35</td>\n",
       "      <td>0</td>\n",
       "      <td>439</td>\n",
       "      <td>97</td>\n",
       "      <td>68</td>\n",
       "      <td>59</td>\n",
       "      <td>0.041475</td>\n",
       "    </tr>\n",
       "    <tr>\n",
       "      <th>76</th>\n",
       "      <td>0</td>\n",
       "      <td>325</td>\n",
       "      <td>39</td>\n",
       "      <td>0</td>\n",
       "      <td>364</td>\n",
       "      <td>91</td>\n",
       "      <td>73</td>\n",
       "      <td>59</td>\n",
       "      <td>0.091540</td>\n",
       "    </tr>\n",
       "  </tbody>\n",
       "</table>\n",
       "<p>77 rows × 9 columns</p>\n",
       "</div>"
      ],
      "text/plain": [
       "    minutesToFallAsleep  minutesAsleep  minutesAwake  minutesAfterWakeup  \\\n",
       "0                     0            368            56                   4   \n",
       "1                     0            443            48                   0   \n",
       "2                     0            415            58                   0   \n",
       "3                     0            395            43                   0   \n",
       "4                     0            194            30                   0   \n",
       "..                  ...            ...           ...                 ...   \n",
       "72                    0            310            35                   0   \n",
       "73                    0            392            39                   0   \n",
       "74                    0            350            39                   1   \n",
       "75                    0            344            35                   0   \n",
       "76                    0            325            39                   0   \n",
       "\n",
       "    timeInBed  efficiency  deep_sleep_in_minutes  resting_heart_rate  \\\n",
       "0         424          89                     59                  60   \n",
       "1         491          96                    107                  61   \n",
       "2         473          95                     67                  59   \n",
       "3         438          95                     80                  58   \n",
       "4         224          92                     22                  57   \n",
       "..        ...         ...                    ...                 ...   \n",
       "72        345          93                     26                  53   \n",
       "73        431          93                     69                  54   \n",
       "74        389          93                     95                  55   \n",
       "75        439          97                     68                  59   \n",
       "76        364          91                     73                  59   \n",
       "\n",
       "    restlessness  \n",
       "0       0.087740  \n",
       "1       0.067358  \n",
       "2       0.089757  \n",
       "3       0.071429  \n",
       "4       0.057831  \n",
       "..           ...  \n",
       "72      0.059334  \n",
       "73      0.055879  \n",
       "74      0.061617  \n",
       "75      0.041475  \n",
       "76      0.091540  \n",
       "\n",
       "[77 rows x 9 columns]"
      ]
     },
     "execution_count": 14,
     "metadata": {},
     "output_type": "execute_result"
    }
   ],
   "source": [
    "sleep_data_x"
   ]
  },
  {
   "cell_type": "code",
   "execution_count": 15,
   "metadata": {},
   "outputs": [],
   "source": [
    "# Perform first split\n",
    "X_train_temp, X_test, y_train_temp, y_test = train_test_split(sleep_data_x.iloc[:,:-1], \n",
    "                                                              sleep_data['overall_score'], \n",
    "                                                              test_size=0.2, \n",
    "                                                              random_state=42)\n",
    "\n",
    "# Perform the second split\n",
    "X_train, X_valid, y_train, y_valid = train_test_split(X_train_temp, y_train_temp, \n",
    "                                                      test_size=0.25, random_state=42)"
   ]
  },
  {
   "cell_type": "code",
   "execution_count": 16,
   "metadata": {},
   "outputs": [
    {
     "data": {
      "text/plain": [
       "array([[ 0.        ,  0.05847953,  0.06818182,  0.        ,  0.03412073,\n",
       "         0.38461538, -0.03883495,  0.5       ],\n",
       "       [ 0.        ,  0.69590643,  0.14772727,  0.125     ,  0.62467192,\n",
       "         0.84615385,  0.27184466,  0.5       ],\n",
       "       [ 0.        ,  0.26023392,  0.21590909,  0.375     ,  0.24934383,\n",
       "         0.69230769,  0.51456311,  0.75      ],\n",
       "       [ 0.        ,  0.56725146,  0.36363636,  0.5       ,  0.55905512,\n",
       "         0.15384615,  0.32038835,  0.875     ],\n",
       "       [ 0.        ,  0.39473684,  0.375     ,  0.        ,  0.40682415,\n",
       "         0.61538462,  0.31067961,  0.25      ],\n",
       "       [ 0.        ,  1.00584795,  0.65909091,  0.        ,  1.02099738,\n",
       "         0.61538462,  0.4368932 ,  0.625     ],\n",
       "       [ 0.        ,  0.34210526,  0.23863636,  0.        ,  0.32808399,\n",
       "         0.61538462,  0.18446602,  0.375     ],\n",
       "       [ 0.        ,  0.56432749,  0.52272727,  0.        ,  0.59317585,\n",
       "         0.69230769,  0.26213592,  0.25      ],\n",
       "       [ 0.        ,  0.61988304,  0.54545455,  0.        ,  0.64829396,\n",
       "         0.53846154,  0.2815534 ,  0.375     ],\n",
       "       [ 0.        ,  1.05847953,  0.48863636,  0.        ,  1.02887139,\n",
       "         0.69230769,  0.91262136,  0.625     ],\n",
       "       [ 0.        ,  0.78362573,  0.23863636,  0.        ,  0.72440945,\n",
       "         0.69230769,  0.52427184,  0.375     ],\n",
       "       [ 0.        ,  0.51461988,  0.17045455,  0.125     ,  0.4671916 ,\n",
       "         0.46153846,  0.66990291,  0.25      ],\n",
       "       [ 0.        ,  0.44736842,  0.35227273,  0.        ,  0.4488189 ,\n",
       "         0.15384615,  0.32038835,  0.625     ],\n",
       "       [ 0.        ,  0.05847953,  0.26136364,  0.        ,  0.07874016,\n",
       "         0.23076923,  0.14563107,  0.75      ],\n",
       "       [ 0.        ,  0.47076023,  0.35227273,  0.        ,  0.46981627,\n",
       "         0.69230769,  0.10679612,  0.375     ],\n",
       "       [ 0.        ,  0.62573099,  0.31818182,  0.        ,  0.60104987,\n",
       "         0.61538462,  0.23300971,  0.5       ]])"
      ]
     },
     "execution_count": 16,
     "metadata": {},
     "output_type": "execute_result"
    }
   ],
   "source": [
    "# Create the scaler with object range of 0-1\n",
    "scaler = MinMaxScaler()\n",
    "\n",
    "# Fit and transform using the training data\n",
    "scaler.fit_transform(X_train)\n",
    "\n",
    "# Transform the validation and test features\n",
    "scaler.transform(X_valid)\n",
    "scaler.transform(X_test)"
   ]
  },
  {
   "cell_type": "markdown",
   "metadata": {},
   "source": [
    "# Linear Rgression, Tree decision model"
   ]
  },
  {
   "cell_type": "code",
   "execution_count": 17,
   "metadata": {},
   "outputs": [],
   "source": [
    "def scoring(model, test_features, test_labels):\n",
    "    predictions = model.predict(test_features)\n",
    "    mae = mean_absolute_error(test_labels, predictions)\n",
    "    mse = mean_squared_error(test_labels, predictions)\n",
    "    r2 = r2_score(test_labels, predictions)\n",
    "    errors = abs(predictions - test_labels)\n",
    "    mape = 100 * np.mean(errors / test_labels)\n",
    "    accuracy = 100 - mape\n",
    "    print('Model Performance')\n",
    "    print('Mean Absolute Error: {:0.4f}.'.format(mae))\n",
    "    print('Mean Squared Error: {:0.4f}.'.format(mse))\n",
    "    print('R^2 Score = {:0.4f}.'.format(r2))\n",
    "    print('Accuracy = {:0.2f}%.'.format(accuracy))"
   ]
  },
  {
   "cell_type": "code",
   "execution_count": 18,
   "metadata": {},
   "outputs": [
    {
     "name": "stdout",
     "output_type": "stream",
     "text": [
      "Model Performance\n",
      "Mean Absolute Error: 4.3125.\n",
      "Mean Squared Error: 33.1875.\n",
      "R^2 Score = -0.3129.\n",
      "Accuracy = 93.92%.\n"
     ]
    }
   ],
   "source": [
    "# Create list of median predictions that has the same length as y_valid\n",
    "baseline_y = [y_train.median()] * len(y_valid)\n",
    "\n",
    "# Compute the relevant scores\n",
    "base_predictions = baseline_y\n",
    "base_mae = mean_absolute_error(y_valid, base_predictions)\n",
    "base_mse = mean_squared_error(y_valid, base_predictions)\n",
    "base_r2 = r2_score(y_valid, base_predictions)\n",
    "base_errors = abs(base_predictions - y_valid)\n",
    "base_mape = 100 * np.mean(base_errors / y_valid)\n",
    "base_accuracy = 100 - base_mape\n",
    "print('Model Performance')\n",
    "print('Mean Absolute Error: {:0.4f}.'.format(base_mae))\n",
    "print('Mean Squared Error: {:0.4f}.'.format(base_mse))\n",
    "print('R^2 Score = {:0.4f}.'.format(base_r2))\n",
    "print('Accuracy = {:0.2f}%.'.format(base_accuracy))"
   ]
  },
  {
   "cell_type": "code",
   "execution_count": 19,
   "metadata": {},
   "outputs": [
    {
     "data": {
      "text/plain": [
       "Text(0, 0.5, 'Coefficients')"
      ]
     },
     "execution_count": 19,
     "metadata": {},
     "output_type": "execute_result"
    },
    {
     "data": {
      "image/png": "[encoded data removed]",
      "text/plain": [
       "<Figure size 720x432 with 1 Axes>"
      ]
     },
     "metadata": {
      "needs_background": "light"
     },
     "output_type": "display_data"
    }
   ],
   "source": [
    "# Create the model\n",
    "lasso = linear_model.Lasso(alpha=0.1)\n",
    "\n",
    "# Fit the model to the training data\n",
    "lasso.fit(X_train, y_train)\n",
    "\n",
    "# Extract the coefficients\n",
    "lasso_coef = lasso.coef_\n",
    "\n",
    "# Plot the coefficients\n",
    "plt.figure(figsize=(10, 6))\n",
    "plt.plot(range(len(X_train.columns)), lasso_coef)\n",
    "plt.xticks(range(len(X_train.columns)), X_train.columns, rotation=60)\n",
    "plt.axhline(0.0, linestyle='--', color='r')\n",
    "plt.ylabel('Coefficients')"
   ]
  },
  {
   "cell_type": "markdown",
   "metadata": {},
   "source": [
    "From the above feature selection, we can see that we can decrease some of the feature, we are going to delete mins to fall asleep and time in bed"
   ]
  },
  {
   "cell_type": "code",
   "execution_count": 20,
   "metadata": {
    "scrolled": true
   },
   "outputs": [
    {
     "name": "stderr",
     "output_type": "stream",
     "text": [
      "/Users/lisajin/opt/anaconda3/lib/python3.8/site-packages/pandas/core/frame.py:4163: SettingWithCopyWarning: \n",
      "A value is trying to be set on a copy of a slice from a DataFrame\n",
      "\n",
      "See the caveats in the documentation: https://pandas.pydata.org/pandas-docs/stable/user_guide/indexing.html#returning-a-view-versus-a-copy\n",
      "  return super().drop(\n"
     ]
    }
   ],
   "source": [
    "# Create a list of the columns to drop\n",
    "cols_to_drop = ['timeInBed', 'minutesAfterWakeup','minutesToFallAsleep']\n",
    "\n",
    "# Drop these columns from training, validation and test data\n",
    "X_train_temp.drop(columns=cols_to_drop, inplace=True)\n",
    "X_train.drop(columns=cols_to_drop, inplace=True)\n",
    "X_valid.drop(columns=cols_to_drop, inplace=True)\n",
    "X_test.drop(columns=cols_to_drop, inplace=True)"
   ]
  },
  {
   "cell_type": "markdown",
   "metadata": {},
   "source": [
    "# Linear Regression Model"
   ]
  },
  {
   "cell_type": "code",
   "execution_count": 21,
   "metadata": {},
   "outputs": [
    {
     "name": "stdout",
     "output_type": "stream",
     "text": [
      "Model Performance\n",
      "Mean Absolute Error: 3.2149.\n",
      "Mean Squared Error: 16.1459.\n",
      "R^2 Score = 0.3613.\n",
      "Accuracy = 95.58%.\n"
     ]
    }
   ],
   "source": [
    "# Create regressor\n",
    "regressor = LinearRegression()\n",
    "\n",
    "# Fit MLR model to training data\n",
    "mlr = regressor.fit(X_train, y_train)\n",
    "\n",
    "# Evaluate the performance\n",
    "scoring(mlr, X_valid, y_valid)"
   ]
  },
  {
   "cell_type": "code",
   "execution_count": 22,
   "metadata": {},
   "outputs": [
    {
     "name": "stdout",
     "output_type": "stream",
     "text": [
      "[ 0.07770049 -0.10282551  0.06365563  0.00094233  0.42726487]\n"
     ]
    }
   ],
   "source": [
    "coef=regressor.coef_\n",
    "print(coef)"
   ]
  },
  {
   "cell_type": "code",
   "execution_count": 23,
   "metadata": {},
   "outputs": [
    {
     "name": "stdout",
     "output_type": "stream",
     "text": [
      "[(0.07770048949793885, 'minutesAsleep'), (-0.10282550895422579, 'minutesAwake'), (0.06365563210809597, 'efficiency'), (0.0009423250240607085, 'deep_sleep_in_minutes'), (0.4272648688907398, 'resting_heart_rate')]\n"
     ]
    }
   ],
   "source": [
    "print(list(zip(regressor.coef_, X_test)))"
   ]
  },
  {
   "cell_type": "markdown",
   "metadata": {},
   "source": [
    "# Random Forest Model"
   ]
  },
  {
   "cell_type": "code",
   "execution_count": 24,
   "metadata": {},
   "outputs": [
    {
     "name": "stdout",
     "output_type": "stream",
     "text": [
      "Model Performance\n",
      "Mean Absolute Error: 2.5800.\n",
      "Mean Squared Error: 11.6714.\n",
      "R^2 Score = 0.5383.\n",
      "Accuracy = 96.44%.\n"
     ]
    }
   ],
   "source": [
    "# Create regressor\n",
    "rf_regressor = RandomForestRegressor(random_state=42)\n",
    "\n",
    "# Fit RF model to training data\n",
    "rf = rf_regressor.fit(X_train, y_train)\n",
    "\n",
    "# Evaluate the performance\n",
    "scoring(rf, X_valid, y_valid)"
   ]
  },
  {
   "cell_type": "code",
   "execution_count": 25,
   "metadata": {},
   "outputs": [
    {
     "data": {
      "text/plain": [
       "0.5382653685674552"
      ]
     },
     "execution_count": 25,
     "metadata": {},
     "output_type": "execute_result"
    }
   ],
   "source": [
    "rf.score(X_valid, y_valid)"
   ]
  },
  {
   "cell_type": "code",
   "execution_count": 26,
   "metadata": {},
   "outputs": [
    {
     "name": "stdout",
     "output_type": "stream",
     "text": [
      "Model Performance\n",
      "Mean Absolute Error: 3.2706.\n",
      "Mean Squared Error: 19.1683.\n",
      "R^2 Score = 0.7066.\n",
      "Accuracy = 95.09%.\n"
     ]
    }
   ],
   "source": [
    "scoring(rf, X_test, y_test)"
   ]
  },
  {
   "cell_type": "code",
   "execution_count": 27,
   "metadata": {},
   "outputs": [
    {
     "data": {
      "text/plain": [
       "[('minutesAsleep', 0.6631612727706389),\n",
       " ('minutesAwake', 0.1385804077222093),\n",
       " ('efficiency', 0.0458829647112378),\n",
       " ('deep_sleep_in_minutes', 0.09132086244222021),\n",
       " ('resting_heart_rate', 0.06105449235369408)]"
      ]
     },
     "execution_count": 27,
     "metadata": {},
     "output_type": "execute_result"
    }
   ],
   "source": [
    "list(zip(X_valid, rf.feature_importances_))"
   ]
  },
  {
   "cell_type": "markdown",
   "metadata": {},
   "source": [
    "# Extreme Gradient Boosting"
   ]
  },
  {
   "cell_type": "code",
   "execution_count": 28,
   "metadata": {},
   "outputs": [
    {
     "name": "stdout",
     "output_type": "stream",
     "text": [
      "Model Performance\n",
      "Mean Absolute Error: 2.9434.\n",
      "Mean Squared Error: 13.8388.\n",
      "R^2 Score = 0.4525.\n",
      "Accuracy = 95.97%.\n"
     ]
    }
   ],
   "source": [
    "# Create regressor\n",
    "xgb_regressor = XGBRegressor.XGBRegressor(random_state=42)\n",
    "\n",
    "# Fit model to training data\n",
    "xgb = xgb_regressor.fit(X_train, y_train)\n",
    "\n",
    "# Evaluate the performance\n",
    "scoring(xgb, X_valid, y_valid)"
   ]
  },
  {
   "cell_type": "code",
   "execution_count": 29,
   "metadata": {},
   "outputs": [
    {
     "name": "stdout",
     "output_type": "stream",
     "text": [
      "Model Performance\n",
      "Mean Absolute Error: 3.4236.\n",
      "Mean Squared Error: 19.6508.\n",
      "R^2 Score = 0.6993.\n",
      "Accuracy = 94.94%.\n"
     ]
    }
   ],
   "source": [
    "scoring(xgb, X_test, y_test)"
   ]
  },
  {
   "cell_type": "code",
   "execution_count": 30,
   "metadata": {},
   "outputs": [
    {
     "data": {
      "text/plain": [
       "[('minutesAsleep', 0.42166275),\n",
       " ('minutesAwake', 0.23565121),\n",
       " ('efficiency', 0.1708202),\n",
       " ('deep_sleep_in_minutes', 0.14069524),\n",
       " ('resting_heart_rate', 0.03117053)]"
      ]
     },
     "execution_count": 30,
     "metadata": {},
     "output_type": "execute_result"
    }
   ],
   "source": [
    "list(zip(X_valid, xgb.feature_importances_))"
   ]
  },
  {
   "cell_type": "markdown",
   "metadata": {},
   "source": [
    "# KneighborClassifier Model for Classification, not suitable yet. "
   ]
  },
  {
   "cell_type": "code",
   "execution_count": 31,
   "metadata": {},
   "outputs": [
    {
     "data": {
      "text/plain": [
       "Text(0, 0.5, 'Error Rate')"
      ]
     },
     "execution_count": 31,
     "metadata": {},
     "output_type": "execute_result"
    },
    {
     "data": {
      "image/png": "[encoded data removed]",
      "text/plain": [
       "<Figure size 720x432 with 1 Axes>"
      ]
     },
     "metadata": {
      "needs_background": "light"
     },
     "output_type": "display_data"
    }
   ],
   "source": [
    "#this one is used for classification problems, think more if we should use this model. maybe sleep apnea detection\n",
    "\n",
    "from sklearn.neighbors import KNeighborsClassifier\n",
    "\n",
    "error_rate =[]\n",
    "for i in range(1,20):\n",
    "    knn = KNeighborsClassifier(n_neighbors=i)\n",
    "    knn.fit(X_train,y_train)\n",
    "    pred_i = knn.predict(X_test)\n",
    "    error_rate.append(np.mean(pred_i != y_test))\n",
    "\n",
    "plt.figure(figsize=(10,6))\n",
    "plt.plot(range(1,20),error_rate, color ='red',linestyle='dashed',marker='v',\n",
    "        markerfacecolor = 'blue', markersize=10)\n",
    "plt.title('Error Rate vs. K value')\n",
    "plt.xlabel('K')\n",
    "plt.ylabel('Error Rate')"
   ]
  },
  {
   "cell_type": "code",
   "execution_count": 33,
   "metadata": {},
   "outputs": [
    {
     "data": {
      "text/plain": [
       "KNeighborsClassifier(n_neighbors=2)"
      ]
     },
     "execution_count": 33,
     "metadata": {},
     "output_type": "execute_result"
    }
   ],
   "source": [
    "knn = KNeighborsClassifier(n_neighbors=2) # why 5 is because of Elbow method\n",
    "knn.fit(X_train,y_train)"
   ]
  },
  {
   "cell_type": "code",
   "execution_count": 34,
   "metadata": {},
   "outputs": [
    {
     "name": "stdout",
     "output_type": "stream",
     "text": [
      "test accuracy: 0.1875\n"
     ]
    }
   ],
   "source": [
    "print('test accuracy:', knn.score(X_test,y_test))"
   ]
  },
  {
   "cell_type": "code",
   "execution_count": 35,
   "metadata": {
    "scrolled": true
   },
   "outputs": [
    {
     "name": "stdout",
     "output_type": "stream",
     "text": [
      "[ 0.07770049 -0.10282551  0.06365563  0.00094233  0.42726487]\n"
     ]
    }
   ],
   "source": [
    "coef=regressor.coef_\n",
    "print(coef)"
   ]
  },
  {
   "cell_type": "markdown",
   "metadata": {},
   "source": [
    "# Logistic Regression, NA, used for classification"
   ]
  },
  {
   "cell_type": "code",
   "execution_count": 36,
   "metadata": {},
   "outputs": [
    {
     "name": "stdout",
     "output_type": "stream",
     "text": [
      "test accuracy: 0.0\n"
     ]
    },
    {
     "name": "stderr",
     "output_type": "stream",
     "text": [
      "/Users/lisajin/opt/anaconda3/lib/python3.8/site-packages/sklearn/linear_model/_logistic.py:762: ConvergenceWarning: lbfgs failed to converge (status=1):\n",
      "STOP: TOTAL NO. of ITERATIONS REACHED LIMIT.\n",
      "\n",
      "Increase the number of iterations (max_iter) or scale the data as shown in:\n",
      "    https://scikit-learn.org/stable/modules/preprocessing.html\n",
      "Please also refer to the documentation for alternative solver options:\n",
      "    https://scikit-learn.org/stable/modules/linear_model.html#logistic-regression\n",
      "  n_iter_i = _check_optimize_result(\n"
     ]
    }
   ],
   "source": [
    "#logistic regression model? need to think about it\n",
    "\n",
    "\n",
    "from sklearn.linear_model import LogisticRegression\n",
    "logmodel = LogisticRegression()\n",
    "logmodel.fit(X_train, y_train)\n",
    "print('test accuracy:', logmodel.score(X_test,y_test))"
   ]
  },
  {
   "cell_type": "code",
   "execution_count": 37,
   "metadata": {},
   "outputs": [
    {
     "name": "stdout",
     "output_type": "stream",
     "text": [
      "[(array([-0.25437889,  0.18062172,  0.46159584,  0.04258023,  0.36639822]), 'minutesAsleep'), (array([-0.13760811,  0.17494839,  0.31212896, -0.02500556,  0.25337624]), 'minutesAwake'), (array([-0.15164069,  0.01362278,  0.42380105, -0.02309745,  0.22191127]), 'efficiency'), (array([-0.06938604,  0.35645905,  0.19120794, -0.21439493,  0.06909824]), 'deep_sleep_in_minutes'), (array([ 0.03434781, -0.07400766, -0.13507675,  0.13818426, -0.03494542]), 'resting_heart_rate')]\n"
     ]
    }
   ],
   "source": [
    "print(list(zip(logmodel.coef_, X_test)))"
   ]
  },
  {
   "cell_type": "markdown",
   "metadata": {},
   "source": [
    "# Validation"
   ]
  },
  {
   "cell_type": "code",
   "execution_count": 38,
   "metadata": {},
   "outputs": [],
   "source": [
    "# Define a function that compares the CV perfromance of a set of predetrmined models \n",
    "def cv_comparison(models, X, y, cv):\n",
    "    # Initiate a DataFrame for the averages and a list for all measures\n",
    "    cv_accuracies = pd.DataFrame()\n",
    "    maes = []\n",
    "    mses = []\n",
    "    r2s = []\n",
    "    accs = []\n",
    "    # Loop through the models, run a CV, add the average scores to the DataFrame and the scores of \n",
    "    # all CVs to the list\n",
    "    for model in models:\n",
    "        mae = -np.round(cross_val_score(model, X, y, scoring='neg_mean_absolute_error', cv=cv), 4)\n",
    "        maes.append(mae)\n",
    "        mae_avg = round(mae.mean(), 4)\n",
    "        mse = -np.round(cross_val_score(model, X, y, scoring='neg_mean_squared_error', cv=cv), 4)\n",
    "        mses.append(mse)\n",
    "        mse_avg = round(mse.mean(), 4)\n",
    "        r2 = np.round(cross_val_score(model, X, y, scoring='r2', cv=cv), 4)\n",
    "        r2s.append(r2)\n",
    "        r2_avg = round(r2.mean(), 4)\n",
    "        acc = np.round((100 - (100 * (mae * len(X))) / sum(y)), 5)\n",
    "        accs.append(acc)\n",
    "        acc_avg = round(acc.mean(), 4)\n",
    "        cv_accuracies[str(model)] = [mae_avg, mse_avg, r2_avg, acc_avg]\n",
    "    cv_accuracies.index = ['Mean Absolute Error', 'Mean Squared Error', 'R^2', 'Accuracy']\n",
    "    return cv_accuracies, maes, mses, r2s, accs"
   ]
  },
  {
   "cell_type": "code",
   "execution_count": 51,
   "metadata": {},
   "outputs": [],
   "source": [
    "# Create the models to be tested\n",
    "mlr_reg = LinearRegression()\n",
    "rf_reg = RandomForestRegressor(random_state=42)\n",
    "xgb_reg = xgb_regressor = XGBRegressor.XGBRegressor(random_state=42)\n",
    "\n",
    "# Put the models in a list to be used for Cross-Validation\n",
    "models = [mlr_reg, rf_reg, xgb_reg]\n",
    "\n",
    "# Run the Cross-Validation comparison with the models used in this analysis\n",
    "comp, maes, mses, r2s, accs = cv_comparison(models, X_train_temp, y_train_temp, 4)\n",
    "comp.columns=['Linear Regression', 'Random Forest', 'Extreme Gradient Boosting']"
   ]
  },
  {
   "cell_type": "code",
   "execution_count": 52,
   "metadata": {},
   "outputs": [
    {
     "data": {
      "text/html": [
       "<div>\n",
       "<style scoped>\n",
       "    .dataframe tbody tr th:only-of-type {\n",
       "        vertical-align: middle;\n",
       "    }\n",
       "\n",
       "    .dataframe tbody tr th {\n",
       "        vertical-align: top;\n",
       "    }\n",
       "\n",
       "    .dataframe thead th {\n",
       "        text-align: right;\n",
       "    }\n",
       "</style>\n",
       "<table border=\"1\" class=\"dataframe\">\n",
       "  <thead>\n",
       "    <tr style=\"text-align: right;\">\n",
       "      <th></th>\n",
       "      <th>Linear Regression</th>\n",
       "      <th>Random Forest</th>\n",
       "      <th>Extreme Gradient Boosting</th>\n",
       "    </tr>\n",
       "  </thead>\n",
       "  <tbody>\n",
       "    <tr>\n",
       "      <th>Mean Absolute Error</th>\n",
       "      <td>3.3664</td>\n",
       "      <td>3.2092</td>\n",
       "      <td>3.2273</td>\n",
       "    </tr>\n",
       "    <tr>\n",
       "      <th>Mean Squared Error</th>\n",
       "      <td>17.4446</td>\n",
       "      <td>17.2879</td>\n",
       "      <td>18.8736</td>\n",
       "    </tr>\n",
       "    <tr>\n",
       "      <th>R^2</th>\n",
       "      <td>0.3566</td>\n",
       "      <td>0.3824</td>\n",
       "      <td>0.3141</td>\n",
       "    </tr>\n",
       "    <tr>\n",
       "      <th>Accuracy</th>\n",
       "      <td>95.5820</td>\n",
       "      <td>95.7882</td>\n",
       "      <td>95.7645</td>\n",
       "    </tr>\n",
       "  </tbody>\n",
       "</table>\n",
       "</div>"
      ],
      "text/plain": [
       "                     Linear Regression  Random Forest  \\\n",
       "Mean Absolute Error             3.3664         3.2092   \n",
       "Mean Squared Error             17.4446        17.2879   \n",
       "R^2                             0.3566         0.3824   \n",
       "Accuracy                       95.5820        95.7882   \n",
       "\n",
       "                     Extreme Gradient Boosting  \n",
       "Mean Absolute Error                     3.2273  \n",
       "Mean Squared Error                     18.8736  \n",
       "R^2                                     0.3141  \n",
       "Accuracy                               95.7645  "
      ]
     },
     "execution_count": 52,
     "metadata": {},
     "output_type": "execute_result"
    }
   ],
   "source": [
    "comp"
   ]
  },
  {
   "cell_type": "code",
   "execution_count": 53,
   "metadata": {},
   "outputs": [
    {
     "name": "stderr",
     "output_type": "stream",
     "text": [
      "<ipython-input-53-a67d3a47616e>:7: UserWarning: Pandas doesn't allow columns to be created via a new attribute name - see https://pandas.pydata.org/pandas-docs/stable/indexing.html#attribute-access\n",
      "  comp.rows=['Linear Regression', 'Random Forest', 'Extreme Gradient Boosting']\n"
     ]
    }
   ],
   "source": [
    "# Create DataFrame for all R^2s\n",
    "r2_comp = pd.DataFrame(r2s, index=comp.columns, columns=['1st Fold', '2nd Fold', '3rd Fold', \n",
    "                                                         '4th Fold'])\n",
    "\n",
    "# Add a column for the averages\n",
    "r2_comp['Average'] = np.round(r2_comp.mean(axis=1),4)\n",
    "comp.rows=['Linear Regression', 'Random Forest', 'Extreme Gradient Boosting']"
   ]
  },
  {
   "cell_type": "code",
   "execution_count": 54,
   "metadata": {},
   "outputs": [
    {
     "data": {
      "text/html": [
       "<div>\n",
       "<style scoped>\n",
       "    .dataframe tbody tr th:only-of-type {\n",
       "        vertical-align: middle;\n",
       "    }\n",
       "\n",
       "    .dataframe tbody tr th {\n",
       "        vertical-align: top;\n",
       "    }\n",
       "\n",
       "    .dataframe thead th {\n",
       "        text-align: right;\n",
       "    }\n",
       "</style>\n",
       "<table border=\"1\" class=\"dataframe\">\n",
       "  <thead>\n",
       "    <tr style=\"text-align: right;\">\n",
       "      <th></th>\n",
       "      <th>1st Fold</th>\n",
       "      <th>2nd Fold</th>\n",
       "      <th>3rd Fold</th>\n",
       "      <th>4th Fold</th>\n",
       "      <th>Average</th>\n",
       "    </tr>\n",
       "  </thead>\n",
       "  <tbody>\n",
       "    <tr>\n",
       "      <th>Linear Regression</th>\n",
       "      <td>0.3418</td>\n",
       "      <td>0.0905</td>\n",
       "      <td>0.7078</td>\n",
       "      <td>0.2863</td>\n",
       "      <td>0.3566</td>\n",
       "    </tr>\n",
       "    <tr>\n",
       "      <th>Random Forest</th>\n",
       "      <td>0.4874</td>\n",
       "      <td>0.6135</td>\n",
       "      <td>0.6583</td>\n",
       "      <td>-0.2294</td>\n",
       "      <td>0.3824</td>\n",
       "    </tr>\n",
       "    <tr>\n",
       "      <th>Extreme Gradient Boosting</th>\n",
       "      <td>0.4822</td>\n",
       "      <td>0.5136</td>\n",
       "      <td>0.6202</td>\n",
       "      <td>-0.3595</td>\n",
       "      <td>0.3141</td>\n",
       "    </tr>\n",
       "  </tbody>\n",
       "</table>\n",
       "</div>"
      ],
      "text/plain": [
       "                           1st Fold  2nd Fold  3rd Fold  4th Fold  Average\n",
       "Linear Regression            0.3418    0.0905    0.7078    0.2863   0.3566\n",
       "Random Forest                0.4874    0.6135    0.6583   -0.2294   0.3824\n",
       "Extreme Gradient Boosting    0.4822    0.5136    0.6202   -0.3595   0.3141"
      ]
     },
     "execution_count": 54,
     "metadata": {},
     "output_type": "execute_result"
    }
   ],
   "source": [
    "r2_comp"
   ]
  },
  {
   "cell_type": "code",
   "execution_count": 43,
   "metadata": {},
   "outputs": [],
   "source": [
    "# Number of trees in Random Forest\n",
    "rf_n_estimators = [int(x) for x in np.linspace(200, 1000, 5)]\n",
    "rf_n_estimators.append(1500)\n",
    "rf_n_estimators.append(2000)\n",
    "\n",
    "# Maximum number of levels in tree\n",
    "rf_max_depth = [int(x) for x in np.linspace(5, 55, 11)]\n",
    "# Add the default as a possible value\n",
    "rf_max_depth.append(None)\n",
    "\n",
    "# Number of features to consider at every split\n",
    "rf_max_features = ['auto', 'sqrt', 'log2']\n",
    "\n",
    "# Criterion to split on\n",
    "rf_criterion = ['mse', 'mae']\n",
    "\n",
    "# Minimum number of samples required to split a node\n",
    "rf_min_samples_split = [int(x) for x in np.linspace(2, 10, 9)]\n",
    "\n",
    "# Minimum decrease in impurity required for split to happen\n",
    "rf_min_impurity_decrease = [0.0, 0.05, 0.1]\n",
    "\n",
    "# Method of selecting samples for training each tree\n",
    "rf_bootstrap = [True, False]\n",
    "\n",
    "# Create the grid\n",
    "rf_grid = {'n_estimators': rf_n_estimators,\n",
    "               'max_depth': rf_max_depth,\n",
    "               'max_features': rf_max_features,\n",
    "               'criterion': rf_criterion,\n",
    "               'min_samples_split': rf_min_samples_split,\n",
    "               'min_impurity_decrease': rf_min_impurity_decrease,\n",
    "               'bootstrap': rf_bootstrap}\n"
   ]
  },
  {
   "cell_type": "code",
   "execution_count": 44,
   "metadata": {},
   "outputs": [
    {
     "name": "stdout",
     "output_type": "stream",
     "text": [
      "Fitting 3 folds for each of 200 candidates, totalling 600 fits\n"
     ]
    },
    {
     "name": "stderr",
     "output_type": "stream",
     "text": [
      "[Parallel(n_jobs=-1)]: Using backend LokyBackend with 16 concurrent workers.\n",
      "[Parallel(n_jobs=-1)]: Done   9 tasks      | elapsed:    3.6s\n",
      "[Parallel(n_jobs=-1)]: Done 130 tasks      | elapsed:   17.5s\n",
      "[Parallel(n_jobs=-1)]: Done 333 tasks      | elapsed:   45.7s\n",
      "[Parallel(n_jobs=-1)]: Done 600 out of 600 | elapsed:  1.3min finished\n"
     ]
    },
    {
     "data": {
      "text/plain": [
       "{'n_estimators': 1500,\n",
       " 'min_samples_split': 4,\n",
       " 'min_impurity_decrease': 0.1,\n",
       " 'max_features': 'log2',\n",
       " 'max_depth': 15,\n",
       " 'criterion': 'mse',\n",
       " 'bootstrap': False}"
      ]
     },
     "execution_count": 44,
     "metadata": {},
     "output_type": "execute_result"
    }
   ],
   "source": [
    "# Create the model to be tuned\n",
    "rf_base = RandomForestRegressor()\n",
    "\n",
    "# Create the random search Random Forest\n",
    "rf_random = RandomizedSearchCV(estimator = rf_base, param_distributions = rf_grid, \n",
    "                               n_iter = 200, cv = 3, verbose = 2, random_state = 42, \n",
    "                               n_jobs = -1)\n",
    "\n",
    "# Fit the random search model\n",
    "rf_random.fit(X_train_temp, y_train_temp)\n",
    "\n",
    "# View the best parameters from the random search\n",
    "rf_random.best_params_"
   ]
  },
  {
   "cell_type": "code",
   "execution_count": 45,
   "metadata": {},
   "outputs": [],
   "source": [
    "# Number of trees to be used\n",
    "xgb_n_estimators = [int(x) for x in np.linspace(200, 2000, 10)]\n",
    "\n",
    "# Maximum number of levels in tree\n",
    "xgb_max_depth = [int(x) for x in np.linspace(2, 20, 10)]\n",
    "\n",
    "# Minimum number of instaces needed in each node\n",
    "xgb_min_child_weight = [int(x) for x in np.linspace(1, 10, 10)]\n",
    "\n",
    "# Tree construction algorithm used in XGBoost\n",
    "xgb_tree_method = ['auto', 'exact', 'approx', 'hist', 'gpu_hist']\n",
    "\n",
    "# Learning rate\n",
    "xgb_eta = [x for x in np.linspace(0.1, 0.6, 6)]\n",
    "\n",
    "# Minimum loss reduction required to make further partition\n",
    "xgb_gamma = [int(x) for x in np.linspace(0, 0.5, 6)]\n",
    "\n",
    "# Learning objective used\n",
    "xgb_objective = ['reg:squarederror', 'reg:squaredlogerror']\n",
    "\n",
    "# Create the grid\n",
    "xgb_grid = {'n_estimators': xgb_n_estimators,\n",
    "            'max_depth': xgb_max_depth,\n",
    "            'min_child_weight': xgb_min_child_weight,\n",
    "            'tree_method': xgb_tree_method,\n",
    "            'eta': xgb_eta,\n",
    "            'gamma': xgb_gamma,\n",
    "            'objective': xgb_objective}"
   ]
  },
  {
   "cell_type": "code",
   "execution_count": 46,
   "metadata": {},
   "outputs": [
    {
     "name": "stdout",
     "output_type": "stream",
     "text": [
      "Fitting 3 folds for each of 200 candidates, totalling 600 fits\n"
     ]
    },
    {
     "name": "stderr",
     "output_type": "stream",
     "text": [
      "[Parallel(n_jobs=-1)]: Using backend LokyBackend with 16 concurrent workers.\n",
      "[Parallel(n_jobs=-1)]: Done   9 tasks      | elapsed:    0.5s\n",
      "[Parallel(n_jobs=-1)]: Done 130 tasks      | elapsed:  1.3min\n",
      "[Parallel(n_jobs=-1)]: Done 333 tasks      | elapsed:  3.2min\n",
      "[Parallel(n_jobs=-1)]: Done 600 out of 600 | elapsed:  6.0min finished\n"
     ]
    },
    {
     "data": {
      "text/plain": [
       "{'tree_method': 'approx',\n",
       " 'objective': 'reg:squarederror',\n",
       " 'n_estimators': 1200,\n",
       " 'min_child_weight': 3,\n",
       " 'max_depth': 20,\n",
       " 'gamma': 0,\n",
       " 'eta': 0.5}"
      ]
     },
     "execution_count": 46,
     "metadata": {},
     "output_type": "execute_result"
    }
   ],
   "source": [
    "# Create the model to be tuned\n",
    "xgb_base = XGBRegressor.XGBRegressor()\n",
    "\n",
    "# Create the random search Random Forest\n",
    "xgb_random = RandomizedSearchCV(estimator = xgb_base, param_distributions = xgb_grid, \n",
    "                                n_iter = 200, cv = 3, verbose = 2, \n",
    "                                random_state = 420, n_jobs = -1)\n",
    "\n",
    "# Fit the random search model\n",
    "xgb_random.fit(X_train_temp, y_train_temp)\n",
    "\n",
    "# Get the optimal parameters\n",
    "xgb_random.best_params_"
   ]
  },
  {
   "cell_type": "code",
   "execution_count": 47,
   "metadata": {},
   "outputs": [
    {
     "data": {
      "text/plain": [
       "XGBRegressor(base_score=0.5, booster='gbtree', colsample_bylevel=1,\n",
       "             colsample_bynode=1, colsample_bytree=1, eta=0.5, gamma=0,\n",
       "             gpu_id=-1, importance_type='gain', interaction_constraints='',\n",
       "             learning_rate=0.5, max_delta_step=0, max_depth=20,\n",
       "             min_child_weight=3, missing=nan, monotone_constraints='()',\n",
       "             n_estimators=1200, n_jobs=16, num_parallel_tree=1, random_state=42,\n",
       "             reg_alpha=0, reg_lambda=1, scale_pos_weight=1, subsample=1,\n",
       "             tree_method='approx', validate_parameters=1, verbosity=None)"
      ]
     },
     "execution_count": 47,
     "metadata": {},
     "output_type": "execute_result"
    }
   ],
   "source": [
    "# Create the final Multiple Linear Regression\n",
    "mlr_final = LinearRegression()\n",
    "\n",
    "\n",
    "\n",
    "\n",
    "# Create the final Random Forest\n",
    "rf_final = RandomForestRegressor(n_estimators = 1500,\n",
    "                                 min_samples_split = 4,\n",
    "                                 min_impurity_decrease = 0.1,\n",
    "                                 max_features = 'log2',\n",
    "                                 max_depth = 15,\n",
    "                                 criterion = 'mse',\n",
    "                                 bootstrap = False,\n",
    "                                 random_state = 42)\n",
    "\n",
    "\n",
    "# Create the fnal Extreme Gradient Booster\n",
    "xgb_final = XGBRegressor.XGBRegressor(tree_method = 'approx',\n",
    "                         objective = 'reg:squarederror',\n",
    "                         n_estimators = 1200,\n",
    "                         min_child_weight = 3,\n",
    "                         max_depth = 20,\n",
    "                         gamma = 0,\n",
    "                         eta = 0.5,\n",
    "                         random_state = 42)\n",
    "\n",
    "# Train the models using 80% of the original data\n",
    "mlr_final.fit(X_train_temp, y_train_temp)\n",
    "rf_final.fit(X_train_temp, y_train_temp)\n",
    "xgb_final.fit(X_train_temp, y_train_temp)"
   ]
  },
  {
   "cell_type": "code",
   "execution_count": 48,
   "metadata": {},
   "outputs": [],
   "source": [
    "# Define a function that compares all final models\n",
    "def final_comparison(models, test_features, test_labels):\n",
    "    scores = pd.DataFrame()\n",
    "    for model in models:\n",
    "        predictions = model.predict(test_features)\n",
    "        mae = round(mean_absolute_error(test_labels, predictions), 4)\n",
    "        mse = round(mean_squared_error(test_labels, predictions), 4)\n",
    "        r2 = round(r2_score(test_labels, predictions), 4)\n",
    "        errors = abs(predictions - test_labels)\n",
    "        mape = 100 * np.mean(errors / test_labels)\n",
    "        accuracy = round(100 - mape, 4)\n",
    "        scores[str(model)] = [mae, mse, r2, accuracy]\n",
    "    scores.index = ['Mean Absolute Error', 'Mean Squared Error', 'R^2', 'Accuracy']\n",
    "    return scores"
   ]
  },
  {
   "cell_type": "code",
   "execution_count": 49,
   "metadata": {},
   "outputs": [],
   "source": [
    "# Call the comparison function with the three final models\n",
    "final_scores = final_comparison([mlr_final, rf_final, xgb_final], X_test, y_test)\n",
    "\n",
    "# Adjust the column headers\n",
    "final_scores.columns  = ['Linear Regression', 'Random Forest', 'Extreme Gradient Boosting']"
   ]
  },
  {
   "cell_type": "code",
   "execution_count": 64,
   "metadata": {},
   "outputs": [
    {
     "data": {
      "text/html": [
       "<div>\n",
       "<style scoped>\n",
       "    .dataframe tbody tr th:only-of-type {\n",
       "        vertical-align: middle;\n",
       "    }\n",
       "\n",
       "    .dataframe tbody tr th {\n",
       "        vertical-align: top;\n",
       "    }\n",
       "\n",
       "    .dataframe thead th {\n",
       "        text-align: right;\n",
       "    }\n",
       "</style>\n",
       "<table border=\"1\" class=\"dataframe\">\n",
       "  <thead>\n",
       "    <tr style=\"text-align: right;\">\n",
       "      <th></th>\n",
       "      <th>Linear Regression</th>\n",
       "      <th>Random Forest</th>\n",
       "      <th>Extreme Gradient Boosting</th>\n",
       "    </tr>\n",
       "  </thead>\n",
       "  <tbody>\n",
       "    <tr>\n",
       "      <th>Mean Absolute Error</th>\n",
       "      <td>3.5534</td>\n",
       "      <td>3.5808</td>\n",
       "      <td>3.9629</td>\n",
       "    </tr>\n",
       "    <tr>\n",
       "      <th>Mean Squared Error</th>\n",
       "      <td>21.5618</td>\n",
       "      <td>22.7385</td>\n",
       "      <td>24.5243</td>\n",
       "    </tr>\n",
       "    <tr>\n",
       "      <th>R^2</th>\n",
       "      <td>0.6700</td>\n",
       "      <td>0.6520</td>\n",
       "      <td>0.6247</td>\n",
       "    </tr>\n",
       "    <tr>\n",
       "      <th>Accuracy</th>\n",
       "      <td>94.6884</td>\n",
       "      <td>94.6467</td>\n",
       "      <td>94.2521</td>\n",
       "    </tr>\n",
       "  </tbody>\n",
       "</table>\n",
       "</div>"
      ],
      "text/plain": [
       "                     Linear Regression  Random Forest  \\\n",
       "Mean Absolute Error             3.5534         3.5808   \n",
       "Mean Squared Error             21.5618        22.7385   \n",
       "R^2                             0.6700         0.6520   \n",
       "Accuracy                       94.6884        94.6467   \n",
       "\n",
       "                     Extreme Gradient Boosting  \n",
       "Mean Absolute Error                     3.9629  \n",
       "Mean Squared Error                     24.5243  \n",
       "R^2                                     0.6247  \n",
       "Accuracy                               94.2521  "
      ]
     },
     "execution_count": 64,
     "metadata": {},
     "output_type": "execute_result"
    }
   ],
   "source": [
    "final_scores"
   ]
  },
  {
   "cell_type": "markdown",
   "metadata": {},
   "source": [
    "# Support Vector Model"
   ]
  },
  {
   "cell_type": "code",
   "execution_count": 65,
   "metadata": {},
   "outputs": [
    {
     "name": "stdout",
     "output_type": "stream",
     "text": [
      "train accuracy: 0.21311475409836064\n",
      "test accuracy: 0.0625\n"
     ]
    }
   ],
   "source": [
    "# First SVM model\n",
    "from sklearn.svm import SVC\n",
    "svm=SVC(random_state=101)\n",
    "svm.fit(X_train_temp, y_train_temp)\n",
    "print('train accuracy:', svm.score(X_train_temp, y_train_temp))\n",
    "print('test accuracy:', svm.score(X_test,y_test))"
   ]
  },
  {
   "cell_type": "code",
   "execution_count": null,
   "metadata": {},
   "outputs": [],
   "source": []
  }
 ],
 "metadata": {
  "kernelspec": {
   "display_name": "Python 3",
   "language": "python",
   "name": "python3"
  },
  "language_info": {
   "codemirror_mode": {
    "name": "ipython",
    "version": 3
   },
   "file_extension": ".py",
   "mimetype": "text/x-python",
   "name": "python",
   "nbconvert_exporter": "python",
   "pygments_lexer": "ipython3",
   "version": "3.8.5"
  }
 },
 "nbformat": 4,
 "nbformat_minor": 4
}
