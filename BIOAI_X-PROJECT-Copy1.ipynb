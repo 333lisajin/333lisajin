{
 "cells": [
  {
   "cell_type": "code",
   "execution_count": 1,
   "metadata": {},
   "outputs": [],
   "source": [
    "import tensorflow as tf\n",
    "from tensorflow import keras\n",
    "\n",
    "import os\n",
    "import tempfile\n",
    "\n",
    "import matplotlib as mpl\n",
    "import matplotlib.pyplot as plt\n",
    "import numpy as np\n",
    "import pandas as pd\n",
    "import seaborn as sns\n",
    "\n",
    "import sklearn\n",
    "from sklearn.metrics import confusion_matrix\n",
    "from sklearn.model_selection import train_test_split\n",
    "from sklearn.preprocessing import StandardScaler\n",
    "from scipy import stats"
   ]
  },
  {
   "cell_type": "code",
   "execution_count": 2,
   "metadata": {},
   "outputs": [],
   "source": [
    "mpl.rcParams['figure.figsize'] = (12, 10)\n",
    "colors = plt.rcParams['axes.prop_cycle'].by_key()['color']"
   ]
  },
  {
   "cell_type": "code",
   "execution_count": 3,
   "metadata": {
    "scrolled": false
   },
   "outputs": [
    {
     "name": "stdout",
     "output_type": "stream",
     "text": [
      "Requirement already satisfied: tensorflow in /Users/lisajin/opt/anaconda3/lib/python3.8/site-packages (2.5.0)\n",
      "Requirement already satisfied: keras-preprocessing~=1.1.2 in /Users/lisajin/opt/anaconda3/lib/python3.8/site-packages (from tensorflow) (1.1.2)\n",
      "Requirement already satisfied: google-pasta~=0.2 in /Users/lisajin/opt/anaconda3/lib/python3.8/site-packages (from tensorflow) (0.2.0)\n",
      "Requirement already satisfied: opt-einsum~=3.3.0 in /Users/lisajin/opt/anaconda3/lib/python3.8/site-packages (from tensorflow) (3.3.0)\n",
      "Requirement already satisfied: flatbuffers~=1.12.0 in /Users/lisajin/opt/anaconda3/lib/python3.8/site-packages (from tensorflow) (1.12)\n",
      "Requirement already satisfied: h5py~=3.1.0 in /Users/lisajin/opt/anaconda3/lib/python3.8/site-packages (from tensorflow) (3.1.0)\n",
      "Requirement already satisfied: absl-py~=0.10 in /Users/lisajin/opt/anaconda3/lib/python3.8/site-packages (from tensorflow) (0.12.0)\n",
      "Requirement already satisfied: keras-nightly~=2.5.0.dev in /Users/lisajin/opt/anaconda3/lib/python3.8/site-packages (from tensorflow) (2.5.0.dev2021032900)\n",
      "Requirement already satisfied: grpcio~=1.34.0 in /Users/lisajin/opt/anaconda3/lib/python3.8/site-packages (from tensorflow) (1.34.1)\n",
      "Requirement already satisfied: astunparse~=1.6.3 in /Users/lisajin/opt/anaconda3/lib/python3.8/site-packages (from tensorflow) (1.6.3)\n",
      "Requirement already satisfied: wrapt~=1.12.1 in /Users/lisajin/opt/anaconda3/lib/python3.8/site-packages (from tensorflow) (1.12.1)\n",
      "Requirement already satisfied: six~=1.15.0 in /Users/lisajin/opt/anaconda3/lib/python3.8/site-packages (from tensorflow) (1.15.0)\n",
      "Requirement already satisfied: termcolor~=1.1.0 in /Users/lisajin/opt/anaconda3/lib/python3.8/site-packages (from tensorflow) (1.1.0)\n",
      "Requirement already satisfied: tensorflow-estimator<2.6.0,>=2.5.0rc0 in /Users/lisajin/opt/anaconda3/lib/python3.8/site-packages (from tensorflow) (2.5.0)\n",
      "Requirement already satisfied: protobuf>=3.9.2 in /Users/lisajin/opt/anaconda3/lib/python3.8/site-packages (from tensorflow) (3.17.1)\n",
      "Requirement already satisfied: numpy~=1.19.2 in /Users/lisajin/opt/anaconda3/lib/python3.8/site-packages (from tensorflow) (1.19.2)\n",
      "Requirement already satisfied: wheel~=0.35 in /Users/lisajin/opt/anaconda3/lib/python3.8/site-packages (from tensorflow) (0.35.1)\n",
      "Requirement already satisfied: tensorboard~=2.5 in /Users/lisajin/opt/anaconda3/lib/python3.8/site-packages (from tensorflow) (2.5.0)\n",
      "Requirement already satisfied: gast==0.4.0 in /Users/lisajin/opt/anaconda3/lib/python3.8/site-packages (from tensorflow) (0.4.0)\n",
      "Requirement already satisfied: typing-extensions~=3.7.4 in /Users/lisajin/opt/anaconda3/lib/python3.8/site-packages (from tensorflow) (3.7.4.3)\n",
      "Requirement already satisfied: google-auth<2,>=1.6.3 in /Users/lisajin/opt/anaconda3/lib/python3.8/site-packages (from tensorboard~=2.5->tensorflow) (1.30.1)\n",
      "Requirement already satisfied: requests<3,>=2.21.0 in /Users/lisajin/opt/anaconda3/lib/python3.8/site-packages (from tensorboard~=2.5->tensorflow) (2.24.0)\n",
      "Requirement already satisfied: werkzeug>=0.11.15 in /Users/lisajin/opt/anaconda3/lib/python3.8/site-packages (from tensorboard~=2.5->tensorflow) (1.0.1)\n",
      "Requirement already satisfied: markdown>=2.6.8 in /Users/lisajin/opt/anaconda3/lib/python3.8/site-packages (from tensorboard~=2.5->tensorflow) (3.3.4)\n",
      "Requirement already satisfied: setuptools>=41.0.0 in /Users/lisajin/opt/anaconda3/lib/python3.8/site-packages (from tensorboard~=2.5->tensorflow) (50.3.1.post20201107)\n",
      "Requirement already satisfied: google-auth-oauthlib<0.5,>=0.4.1 in /Users/lisajin/opt/anaconda3/lib/python3.8/site-packages (from tensorboard~=2.5->tensorflow) (0.4.4)\n",
      "Requirement already satisfied: tensorboard-plugin-wit>=1.6.0 in /Users/lisajin/opt/anaconda3/lib/python3.8/site-packages (from tensorboard~=2.5->tensorflow) (1.8.0)\n",
      "Requirement already satisfied: tensorboard-data-server<0.7.0,>=0.6.0 in /Users/lisajin/opt/anaconda3/lib/python3.8/site-packages (from tensorboard~=2.5->tensorflow) (0.6.1)\n",
      "Requirement already satisfied: rsa<5,>=3.1.4; python_version >= \"3.6\" in /Users/lisajin/opt/anaconda3/lib/python3.8/site-packages (from google-auth<2,>=1.6.3->tensorboard~=2.5->tensorflow) (4.7.2)\n",
      "Requirement already satisfied: pyasn1-modules>=0.2.1 in /Users/lisajin/opt/anaconda3/lib/python3.8/site-packages (from google-auth<2,>=1.6.3->tensorboard~=2.5->tensorflow) (0.2.8)\n",
      "Requirement already satisfied: cachetools<5.0,>=2.0.0 in /Users/lisajin/opt/anaconda3/lib/python3.8/site-packages (from google-auth<2,>=1.6.3->tensorboard~=2.5->tensorflow) (4.2.2)\n",
      "Requirement already satisfied: chardet<4,>=3.0.2 in /Users/lisajin/opt/anaconda3/lib/python3.8/site-packages (from requests<3,>=2.21.0->tensorboard~=2.5->tensorflow) (3.0.4)\n",
      "Requirement already satisfied: idna<3,>=2.5 in /Users/lisajin/opt/anaconda3/lib/python3.8/site-packages (from requests<3,>=2.21.0->tensorboard~=2.5->tensorflow) (2.10)\n",
      "Requirement already satisfied: certifi>=2017.4.17 in /Users/lisajin/opt/anaconda3/lib/python3.8/site-packages (from requests<3,>=2.21.0->tensorboard~=2.5->tensorflow) (2020.6.20)\n",
      "Requirement already satisfied: urllib3!=1.25.0,!=1.25.1,<1.26,>=1.21.1 in /Users/lisajin/opt/anaconda3/lib/python3.8/site-packages (from requests<3,>=2.21.0->tensorboard~=2.5->tensorflow) (1.25.11)\n",
      "Requirement already satisfied: requests-oauthlib>=0.7.0 in /Users/lisajin/opt/anaconda3/lib/python3.8/site-packages (from google-auth-oauthlib<0.5,>=0.4.1->tensorboard~=2.5->tensorflow) (1.3.0)\n",
      "Requirement already satisfied: pyasn1>=0.1.3 in /Users/lisajin/opt/anaconda3/lib/python3.8/site-packages (from rsa<5,>=3.1.4; python_version >= \"3.6\"->google-auth<2,>=1.6.3->tensorboard~=2.5->tensorflow) (0.4.8)\n",
      "Requirement already satisfied: oauthlib>=3.0.0 in /Users/lisajin/opt/anaconda3/lib/python3.8/site-packages (from requests-oauthlib>=0.7.0->google-auth-oauthlib<0.5,>=0.4.1->tensorboard~=2.5->tensorflow) (3.1.0)\n",
      "Note: you may need to restart the kernel to use updated packages.\n"
     ]
    }
   ],
   "source": [
    "pip install tensorflow"
   ]
  },
  {
   "cell_type": "code",
   "execution_count": 4,
   "metadata": {},
   "outputs": [
    {
     "name": "stdout",
     "output_type": "stream",
     "text": [
      "Requirement already satisfied: tensorflow_datasets in /Users/lisajin/opt/anaconda3/lib/python3.8/site-packages (4.3.0)\n",
      "Requirement already satisfied: six in /Users/lisajin/opt/anaconda3/lib/python3.8/site-packages (from tensorflow_datasets) (1.15.0)\n",
      "Requirement already satisfied: importlib-resources; python_version < \"3.9\" in /Users/lisajin/opt/anaconda3/lib/python3.8/site-packages (from tensorflow_datasets) (5.1.4)\n",
      "Requirement already satisfied: tensorflow-metadata in /Users/lisajin/opt/anaconda3/lib/python3.8/site-packages (from tensorflow_datasets) (1.0.0)\n",
      "Requirement already satisfied: numpy in /Users/lisajin/opt/anaconda3/lib/python3.8/site-packages (from tensorflow_datasets) (1.19.2)\n",
      "Requirement already satisfied: dill in /Users/lisajin/opt/anaconda3/lib/python3.8/site-packages (from tensorflow_datasets) (0.3.3)\n",
      "Requirement already satisfied: requests>=2.19.0 in /Users/lisajin/opt/anaconda3/lib/python3.8/site-packages (from tensorflow_datasets) (2.24.0)\n",
      "Requirement already satisfied: tqdm in /Users/lisajin/opt/anaconda3/lib/python3.8/site-packages (from tensorflow_datasets) (4.50.2)\n",
      "Requirement already satisfied: termcolor in /Users/lisajin/opt/anaconda3/lib/python3.8/site-packages (from tensorflow_datasets) (1.1.0)\n",
      "Requirement already satisfied: attrs>=18.1.0 in /Users/lisajin/opt/anaconda3/lib/python3.8/site-packages (from tensorflow_datasets) (20.3.0)\n",
      "Requirement already satisfied: protobuf>=3.12.2 in /Users/lisajin/opt/anaconda3/lib/python3.8/site-packages (from tensorflow_datasets) (3.17.1)\n",
      "Requirement already satisfied: absl-py in /Users/lisajin/opt/anaconda3/lib/python3.8/site-packages (from tensorflow_datasets) (0.12.0)\n",
      "Requirement already satisfied: promise in /Users/lisajin/opt/anaconda3/lib/python3.8/site-packages (from tensorflow_datasets) (2.3)\n",
      "Requirement already satisfied: future in /Users/lisajin/opt/anaconda3/lib/python3.8/site-packages (from tensorflow_datasets) (0.18.2)\n",
      "Requirement already satisfied: zipp>=3.1.0; python_version < \"3.10\" in /Users/lisajin/opt/anaconda3/lib/python3.8/site-packages (from importlib-resources; python_version < \"3.9\"->tensorflow_datasets) (3.4.0)\n",
      "Requirement already satisfied: googleapis-common-protos<2,>=1.52.0 in /Users/lisajin/opt/anaconda3/lib/python3.8/site-packages (from tensorflow-metadata->tensorflow_datasets) (1.53.0)\n",
      "Requirement already satisfied: chardet<4,>=3.0.2 in /Users/lisajin/opt/anaconda3/lib/python3.8/site-packages (from requests>=2.19.0->tensorflow_datasets) (3.0.4)\n",
      "Requirement already satisfied: idna<3,>=2.5 in /Users/lisajin/opt/anaconda3/lib/python3.8/site-packages (from requests>=2.19.0->tensorflow_datasets) (2.10)\n",
      "Requirement already satisfied: certifi>=2017.4.17 in /Users/lisajin/opt/anaconda3/lib/python3.8/site-packages (from requests>=2.19.0->tensorflow_datasets) (2020.6.20)\n",
      "Requirement already satisfied: urllib3!=1.25.0,!=1.25.1,<1.26,>=1.21.1 in /Users/lisajin/opt/anaconda3/lib/python3.8/site-packages (from requests>=2.19.0->tensorflow_datasets) (1.25.11)\n",
      "Note: you may need to restart the kernel to use updated packages.\n"
     ]
    }
   ],
   "source": [
    "pip install tensorflow_datasets"
   ]
  },
  {
   "cell_type": "code",
   "execution_count": 5,
   "metadata": {},
   "outputs": [],
   "source": [
    "import tensorflow_datasets as tfds"
   ]
  },
  {
   "cell_type": "code",
   "execution_count": 6,
   "metadata": {},
   "outputs": [
    {
     "name": "stdout",
     "output_type": "stream",
     "text": [
      "Requirement already satisfied: tensorflow-cpu in /Users/lisajin/opt/anaconda3/lib/python3.8/site-packages (2.5.0)\n",
      "Requirement already satisfied: grpcio~=1.34.0 in /Users/lisajin/opt/anaconda3/lib/python3.8/site-packages (from tensorflow-cpu) (1.34.1)\n",
      "Requirement already satisfied: tensorflow-estimator<2.6.0,>=2.5.0rc0 in /Users/lisajin/opt/anaconda3/lib/python3.8/site-packages (from tensorflow-cpu) (2.5.0)\n",
      "Requirement already satisfied: keras-nightly~=2.5.0.dev in /Users/lisajin/opt/anaconda3/lib/python3.8/site-packages (from tensorflow-cpu) (2.5.0.dev2021032900)\n",
      "Requirement already satisfied: absl-py~=0.10 in /Users/lisajin/opt/anaconda3/lib/python3.8/site-packages (from tensorflow-cpu) (0.12.0)\n",
      "Requirement already satisfied: h5py~=3.1.0 in /Users/lisajin/opt/anaconda3/lib/python3.8/site-packages (from tensorflow-cpu) (3.1.0)\n",
      "Requirement already satisfied: flatbuffers~=1.12.0 in /Users/lisajin/opt/anaconda3/lib/python3.8/site-packages (from tensorflow-cpu) (1.12)\n",
      "Requirement already satisfied: astunparse~=1.6.3 in /Users/lisajin/opt/anaconda3/lib/python3.8/site-packages (from tensorflow-cpu) (1.6.3)\n",
      "Requirement already satisfied: typing-extensions~=3.7.4 in /Users/lisajin/opt/anaconda3/lib/python3.8/site-packages (from tensorflow-cpu) (3.7.4.3)\n",
      "Requirement already satisfied: protobuf>=3.9.2 in /Users/lisajin/opt/anaconda3/lib/python3.8/site-packages (from tensorflow-cpu) (3.17.1)\n",
      "Requirement already satisfied: wheel~=0.35 in /Users/lisajin/opt/anaconda3/lib/python3.8/site-packages (from tensorflow-cpu) (0.35.1)\n",
      "Requirement already satisfied: wrapt~=1.12.1 in /Users/lisajin/opt/anaconda3/lib/python3.8/site-packages (from tensorflow-cpu) (1.12.1)\n",
      "Requirement already satisfied: google-pasta~=0.2 in /Users/lisajin/opt/anaconda3/lib/python3.8/site-packages (from tensorflow-cpu) (0.2.0)\n",
      "Requirement already satisfied: gast==0.4.0 in /Users/lisajin/opt/anaconda3/lib/python3.8/site-packages (from tensorflow-cpu) (0.4.0)\n",
      "Requirement already satisfied: termcolor~=1.1.0 in /Users/lisajin/opt/anaconda3/lib/python3.8/site-packages (from tensorflow-cpu) (1.1.0)\n",
      "Requirement already satisfied: opt-einsum~=3.3.0 in /Users/lisajin/opt/anaconda3/lib/python3.8/site-packages (from tensorflow-cpu) (3.3.0)\n",
      "Requirement already satisfied: numpy~=1.19.2 in /Users/lisajin/opt/anaconda3/lib/python3.8/site-packages (from tensorflow-cpu) (1.19.2)\n",
      "Requirement already satisfied: tensorboard~=2.5 in /Users/lisajin/opt/anaconda3/lib/python3.8/site-packages (from tensorflow-cpu) (2.5.0)\n",
      "Requirement already satisfied: keras-preprocessing~=1.1.2 in /Users/lisajin/opt/anaconda3/lib/python3.8/site-packages (from tensorflow-cpu) (1.1.2)\n",
      "Requirement already satisfied: six~=1.15.0 in /Users/lisajin/opt/anaconda3/lib/python3.8/site-packages (from tensorflow-cpu) (1.15.0)\n",
      "Requirement already satisfied: tensorboard-data-server<0.7.0,>=0.6.0 in /Users/lisajin/opt/anaconda3/lib/python3.8/site-packages (from tensorboard~=2.5->tensorflow-cpu) (0.6.1)\n",
      "Requirement already satisfied: google-auth-oauthlib<0.5,>=0.4.1 in /Users/lisajin/opt/anaconda3/lib/python3.8/site-packages (from tensorboard~=2.5->tensorflow-cpu) (0.4.4)\n",
      "Requirement already satisfied: tensorboard-plugin-wit>=1.6.0 in /Users/lisajin/opt/anaconda3/lib/python3.8/site-packages (from tensorboard~=2.5->tensorflow-cpu) (1.8.0)\n",
      "Requirement already satisfied: markdown>=2.6.8 in /Users/lisajin/opt/anaconda3/lib/python3.8/site-packages (from tensorboard~=2.5->tensorflow-cpu) (3.3.4)\n",
      "Requirement already satisfied: requests<3,>=2.21.0 in /Users/lisajin/opt/anaconda3/lib/python3.8/site-packages (from tensorboard~=2.5->tensorflow-cpu) (2.24.0)\n",
      "Requirement already satisfied: setuptools>=41.0.0 in /Users/lisajin/opt/anaconda3/lib/python3.8/site-packages (from tensorboard~=2.5->tensorflow-cpu) (50.3.1.post20201107)\n",
      "Requirement already satisfied: werkzeug>=0.11.15 in /Users/lisajin/opt/anaconda3/lib/python3.8/site-packages (from tensorboard~=2.5->tensorflow-cpu) (1.0.1)\n",
      "Requirement already satisfied: google-auth<2,>=1.6.3 in /Users/lisajin/opt/anaconda3/lib/python3.8/site-packages (from tensorboard~=2.5->tensorflow-cpu) (1.30.1)\n",
      "Requirement already satisfied: requests-oauthlib>=0.7.0 in /Users/lisajin/opt/anaconda3/lib/python3.8/site-packages (from google-auth-oauthlib<0.5,>=0.4.1->tensorboard~=2.5->tensorflow-cpu) (1.3.0)\n",
      "Requirement already satisfied: idna<3,>=2.5 in /Users/lisajin/opt/anaconda3/lib/python3.8/site-packages (from requests<3,>=2.21.0->tensorboard~=2.5->tensorflow-cpu) (2.10)\n",
      "Requirement already satisfied: certifi>=2017.4.17 in /Users/lisajin/opt/anaconda3/lib/python3.8/site-packages (from requests<3,>=2.21.0->tensorboard~=2.5->tensorflow-cpu) (2020.6.20)\n",
      "Requirement already satisfied: urllib3!=1.25.0,!=1.25.1,<1.26,>=1.21.1 in /Users/lisajin/opt/anaconda3/lib/python3.8/site-packages (from requests<3,>=2.21.0->tensorboard~=2.5->tensorflow-cpu) (1.25.11)\n",
      "Requirement already satisfied: chardet<4,>=3.0.2 in /Users/lisajin/opt/anaconda3/lib/python3.8/site-packages (from requests<3,>=2.21.0->tensorboard~=2.5->tensorflow-cpu) (3.0.4)\n",
      "Requirement already satisfied: cachetools<5.0,>=2.0.0 in /Users/lisajin/opt/anaconda3/lib/python3.8/site-packages (from google-auth<2,>=1.6.3->tensorboard~=2.5->tensorflow-cpu) (4.2.2)\n",
      "Requirement already satisfied: rsa<5,>=3.1.4; python_version >= \"3.6\" in /Users/lisajin/opt/anaconda3/lib/python3.8/site-packages (from google-auth<2,>=1.6.3->tensorboard~=2.5->tensorflow-cpu) (4.7.2)\n",
      "Requirement already satisfied: pyasn1-modules>=0.2.1 in /Users/lisajin/opt/anaconda3/lib/python3.8/site-packages (from google-auth<2,>=1.6.3->tensorboard~=2.5->tensorflow-cpu) (0.2.8)\n",
      "Requirement already satisfied: oauthlib>=3.0.0 in /Users/lisajin/opt/anaconda3/lib/python3.8/site-packages (from requests-oauthlib>=0.7.0->google-auth-oauthlib<0.5,>=0.4.1->tensorboard~=2.5->tensorflow-cpu) (3.1.0)\n",
      "Requirement already satisfied: pyasn1>=0.1.3 in /Users/lisajin/opt/anaconda3/lib/python3.8/site-packages (from rsa<5,>=3.1.4; python_version >= \"3.6\"->google-auth<2,>=1.6.3->tensorboard~=2.5->tensorflow-cpu) (0.4.8)\n",
      "Note: you may need to restart the kernel to use updated packages.\n"
     ]
    }
   ],
   "source": [
    "pip install tensorflow-cpu"
   ]
  },
  {
   "cell_type": "code",
   "execution_count": 7,
   "metadata": {},
   "outputs": [
    {
     "data": {
      "text/plain": [
       "b'Hello, TensorFlow!'"
      ]
     },
     "execution_count": 7,
     "metadata": {},
     "output_type": "execute_result"
    }
   ],
   "source": [
    "import tensorflow as tf\n",
    ">>> tf.add(1, 2).numpy()\n",
    "\n",
    ">>> hello = tf.constant('Hello, TensorFlow!')\n",
    ">>> hello.numpy()\n"
   ]
  },
  {
   "cell_type": "code",
   "execution_count": 8,
   "metadata": {
    "scrolled": true
   },
   "outputs": [],
   "source": [
    "df = pd.read_csv(\"/Users/lisajin/Documents/scu/research material/X molecule/consolidated2.csv\")\n",
    "headers = np.array(df.columns)  # get headers\n",
    "values = df.values  # numpy array of values\n",
    "matrix = np.concatenate([[headers], values])  # append to the final matrix\n",
    "\n",
    "\n",
    "data=pd.DataFrame(df).to_numpy()"
   ]
  },
  {
   "cell_type": "code",
   "execution_count": 9,
   "metadata": {
    "scrolled": false
   },
   "outputs": [
    {
     "name": "stdout",
     "output_type": "stream",
     "text": [
      "[[1.0000e+00 2.0000e+00 2.0000e+00 ... 4.3278e+10 2.0000e-01 1.0000e+00]\n",
      " [2.0000e+00 2.0000e+00 2.0000e+00 ... 4.3278e+10 2.0000e-01 2.0000e+00]\n",
      " [1.0000e+00 1.0000e+00 1.0000e+00 ... 2.7118e+10 2.0000e-01 3.0000e+00]\n",
      " ...\n",
      " [1.0000e+00 1.0000e+00 1.0000e+00 ... 0.0000e+00 2.0000e-01 1.8300e+02]\n",
      " [1.0000e+00 1.0000e+00 1.0000e+00 ... 0.0000e+00 2.0000e-01 1.8400e+02]\n",
      " [1.0000e+00 1.0000e+00 1.0000e+00 ... 0.0000e+00 2.0000e-01 1.8500e+02]]\n"
     ]
    }
   ],
   "source": [
    "print(data)"
   ]
  },
  {
   "cell_type": "code",
   "execution_count": 10,
   "metadata": {},
   "outputs": [
    {
     "name": "stdout",
     "output_type": "stream",
     "text": [
      "     Number of proteins  Peptides  Unique peptides  Sequence coverage [%]  \\\n",
      "0                     1         2                2                   11.8   \n",
      "1                     2         2                2                   11.8   \n",
      "2                     1         1                1                    0.1   \n",
      "3                     1         1                1                    1.9   \n",
      "4                     1         1                1                    4.8   \n",
      "..                  ...       ...              ...                    ...   \n",
      "180                   1         1                1                    1.0   \n",
      "181                   1         1                1                    3.0   \n",
      "182                   1         1                1                    3.4   \n",
      "183                   1         1                1                    1.7   \n",
      "184                   1         1                1                    0.4   \n",
      "\n",
      "     Unique sequence coverage [%]  Mol. weight [kDa]  Sequence length  \\\n",
      "0                            11.8          4007.0000               68   \n",
      "1                            11.8          4007.0000             1195   \n",
      "2                             0.1           760.2800             6993   \n",
      "3                             1.9           760.2800              421   \n",
      "4                             4.8           559.4300              146   \n",
      "..                            ...                ...              ...   \n",
      "180                           1.0            13.5750             1536   \n",
      "181                           3.0            11.4460              201   \n",
      "182                           3.4            10.8300              207   \n",
      "183                           1.7             8.1435              803   \n",
      "184                           0.4             8.0458             5152   \n",
      "\n",
      "     Sequence lengths  Q-value    Score    Intensity  locationweight  \n",
      "0                  68        0  26.8050  43278000000             0.2  \n",
      "1                1195        0  26.8050  43278000000             0.2  \n",
      "2                6993        0  13.5360  27118000000             0.2  \n",
      "3                 421        0   9.2509  10040000000             0.2  \n",
      "4                 146        0   6.1686   9356900000             0.2  \n",
      "..                ...      ...      ...          ...             ...  \n",
      "180              1536        0   6.5413            0             0.5  \n",
      "181               201        0   6.3478            0             0.2  \n",
      "182               207        0   6.2729            0             0.2  \n",
      "183               803        0   5.9787            0             0.2  \n",
      "184              5152        0   5.9564            0             0.2  \n",
      "\n",
      "[185 rows x 12 columns]\n",
      "     Number of proteins  Peptides  Unique peptides  Sequence coverage [%]  \\\n",
      "0                     1         2                2                   11.8   \n",
      "1                     2         2                2                   11.8   \n",
      "2                     1         1                1                    0.1   \n",
      "3                     1         1                1                    1.9   \n",
      "4                     1         1                1                    4.8   \n",
      "..                  ...       ...              ...                    ...   \n",
      "180                   1         1                1                    1.0   \n",
      "181                   1         1                1                    3.0   \n",
      "182                   1         1                1                    3.4   \n",
      "183                   1         1                1                    1.7   \n",
      "184                   1         1                1                    0.4   \n",
      "\n",
      "     Unique sequence coverage [%]  Mol. weight [kDa]  Sequence length  \\\n",
      "0                            11.8          4007.0000               68   \n",
      "1                            11.8          4007.0000             1195   \n",
      "2                             0.1           760.2800             6993   \n",
      "3                             1.9           760.2800              421   \n",
      "4                             4.8           559.4300              146   \n",
      "..                            ...                ...              ...   \n",
      "180                           1.0            13.5750             1536   \n",
      "181                           3.0            11.4460              201   \n",
      "182                           3.4            10.8300              207   \n",
      "183                           1.7             8.1435              803   \n",
      "184                           0.4             8.0458             5152   \n",
      "\n",
      "     Sequence lengths  Q-value    Score    Intensity  locationweight   ID  \n",
      "0                  68        0  26.8050  43278000000             0.2    1  \n",
      "1                1195        0  26.8050  43278000000             0.2    2  \n",
      "2                6993        0  13.5360  27118000000             0.2    3  \n",
      "3                 421        0   9.2509  10040000000             0.2    4  \n",
      "4                 146        0   6.1686   9356900000             0.2    5  \n",
      "..                ...      ...      ...          ...             ...  ...  \n",
      "180              1536        0   6.5413            0             0.5  181  \n",
      "181               201        0   6.3478            0             0.2  182  \n",
      "182               207        0   6.2729            0             0.2  183  \n",
      "183               803        0   5.9787            0             0.2  184  \n",
      "184              5152        0   5.9564            0             0.2  185  \n",
      "\n",
      "[185 rows x 13 columns]\n"
     ]
    }
   ],
   "source": [
    "df1=df\n",
    "df=df.drop('ID',axis=1)\n",
    "vector=np.vectorize(np.float)\n",
    "data=vector(df)\n",
    "print(df)\n",
    "print(df1)"
   ]
  },
  {
   "cell_type": "code",
   "execution_count": 11,
   "metadata": {},
   "outputs": [
    {
     "data": {
      "text/html": [
       "<div>\n",
       "<style scoped>\n",
       "    .dataframe tbody tr th:only-of-type {\n",
       "        vertical-align: middle;\n",
       "    }\n",
       "\n",
       "    .dataframe tbody tr th {\n",
       "        vertical-align: top;\n",
       "    }\n",
       "\n",
       "    .dataframe thead th {\n",
       "        text-align: right;\n",
       "    }\n",
       "</style>\n",
       "<table border=\"1\" class=\"dataframe\">\n",
       "  <thead>\n",
       "    <tr style=\"text-align: right;\">\n",
       "      <th></th>\n",
       "      <th>Number of proteins</th>\n",
       "      <th>Peptides</th>\n",
       "      <th>Unique peptides</th>\n",
       "      <th>Sequence coverage [%]</th>\n",
       "      <th>Unique sequence coverage [%]</th>\n",
       "      <th>Mol. weight [kDa]</th>\n",
       "      <th>Sequence length</th>\n",
       "      <th>Sequence lengths</th>\n",
       "      <th>Q-value</th>\n",
       "      <th>Score</th>\n",
       "      <th>Intensity</th>\n",
       "      <th>locationweight</th>\n",
       "    </tr>\n",
       "  </thead>\n",
       "  <tbody>\n",
       "    <tr>\n",
       "      <th>0</th>\n",
       "      <td>1</td>\n",
       "      <td>2</td>\n",
       "      <td>2</td>\n",
       "      <td>11.8</td>\n",
       "      <td>11.8</td>\n",
       "      <td>4007.00</td>\n",
       "      <td>68</td>\n",
       "      <td>68</td>\n",
       "      <td>0</td>\n",
       "      <td>26.8050</td>\n",
       "      <td>43278000000</td>\n",
       "      <td>0.2</td>\n",
       "    </tr>\n",
       "    <tr>\n",
       "      <th>1</th>\n",
       "      <td>2</td>\n",
       "      <td>2</td>\n",
       "      <td>2</td>\n",
       "      <td>11.8</td>\n",
       "      <td>11.8</td>\n",
       "      <td>4007.00</td>\n",
       "      <td>1195</td>\n",
       "      <td>1195</td>\n",
       "      <td>0</td>\n",
       "      <td>26.8050</td>\n",
       "      <td>43278000000</td>\n",
       "      <td>0.2</td>\n",
       "    </tr>\n",
       "    <tr>\n",
       "      <th>2</th>\n",
       "      <td>1</td>\n",
       "      <td>1</td>\n",
       "      <td>1</td>\n",
       "      <td>0.1</td>\n",
       "      <td>0.1</td>\n",
       "      <td>760.28</td>\n",
       "      <td>6993</td>\n",
       "      <td>6993</td>\n",
       "      <td>0</td>\n",
       "      <td>13.5360</td>\n",
       "      <td>27118000000</td>\n",
       "      <td>0.2</td>\n",
       "    </tr>\n",
       "    <tr>\n",
       "      <th>3</th>\n",
       "      <td>1</td>\n",
       "      <td>1</td>\n",
       "      <td>1</td>\n",
       "      <td>1.9</td>\n",
       "      <td>1.9</td>\n",
       "      <td>760.28</td>\n",
       "      <td>421</td>\n",
       "      <td>421</td>\n",
       "      <td>0</td>\n",
       "      <td>9.2509</td>\n",
       "      <td>10040000000</td>\n",
       "      <td>0.2</td>\n",
       "    </tr>\n",
       "    <tr>\n",
       "      <th>4</th>\n",
       "      <td>1</td>\n",
       "      <td>1</td>\n",
       "      <td>1</td>\n",
       "      <td>4.8</td>\n",
       "      <td>4.8</td>\n",
       "      <td>559.43</td>\n",
       "      <td>146</td>\n",
       "      <td>146</td>\n",
       "      <td>0</td>\n",
       "      <td>6.1686</td>\n",
       "      <td>9356900000</td>\n",
       "      <td>0.2</td>\n",
       "    </tr>\n",
       "  </tbody>\n",
       "</table>\n",
       "</div>"
      ],
      "text/plain": [
       "   Number of proteins  Peptides  Unique peptides  Sequence coverage [%]  \\\n",
       "0                   1         2                2                   11.8   \n",
       "1                   2         2                2                   11.8   \n",
       "2                   1         1                1                    0.1   \n",
       "3                   1         1                1                    1.9   \n",
       "4                   1         1                1                    4.8   \n",
       "\n",
       "   Unique sequence coverage [%]  Mol. weight [kDa]  Sequence length  \\\n",
       "0                          11.8            4007.00               68   \n",
       "1                          11.8            4007.00             1195   \n",
       "2                           0.1             760.28             6993   \n",
       "3                           1.9             760.28              421   \n",
       "4                           4.8             559.43              146   \n",
       "\n",
       "   Sequence lengths  Q-value    Score    Intensity  locationweight  \n",
       "0                68        0  26.8050  43278000000             0.2  \n",
       "1              1195        0  26.8050  43278000000             0.2  \n",
       "2              6993        0  13.5360  27118000000             0.2  \n",
       "3               421        0   9.2509  10040000000             0.2  \n",
       "4               146        0   6.1686   9356900000             0.2  "
      ]
     },
     "execution_count": 11,
     "metadata": {},
     "output_type": "execute_result"
    }
   ],
   "source": [
    "df.head()"
   ]
  },
  {
   "cell_type": "code",
   "execution_count": 157,
   "metadata": {},
   "outputs": [
    {
     "name": "stdout",
     "output_type": "stream",
     "text": [
      "Features: ['Number of proteins', 'Peptides', 'Unique peptides', 'Sequence coverage [%]', 'Unique sequence coverage [%]', 'Mol. weight [kDa]', 'Sequence length', 'Sequence lengths', 'Q-value', 'Score', 'Intensity', 'locationweight']\n",
      "Label: predictions\n"
     ]
    }
   ],
   "source": [
    "# column order in CSV file\n",
    "column_names = ['Number of proteins', 'Peptides','Unique peptides', 'Sequence coverage [%]', 'Unique sequence coverage [%]','Mol. weight [kDa]', 'Sequence length','Sequence lengths','Q-value','Score','Intensity','locationweight','predictions']\n",
    "\n",
    "feature_names = column_names[:-1]\n",
    "label_name = column_names[-1]\n",
    "\n",
    "print(\"Features: {}\".format(feature_names))\n",
    "print(\"Label: {}\".format(label_name))"
   ]
  },
  {
   "cell_type": "code",
   "execution_count": 158,
   "metadata": {},
   "outputs": [
    {
     "data": {
      "text/html": [
       "<div>\n",
       "<style scoped>\n",
       "    .dataframe tbody tr th:only-of-type {\n",
       "        vertical-align: middle;\n",
       "    }\n",
       "\n",
       "    .dataframe tbody tr th {\n",
       "        vertical-align: top;\n",
       "    }\n",
       "\n",
       "    .dataframe thead th {\n",
       "        text-align: right;\n",
       "    }\n",
       "</style>\n",
       "<table border=\"1\" class=\"dataframe\">\n",
       "  <thead>\n",
       "    <tr style=\"text-align: right;\">\n",
       "      <th></th>\n",
       "      <th>Number of proteins</th>\n",
       "      <th>Peptides</th>\n",
       "      <th>Unique peptides</th>\n",
       "      <th>Sequence coverage [%]</th>\n",
       "      <th>Unique sequence coverage [%]</th>\n",
       "      <th>Mol. weight [kDa]</th>\n",
       "      <th>Sequence length</th>\n",
       "      <th>Sequence lengths</th>\n",
       "      <th>Q-value</th>\n",
       "      <th>Score</th>\n",
       "      <th>Intensity</th>\n",
       "    </tr>\n",
       "  </thead>\n",
       "  <tbody>\n",
       "    <tr>\n",
       "      <th>count</th>\n",
       "      <td>185.000000</td>\n",
       "      <td>185.000000</td>\n",
       "      <td>185.000000</td>\n",
       "      <td>185.000000</td>\n",
       "      <td>185.000000</td>\n",
       "      <td>185.000000</td>\n",
       "      <td>185.000000</td>\n",
       "      <td>185.000000</td>\n",
       "      <td>185.000000</td>\n",
       "      <td>185.000000</td>\n",
       "      <td>1.850000e+02</td>\n",
       "    </tr>\n",
       "    <tr>\n",
       "      <th>mean</th>\n",
       "      <td>1.005405</td>\n",
       "      <td>2.540541</td>\n",
       "      <td>2.486486</td>\n",
       "      <td>9.048108</td>\n",
       "      <td>8.923243</td>\n",
       "      <td>111.450256</td>\n",
       "      <td>781.416216</td>\n",
       "      <td>781.416216</td>\n",
       "      <td>0.037838</td>\n",
       "      <td>42.089331</td>\n",
       "      <td>9.024703e+08</td>\n",
       "    </tr>\n",
       "    <tr>\n",
       "      <th>std</th>\n",
       "      <td>0.073521</td>\n",
       "      <td>2.684442</td>\n",
       "      <td>2.577301</td>\n",
       "      <td>9.144154</td>\n",
       "      <td>9.035416</td>\n",
       "      <td>418.408632</td>\n",
       "      <td>2737.008361</td>\n",
       "      <td>2737.008361</td>\n",
       "      <td>0.191322</td>\n",
       "      <td>86.570472</td>\n",
       "      <td>4.997411e+09</td>\n",
       "    </tr>\n",
       "    <tr>\n",
       "      <th>min</th>\n",
       "      <td>1.000000</td>\n",
       "      <td>1.000000</td>\n",
       "      <td>1.000000</td>\n",
       "      <td>0.000000</td>\n",
       "      <td>0.000000</td>\n",
       "      <td>8.045800</td>\n",
       "      <td>68.000000</td>\n",
       "      <td>68.000000</td>\n",
       "      <td>0.000000</td>\n",
       "      <td>-2.000000</td>\n",
       "      <td>0.000000e+00</td>\n",
       "    </tr>\n",
       "    <tr>\n",
       "      <th>25%</th>\n",
       "      <td>1.000000</td>\n",
       "      <td>1.000000</td>\n",
       "      <td>1.000000</td>\n",
       "      <td>2.400000</td>\n",
       "      <td>2.400000</td>\n",
       "      <td>33.738000</td>\n",
       "      <td>258.000000</td>\n",
       "      <td>258.000000</td>\n",
       "      <td>0.000000</td>\n",
       "      <td>6.542500</td>\n",
       "      <td>6.544800e+06</td>\n",
       "    </tr>\n",
       "    <tr>\n",
       "      <th>50%</th>\n",
       "      <td>1.000000</td>\n",
       "      <td>1.000000</td>\n",
       "      <td>1.000000</td>\n",
       "      <td>6.700000</td>\n",
       "      <td>6.500000</td>\n",
       "      <td>47.094000</td>\n",
       "      <td>431.000000</td>\n",
       "      <td>431.000000</td>\n",
       "      <td>0.000000</td>\n",
       "      <td>12.638000</td>\n",
       "      <td>1.633000e+07</td>\n",
       "    </tr>\n",
       "    <tr>\n",
       "      <th>75%</th>\n",
       "      <td>1.000000</td>\n",
       "      <td>3.000000</td>\n",
       "      <td>3.000000</td>\n",
       "      <td>13.100000</td>\n",
       "      <td>12.900000</td>\n",
       "      <td>69.883000</td>\n",
       "      <td>641.000000</td>\n",
       "      <td>641.000000</td>\n",
       "      <td>0.000000</td>\n",
       "      <td>26.236000</td>\n",
       "      <td>6.261300e+07</td>\n",
       "    </tr>\n",
       "    <tr>\n",
       "      <th>max</th>\n",
       "      <td>2.000000</td>\n",
       "      <td>16.000000</td>\n",
       "      <td>15.000000</td>\n",
       "      <td>54.900000</td>\n",
       "      <td>54.900000</td>\n",
       "      <td>4007.000000</td>\n",
       "      <td>36026.000000</td>\n",
       "      <td>36026.000000</td>\n",
       "      <td>1.000000</td>\n",
       "      <td>323.310000</td>\n",
       "      <td>4.327800e+10</td>\n",
       "    </tr>\n",
       "  </tbody>\n",
       "</table>\n",
       "</div>"
      ],
      "text/plain": [
       "       Number of proteins    Peptides  Unique peptides  Sequence coverage [%]  \\\n",
       "count          185.000000  185.000000       185.000000             185.000000   \n",
       "mean             1.005405    2.540541         2.486486               9.048108   \n",
       "std              0.073521    2.684442         2.577301               9.144154   \n",
       "min              1.000000    1.000000         1.000000               0.000000   \n",
       "25%              1.000000    1.000000         1.000000               2.400000   \n",
       "50%              1.000000    1.000000         1.000000               6.700000   \n",
       "75%              1.000000    3.000000         3.000000              13.100000   \n",
       "max              2.000000   16.000000        15.000000              54.900000   \n",
       "\n",
       "       Unique sequence coverage [%]  Mol. weight [kDa]  Sequence length  \\\n",
       "count                    185.000000         185.000000       185.000000   \n",
       "mean                       8.923243         111.450256       781.416216   \n",
       "std                        9.035416         418.408632      2737.008361   \n",
       "min                        0.000000           8.045800        68.000000   \n",
       "25%                        2.400000          33.738000       258.000000   \n",
       "50%                        6.500000          47.094000       431.000000   \n",
       "75%                       12.900000          69.883000       641.000000   \n",
       "max                       54.900000        4007.000000     36026.000000   \n",
       "\n",
       "       Sequence lengths     Q-value       Score     Intensity  \n",
       "count        185.000000  185.000000  185.000000  1.850000e+02  \n",
       "mean         781.416216    0.037838   42.089331  9.024703e+08  \n",
       "std         2737.008361    0.191322   86.570472  4.997411e+09  \n",
       "min           68.000000    0.000000   -2.000000  0.000000e+00  \n",
       "25%          258.000000    0.000000    6.542500  6.544800e+06  \n",
       "50%          431.000000    0.000000   12.638000  1.633000e+07  \n",
       "75%          641.000000    0.000000   26.236000  6.261300e+07  \n",
       "max        36026.000000    1.000000  323.310000  4.327800e+10  "
      ]
     },
     "execution_count": 158,
     "metadata": {},
     "output_type": "execute_result"
    }
   ],
   "source": [
    "df[['Number of proteins', 'Peptides','Unique peptides', 'Sequence coverage [%]','Unique sequence coverage [%]', 'Mol. weight [kDa]', 'Sequence length','Sequence lengths','Q-value','Score','Intensity']\n",
    "\n",
    "].describe()"
   ]
  },
  {
   "cell_type": "code",
   "execution_count": 159,
   "metadata": {},
   "outputs": [],
   "source": [
    "class_names = ['predictionYES', 'predictionNO']"
   ]
  },
  {
   "cell_type": "code",
   "execution_count": 160,
   "metadata": {
    "scrolled": false
   },
   "outputs": [],
   "source": [
    "dt=stats.zscore(df, axis=1)\n",
    "#without locationweight and ID, THAT CAN BE FOUND IN dt1"
   ]
  },
  {
   "cell_type": "code",
   "execution_count": 161,
   "metadata": {
    "scrolled": false
   },
   "outputs": [
    {
     "name": "stdout",
     "output_type": "stream",
     "text": [
      "[[-0.30151138 -0.30151138 -0.30151138 ... -0.30151137  3.31662479\n",
      "  -0.30151138]\n",
      " [-0.30151139 -0.30151139 -0.30151139 ... -0.30151139  3.31662479\n",
      "  -0.30151139]\n",
      " [-0.30151152 -0.30151152 -0.30151152 ... -0.30151152  3.31662479\n",
      "  -0.30151152]\n",
      " ...\n",
      " [-0.469309   -0.469309   -0.469309   ... -0.40010547 -0.48243337\n",
      "  -0.4798085 ]\n",
      " [-0.45079144 -0.45079144 -0.45079144 ... -0.43411225 -0.45414155\n",
      "  -0.45347153]\n",
      " [-0.44763015 -0.44763015 -0.44763015 ... -0.44504785 -0.44815116\n",
      "  -0.44804696]]\n"
     ]
    }
   ],
   "source": [
    "print(dt)"
   ]
  },
  {
   "cell_type": "code",
   "execution_count": 162,
   "metadata": {},
   "outputs": [
    {
     "data": {
      "text/html": [
       "<div>\n",
       "<style scoped>\n",
       "    .dataframe tbody tr th:only-of-type {\n",
       "        vertical-align: middle;\n",
       "    }\n",
       "\n",
       "    .dataframe tbody tr th {\n",
       "        vertical-align: top;\n",
       "    }\n",
       "\n",
       "    .dataframe thead th {\n",
       "        text-align: right;\n",
       "    }\n",
       "</style>\n",
       "<table border=\"1\" class=\"dataframe\">\n",
       "  <thead>\n",
       "    <tr style=\"text-align: right;\">\n",
       "      <th></th>\n",
       "      <th>Number of proteins</th>\n",
       "      <th>Peptides</th>\n",
       "      <th>Unique peptides</th>\n",
       "      <th>Sequence coverage [%]</th>\n",
       "      <th>Unique sequence coverage [%]</th>\n",
       "      <th>Mol. weight [kDa]</th>\n",
       "      <th>Sequence length</th>\n",
       "      <th>Sequence lengths</th>\n",
       "      <th>Q-value</th>\n",
       "      <th>Score</th>\n",
       "      <th>Intensity</th>\n",
       "      <th>locationweight</th>\n",
       "    </tr>\n",
       "  </thead>\n",
       "  <tbody>\n",
       "    <tr>\n",
       "      <th>0</th>\n",
       "      <td>1</td>\n",
       "      <td>2</td>\n",
       "      <td>2</td>\n",
       "      <td>11.8</td>\n",
       "      <td>11.8</td>\n",
       "      <td>4007.0000</td>\n",
       "      <td>68</td>\n",
       "      <td>68</td>\n",
       "      <td>0</td>\n",
       "      <td>26.8050</td>\n",
       "      <td>43278000000</td>\n",
       "      <td>0.2</td>\n",
       "    </tr>\n",
       "    <tr>\n",
       "      <th>1</th>\n",
       "      <td>2</td>\n",
       "      <td>2</td>\n",
       "      <td>2</td>\n",
       "      <td>11.8</td>\n",
       "      <td>11.8</td>\n",
       "      <td>4007.0000</td>\n",
       "      <td>1195</td>\n",
       "      <td>1195</td>\n",
       "      <td>0</td>\n",
       "      <td>26.8050</td>\n",
       "      <td>43278000000</td>\n",
       "      <td>0.2</td>\n",
       "    </tr>\n",
       "    <tr>\n",
       "      <th>2</th>\n",
       "      <td>1</td>\n",
       "      <td>1</td>\n",
       "      <td>1</td>\n",
       "      <td>0.1</td>\n",
       "      <td>0.1</td>\n",
       "      <td>760.2800</td>\n",
       "      <td>6993</td>\n",
       "      <td>6993</td>\n",
       "      <td>0</td>\n",
       "      <td>13.5360</td>\n",
       "      <td>27118000000</td>\n",
       "      <td>0.2</td>\n",
       "    </tr>\n",
       "    <tr>\n",
       "      <th>3</th>\n",
       "      <td>1</td>\n",
       "      <td>1</td>\n",
       "      <td>1</td>\n",
       "      <td>1.9</td>\n",
       "      <td>1.9</td>\n",
       "      <td>760.2800</td>\n",
       "      <td>421</td>\n",
       "      <td>421</td>\n",
       "      <td>0</td>\n",
       "      <td>9.2509</td>\n",
       "      <td>10040000000</td>\n",
       "      <td>0.2</td>\n",
       "    </tr>\n",
       "    <tr>\n",
       "      <th>4</th>\n",
       "      <td>1</td>\n",
       "      <td>1</td>\n",
       "      <td>1</td>\n",
       "      <td>4.8</td>\n",
       "      <td>4.8</td>\n",
       "      <td>559.4300</td>\n",
       "      <td>146</td>\n",
       "      <td>146</td>\n",
       "      <td>0</td>\n",
       "      <td>6.1686</td>\n",
       "      <td>9356900000</td>\n",
       "      <td>0.2</td>\n",
       "    </tr>\n",
       "    <tr>\n",
       "      <th>...</th>\n",
       "      <td>...</td>\n",
       "      <td>...</td>\n",
       "      <td>...</td>\n",
       "      <td>...</td>\n",
       "      <td>...</td>\n",
       "      <td>...</td>\n",
       "      <td>...</td>\n",
       "      <td>...</td>\n",
       "      <td>...</td>\n",
       "      <td>...</td>\n",
       "      <td>...</td>\n",
       "      <td>...</td>\n",
       "    </tr>\n",
       "    <tr>\n",
       "      <th>180</th>\n",
       "      <td>1</td>\n",
       "      <td>1</td>\n",
       "      <td>1</td>\n",
       "      <td>1.0</td>\n",
       "      <td>1.0</td>\n",
       "      <td>13.5750</td>\n",
       "      <td>1536</td>\n",
       "      <td>1536</td>\n",
       "      <td>0</td>\n",
       "      <td>6.5413</td>\n",
       "      <td>0</td>\n",
       "      <td>0.5</td>\n",
       "    </tr>\n",
       "    <tr>\n",
       "      <th>181</th>\n",
       "      <td>1</td>\n",
       "      <td>1</td>\n",
       "      <td>1</td>\n",
       "      <td>3.0</td>\n",
       "      <td>3.0</td>\n",
       "      <td>11.4460</td>\n",
       "      <td>201</td>\n",
       "      <td>201</td>\n",
       "      <td>0</td>\n",
       "      <td>6.3478</td>\n",
       "      <td>0</td>\n",
       "      <td>0.2</td>\n",
       "    </tr>\n",
       "    <tr>\n",
       "      <th>182</th>\n",
       "      <td>1</td>\n",
       "      <td>1</td>\n",
       "      <td>1</td>\n",
       "      <td>3.4</td>\n",
       "      <td>3.4</td>\n",
       "      <td>10.8300</td>\n",
       "      <td>207</td>\n",
       "      <td>207</td>\n",
       "      <td>0</td>\n",
       "      <td>6.2729</td>\n",
       "      <td>0</td>\n",
       "      <td>0.2</td>\n",
       "    </tr>\n",
       "    <tr>\n",
       "      <th>183</th>\n",
       "      <td>1</td>\n",
       "      <td>1</td>\n",
       "      <td>1</td>\n",
       "      <td>1.7</td>\n",
       "      <td>1.7</td>\n",
       "      <td>8.1435</td>\n",
       "      <td>803</td>\n",
       "      <td>803</td>\n",
       "      <td>0</td>\n",
       "      <td>5.9787</td>\n",
       "      <td>0</td>\n",
       "      <td>0.2</td>\n",
       "    </tr>\n",
       "    <tr>\n",
       "      <th>184</th>\n",
       "      <td>1</td>\n",
       "      <td>1</td>\n",
       "      <td>1</td>\n",
       "      <td>0.4</td>\n",
       "      <td>0.4</td>\n",
       "      <td>8.0458</td>\n",
       "      <td>5152</td>\n",
       "      <td>5152</td>\n",
       "      <td>0</td>\n",
       "      <td>5.9564</td>\n",
       "      <td>0</td>\n",
       "      <td>0.2</td>\n",
       "    </tr>\n",
       "  </tbody>\n",
       "</table>\n",
       "<p>185 rows × 12 columns</p>\n",
       "</div>"
      ],
      "text/plain": [
       "     Number of proteins  Peptides  Unique peptides  Sequence coverage [%]  \\\n",
       "0                     1         2                2                   11.8   \n",
       "1                     2         2                2                   11.8   \n",
       "2                     1         1                1                    0.1   \n",
       "3                     1         1                1                    1.9   \n",
       "4                     1         1                1                    4.8   \n",
       "..                  ...       ...              ...                    ...   \n",
       "180                   1         1                1                    1.0   \n",
       "181                   1         1                1                    3.0   \n",
       "182                   1         1                1                    3.4   \n",
       "183                   1         1                1                    1.7   \n",
       "184                   1         1                1                    0.4   \n",
       "\n",
       "     Unique sequence coverage [%]  Mol. weight [kDa]  Sequence length  \\\n",
       "0                            11.8          4007.0000               68   \n",
       "1                            11.8          4007.0000             1195   \n",
       "2                             0.1           760.2800             6993   \n",
       "3                             1.9           760.2800              421   \n",
       "4                             4.8           559.4300              146   \n",
       "..                            ...                ...              ...   \n",
       "180                           1.0            13.5750             1536   \n",
       "181                           3.0            11.4460              201   \n",
       "182                           3.4            10.8300              207   \n",
       "183                           1.7             8.1435              803   \n",
       "184                           0.4             8.0458             5152   \n",
       "\n",
       "     Sequence lengths  Q-value    Score    Intensity  locationweight  \n",
       "0                  68        0  26.8050  43278000000             0.2  \n",
       "1                1195        0  26.8050  43278000000             0.2  \n",
       "2                6993        0  13.5360  27118000000             0.2  \n",
       "3                 421        0   9.2509  10040000000             0.2  \n",
       "4                 146        0   6.1686   9356900000             0.2  \n",
       "..                ...      ...      ...          ...             ...  \n",
       "180              1536        0   6.5413            0             0.5  \n",
       "181               201        0   6.3478            0             0.2  \n",
       "182               207        0   6.2729            0             0.2  \n",
       "183               803        0   5.9787            0             0.2  \n",
       "184              5152        0   5.9564            0             0.2  \n",
       "\n",
       "[185 rows x 12 columns]"
      ]
     },
     "execution_count": 162,
     "metadata": {},
     "output_type": "execute_result"
    }
   ],
   "source": [
    "df"
   ]
  },
  {
   "cell_type": "code",
   "execution_count": 163,
   "metadata": {},
   "outputs": [
    {
     "data": {
      "text/plain": [
       "185"
      ]
     },
     "execution_count": 163,
     "metadata": {},
     "output_type": "execute_result"
    }
   ],
   "source": [
    "len(dt)"
   ]
  },
  {
   "cell_type": "code",
   "execution_count": 164,
   "metadata": {},
   "outputs": [],
   "source": [
    "y= df.Score"
   ]
  },
  {
   "cell_type": "code",
   "execution_count": 165,
   "metadata": {},
   "outputs": [],
   "source": [
    "x=df.drop('Score',axis=1)"
   ]
  },
  {
   "cell_type": "code",
   "execution_count": 166,
   "metadata": {},
   "outputs": [
    {
     "name": "stdout",
     "output_type": "stream",
     "text": [
      "Examples:\n",
      "    Total: 185\n",
      "    Positive: 7 (3.78% of total)\n",
      "\n"
     ]
    }
   ],
   "source": [
    "neg, pos = np.bincount(df['Q-value'])\n",
    "total = neg + pos\n",
    "print('Examples:\\n    Total: {}\\n    Positive: {} ({:.2f}% of total)\\n'.format(\n",
    "    total, pos, 100 * pos / total)) #this seven should be excluded since the Q-value is postive"
   ]
  },
  {
   "cell_type": "code",
   "execution_count": 167,
   "metadata": {},
   "outputs": [
    {
     "data": {
      "text/plain": [
       "0      26.8050\n",
       "1      26.8050\n",
       "2      13.5360\n",
       "3       9.2509\n",
       "4       6.1686\n",
       "        ...   \n",
       "180     6.5413\n",
       "181     6.3478\n",
       "182     6.2729\n",
       "183     5.9787\n",
       "184     5.9564\n",
       "Name: Score, Length: 185, dtype: float64"
      ]
     },
     "execution_count": 167,
     "metadata": {},
     "output_type": "execute_result"
    }
   ],
   "source": [
    "cleaned_df =df.copy()\n",
    "\n",
    "# You don't want the `Time` column.\n",
    "cleaned_df.pop('Score')\n",
    "\n"
   ]
  },
  {
   "cell_type": "code",
   "execution_count": 168,
   "metadata": {},
   "outputs": [],
   "source": [
    "# Use a utility from sklearn to split and shuffle your dataset.\n",
    "train_df, test_df = train_test_split(cleaned_df, test_size=0.2)\n",
    "train_df, val_df = train_test_split(train_df, test_size=0.2)\n",
    "\n",
    "# Form np arrays of labels and features.\n",
    "train_labels = np.array(train_df.pop('Number of proteins'))\n",
    "bool_train_labels = train_labels != 0\n",
    "val_labels = np.array(val_df.pop('Number of proteins'))\n",
    "test_labels = np.array(test_df.pop('Number of proteins'))\n",
    "\n",
    "train_features = np.array(train_df)\n",
    "val_features = np.array(val_df)\n",
    "test_features = np.array(test_df)"
   ]
  },
  {
   "cell_type": "code",
   "execution_count": 169,
   "metadata": {
    "scrolled": true
   },
   "outputs": [
    {
     "name": "stdout",
     "output_type": "stream",
     "text": [
      "Training labels shape: (118,)\n",
      "Validation labels shape: (30,)\n",
      "Test labels shape: (37,)\n",
      "Training features shape: (118, 10)\n",
      "Validation features shape: (30, 10)\n",
      "Test features shape: (37, 10)\n"
     ]
    }
   ],
   "source": [
    "scaler = StandardScaler()\n",
    "train_features = scaler.fit_transform(train_features)\n",
    "\n",
    "val_features = scaler.transform(val_features)\n",
    "test_features = scaler.transform(test_features)\n",
    "\n",
    "train_features = np.clip(train_features, -5, 5)\n",
    "val_features = np.clip(val_features, -5, 5)\n",
    "test_features = np.clip(test_features, -5, 5)\n",
    "\n",
    "\n",
    "print('Training labels shape:', train_labels.shape)\n",
    "print('Validation labels shape:', val_labels.shape)\n",
    "print('Test labels shape:', test_labels.shape)\n",
    "\n",
    "print('Training features shape:', train_features.shape)\n",
    "print('Validation features shape:', val_features.shape)\n",
    "print('Test features shape:', test_features.shape)"
   ]
  },
  {
   "cell_type": "code",
   "execution_count": 170,
   "metadata": {
    "scrolled": true
   },
   "outputs": [
    {
     "data": {
      "text/html": [
       "<div>\n",
       "<style scoped>\n",
       "    .dataframe tbody tr th:only-of-type {\n",
       "        vertical-align: middle;\n",
       "    }\n",
       "\n",
       "    .dataframe tbody tr th {\n",
       "        vertical-align: top;\n",
       "    }\n",
       "\n",
       "    .dataframe thead th {\n",
       "        text-align: right;\n",
       "    }\n",
       "</style>\n",
       "<table border=\"1\" class=\"dataframe\">\n",
       "  <thead>\n",
       "    <tr style=\"text-align: right;\">\n",
       "      <th></th>\n",
       "      <th>Number of proteins</th>\n",
       "      <th>Peptides</th>\n",
       "      <th>Unique peptides</th>\n",
       "      <th>Sequence coverage [%]</th>\n",
       "      <th>Unique sequence coverage [%]</th>\n",
       "      <th>Mol. weight [kDa]</th>\n",
       "      <th>Sequence length</th>\n",
       "      <th>Sequence lengths</th>\n",
       "      <th>Q-value</th>\n",
       "      <th>Intensity</th>\n",
       "      <th>locationweight</th>\n",
       "    </tr>\n",
       "  </thead>\n",
       "  <tbody>\n",
       "    <tr>\n",
       "      <th>0</th>\n",
       "      <td>1</td>\n",
       "      <td>2</td>\n",
       "      <td>2</td>\n",
       "      <td>11.8</td>\n",
       "      <td>11.8</td>\n",
       "      <td>4007.0000</td>\n",
       "      <td>68</td>\n",
       "      <td>68</td>\n",
       "      <td>0</td>\n",
       "      <td>43278000000</td>\n",
       "      <td>0.2</td>\n",
       "    </tr>\n",
       "    <tr>\n",
       "      <th>1</th>\n",
       "      <td>2</td>\n",
       "      <td>2</td>\n",
       "      <td>2</td>\n",
       "      <td>11.8</td>\n",
       "      <td>11.8</td>\n",
       "      <td>4007.0000</td>\n",
       "      <td>1195</td>\n",
       "      <td>1195</td>\n",
       "      <td>0</td>\n",
       "      <td>43278000000</td>\n",
       "      <td>0.2</td>\n",
       "    </tr>\n",
       "    <tr>\n",
       "      <th>2</th>\n",
       "      <td>1</td>\n",
       "      <td>1</td>\n",
       "      <td>1</td>\n",
       "      <td>0.1</td>\n",
       "      <td>0.1</td>\n",
       "      <td>760.2800</td>\n",
       "      <td>6993</td>\n",
       "      <td>6993</td>\n",
       "      <td>0</td>\n",
       "      <td>27118000000</td>\n",
       "      <td>0.2</td>\n",
       "    </tr>\n",
       "    <tr>\n",
       "      <th>3</th>\n",
       "      <td>1</td>\n",
       "      <td>1</td>\n",
       "      <td>1</td>\n",
       "      <td>1.9</td>\n",
       "      <td>1.9</td>\n",
       "      <td>760.2800</td>\n",
       "      <td>421</td>\n",
       "      <td>421</td>\n",
       "      <td>0</td>\n",
       "      <td>10040000000</td>\n",
       "      <td>0.2</td>\n",
       "    </tr>\n",
       "    <tr>\n",
       "      <th>4</th>\n",
       "      <td>1</td>\n",
       "      <td>1</td>\n",
       "      <td>1</td>\n",
       "      <td>4.8</td>\n",
       "      <td>4.8</td>\n",
       "      <td>559.4300</td>\n",
       "      <td>146</td>\n",
       "      <td>146</td>\n",
       "      <td>0</td>\n",
       "      <td>9356900000</td>\n",
       "      <td>0.2</td>\n",
       "    </tr>\n",
       "    <tr>\n",
       "      <th>...</th>\n",
       "      <td>...</td>\n",
       "      <td>...</td>\n",
       "      <td>...</td>\n",
       "      <td>...</td>\n",
       "      <td>...</td>\n",
       "      <td>...</td>\n",
       "      <td>...</td>\n",
       "      <td>...</td>\n",
       "      <td>...</td>\n",
       "      <td>...</td>\n",
       "      <td>...</td>\n",
       "    </tr>\n",
       "    <tr>\n",
       "      <th>180</th>\n",
       "      <td>1</td>\n",
       "      <td>1</td>\n",
       "      <td>1</td>\n",
       "      <td>1.0</td>\n",
       "      <td>1.0</td>\n",
       "      <td>13.5750</td>\n",
       "      <td>1536</td>\n",
       "      <td>1536</td>\n",
       "      <td>0</td>\n",
       "      <td>0</td>\n",
       "      <td>0.5</td>\n",
       "    </tr>\n",
       "    <tr>\n",
       "      <th>181</th>\n",
       "      <td>1</td>\n",
       "      <td>1</td>\n",
       "      <td>1</td>\n",
       "      <td>3.0</td>\n",
       "      <td>3.0</td>\n",
       "      <td>11.4460</td>\n",
       "      <td>201</td>\n",
       "      <td>201</td>\n",
       "      <td>0</td>\n",
       "      <td>0</td>\n",
       "      <td>0.2</td>\n",
       "    </tr>\n",
       "    <tr>\n",
       "      <th>182</th>\n",
       "      <td>1</td>\n",
       "      <td>1</td>\n",
       "      <td>1</td>\n",
       "      <td>3.4</td>\n",
       "      <td>3.4</td>\n",
       "      <td>10.8300</td>\n",
       "      <td>207</td>\n",
       "      <td>207</td>\n",
       "      <td>0</td>\n",
       "      <td>0</td>\n",
       "      <td>0.2</td>\n",
       "    </tr>\n",
       "    <tr>\n",
       "      <th>183</th>\n",
       "      <td>1</td>\n",
       "      <td>1</td>\n",
       "      <td>1</td>\n",
       "      <td>1.7</td>\n",
       "      <td>1.7</td>\n",
       "      <td>8.1435</td>\n",
       "      <td>803</td>\n",
       "      <td>803</td>\n",
       "      <td>0</td>\n",
       "      <td>0</td>\n",
       "      <td>0.2</td>\n",
       "    </tr>\n",
       "    <tr>\n",
       "      <th>184</th>\n",
       "      <td>1</td>\n",
       "      <td>1</td>\n",
       "      <td>1</td>\n",
       "      <td>0.4</td>\n",
       "      <td>0.4</td>\n",
       "      <td>8.0458</td>\n",
       "      <td>5152</td>\n",
       "      <td>5152</td>\n",
       "      <td>0</td>\n",
       "      <td>0</td>\n",
       "      <td>0.2</td>\n",
       "    </tr>\n",
       "  </tbody>\n",
       "</table>\n",
       "<p>185 rows × 11 columns</p>\n",
       "</div>"
      ],
      "text/plain": [
       "     Number of proteins  Peptides  Unique peptides  Sequence coverage [%]  \\\n",
       "0                     1         2                2                   11.8   \n",
       "1                     2         2                2                   11.8   \n",
       "2                     1         1                1                    0.1   \n",
       "3                     1         1                1                    1.9   \n",
       "4                     1         1                1                    4.8   \n",
       "..                  ...       ...              ...                    ...   \n",
       "180                   1         1                1                    1.0   \n",
       "181                   1         1                1                    3.0   \n",
       "182                   1         1                1                    3.4   \n",
       "183                   1         1                1                    1.7   \n",
       "184                   1         1                1                    0.4   \n",
       "\n",
       "     Unique sequence coverage [%]  Mol. weight [kDa]  Sequence length  \\\n",
       "0                            11.8          4007.0000               68   \n",
       "1                            11.8          4007.0000             1195   \n",
       "2                             0.1           760.2800             6993   \n",
       "3                             1.9           760.2800              421   \n",
       "4                             4.8           559.4300              146   \n",
       "..                            ...                ...              ...   \n",
       "180                           1.0            13.5750             1536   \n",
       "181                           3.0            11.4460              201   \n",
       "182                           3.4            10.8300              207   \n",
       "183                           1.7             8.1435              803   \n",
       "184                           0.4             8.0458             5152   \n",
       "\n",
       "     Sequence lengths  Q-value    Intensity  locationweight  \n",
       "0                  68        0  43278000000             0.2  \n",
       "1                1195        0  43278000000             0.2  \n",
       "2                6993        0  27118000000             0.2  \n",
       "3                 421        0  10040000000             0.2  \n",
       "4                 146        0   9356900000             0.2  \n",
       "..                ...      ...          ...             ...  \n",
       "180              1536        0            0             0.5  \n",
       "181               201        0            0             0.2  \n",
       "182               207        0            0             0.2  \n",
       "183               803        0            0             0.2  \n",
       "184              5152        0            0             0.2  \n",
       "\n",
       "[185 rows x 11 columns]"
      ]
     },
     "execution_count": 170,
     "metadata": {},
     "output_type": "execute_result"
    }
   ],
   "source": [
    "x"
   ]
  },
  {
   "cell_type": "code",
   "execution_count": 171,
   "metadata": {},
   "outputs": [
    {
     "data": {
      "text/plain": [
       "0    26.8050\n",
       "1    26.8050\n",
       "2    13.5360\n",
       "3     9.2509\n",
       "4     6.1686\n",
       "Name: Score, dtype: float64"
      ]
     },
     "execution_count": 171,
     "metadata": {},
     "output_type": "execute_result"
    }
   ],
   "source": [
    "y.head()"
   ]
  },
  {
   "cell_type": "code",
   "execution_count": 172,
   "metadata": {},
   "outputs": [],
   "source": [
    "x_train,x_test,y_train,y_test=train_test_split(x,y,test_size=0.2)"
   ]
  },
  {
   "cell_type": "code",
   "execution_count": 173,
   "metadata": {},
   "outputs": [],
   "source": [
    "x_train=tf.keras.utils.normalize(x_train,axis=1)\n",
    "x_test=tf.keras.utils.normalize(x_test,axis=1)"
   ]
  },
  {
   "cell_type": "code",
   "execution_count": 174,
   "metadata": {
    "scrolled": false
   },
   "outputs": [
    {
     "name": "stdout",
     "output_type": "stream",
     "text": [
      "shape of original dataset : (185, 12)\n",
      "shape of input - training set (148, 11)\n",
      "shape of output - training set (148,)\n",
      "shape of input - testing set (37, 11)\n",
      "shape of output - testing set (37,)\n"
     ]
    }
   ],
   "source": [
    "print(\"shape of original dataset :\", df.shape)\n",
    "print(\"shape of input - training set\", x_train.shape)\n",
    "print(\"shape of output - training set\", y_train.shape)\n",
    "print(\"shape of input - testing set\", x_test.shape)\n",
    "print(\"shape of output - testing set\", y_test.shape)"
   ]
  },
  {
   "cell_type": "code",
   "execution_count": 227,
   "metadata": {},
   "outputs": [],
   "source": [
    "METRICS = [\n",
    "      keras.metrics.TruePositives(name='tp'),\n",
    "      keras.metrics.FalsePositives(name='fp'),\n",
    "      keras.metrics.TrueNegatives(name='tn'),\n",
    "      keras.metrics.FalseNegatives(name='fn'), \n",
    "      keras.metrics.BinaryAccuracy(name='accuracy'),\n",
    "      keras.metrics.Precision(name='precision'),\n",
    "      keras.metrics.Recall(name='recall'),\n",
    "      keras.metrics.AUC(name='auc'),\n",
    "      keras.metrics.AUC(name='prc', curve='PR'), # precision-recall curve\n",
    "]\n",
    "\n",
    "def make_model(metrics=METRICS, output_bias=None):\n",
    "  if output_bias is not None:\n",
    "    output_bias = tf.keras.initializers.Constant(output_bias)\n",
    "  model = keras.Sequential([\n",
    "      keras.layers.Dense(\n",
    "          11, activation='relu',\n",
    "          input_shape=(train_features.shape[-1],)),\n",
    "      keras.layers.Dropout(0.5),\n",
    "      keras.layers.Dense(11, activation='relu'),\n",
    "      keras.layers.Dense(1, activation='sigmoid',\n",
    "                         bias_initializer=output_bias),\n",
    "  ])\n",
    "\n",
    "  model.compile(\n",
    "      optimizer=keras.optimizers.Adam(lr=1e-3),\n",
    "      loss=keras.losses.BinaryCrossentropy(),\n",
    "      metrics=metrics)\n",
    "\n",
    "  return model\n",
    "\n",
    "#model = tf.keras.Sequential([\n",
    "  #tf.keras.layers.Dense(324, activation=tf.nn.relu, input_shape=(12,)),  # input shape required\n",
    "  #tf.keras.layers.Dense(324, activation=tf.nn.relu), #relu is a function, like sigmoid function used previously\n",
    "  #tf.keras.layers.Dense(324)\n",
    "#])\n",
    "#with many tests, the neurons pass layer set to 128 could predict the best results"
   ]
  },
  {
   "cell_type": "code",
   "execution_count": 228,
   "metadata": {
    "scrolled": true
   },
   "outputs": [
    {
     "name": "stdout",
     "output_type": "stream",
     "text": [
      "Model: \"sequential_24\"\n",
      "_________________________________________________________________\n",
      "Layer (type)                 Output Shape              Param #   \n",
      "=================================================================\n",
      "dense_62 (Dense)             (None, 11)                121       \n",
      "_________________________________________________________________\n",
      "dropout_24 (Dropout)         (None, 11)                0         \n",
      "_________________________________________________________________\n",
      "dense_63 (Dense)             (None, 11)                132       \n",
      "_________________________________________________________________\n",
      "dense_64 (Dense)             (None, 1)                 12        \n",
      "=================================================================\n",
      "Total params: 265\n",
      "Trainable params: 265\n",
      "Non-trainable params: 0\n",
      "_________________________________________________________________\n"
     ]
    },
    {
     "name": "stderr",
     "output_type": "stream",
     "text": [
      "/Users/lisajin/opt/anaconda3/lib/python3.8/site-packages/tensorflow/python/keras/optimizer_v2/optimizer_v2.py:374: UserWarning: The `lr` argument is deprecated, use `learning_rate` instead.\n",
      "  warnings.warn(\n"
     ]
    }
   ],
   "source": [
    "model = make_model()\n",
    "model.summary()"
   ]
  },
  {
   "cell_type": "code",
   "execution_count": 229,
   "metadata": {},
   "outputs": [],
   "source": [
    "initial_weights = os.path.join(tempfile.mkdtemp(), 'initial_weights')\n",
    "model.save_weights(initial_weights)"
   ]
  },
  {
   "cell_type": "code",
   "execution_count": 230,
   "metadata": {},
   "outputs": [
    {
     "name": "stdout",
     "output_type": "stream",
     "text": [
      "Model: \"sequential_25\"\n",
      "_________________________________________________________________\n",
      "Layer (type)                 Output Shape              Param #   \n",
      "=================================================================\n",
      "dense_65 (Dense)             (None, 11)                121       \n",
      "_________________________________________________________________\n",
      "dropout_25 (Dropout)         (None, 11)                0         \n",
      "_________________________________________________________________\n",
      "dense_66 (Dense)             (None, 11)                132       \n",
      "_________________________________________________________________\n",
      "dense_67 (Dense)             (None, 1)                 12        \n",
      "=================================================================\n",
      "Total params: 265\n",
      "Trainable params: 265\n",
      "Non-trainable params: 0\n",
      "_________________________________________________________________\n"
     ]
    }
   ],
   "source": [
    "model = make_model()\n",
    "model.summary()"
   ]
  },
  {
   "cell_type": "code",
   "execution_count": 231,
   "metadata": {},
   "outputs": [],
   "source": [
    "model.compile(optimizer='adam',\n",
    "             loss='mean_squared_error',\n",
    "             metrics=['mean_squared_error'])\n",
    "             "
   ]
  },
  {
   "cell_type": "code",
   "execution_count": 232,
   "metadata": {},
   "outputs": [],
   "source": [
    "EPOCHS = 100\n",
    "BATCH_SIZE = 2048\n",
    "\n",
    "early_stopping = tf.keras.callbacks.EarlyStopping(\n",
    "    monitor='val_prc', \n",
    "    verbose=1,\n",
    "    patience=10,\n",
    "    mode='max',\n",
    "    restore_best_weights=True)\n",
    "\n"
   ]
  },
  {
   "cell_type": "code",
   "execution_count": 233,
   "metadata": {
    "scrolled": true
   },
   "outputs": [
    {
     "data": {
      "text/plain": [
       "array([[0.8049914 ],\n",
       "       [0.60778755],\n",
       "       [0.42865947],\n",
       "       [0.9722852 ],\n",
       "       [0.6645513 ]], dtype=float32)"
      ]
     },
     "execution_count": 233,
     "metadata": {},
     "output_type": "execute_result"
    }
   ],
   "source": [
    "model.predict(train_features[:5]) "
   ]
  },
  {
   "cell_type": "code",
   "execution_count": 234,
   "metadata": {
    "scrolled": true
   },
   "outputs": [
    {
     "name": "stdout",
     "output_type": "stream",
     "text": [
      "tf.Tensor(\n",
      "[[0.8049914 ]\n",
      " [0.60778755]\n",
      " [0.42865947]\n",
      " [0.9722852 ]\n",
      " [0.6645513 ]\n",
      " [0.520583  ]\n",
      " [0.43312716]\n",
      " [0.65071386]\n",
      " [0.4332021 ]\n",
      " [0.3284337 ]\n",
      " [0.39860559]\n",
      " [0.57718295]\n",
      " [0.5741697 ]\n",
      " [0.4331646 ]\n",
      " [0.51183754]\n",
      " [0.46239796]\n",
      " [0.34475932]\n",
      " [0.521677  ]\n",
      " [0.5066652 ]\n",
      " [0.38602248]\n",
      " [0.52546877]\n",
      " [0.68634915]\n",
      " [0.60839057]\n",
      " [0.35561854]\n",
      " [0.37986815]\n",
      " [0.12062144]\n",
      " [0.6631849 ]\n",
      " [0.916135  ]\n",
      " [0.66012716]\n",
      " [0.42293876]\n",
      " [0.3848055 ]\n",
      " [0.6092945 ]\n",
      " [0.38741845]\n",
      " [0.65071386]\n",
      " [0.650709  ]\n",
      " [0.65182996]\n",
      " [0.8616544 ]\n",
      " [0.38652292]\n",
      " [0.41520634]\n",
      " [0.39718896]\n",
      " [0.40158525]\n",
      " [0.38323438]\n",
      " [0.39918774]\n",
      " [0.5605097 ]\n",
      " [0.34246665]\n",
      " [0.52427197]\n",
      " [0.25296146]\n",
      " [0.54521024]\n",
      " [0.39103007]\n",
      " [0.35084152]\n",
      " [0.4204113 ]\n",
      " [0.37907422]\n",
      " [0.81974256]\n",
      " [0.53237593]\n",
      " [0.36664215]\n",
      " [0.51993597]\n",
      " [0.8323444 ]\n",
      " [0.6645513 ]\n",
      " [0.6539678 ]\n",
      " [0.3904813 ]\n",
      " [0.40662313]\n",
      " [0.27898055]\n",
      " [0.39156365]\n",
      " [0.3759    ]\n",
      " [0.5240082 ]\n",
      " [0.5728628 ]\n",
      " [0.46216437]\n",
      " [0.530747  ]\n",
      " [0.39837068]\n",
      " [0.38792613]\n",
      " [0.65071386]\n",
      " [0.5470735 ]\n",
      " [0.66996664]\n",
      " [0.3921062 ]\n",
      " [0.3284337 ]\n",
      " [0.37126023]\n",
      " [0.9318242 ]\n",
      " [0.77427006]\n",
      " [0.4331646 ]\n",
      " [0.81990135]\n",
      " [0.5757261 ]\n",
      " [0.614269  ]\n",
      " [0.7643815 ]\n",
      " [0.5823713 ]\n",
      " [0.3899625 ]\n",
      " [0.37258118]\n",
      " [0.36392993]\n",
      " [0.3882788 ]\n",
      " [0.4105506 ]\n",
      " [0.3284337 ]\n",
      " [0.60718423]\n",
      " [0.52291584]\n",
      " [0.56257695]\n",
      " [0.41905987]\n",
      " [0.38118458]\n",
      " [0.77490497]\n",
      " [0.6510601 ]\n",
      " [0.5733648 ]\n",
      " [0.4099601 ]\n",
      " [0.42998418]\n",
      " [0.37728316]\n",
      " [0.53154135]\n",
      " [0.3873261 ]\n",
      " [0.44193646]\n",
      " [0.77427006]\n",
      " [0.60379136]\n",
      " [0.6645513 ]\n",
      " [0.46244472]\n",
      " [0.5050552 ]\n",
      " [0.5019526 ]\n",
      " [0.5083722 ]\n",
      " [0.9527744 ]\n",
      " [0.5287275 ]\n",
      " [0.5429511 ]\n",
      " [0.5131395 ]\n",
      " [0.39341247]\n",
      " [0.60718423]\n",
      " [0.52513826]], shape=(118, 1), dtype=float32)\n"
     ]
    }
   ],
   "source": [
    "predictions = model(train_features)\n",
    "print(predictions)\n",
    "#len(predictions) "
   ]
  },
  {
   "cell_type": "code",
   "execution_count": 235,
   "metadata": {
    "scrolled": true
   },
   "outputs": [
    {
     "name": "stdout",
     "output_type": "stream",
     "text": [
      "Prediction: [0 0 0 0 0 0 0 0 0 0 0 0 0 0 0 0 0 0 0 0 0 0 0 0 0 0 0 0 0 0 0 0 0 0 0 0 0\n",
      " 0 0 0 0 0 0 0 0 0 0 0 0 0 0 0 0 0 0 0 0 0 0 0 0 0 0 0 0 0 0 0 0 0 0 0 0 0\n",
      " 0 0 0 0 0 0 0 0 0 0 0 0 0 0 0 0 0 0 0 0 0 0 0 0 0 0 0 0 0 0 0 0 0 0 0 0 0\n",
      " 0 0 0 0 0 0 0]\n"
     ]
    }
   ],
   "source": [
    "print(\"Prediction: {}\".format(tf.argmax(predictions, axis=1)))\n",
    "#print(\"    Labels: {}\".format(labels))"
   ]
  },
  {
   "cell_type": "code",
   "execution_count": 236,
   "metadata": {
    "scrolled": false
   },
   "outputs": [
    {
     "name": "stdout",
     "output_type": "stream",
     "text": [
      "Loss: 0.2774\n"
     ]
    }
   ],
   "source": [
    "results = model.evaluate(train_features, train_labels, batch_size=BATCH_SIZE, verbose=0)\n",
    "print(\"Loss: {:0.4f}\".format(results[0])) #initial loss"
   ]
  },
  {
   "cell_type": "code",
   "execution_count": 237,
   "metadata": {},
   "outputs": [],
   "source": [
    "#the following cells are to test the trainining models and class weights. but since our data is very clean,\n",
    "#stop here is fine\n"
   ]
  },
  {
   "cell_type": "code",
   "execution_count": 238,
   "metadata": {},
   "outputs": [],
   "source": [
    "initial_weights = os.path.join(tempfile.mkdtemp(), 'initial_weights')\n",
    "model.save_weights(initial_weights)"
   ]
  },
  {
   "cell_type": "code",
   "execution_count": 239,
   "metadata": {},
   "outputs": [],
   "source": [
    "model = make_model()\n",
    "model.load_weights(initial_weights)\n",
    "model.layers[-1].bias.assign([0.0])\n",
    "zero_bias_history = model.fit(\n",
    "    train_features,\n",
    "    train_labels,\n",
    "    batch_size=BATCH_SIZE,\n",
    "    epochs=20,\n",
    "    validation_data=(val_features, val_labels), \n",
    "    verbose=0)"
   ]
  },
  {
   "cell_type": "code",
   "execution_count": 240,
   "metadata": {},
   "outputs": [],
   "source": [
    "model = make_model()\n",
    "model.load_weights(initial_weights)\n",
    "careful_bias_history = model.fit(\n",
    "    train_features,\n",
    "    train_labels,\n",
    "    batch_size=BATCH_SIZE,\n",
    "    epochs=20,\n",
    "    validation_data=(val_features, val_labels), \n",
    "    verbose=0)"
   ]
  },
  {
   "cell_type": "code",
   "execution_count": 241,
   "metadata": {},
   "outputs": [],
   "source": [
    "def plot_loss(history, label, n):\n",
    "  # Use a log scale on y-axis to show the wide range of values.\n",
    "  plt.semilogy(history.epoch, history.history['loss'],\n",
    "               color=colors[n], label='Train ' + label)\n",
    "  plt.semilogy(history.epoch, history.history['val_loss'],\n",
    "               color=colors[n], label='Val ' + label,\n",
    "               linestyle=\"--\")\n",
    "  plt.xlabel('Epoch')\n",
    "  plt.ylabel('Loss')"
   ]
  },
  {
   "cell_type": "code",
   "execution_count": 242,
   "metadata": {},
   "outputs": [
    {
     "data": {
      "image/png": "[encoded data removed]",
      "text/plain": [
       "<Figure size 864x720 with 1 Axes>"
      ]
     },
     "metadata": {
      "needs_background": "light"
     },
     "output_type": "display_data"
    }
   ],
   "source": [
    "plot_loss(zero_bias_history, \"Zero Bias\", 0)\n",
    "plot_loss(careful_bias_history, \"Careful Bias\", 1)"
   ]
  },
  {
   "cell_type": "code",
   "execution_count": 243,
   "metadata": {
    "scrolled": true
   },
   "outputs": [
    {
     "name": "stdout",
     "output_type": "stream",
     "text": [
      "Epoch 1/100\n",
      "1/1 [==============================] - 2s 2s/step - loss: 0.8162 - tp: 86.0000 - fp: 0.0000e+00 - tn: 0.0000e+00 - fn: 62.0000 - accuracy: 0.5811 - precision: 1.0000 - recall: 0.5811 - auc: 0.0000e+00 - prc: 1.0000 - val_loss: 0.7163 - val_tp: 12.0000 - val_fp: 0.0000e+00 - val_tn: 0.0000e+00 - val_fn: 18.0000 - val_accuracy: 0.4000 - val_precision: 1.0000 - val_recall: 0.4000 - val_auc: 0.0000e+00 - val_prc: 1.0000\n",
      "Epoch 2/100\n",
      "1/1 [==============================] - 0s 17ms/step - loss: 0.8428 - tp: 72.0000 - fp: 0.0000e+00 - tn: 0.0000e+00 - fn: 46.0000 - accuracy: 0.6102 - precision: 1.0000 - recall: 0.6102 - auc: 0.0000e+00 - prc: 1.0000 - val_loss: 0.7076 - val_tp: 12.0000 - val_fp: 0.0000e+00 - val_tn: 0.0000e+00 - val_fn: 18.0000 - val_accuracy: 0.4000 - val_precision: 1.0000 - val_recall: 0.4000 - val_auc: 0.0000e+00 - val_prc: 1.0000\n",
      "Epoch 3/100\n",
      "1/1 [==============================] - 0s 17ms/step - loss: 0.7344 - tp: 63.0000 - fp: 0.0000e+00 - tn: 0.0000e+00 - fn: 55.0000 - accuracy: 0.5254 - precision: 1.0000 - recall: 0.5339 - auc: 0.0000e+00 - prc: 1.0000 - val_loss: 0.6990 - val_tp: 12.0000 - val_fp: 0.0000e+00 - val_tn: 0.0000e+00 - val_fn: 18.0000 - val_accuracy: 0.4000 - val_precision: 1.0000 - val_recall: 0.4000 - val_auc: 0.0000e+00 - val_prc: 1.0000\n",
      "Epoch 4/100\n",
      "1/1 [==============================] - 0s 18ms/step - loss: 0.7997 - tp: 60.0000 - fp: 0.0000e+00 - tn: 0.0000e+00 - fn: 58.0000 - accuracy: 0.5085 - precision: 1.0000 - recall: 0.5085 - auc: 0.0000e+00 - prc: 1.0000 - val_loss: 0.6906 - val_tp: 12.0000 - val_fp: 0.0000e+00 - val_tn: 0.0000e+00 - val_fn: 18.0000 - val_accuracy: 0.4000 - val_precision: 1.0000 - val_recall: 0.4000 - val_auc: 0.0000e+00 - val_prc: 1.0000\n",
      "Epoch 5/100\n",
      "1/1 [==============================] - 0s 18ms/step - loss: 0.7455 - tp: 67.0000 - fp: 0.0000e+00 - tn: 0.0000e+00 - fn: 51.0000 - accuracy: 0.5678 - precision: 1.0000 - recall: 0.5678 - auc: 0.0000e+00 - prc: 1.0000 - val_loss: 0.6823 - val_tp: 12.0000 - val_fp: 0.0000e+00 - val_tn: 0.0000e+00 - val_fn: 18.0000 - val_accuracy: 0.4000 - val_precision: 1.0000 - val_recall: 0.4000 - val_auc: 0.0000e+00 - val_prc: 1.0000\n",
      "Epoch 6/100\n",
      "1/1 [==============================] - 0s 17ms/step - loss: 0.7567 - tp: 67.0000 - fp: 0.0000e+00 - tn: 0.0000e+00 - fn: 51.0000 - accuracy: 0.5678 - precision: 1.0000 - recall: 0.5678 - auc: 0.0000e+00 - prc: 1.0000 - val_loss: 0.6743 - val_tp: 12.0000 - val_fp: 0.0000e+00 - val_tn: 0.0000e+00 - val_fn: 18.0000 - val_accuracy: 0.4000 - val_precision: 1.0000 - val_recall: 0.4000 - val_auc: 0.0000e+00 - val_prc: 1.0000\n",
      "Epoch 7/100\n",
      "1/1 [==============================] - 0s 18ms/step - loss: 0.7590 - tp: 69.0000 - fp: 0.0000e+00 - tn: 0.0000e+00 - fn: 49.0000 - accuracy: 0.5847 - precision: 1.0000 - recall: 0.5847 - auc: 0.0000e+00 - prc: 1.0000 - val_loss: 0.6664 - val_tp: 12.0000 - val_fp: 0.0000e+00 - val_tn: 0.0000e+00 - val_fn: 18.0000 - val_accuracy: 0.4000 - val_precision: 1.0000 - val_recall: 0.4000 - val_auc: 0.0000e+00 - val_prc: 1.0000\n",
      "Epoch 8/100\n",
      "1/1 [==============================] - 0s 17ms/step - loss: 0.7211 - tp: 77.0000 - fp: 0.0000e+00 - tn: 0.0000e+00 - fn: 41.0000 - accuracy: 0.6441 - precision: 1.0000 - recall: 0.6525 - auc: 0.0000e+00 - prc: 1.0000 - val_loss: 0.6587 - val_tp: 13.0000 - val_fp: 0.0000e+00 - val_tn: 0.0000e+00 - val_fn: 17.0000 - val_accuracy: 0.4333 - val_precision: 1.0000 - val_recall: 0.4333 - val_auc: 0.0000e+00 - val_prc: 1.0000\n",
      "Epoch 9/100\n",
      "1/1 [==============================] - 0s 18ms/step - loss: 0.6706 - tp: 75.0000 - fp: 0.0000e+00 - tn: 0.0000e+00 - fn: 43.0000 - accuracy: 0.6271 - precision: 1.0000 - recall: 0.6356 - auc: 0.0000e+00 - prc: 1.0000 - val_loss: 0.6512 - val_tp: 15.0000 - val_fp: 0.0000e+00 - val_tn: 0.0000e+00 - val_fn: 15.0000 - val_accuracy: 0.5000 - val_precision: 1.0000 - val_recall: 0.5000 - val_auc: 0.0000e+00 - val_prc: 1.0000\n",
      "Epoch 10/100\n",
      "1/1 [==============================] - 0s 18ms/step - loss: 0.7434 - tp: 71.0000 - fp: 0.0000e+00 - tn: 0.0000e+00 - fn: 47.0000 - accuracy: 0.5932 - precision: 1.0000 - recall: 0.6017 - auc: 0.0000e+00 - prc: 1.0000 - val_loss: 0.6437 - val_tp: 15.0000 - val_fp: 0.0000e+00 - val_tn: 0.0000e+00 - val_fn: 15.0000 - val_accuracy: 0.5000 - val_precision: 1.0000 - val_recall: 0.5000 - val_auc: 0.0000e+00 - val_prc: 1.0000\n",
      "Epoch 11/100\n",
      "1/1 [==============================] - 0s 17ms/step - loss: 0.7220 - tp: 70.0000 - fp: 0.0000e+00 - tn: 0.0000e+00 - fn: 48.0000 - accuracy: 0.5932 - precision: 1.0000 - recall: 0.5932 - auc: 0.0000e+00 - prc: 1.0000 - val_loss: 0.6362 - val_tp: 15.0000 - val_fp: 0.0000e+00 - val_tn: 0.0000e+00 - val_fn: 15.0000 - val_accuracy: 0.5000 - val_precision: 1.0000 - val_recall: 0.5000 - val_auc: 0.0000e+00 - val_prc: 1.0000\n",
      "Epoch 12/100\n",
      "1/1 [==============================] - 0s 18ms/step - loss: 0.6846 - tp: 73.0000 - fp: 0.0000e+00 - tn: 0.0000e+00 - fn: 45.0000 - accuracy: 0.6186 - precision: 1.0000 - recall: 0.6186 - auc: 0.0000e+00 - prc: 1.0000 - val_loss: 0.6289 - val_tp: 15.0000 - val_fp: 0.0000e+00 - val_tn: 0.0000e+00 - val_fn: 15.0000 - val_accuracy: 0.5000 - val_precision: 1.0000 - val_recall: 0.5000 - val_auc: 0.0000e+00 - val_prc: 1.0000\n",
      "Restoring model weights from the end of the best epoch.\n",
      "Epoch 00012: early stopping\n"
     ]
    }
   ],
   "source": [
    "model = make_model()\n",
    "model.load_weights(initial_weights)\n",
    "baseline_history = model.fit(\n",
    "    train_features,\n",
    "    train_labels,\n",
    "    batch_size=BATCH_SIZE,\n",
    "    epochs=EPOCHS,\n",
    "    callbacks=[early_stopping],\n",
    "    validation_data=(val_features, val_labels))"
   ]
  },
  {
   "cell_type": "code",
   "execution_count": 244,
   "metadata": {},
   "outputs": [],
   "source": [
    "def plot_metrics(history):\n",
    "  metrics = ['loss', 'prc', 'precision', 'recall']\n",
    "  for n, metric in enumerate(metrics):\n",
    "    name = metric.replace(\"_\",\" \").capitalize()\n",
    "    plt.subplot(2,2,n+1)\n",
    "    plt.plot(history.epoch, history.history[metric], color=colors[0], label='Train')\n",
    "    plt.plot(history.epoch, history.history['val_'+metric],\n",
    "             color=colors[0], linestyle=\"--\", label='Val')\n",
    "    plt.xlabel('Epoch')\n",
    "    plt.ylabel(name)\n",
    "    if metric == 'loss':\n",
    "      plt.ylim([0, plt.ylim()[1]])\n",
    "    elif metric == 'auc':\n",
    "      plt.ylim([0.8,1])\n",
    "    else:\n",
    "      plt.ylim([0,1])\n",
    "\n",
    "    plt.legend()\n",
    "\n"
   ]
  },
  {
   "cell_type": "code",
   "execution_count": 245,
   "metadata": {},
   "outputs": [
    {
     "data": {
      "image/png": "[encoded data removed]",
      "text/plain": [
       "<Figure size 864x720 with 4 Axes>"
      ]
     },
     "metadata": {
      "needs_background": "light"
     },
     "output_type": "display_data"
    }
   ],
   "source": [
    "plot_metrics(baseline_history)"
   ]
  },
  {
   "cell_type": "code",
   "execution_count": 246,
   "metadata": {},
   "outputs": [],
   "source": [
    "train_predictions_baseline = model.predict(train_features, batch_size=BATCH_SIZE)\n",
    "test_predictions_baseline = model.predict(test_features, batch_size=BATCH_SIZE)"
   ]
  },
  {
   "cell_type": "code",
   "execution_count": 247,
   "metadata": {},
   "outputs": [],
   "source": [
    "def plot_cm(labels, predictions, p=0.5):\n",
    "  cm = confusion_matrix(labels, predictions > p)\n",
    "  plt.figure(figsize=(5,5))\n",
    "  sns.heatmap(cm, annot=True, fmt=\"d\")\n",
    "  plt.title('Confusion matrix @{:.2f}'.format(p))\n",
    "  plt.ylabel('Actual label')\n",
    "  plt.xlabel('Predicted label')\n",
    "\n",
    "  print('Legitimate Transactions Detected (True Negatives): ', cm[0][0])\n",
    "  print('Legitimate Transactions Incorrectly Detected (False Positives): ', cm[0][1])\n",
    "  print('Fraudulent Transactions Missed (False Negatives): ', cm[1][0])\n",
    "  print('Fraudulent Transactions Detected (True Positives): ', cm[1][1])\n",
    "  print('Total Fraudulent Transactions: ', np.sum(cm[1]))"
   ]
  },
  {
   "cell_type": "code",
   "execution_count": 248,
   "metadata": {
    "scrolled": false
   },
   "outputs": [
    {
     "name": "stdout",
     "output_type": "stream",
     "text": [
      "loss :  0.7382494807243347\n",
      "tp :  16.0\n",
      "fp :  0.0\n",
      "tn :  0.0\n",
      "fn :  21.0\n",
      "accuracy :  0.4324324429035187\n",
      "precision :  1.0\n",
      "recall :  0.4324324429035187\n",
      "auc :  0.0\n",
      "prc :  1.0\n",
      "\n"
     ]
    }
   ],
   "source": [
    "#the accuracy using MSE is almost 1 and the loss is very small, only 0.138, comparing to the training model, the loss is \n",
    "#very close, so the model looks good\n",
    "baseline_results = model.evaluate(test_features, test_labels,\n",
    "                                  batch_size=BATCH_SIZE, verbose=0)\n",
    "for name, value in zip(model.metrics_names, baseline_results):\n",
    "  print(name, ': ', value)\n",
    "print()\n",
    "\n",
    "#plot_cm(test_labels, test_predictions_baseline)\n",
    "\n"
   ]
  },
  {
   "cell_type": "code",
   "execution_count": 249,
   "metadata": {},
   "outputs": [
    {
     "name": "stdout",
     "output_type": "stream",
     "text": [
      "tf.Tensor(\n",
      "[[0.8049914 ]\n",
      " [0.60778755]\n",
      " [0.42865947]\n",
      " [0.9722852 ]\n",
      " [0.6645513 ]\n",
      " [0.520583  ]\n",
      " [0.43312716]\n",
      " [0.65071386]\n",
      " [0.4332021 ]\n",
      " [0.3284337 ]\n",
      " [0.39860559]\n",
      " [0.57718295]\n",
      " [0.5741697 ]\n",
      " [0.4331646 ]\n",
      " [0.51183754]\n",
      " [0.46239796]\n",
      " [0.34475932]\n",
      " [0.521677  ]\n",
      " [0.5066652 ]\n",
      " [0.38602248]\n",
      " [0.52546877]\n",
      " [0.68634915]\n",
      " [0.60839057]\n",
      " [0.35561854]\n",
      " [0.37986815]\n",
      " [0.12062144]\n",
      " [0.6631849 ]\n",
      " [0.916135  ]\n",
      " [0.66012716]\n",
      " [0.42293876]\n",
      " [0.3848055 ]\n",
      " [0.6092945 ]\n",
      " [0.38741845]\n",
      " [0.65071386]\n",
      " [0.650709  ]\n",
      " [0.65182996]\n",
      " [0.8616544 ]\n",
      " [0.38652292]\n",
      " [0.41520634]\n",
      " [0.39718896]\n",
      " [0.40158525]\n",
      " [0.38323438]\n",
      " [0.39918774]\n",
      " [0.5605097 ]\n",
      " [0.34246665]\n",
      " [0.52427197]\n",
      " [0.25296146]\n",
      " [0.54521024]\n",
      " [0.39103007]\n",
      " [0.35084152]\n",
      " [0.4204113 ]\n",
      " [0.37907422]\n",
      " [0.81974256]\n",
      " [0.53237593]\n",
      " [0.36664215]\n",
      " [0.51993597]\n",
      " [0.8323444 ]\n",
      " [0.6645513 ]\n",
      " [0.6539678 ]\n",
      " [0.3904813 ]\n",
      " [0.40662313]\n",
      " [0.27898055]\n",
      " [0.39156365]\n",
      " [0.3759    ]\n",
      " [0.5240082 ]\n",
      " [0.5728628 ]\n",
      " [0.46216437]\n",
      " [0.530747  ]\n",
      " [0.39837068]\n",
      " [0.38792613]\n",
      " [0.65071386]\n",
      " [0.5470735 ]\n",
      " [0.66996664]\n",
      " [0.3921062 ]\n",
      " [0.3284337 ]\n",
      " [0.37126023]\n",
      " [0.9318242 ]\n",
      " [0.77427006]\n",
      " [0.4331646 ]\n",
      " [0.81990135]\n",
      " [0.5757261 ]\n",
      " [0.614269  ]\n",
      " [0.7643815 ]\n",
      " [0.5823713 ]\n",
      " [0.3899625 ]\n",
      " [0.37258118]\n",
      " [0.36392993]\n",
      " [0.3882788 ]\n",
      " [0.4105506 ]\n",
      " [0.3284337 ]\n",
      " [0.60718423]\n",
      " [0.52291584]\n",
      " [0.56257695]\n",
      " [0.41905987]\n",
      " [0.38118458]\n",
      " [0.77490497]\n",
      " [0.6510601 ]\n",
      " [0.5733648 ]\n",
      " [0.4099601 ]\n",
      " [0.42998418]\n",
      " [0.37728316]\n",
      " [0.53154135]\n",
      " [0.3873261 ]\n",
      " [0.44193646]\n",
      " [0.77427006]\n",
      " [0.60379136]\n",
      " [0.6645513 ]\n",
      " [0.46244472]\n",
      " [0.5050552 ]\n",
      " [0.5019526 ]\n",
      " [0.5083722 ]\n",
      " [0.9527744 ]\n",
      " [0.5287275 ]\n",
      " [0.5429511 ]\n",
      " [0.5131395 ]\n",
      " [0.39341247]\n",
      " [0.60718423]\n",
      " [0.52513826]], shape=(118, 1), dtype=float32)\n"
     ]
    }
   ],
   "source": [
    "print(predictions)"
   ]
  },
  {
   "cell_type": "code",
   "execution_count": 250,
   "metadata": {},
   "outputs": [],
   "source": [
    "result=model.trainable_variables"
   ]
  },
  {
   "cell_type": "code",
   "execution_count": 251,
   "metadata": {},
   "outputs": [],
   "source": [
    "varaible_weights=result[1]"
   ]
  },
  {
   "cell_type": "code",
   "execution_count": 252,
   "metadata": {},
   "outputs": [
    {
     "name": "stdout",
     "output_type": "stream",
     "text": [
      "<tf.Variable 'dense_74/bias:0' shape=(11,) dtype=float32, numpy=\n",
      "array([-0.00200053, -0.0019832 ,  0.00194124,  0.00196711,  0.00200123,\n",
      "       -0.00200076, -0.00199387,  0.00193242, -0.00200019, -0.00196799,\n",
      "       -0.00199519], dtype=float32)>\n"
     ]
    }
   ],
   "source": [
    "print(result[1])"
   ]
  },
  {
   "cell_type": "code",
   "execution_count": 253,
   "metadata": {
    "scrolled": true
   },
   "outputs": [
    {
     "name": "stdout",
     "output_type": "stream",
     "text": [
      "[<tf.Variable 'dense_74/kernel:0' shape=(10, 11) dtype=float32, numpy=\n",
      "array([[-0.5180277 ,  0.3753028 ,  0.02929254, -0.06442608,  0.3260176 ,\n",
      "        -0.46876606,  0.25192094,  0.5152829 , -0.5144207 ,  0.43355456,\n",
      "         0.07824402],\n",
      "       [-0.4000016 , -0.51934665, -0.16456771, -0.32218757, -0.1792201 ,\n",
      "        -0.48794228, -0.31286612, -0.3191088 , -0.44979677, -0.24314402,\n",
      "        -0.24054103],\n",
      "       [ 0.2587802 , -0.25456712,  0.11822399, -0.35865968, -0.14878629,\n",
      "         0.44745928,  0.4770609 ,  0.5090709 , -0.33265474,  0.26061267,\n",
      "         0.11711711],\n",
      "       [ 0.4758346 ,  0.42179948, -0.23934495, -0.27323228,  0.48675543,\n",
      "        -0.2345346 , -0.31627467,  0.22037183, -0.17683779,  0.43854097,\n",
      "         0.13764358],\n",
      "       [-0.12093056, -0.24979118,  0.16732413, -0.12778765, -0.10124553,\n",
      "         0.3715073 , -0.04369235,  0.02404025, -0.05398845,  0.15556552,\n",
      "         0.09943391],\n",
      "       [ 0.09627827, -0.31922105,  0.4725924 , -0.29391918, -0.43666032,\n",
      "        -0.35442787,  0.10795262, -0.32482123,  0.17805848, -0.2383701 ,\n",
      "         0.21538527],\n",
      "       [ 0.13720627, -0.12058095,  0.47684723, -0.35005578, -0.09540064,\n",
      "        -0.34458148,  0.52047485,  0.48481196,  0.19527194,  0.282699  ,\n",
      "        -0.34044856],\n",
      "       [-0.42624804, -0.41180694,  0.50898343, -0.12150802,  0.40287977,\n",
      "        -0.047852  , -0.1831483 ,  0.17638835,  0.06944708,  0.316838  ,\n",
      "         0.04156312],\n",
      "       [-0.00299971,  0.14906295,  0.35338607,  0.47561586, -0.13451244,\n",
      "         0.01150983, -0.34767404, -0.38023567,  0.0322852 , -0.51768786,\n",
      "         0.1515412 ],\n",
      "       [-0.31841895, -0.4630595 , -0.20873277,  0.4793992 ,  0.1461842 ,\n",
      "        -0.38691476,  0.39471057,  0.46204138, -0.47355068, -0.11528868,\n",
      "        -0.44003642]], dtype=float32)>, <tf.Variable 'dense_74/bias:0' shape=(11,) dtype=float32, numpy=\n",
      "array([-0.00200053, -0.0019832 ,  0.00194124,  0.00196711,  0.00200123,\n",
      "       -0.00200076, -0.00199387,  0.00193242, -0.00200019, -0.00196799,\n",
      "       -0.00199519], dtype=float32)>, <tf.Variable 'dense_75/kernel:0' shape=(11, 11) dtype=float32, numpy=\n",
      "array([[ 0.17302364, -0.41429344,  0.3966557 ,  0.2436725 , -0.47146425,\n",
      "         0.1782687 ,  0.04899032, -0.4558969 ,  0.5000266 , -0.36025786,\n",
      "        -0.10115437],\n",
      "       [-0.02506297, -0.49742046,  0.41236335, -0.4642359 ,  0.14273897,\n",
      "        -0.10995638, -0.43132064,  0.26342863, -0.32955816,  0.40806657,\n",
      "         0.03972746],\n",
      "       [-0.19729711,  0.02926843, -0.336923  , -0.32521498, -0.20390578,\n",
      "        -0.45410874, -0.36634734,  0.49790952, -0.37950012, -0.30941322,\n",
      "         0.1544502 ],\n",
      "       [-0.17037833,  0.28328988, -0.02888042, -0.26687723, -0.12695909,\n",
      "         0.3660988 , -0.4404264 ,  0.31259984, -0.14942463, -0.13334368,\n",
      "        -0.47210222],\n",
      "       [-0.1991164 , -0.03956617, -0.24430548, -0.3203597 ,  0.4853084 ,\n",
      "         0.3768395 ,  0.4297187 ,  0.5206749 ,  0.42098916,  0.416633  ,\n",
      "        -0.42168206],\n",
      "       [-0.2957647 ,  0.07411066,  0.37985304, -0.21181917, -0.18130186,\n",
      "        -0.143517  , -0.22352487,  0.05327753, -0.2751814 ,  0.35274974,\n",
      "         0.48903352],\n",
      "       [ 0.19865766,  0.43842235,  0.34441072,  0.42911473, -0.10096079,\n",
      "         0.42089486,  0.06836902, -0.33893624,  0.45155337,  0.47392225,\n",
      "        -0.2563365 ],\n",
      "       [ 0.19275431, -0.32300088, -0.3351649 ,  0.25541487,  0.24277383,\n",
      "         0.02310978,  0.29969037,  0.20085554, -0.10566945, -0.44408882,\n",
      "        -0.26376143],\n",
      "       [-0.40227905,  0.00343925,  0.1980022 ,  0.46660724, -0.14513479,\n",
      "        -0.30297524,  0.35385233, -0.3578029 , -0.29129785, -0.04132877,\n",
      "         0.27750465],\n",
      "       [ 0.40119088,  0.39585453, -0.06563598, -0.30443066,  0.11742839,\n",
      "        -0.19771129,  0.3063883 , -0.23519838,  0.2214278 ,  0.15341386,\n",
      "         0.45578942],\n",
      "       [ 0.08737393,  0.4374246 ,  0.3368989 ,  0.07609841,  0.2270011 ,\n",
      "         0.35327798, -0.08466549,  0.20595545, -0.32058752, -0.5156325 ,\n",
      "         0.11629448]], dtype=float32)>, <tf.Variable 'dense_75/bias:0' shape=(11,) dtype=float32, numpy=\n",
      "array([ 0.00199191, -0.00200109, -0.00199928, -0.00200077,  0.00200118,\n",
      "        0.00200015,  0.00200004,  0.00200044,  0.00200077, -0.00199884,\n",
      "       -0.00199568], dtype=float32)>, <tf.Variable 'dense_76/kernel:0' shape=(11, 1) dtype=float32, numpy=\n",
      "array([[ 0.6929549 ],\n",
      "       [-0.62679726],\n",
      "       [-0.6029172 ],\n",
      "       [-0.7036234 ],\n",
      "       [ 0.37596214],\n",
      "       [ 0.25694522],\n",
      "       [ 0.21774371],\n",
      "       [ 0.21540435],\n",
      "       [ 0.21811886],\n",
      "       [-0.36681512],\n",
      "       [-0.49464896]], dtype=float32)>, <tf.Variable 'dense_76/bias:0' shape=(1,) dtype=float32, numpy=array([0.38679314], dtype=float32)>]\n"
     ]
    }
   ],
   "source": [
    "print(model.trainable_variables) #return the Weights of the Model as shown below:"
   ]
  },
  {
   "cell_type": "code",
   "execution_count": 254,
   "metadata": {},
   "outputs": [],
   "source": [
    "#the following will be visited when we have more time"
   ]
  },
  {
   "cell_type": "code",
   "execution_count": 255,
   "metadata": {},
   "outputs": [],
   "source": [
    "def plot_roc(name, labels, predictions, **kwargs):\n",
    "  fp, tp, _ = sklearn.metrics.roc_curve(labels, predictions)\n",
    "\n",
    "  plt.plot(100*fp, 100*tp, label=name, linewidth=2, **kwargs)\n",
    "  plt.xlabel('False positives [%]')\n",
    "  plt.ylabel('True positives [%]')\n",
    "  plt.xlim([-0.5,20])\n",
    "  plt.ylim([80,100.5])\n",
    "  plt.grid(True)\n",
    "  ax = plt.gca()\n",
    "  ax.set_aspect('equal')"
   ]
  },
  {
   "cell_type": "code",
   "execution_count": 256,
   "metadata": {
    "scrolled": true
   },
   "outputs": [
    {
     "name": "stdout",
     "output_type": "stream",
     "text": [
      "Weight for class 0: 0.52\n",
      "Weight for class 1: 13.21\n"
     ]
    }
   ],
   "source": [
    "# Scaling by total/2 helps keep the loss to a similar magnitude.\n",
    "# The sum of the weights of all examples stays the same.\n",
    "weight_for_0 = (1 / neg) * (total / 2.0)\n",
    "weight_for_1 = (1 / pos) * (total / 2.0)\n",
    "\n",
    "class_weight = {0: weight_for_0, 1: weight_for_1}\n",
    "\n",
    "print('Weight for class 0: {:.2f}'.format(weight_for_0))\n",
    "print('Weight for class 1: {:.2f}'.format(weight_for_1))\n"
   ]
  },
  {
   "cell_type": "code",
   "execution_count": 257,
   "metadata": {},
   "outputs": [
    {
     "data": {
      "text/plain": [
       "9.0"
      ]
     },
     "execution_count": 257,
     "metadata": {},
     "output_type": "execute_result"
    }
   ],
   "source": [
    "resampled_steps_per_epoch = np.ceil(93.0*neg/BATCH_SIZE)\n",
    "resampled_steps_per_epoch"
   ]
  },
  {
   "cell_type": "code",
   "execution_count": 258,
   "metadata": {
    "scrolled": false
   },
   "outputs": [
    {
     "name": "stdout",
     "output_type": "stream",
     "text": [
      "Example 0 prediction: predictionYES (69.1%)\n",
      "Example 1 prediction: predictionYES (64.7%)\n",
      "Example 2 prediction: predictionYES (60.6%)\n",
      "Example 3 prediction: predictionYES (72.6%)\n",
      "Example 4 prediction: predictionYES (66.0%)\n",
      "Example 5 prediction: predictionYES (62.7%)\n",
      "Example 6 prediction: predictionYES (60.7%)\n",
      "Example 7 prediction: predictionYES (65.7%)\n",
      "Example 8 prediction: predictionYES (60.7%)\n",
      "Example 9 prediction: predictionYES (58.1%)\n",
      "Example 10 prediction: predictionYES (59.8%)\n",
      "Example 11 prediction: predictionYES (64.0%)\n",
      "Example 12 prediction: predictionYES (64.0%)\n",
      "Example 13 prediction: predictionYES (60.7%)\n",
      "Example 14 prediction: predictionYES (62.5%)\n",
      "Example 15 prediction: predictionYES (61.4%)\n",
      "Example 16 prediction: predictionYES (58.5%)\n",
      "Example 17 prediction: predictionYES (62.8%)\n",
      "Example 18 prediction: predictionYES (62.4%)\n",
      "Example 19 prediction: predictionYES (59.5%)\n",
      "Example 20 prediction: predictionYES (62.8%)\n",
      "Example 21 prediction: predictionYES (66.5%)\n",
      "Example 22 prediction: predictionYES (64.8%)\n",
      "Example 23 prediction: predictionYES (58.8%)\n",
      "Example 24 prediction: predictionYES (59.4%)\n",
      "Example 25 prediction: predictionYES (53.0%)\n",
      "Example 26 prediction: predictionYES (66.0%)\n",
      "Example 27 prediction: predictionYES (71.4%)\n",
      "Example 28 prediction: predictionYES (65.9%)\n",
      "Example 29 prediction: predictionYES (60.4%)\n",
      "Example 30 prediction: predictionYES (59.5%)\n",
      "Example 31 prediction: predictionYES (64.8%)\n",
      "Example 32 prediction: predictionYES (59.6%)\n",
      "Example 33 prediction: predictionYES (65.7%)\n",
      "Example 34 prediction: predictionYES (65.7%)\n",
      "Example 35 prediction: predictionYES (65.7%)\n",
      "Example 36 prediction: predictionYES (70.3%)\n",
      "Example 37 prediction: predictionYES (59.5%)\n",
      "Example 38 prediction: predictionYES (60.2%)\n",
      "Example 39 prediction: predictionYES (59.8%)\n",
      "Example 40 prediction: predictionYES (59.9%)\n",
      "Example 41 prediction: predictionYES (59.5%)\n",
      "Example 42 prediction: predictionYES (59.8%)\n",
      "Example 43 prediction: predictionYES (63.7%)\n",
      "Example 44 prediction: predictionYES (58.5%)\n",
      "Example 45 prediction: predictionYES (62.8%)\n",
      "Example 46 prediction: predictionYES (56.3%)\n",
      "Example 47 prediction: predictionYES (63.3%)\n",
      "Example 48 prediction: predictionYES (59.7%)\n",
      "Example 49 prediction: predictionYES (58.7%)\n",
      "Example 50 prediction: predictionYES (60.4%)\n",
      "Example 51 prediction: predictionYES (59.4%)\n",
      "Example 52 prediction: predictionYES (69.4%)\n",
      "Example 53 prediction: predictionYES (63.0%)\n",
      "Example 54 prediction: predictionYES (59.1%)\n",
      "Example 55 prediction: predictionYES (62.7%)\n",
      "Example 56 prediction: predictionYES (69.7%)\n",
      "Example 57 prediction: predictionYES (66.0%)\n",
      "Example 58 prediction: predictionYES (65.8%)\n",
      "Example 59 prediction: predictionYES (59.6%)\n",
      "Example 60 prediction: predictionYES (60.0%)\n",
      "Example 61 prediction: predictionYES (56.9%)\n",
      "Example 62 prediction: predictionYES (59.7%)\n",
      "Example 63 prediction: predictionYES (59.3%)\n",
      "Example 64 prediction: predictionYES (62.8%)\n",
      "Example 65 prediction: predictionYES (63.9%)\n",
      "Example 66 prediction: predictionYES (61.4%)\n",
      "Example 67 prediction: predictionYES (63.0%)\n",
      "Example 68 prediction: predictionYES (59.8%)\n",
      "Example 69 prediction: predictionYES (59.6%)\n",
      "Example 70 prediction: predictionYES (65.7%)\n",
      "Example 71 prediction: predictionYES (63.3%)\n",
      "Example 72 prediction: predictionYES (66.1%)\n",
      "Example 73 prediction: predictionYES (59.7%)\n",
      "Example 74 prediction: predictionYES (58.1%)\n",
      "Example 75 prediction: predictionYES (59.2%)\n",
      "Example 76 prediction: predictionYES (71.7%)\n",
      "Example 77 prediction: predictionYES (68.4%)\n",
      "Example 78 prediction: predictionYES (60.7%)\n",
      "Example 79 prediction: predictionYES (69.4%)\n",
      "Example 80 prediction: predictionYES (64.0%)\n",
      "Example 81 prediction: predictionYES (64.9%)\n",
      "Example 82 prediction: predictionYES (68.2%)\n",
      "Example 83 prediction: predictionYES (64.2%)\n",
      "Example 84 prediction: predictionYES (59.6%)\n",
      "Example 85 prediction: predictionYES (59.2%)\n",
      "Example 86 prediction: predictionYES (59.0%)\n",
      "Example 87 prediction: predictionYES (59.6%)\n",
      "Example 88 prediction: predictionYES (60.1%)\n",
      "Example 89 prediction: predictionYES (58.1%)\n",
      "Example 90 prediction: predictionYES (64.7%)\n",
      "Example 91 prediction: predictionYES (62.8%)\n",
      "Example 92 prediction: predictionYES (63.7%)\n",
      "Example 93 prediction: predictionYES (60.3%)\n",
      "Example 94 prediction: predictionYES (59.4%)\n",
      "Example 95 prediction: predictionYES (68.5%)\n",
      "Example 96 prediction: predictionYES (65.7%)\n",
      "Example 97 prediction: predictionYES (64.0%)\n",
      "Example 98 prediction: predictionYES (60.1%)\n",
      "Example 99 prediction: predictionYES (60.6%)\n",
      "Example 100 prediction: predictionYES (59.3%)\n",
      "Example 101 prediction: predictionYES (63.0%)\n",
      "Example 102 prediction: predictionYES (59.6%)\n",
      "Example 103 prediction: predictionYES (60.9%)\n",
      "Example 104 prediction: predictionYES (68.4%)\n",
      "Example 105 prediction: predictionYES (64.7%)\n",
      "Example 106 prediction: predictionYES (66.0%)\n",
      "Example 107 prediction: predictionYES (61.4%)\n",
      "Example 108 prediction: predictionYES (62.4%)\n",
      "Example 109 prediction: predictionYES (62.3%)\n",
      "Example 110 prediction: predictionYES (62.4%)\n",
      "Example 111 prediction: predictionYES (72.2%)\n",
      "Example 112 prediction: predictionYES (62.9%)\n",
      "Example 113 prediction: predictionYES (63.2%)\n",
      "Example 114 prediction: predictionYES (62.6%)\n",
      "Example 115 prediction: predictionYES (59.7%)\n",
      "Example 116 prediction: predictionYES (64.7%)\n",
      "Example 117 prediction: predictionYES (62.8%)\n"
     ]
    }
   ],
   "source": [
    "for i, logits in enumerate(predictions):\n",
    "  class_idx = tf.argmax(logits).numpy()\n",
    "  p = tf.nn.sigmoid(logits)[class_idx]\n",
    "  name = class_names[class_idx]\n",
    "  print(\"Example {} prediction: {} ({:4.1f}%)\".format(i, name, 100*p))\n",
    "#the results shows that after training, there are 118 out of 184 proteins likely to be the X molecule, it makes sense\n",
    "#since our data is obtained from the corss-linking, most of the proteins should be targets anyway\n",
    "#needs to find out a way to nail down top 10 target"
   ]
  },
  {
   "cell_type": "code",
   "execution_count": 259,
   "metadata": {},
   "outputs": [],
   "source": [
    "\n",
    "#now after so many trainings, we get relatively accurate weights for each variables, we need to give a ranking system \n",
    "#for the current dataset, and because we know for a fact that plasma membrane is the most likely location, we decide \n",
    "#to weigh a lot on the plasma membrane"
   ]
  },
  {
   "cell_type": "code",
   "execution_count": 260,
   "metadata": {},
   "outputs": [],
   "source": [
    "#since every time we run the model, the weight changes a little bit, we record one of the results\n",
    "#<tf.Variable 'dense_158/bias:0' shape=(11,) dtype=float32, numpy=\n",
    "#array([ [-0.00099995, -0.00099988, -0.00099898, -0.00099985, -0.00099989,\n",
    "        #0.00099962, -0.00099974, -0.00099988, -0.00099991,  0.00099988,\n",
    "        #0.00099996], dtype=float32)>"
   ]
  },
  {
   "cell_type": "code",
   "execution_count": 261,
   "metadata": {},
   "outputs": [],
   "source": [
    "general_recorded_weight=varaible_weights"
   ]
  },
  {
   "cell_type": "code",
   "execution_count": 262,
   "metadata": {},
   "outputs": [],
   "source": [
    "recorded_weight=[-0.00099995, -0.00099988, -0.00099898, -0.00099985, -0.00099989,\n",
    "        0.00099962, -0.00099974, -0.00099988, -0.00099991,  0.00099988,\n",
    "        0.00099996]\n",
    "#for the location weight, we manually program it to 50, #12 weights for the variables"
   ]
  },
  {
   "cell_type": "code",
   "execution_count": 263,
   "metadata": {
    "scrolled": true
   },
   "outputs": [
    {
     "data": {
      "text/html": [
       "<div>\n",
       "<style scoped>\n",
       "    .dataframe tbody tr th:only-of-type {\n",
       "        vertical-align: middle;\n",
       "    }\n",
       "\n",
       "    .dataframe tbody tr th {\n",
       "        vertical-align: top;\n",
       "    }\n",
       "\n",
       "    .dataframe thead th {\n",
       "        text-align: right;\n",
       "    }\n",
       "</style>\n",
       "<table border=\"1\" class=\"dataframe\">\n",
       "  <thead>\n",
       "    <tr style=\"text-align: right;\">\n",
       "      <th></th>\n",
       "      <th>Number of proteins</th>\n",
       "      <th>Peptides</th>\n",
       "      <th>Unique peptides</th>\n",
       "      <th>Sequence coverage [%]</th>\n",
       "      <th>Unique sequence coverage [%]</th>\n",
       "      <th>Mol. weight [kDa]</th>\n",
       "      <th>Sequence length</th>\n",
       "      <th>Sequence lengths</th>\n",
       "      <th>Q-value</th>\n",
       "      <th>Score</th>\n",
       "      <th>Intensity</th>\n",
       "      <th>locationweight</th>\n",
       "      <th>ID</th>\n",
       "    </tr>\n",
       "  </thead>\n",
       "  <tbody>\n",
       "    <tr>\n",
       "      <th>0</th>\n",
       "      <td>1</td>\n",
       "      <td>2</td>\n",
       "      <td>2</td>\n",
       "      <td>11.8</td>\n",
       "      <td>11.8</td>\n",
       "      <td>4007.0000</td>\n",
       "      <td>68</td>\n",
       "      <td>68</td>\n",
       "      <td>0</td>\n",
       "      <td>26.8050</td>\n",
       "      <td>43278000000</td>\n",
       "      <td>0.2</td>\n",
       "      <td>1</td>\n",
       "    </tr>\n",
       "    <tr>\n",
       "      <th>1</th>\n",
       "      <td>2</td>\n",
       "      <td>2</td>\n",
       "      <td>2</td>\n",
       "      <td>11.8</td>\n",
       "      <td>11.8</td>\n",
       "      <td>4007.0000</td>\n",
       "      <td>1195</td>\n",
       "      <td>1195</td>\n",
       "      <td>0</td>\n",
       "      <td>26.8050</td>\n",
       "      <td>43278000000</td>\n",
       "      <td>0.2</td>\n",
       "      <td>2</td>\n",
       "    </tr>\n",
       "    <tr>\n",
       "      <th>2</th>\n",
       "      <td>1</td>\n",
       "      <td>1</td>\n",
       "      <td>1</td>\n",
       "      <td>0.1</td>\n",
       "      <td>0.1</td>\n",
       "      <td>760.2800</td>\n",
       "      <td>6993</td>\n",
       "      <td>6993</td>\n",
       "      <td>0</td>\n",
       "      <td>13.5360</td>\n",
       "      <td>27118000000</td>\n",
       "      <td>0.2</td>\n",
       "      <td>3</td>\n",
       "    </tr>\n",
       "    <tr>\n",
       "      <th>3</th>\n",
       "      <td>1</td>\n",
       "      <td>1</td>\n",
       "      <td>1</td>\n",
       "      <td>1.9</td>\n",
       "      <td>1.9</td>\n",
       "      <td>760.2800</td>\n",
       "      <td>421</td>\n",
       "      <td>421</td>\n",
       "      <td>0</td>\n",
       "      <td>9.2509</td>\n",
       "      <td>10040000000</td>\n",
       "      <td>0.2</td>\n",
       "      <td>4</td>\n",
       "    </tr>\n",
       "    <tr>\n",
       "      <th>4</th>\n",
       "      <td>1</td>\n",
       "      <td>1</td>\n",
       "      <td>1</td>\n",
       "      <td>4.8</td>\n",
       "      <td>4.8</td>\n",
       "      <td>559.4300</td>\n",
       "      <td>146</td>\n",
       "      <td>146</td>\n",
       "      <td>0</td>\n",
       "      <td>6.1686</td>\n",
       "      <td>9356900000</td>\n",
       "      <td>0.2</td>\n",
       "      <td>5</td>\n",
       "    </tr>\n",
       "    <tr>\n",
       "      <th>...</th>\n",
       "      <td>...</td>\n",
       "      <td>...</td>\n",
       "      <td>...</td>\n",
       "      <td>...</td>\n",
       "      <td>...</td>\n",
       "      <td>...</td>\n",
       "      <td>...</td>\n",
       "      <td>...</td>\n",
       "      <td>...</td>\n",
       "      <td>...</td>\n",
       "      <td>...</td>\n",
       "      <td>...</td>\n",
       "      <td>...</td>\n",
       "    </tr>\n",
       "    <tr>\n",
       "      <th>180</th>\n",
       "      <td>1</td>\n",
       "      <td>1</td>\n",
       "      <td>1</td>\n",
       "      <td>1.0</td>\n",
       "      <td>1.0</td>\n",
       "      <td>13.5750</td>\n",
       "      <td>1536</td>\n",
       "      <td>1536</td>\n",
       "      <td>0</td>\n",
       "      <td>6.5413</td>\n",
       "      <td>0</td>\n",
       "      <td>0.5</td>\n",
       "      <td>181</td>\n",
       "    </tr>\n",
       "    <tr>\n",
       "      <th>181</th>\n",
       "      <td>1</td>\n",
       "      <td>1</td>\n",
       "      <td>1</td>\n",
       "      <td>3.0</td>\n",
       "      <td>3.0</td>\n",
       "      <td>11.4460</td>\n",
       "      <td>201</td>\n",
       "      <td>201</td>\n",
       "      <td>0</td>\n",
       "      <td>6.3478</td>\n",
       "      <td>0</td>\n",
       "      <td>0.2</td>\n",
       "      <td>182</td>\n",
       "    </tr>\n",
       "    <tr>\n",
       "      <th>182</th>\n",
       "      <td>1</td>\n",
       "      <td>1</td>\n",
       "      <td>1</td>\n",
       "      <td>3.4</td>\n",
       "      <td>3.4</td>\n",
       "      <td>10.8300</td>\n",
       "      <td>207</td>\n",
       "      <td>207</td>\n",
       "      <td>0</td>\n",
       "      <td>6.2729</td>\n",
       "      <td>0</td>\n",
       "      <td>0.2</td>\n",
       "      <td>183</td>\n",
       "    </tr>\n",
       "    <tr>\n",
       "      <th>183</th>\n",
       "      <td>1</td>\n",
       "      <td>1</td>\n",
       "      <td>1</td>\n",
       "      <td>1.7</td>\n",
       "      <td>1.7</td>\n",
       "      <td>8.1435</td>\n",
       "      <td>803</td>\n",
       "      <td>803</td>\n",
       "      <td>0</td>\n",
       "      <td>5.9787</td>\n",
       "      <td>0</td>\n",
       "      <td>0.2</td>\n",
       "      <td>184</td>\n",
       "    </tr>\n",
       "    <tr>\n",
       "      <th>184</th>\n",
       "      <td>1</td>\n",
       "      <td>1</td>\n",
       "      <td>1</td>\n",
       "      <td>0.4</td>\n",
       "      <td>0.4</td>\n",
       "      <td>8.0458</td>\n",
       "      <td>5152</td>\n",
       "      <td>5152</td>\n",
       "      <td>0</td>\n",
       "      <td>5.9564</td>\n",
       "      <td>0</td>\n",
       "      <td>0.2</td>\n",
       "      <td>185</td>\n",
       "    </tr>\n",
       "  </tbody>\n",
       "</table>\n",
       "<p>185 rows × 13 columns</p>\n",
       "</div>"
      ],
      "text/plain": [
       "     Number of proteins  Peptides  Unique peptides  Sequence coverage [%]  \\\n",
       "0                     1         2                2                   11.8   \n",
       "1                     2         2                2                   11.8   \n",
       "2                     1         1                1                    0.1   \n",
       "3                     1         1                1                    1.9   \n",
       "4                     1         1                1                    4.8   \n",
       "..                  ...       ...              ...                    ...   \n",
       "180                   1         1                1                    1.0   \n",
       "181                   1         1                1                    3.0   \n",
       "182                   1         1                1                    3.4   \n",
       "183                   1         1                1                    1.7   \n",
       "184                   1         1                1                    0.4   \n",
       "\n",
       "     Unique sequence coverage [%]  Mol. weight [kDa]  Sequence length  \\\n",
       "0                            11.8          4007.0000               68   \n",
       "1                            11.8          4007.0000             1195   \n",
       "2                             0.1           760.2800             6993   \n",
       "3                             1.9           760.2800              421   \n",
       "4                             4.8           559.4300              146   \n",
       "..                            ...                ...              ...   \n",
       "180                           1.0            13.5750             1536   \n",
       "181                           3.0            11.4460              201   \n",
       "182                           3.4            10.8300              207   \n",
       "183                           1.7             8.1435              803   \n",
       "184                           0.4             8.0458             5152   \n",
       "\n",
       "     Sequence lengths  Q-value    Score    Intensity  locationweight   ID  \n",
       "0                  68        0  26.8050  43278000000             0.2    1  \n",
       "1                1195        0  26.8050  43278000000             0.2    2  \n",
       "2                6993        0  13.5360  27118000000             0.2    3  \n",
       "3                 421        0   9.2509  10040000000             0.2    4  \n",
       "4                 146        0   6.1686   9356900000             0.2    5  \n",
       "..                ...      ...      ...          ...             ...  ...  \n",
       "180              1536        0   6.5413            0             0.5  181  \n",
       "181               201        0   6.3478            0             0.2  182  \n",
       "182               207        0   6.2729            0             0.2  183  \n",
       "183               803        0   5.9787            0             0.2  184  \n",
       "184              5152        0   5.9564            0             0.2  185  \n",
       "\n",
       "[185 rows x 13 columns]"
      ]
     },
     "execution_count": 263,
     "metadata": {},
     "output_type": "execute_result"
    }
   ],
   "source": [
    "df1"
   ]
  },
  {
   "cell_type": "code",
   "execution_count": 264,
   "metadata": {},
   "outputs": [],
   "source": [
    "data1=pd.DataFrame(df1).to_numpy()"
   ]
  },
  {
   "cell_type": "code",
   "execution_count": 265,
   "metadata": {},
   "outputs": [
    {
     "data": {
      "text/plain": [
       "array([[-0.30151138, -0.30151138, -0.30151138, ..., -0.30151137,\n",
       "         3.31662479, -0.30151138],\n",
       "       [-0.30151139, -0.30151139, -0.30151139, ..., -0.30151139,\n",
       "         3.31662479, -0.30151139],\n",
       "       [-0.30151152, -0.30151152, -0.30151152, ..., -0.30151152,\n",
       "         3.31662479, -0.30151152],\n",
       "       ...,\n",
       "       [-0.469309  , -0.469309  , -0.469309  , ..., -0.40010547,\n",
       "        -0.48243337, -0.4798085 ],\n",
       "       [-0.45079144, -0.45079144, -0.45079144, ..., -0.43411225,\n",
       "        -0.45414155, -0.45347153],\n",
       "       [-0.44763015, -0.44763015, -0.44763015, ..., -0.44504785,\n",
       "        -0.44815116, -0.44804696]])"
      ]
     },
     "execution_count": 265,
     "metadata": {},
     "output_type": "execute_result"
    }
   ],
   "source": [
    "dt"
   ]
  },
  {
   "cell_type": "code",
   "execution_count": 266,
   "metadata": {
    "scrolled": false
   },
   "outputs": [
    {
     "data": {
      "text/plain": [
       "array([[1.0000e+00, 2.0000e+00, 2.0000e+00, ..., 4.3278e+10, 2.0000e-01,\n",
       "        1.0000e+00],\n",
       "       [2.0000e+00, 2.0000e+00, 2.0000e+00, ..., 4.3278e+10, 2.0000e-01,\n",
       "        2.0000e+00],\n",
       "       [1.0000e+00, 1.0000e+00, 1.0000e+00, ..., 2.7118e+10, 2.0000e-01,\n",
       "        3.0000e+00],\n",
       "       ...,\n",
       "       [1.0000e+00, 1.0000e+00, 1.0000e+00, ..., 0.0000e+00, 2.0000e-01,\n",
       "        1.8300e+02],\n",
       "       [1.0000e+00, 1.0000e+00, 1.0000e+00, ..., 0.0000e+00, 2.0000e-01,\n",
       "        1.8400e+02],\n",
       "       [1.0000e+00, 1.0000e+00, 1.0000e+00, ..., 0.0000e+00, 2.0000e-01,\n",
       "        1.8500e+02]])"
      ]
     },
     "execution_count": 266,
     "metadata": {},
     "output_type": "execute_result"
    }
   ],
   "source": [
    "data1"
   ]
  },
  {
   "cell_type": "code",
   "execution_count": 267,
   "metadata": {},
   "outputs": [],
   "source": [
    "weight_data=data1[:][:,-2]"
   ]
  },
  {
   "cell_type": "code",
   "execution_count": 268,
   "metadata": {},
   "outputs": [],
   "source": [
    "ID=data1[:][:,-1]"
   ]
  },
  {
   "cell_type": "code",
   "execution_count": 269,
   "metadata": {},
   "outputs": [
    {
     "name": "stdout",
     "output_type": "stream",
     "text": [
      "[  1.   2.   3.   4.   5.   6.   7.   8.   9.  10.  11.  12.  13.  14.\n",
      "  15.  16.  17.  18.  19.  20.  21.  22.  23.  24.  25.  26.  27.  28.\n",
      "  29.  30.  31.  32.  33.  34.  35.  36.  37.  38.  39.  40.  41.  42.\n",
      "  43.  44.  45.  46.  47.  48.  49.  50.  51.  52.  53.  54.  55.  56.\n",
      "  57.  58.  59.  60.  61.  62.  63.  64.  65.  66.  67.  68.  69.  70.\n",
      "  71.  72.  73.  74.  75.  76.  77.  78.  79.  80.  81.  82.  83.  84.\n",
      "  85.  86.  87.  88.  89.  90.  91.  92.  93.  94.  95.  96.  97.  98.\n",
      "  99. 100. 101. 102. 103. 104. 105. 106. 107. 108. 109. 110. 111. 112.\n",
      " 113. 114. 115. 116. 117. 118. 119. 120. 121. 122. 123. 124. 125. 126.\n",
      " 127. 128. 129. 130. 131. 132. 133. 134. 135. 136. 137. 138. 139. 140.\n",
      " 141. 142. 143. 144. 145. 146. 147. 148. 149. 150. 151. 152. 153. 154.\n",
      " 155. 156. 157. 158. 159. 160. 161. 162. 163. 164. 165. 166. 167. 168.\n",
      " 169. 170. 171. 172. 173. 174. 175. 176. 177. 178. 179. 180. 181. 182.\n",
      " 183. 184. 185.]\n"
     ]
    }
   ],
   "source": [
    "print(ID)"
   ]
  },
  {
   "cell_type": "code",
   "execution_count": 270,
   "metadata": {},
   "outputs": [
    {
     "data": {
      "text/plain": [
       "185"
      ]
     },
     "execution_count": 270,
     "metadata": {},
     "output_type": "execute_result"
    }
   ],
   "source": [
    "location_weight=50*weight_data\n",
    "len(location_weight)"
   ]
  },
  {
   "cell_type": "code",
   "execution_count": 271,
   "metadata": {},
   "outputs": [
    {
     "data": {
      "text/plain": [
       "array([-0.44763015, -0.44763015, -0.44763015, -0.44794276, -0.44794276,\n",
       "       -0.44395926,  2.23606618,  2.23606618, -0.44815116, -0.44504785,\n",
       "       -0.44815116, -0.44804696])"
      ]
     },
     "execution_count": 271,
     "metadata": {},
     "output_type": "execute_result"
    }
   ],
   "source": [
    "dt[184,:]"
   ]
  },
  {
   "cell_type": "code",
   "execution_count": 272,
   "metadata": {
    "scrolled": false
   },
   "outputs": [
    {
     "name": "stdout",
     "output_type": "stream",
     "text": [
      "[[ 0.0003015   0.00030148  0.0003012  ...  0.00030148 -0.00030148\n",
      "   0.00331649]\n",
      " [ 0.0003015   0.00030148  0.0003012  ...  0.00030148 -0.00030148\n",
      "   0.00331649]\n",
      " [ 0.0003015   0.00030148  0.0003012  ...  0.00030148 -0.00030148\n",
      "   0.00331649]\n",
      " ...\n",
      " [ 0.00046929  0.00046925  0.00046883 ...  0.00048239 -0.00040006\n",
      "  -0.00048241]\n",
      " [ 0.00045077  0.00045074  0.00045033 ...  0.0004541  -0.00043406\n",
      "  -0.00045412]\n",
      " [ 0.00044761  0.00044758  0.00044717 ...  0.00044811 -0.00044499\n",
      "  -0.00044813]]\n"
     ]
    },
    {
     "data": {
      "text/plain": [
       "185"
      ]
     },
     "execution_count": 272,
     "metadata": {},
     "output_type": "execute_result"
    }
   ],
   "source": [
    "final=recorded_weight*dt[:,0:11]\n",
    "print(final)\n",
    "len(final)"
   ]
  },
  {
   "cell_type": "code",
   "execution_count": 273,
   "metadata": {},
   "outputs": [
    {
     "name": "stdout",
     "output_type": "stream",
     "text": [
      "tf.Tensor(\n",
      "[[ 0.00060318  0.00059796 -0.0005853  ...  0.00060308  0.00059337\n",
      "  -0.00661731]\n",
      " [ 0.00060318  0.00059796 -0.0005853  ...  0.00060308  0.00059337\n",
      "  -0.00661731]\n",
      " [ 0.00060318  0.00059796 -0.00058531 ...  0.00060308  0.00059337\n",
      "  -0.00661731]\n",
      " ...\n",
      " [ 0.00093887  0.00093073 -0.00091104 ...  0.00096496  0.0007874\n",
      "   0.00096255]\n",
      " [ 0.00090182  0.00089401 -0.00087509 ...  0.00090837  0.00085433\n",
      "   0.0009061 ]\n",
      " [ 0.0008955   0.00088774 -0.00086896 ...  0.00089639  0.00087585\n",
      "   0.00089415]], shape=(185, 11), dtype=float32)\n"
     ]
    },
    {
     "data": {
      "text/plain": [
       "185"
      ]
     },
     "execution_count": 273,
     "metadata": {},
     "output_type": "execute_result"
    }
   ],
   "source": [
    "gen_final=general_recorded_weight*dt[:,0:11]\n",
    "print(gen_final)\n",
    "len(gen_final)"
   ]
  },
  {
   "cell_type": "code",
   "execution_count": 274,
   "metadata": {},
   "outputs": [
    {
     "name": "stdout",
     "output_type": "stream",
     "text": [
      "[  7  56 127 173 180  25  16  15  26  12]\n"
     ]
    }
   ],
   "source": [
    "resulta = [sum(element) for element in final]\n",
    "final_prediction = location_weight+resulta\n",
    "\n",
    "#print(final_prediction)\n",
    "idx = (-final_prediction).argsort()[:10]\n",
    "print(idx)"
   ]
  },
  {
   "cell_type": "code",
   "execution_count": 275,
   "metadata": {},
   "outputs": [
    {
     "name": "stdout",
     "output_type": "stream",
     "text": [
      "[  7  56 127 173 180  25  16  15  26  12]\n"
     ]
    }
   ],
   "source": [
    "resultaa = [sum(element) for element in gen_final]\n",
    "final_prediction = location_weight+resultaa\n",
    "\n",
    "#print(final_prediction)\n",
    "idx1 = (-final_prediction).argsort()[:10]\n",
    "print(idx)"
   ]
  },
  {
   "cell_type": "code",
   "execution_count": 276,
   "metadata": {},
   "outputs": [],
   "source": [
    "#now since python starts from 0, we need to add 1 to idx"
   ]
  },
  {
   "cell_type": "code",
   "execution_count": 277,
   "metadata": {},
   "outputs": [
    {
     "name": "stdout",
     "output_type": "stream",
     "text": [
      "[  8  57 128 174 181  26  17  16  27  13]\n",
      "[181 174 128  57   8 172 177 147 149 123]\n"
     ]
    }
   ],
   "source": [
    "new_idx=idx+1\n",
    "print(new_idx)\n",
    "\n",
    "new_idx1=idx1+1\n",
    "print(new_idx1)"
   ]
  },
  {
   "cell_type": "code",
   "execution_count": 278,
   "metadata": {},
   "outputs": [],
   "source": [
    "#G3GTC6   8\n",
    "##G3H5I4   57\n",
    "##G3HTG1   128\n",
    "#G3H0S3   174\n",
    "#G3GSJ8   181\n",
    "#G3IGQ2   26\n",
    "#P0A9K9.  17\n",
    "#G3H9U3   16\n",
    "#G3I7J6   13\n",
    "#G3I7A0.  28\n",
    "\n",
    "## is the repeated prediction that we used in machine learning, achieved using PCA"
   ]
  },
  {
   "cell_type": "code",
   "execution_count": null,
   "metadata": {},
   "outputs": [],
   "source": []
  }
 ],
 "metadata": {
  "kernelspec": {
   "display_name": "Python 3",
   "language": "python",
   "name": "python3"
  },
  "language_info": {
   "codemirror_mode": {
    "name": "ipython",
    "version": 3
   },
   "file_extension": ".py",
   "mimetype": "text/x-python",
   "name": "python",
   "nbconvert_exporter": "python",
   "pygments_lexer": "ipython3",
   "version": "3.8.5"
  }
 },
 "nbformat": 4,
 "nbformat_minor": 4
}
